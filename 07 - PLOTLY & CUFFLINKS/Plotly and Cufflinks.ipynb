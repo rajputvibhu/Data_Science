{
 "cells": [
  {
   "cell_type": "markdown",
   "metadata": {},
   "source": [
    "# Plotly and Cufflinks"
   ]
  },
  {
   "cell_type": "markdown",
   "metadata": {},
   "source": [
    "Plotly is a library that allows you to create interactive plots that you can use in dashboards or websites (you can save them as html files or static images).\n",
    "\n",
    "## Installation\n",
    "\n",
    "In order for this all to work, you'll need to install plotly and cufflinks to call plots directly off of a pandas dataframe. These libraries are not currently available through **conda** but are available through **pip**. Install the libraries at your command line/terminal using:\n",
    "\n",
    "    pip install plotly\n",
    "    pip install cufflinks\n",
    "\n",
    "**NOTE: Make sure you only have one installation of Python on your computer when you do this, otherwise the installation may not work.**\n",
    "\n",
    "## Imports and Set-up"
   ]
  },
  {
   "cell_type": "code",
   "execution_count": 1,
   "metadata": {},
   "outputs": [],
   "source": [
    "import pandas as pd\n",
    "import numpy as np\n",
    "%matplotlib inline"
   ]
  },
  {
   "cell_type": "code",
   "execution_count": 2,
   "metadata": {},
   "outputs": [
    {
     "name": "stdout",
     "output_type": "stream",
     "text": [
      "4.6.0\n"
     ]
    }
   ],
   "source": [
    "from plotly import __version__\n",
    "from plotly.offline import download_plotlyjs, init_notebook_mode, plot, iplot\n",
    "\n",
    "print(__version__) # requires version >= 1.9.0"
   ]
  },
  {
   "cell_type": "code",
   "execution_count": 3,
   "metadata": {},
   "outputs": [],
   "source": [
    "import cufflinks as cf"
   ]
  },
  {
   "cell_type": "code",
   "execution_count": 4,
   "metadata": {},
   "outputs": [
    {
     "data": {
      "text/html": [
       "        <script type=\"text/javascript\">\n",
       "        window.PlotlyConfig = {MathJaxConfig: 'local'};\n",
       "        if (window.MathJax) {MathJax.Hub.Config({SVG: {font: \"STIX-Web\"}});}\n",
       "        if (typeof require !== 'undefined') {\n",
       "        require.undef(\"plotly\");\n",
       "        requirejs.config({\n",
       "            paths: {\n",
       "                'plotly': ['https://cdn.plot.ly/plotly-latest.min']\n",
       "            }\n",
       "        });\n",
       "        require(['plotly'], function(Plotly) {\n",
       "            window._Plotly = Plotly;\n",
       "        });\n",
       "        }\n",
       "        </script>\n",
       "        "
      ]
     },
     "metadata": {},
     "output_type": "display_data"
    }
   ],
   "source": [
    "# For Notebooks\n",
    "init_notebook_mode(connected=True)"
   ]
  },
  {
   "cell_type": "code",
   "execution_count": 5,
   "metadata": {},
   "outputs": [
    {
     "data": {
      "text/html": [
       "        <script type=\"text/javascript\">\n",
       "        window.PlotlyConfig = {MathJaxConfig: 'local'};\n",
       "        if (window.MathJax) {MathJax.Hub.Config({SVG: {font: \"STIX-Web\"}});}\n",
       "        if (typeof require !== 'undefined') {\n",
       "        require.undef(\"plotly\");\n",
       "        requirejs.config({\n",
       "            paths: {\n",
       "                'plotly': ['https://cdn.plot.ly/plotly-latest.min']\n",
       "            }\n",
       "        });\n",
       "        require(['plotly'], function(Plotly) {\n",
       "            window._Plotly = Plotly;\n",
       "        });\n",
       "        }\n",
       "        </script>\n",
       "        "
      ]
     },
     "metadata": {},
     "output_type": "display_data"
    }
   ],
   "source": [
    "# For offline use\n",
    "cf.go_offline()"
   ]
  },
  {
   "cell_type": "markdown",
   "metadata": {},
   "source": [
    "### Fake Data"
   ]
  },
  {
   "cell_type": "code",
   "execution_count": 6,
   "metadata": {},
   "outputs": [],
   "source": [
    "df = pd.DataFrame(np.random.randn(100,4),columns='A B C D'.split())"
   ]
  },
  {
   "cell_type": "code",
   "execution_count": 7,
   "metadata": {},
   "outputs": [
    {
     "data": {
      "text/html": [
       "<div>\n",
       "<style scoped>\n",
       "    .dataframe tbody tr th:only-of-type {\n",
       "        vertical-align: middle;\n",
       "    }\n",
       "\n",
       "    .dataframe tbody tr th {\n",
       "        vertical-align: top;\n",
       "    }\n",
       "\n",
       "    .dataframe thead th {\n",
       "        text-align: right;\n",
       "    }\n",
       "</style>\n",
       "<table border=\"1\" class=\"dataframe\">\n",
       "  <thead>\n",
       "    <tr style=\"text-align: right;\">\n",
       "      <th></th>\n",
       "      <th>A</th>\n",
       "      <th>B</th>\n",
       "      <th>C</th>\n",
       "      <th>D</th>\n",
       "    </tr>\n",
       "  </thead>\n",
       "  <tbody>\n",
       "    <tr>\n",
       "      <th>0</th>\n",
       "      <td>-0.352588</td>\n",
       "      <td>0.939890</td>\n",
       "      <td>0.863267</td>\n",
       "      <td>0.978937</td>\n",
       "    </tr>\n",
       "    <tr>\n",
       "      <th>1</th>\n",
       "      <td>-0.268920</td>\n",
       "      <td>-0.873184</td>\n",
       "      <td>-0.675984</td>\n",
       "      <td>1.308324</td>\n",
       "    </tr>\n",
       "    <tr>\n",
       "      <th>2</th>\n",
       "      <td>-0.727556</td>\n",
       "      <td>0.046902</td>\n",
       "      <td>1.676044</td>\n",
       "      <td>0.588486</td>\n",
       "    </tr>\n",
       "    <tr>\n",
       "      <th>3</th>\n",
       "      <td>-0.409234</td>\n",
       "      <td>-0.573026</td>\n",
       "      <td>0.238652</td>\n",
       "      <td>0.140366</td>\n",
       "    </tr>\n",
       "    <tr>\n",
       "      <th>4</th>\n",
       "      <td>0.593935</td>\n",
       "      <td>0.209649</td>\n",
       "      <td>0.917787</td>\n",
       "      <td>0.690293</td>\n",
       "    </tr>\n",
       "  </tbody>\n",
       "</table>\n",
       "</div>"
      ],
      "text/plain": [
       "          A         B         C         D\n",
       "0 -0.352588  0.939890  0.863267  0.978937\n",
       "1 -0.268920 -0.873184 -0.675984  1.308324\n",
       "2 -0.727556  0.046902  1.676044  0.588486\n",
       "3 -0.409234 -0.573026  0.238652  0.140366\n",
       "4  0.593935  0.209649  0.917787  0.690293"
      ]
     },
     "execution_count": 7,
     "metadata": {},
     "output_type": "execute_result"
    }
   ],
   "source": [
    "df.head()"
   ]
  },
  {
   "cell_type": "code",
   "execution_count": 8,
   "metadata": {},
   "outputs": [],
   "source": [
    "df2 = pd.DataFrame({'Category':['A','B','C'],'Values':[32,43,50]})"
   ]
  },
  {
   "cell_type": "code",
   "execution_count": 9,
   "metadata": {},
   "outputs": [
    {
     "data": {
      "text/html": [
       "<div>\n",
       "<style scoped>\n",
       "    .dataframe tbody tr th:only-of-type {\n",
       "        vertical-align: middle;\n",
       "    }\n",
       "\n",
       "    .dataframe tbody tr th {\n",
       "        vertical-align: top;\n",
       "    }\n",
       "\n",
       "    .dataframe thead th {\n",
       "        text-align: right;\n",
       "    }\n",
       "</style>\n",
       "<table border=\"1\" class=\"dataframe\">\n",
       "  <thead>\n",
       "    <tr style=\"text-align: right;\">\n",
       "      <th></th>\n",
       "      <th>Category</th>\n",
       "      <th>Values</th>\n",
       "    </tr>\n",
       "  </thead>\n",
       "  <tbody>\n",
       "    <tr>\n",
       "      <th>0</th>\n",
       "      <td>A</td>\n",
       "      <td>32</td>\n",
       "    </tr>\n",
       "    <tr>\n",
       "      <th>1</th>\n",
       "      <td>B</td>\n",
       "      <td>43</td>\n",
       "    </tr>\n",
       "    <tr>\n",
       "      <th>2</th>\n",
       "      <td>C</td>\n",
       "      <td>50</td>\n",
       "    </tr>\n",
       "  </tbody>\n",
       "</table>\n",
       "</div>"
      ],
      "text/plain": [
       "  Category  Values\n",
       "0        A      32\n",
       "1        B      43\n",
       "2        C      50"
      ]
     },
     "execution_count": 9,
     "metadata": {},
     "output_type": "execute_result"
    }
   ],
   "source": [
    "df2.head()"
   ]
  },
  {
   "cell_type": "markdown",
   "metadata": {},
   "source": [
    "## Using Cufflinks and iplot()\n",
    "\n",
    "* scatter\n",
    "* bar\n",
    "* box\n",
    "* spread\n",
    "* ratio\n",
    "* heatmap\n",
    "* surface\n",
    "* histogram\n",
    "* bubble"
   ]
  },
  {
   "cell_type": "markdown",
   "metadata": {},
   "source": [
    "## Scatter"
   ]
  },
  {
   "cell_type": "code",
   "execution_count": 10,
   "metadata": {},
   "outputs": [
    {
     "data": {
      "application/vnd.plotly.v1+json": {
       "config": {
        "linkText": "Export to plot.ly",
        "plotlyServerURL": "https://plot.ly",
        "showLink": true
       },
       "data": [
        {
         "line": {
          "color": "rgba(255, 153, 51, 1.0)",
          "dash": "solid",
          "shape": "linear",
          "width": 1.3
         },
         "marker": {
          "size": 10,
          "symbol": "circle"
         },
         "mode": "markers",
         "name": "B",
         "text": "",
         "type": "scatter",
         "x": [
          -0.35258759777768894,
          -0.2689202523477829,
          -0.7275561455665225,
          -0.4092338836746071,
          0.5939352897099525,
          -1.2142800943388812,
          0.7711096389260248,
          -0.21383971610196364,
          2.0142645914043507,
          0.7799110307712278,
          1.5457083578522435,
          0.9085304936655417,
          1.1418265830175587,
          -0.2104929729809623,
          0.7660603426217358,
          -2.0280362769007985,
          -2.233828943016878,
          -0.6300848842080163,
          1.5525234298421335,
          2.0855689538407653,
          -0.1996846114408051,
          0.5116603997849389,
          0.4413175834881552,
          -0.052475122738868694,
          -1.4832273130424847,
          -0.25774388512369106,
          -1.0640559145877198,
          -0.3583588767557854,
          -0.753930925599534,
          0.004074420280987488,
          -0.14176351936354767,
          1.4218626480633727,
          -1.3406424365335914,
          -0.6306641256341762,
          0.34681256724898757,
          0.43592034039747934,
          0.6865252140987607,
          0.5969319637737608,
          -0.2957449312225045,
          -1.5104607394739267,
          -0.2970795197674708,
          -1.510972639222177,
          -0.997112695722731,
          -0.16208689230666798,
          1.380420552001041,
          -0.11125905541840161,
          0.4671259115943136,
          0.8067247284977627,
          -1.0343495030780103,
          0.5994055167033986,
          -2.392944687471754,
          0.009841623131410187,
          -2.805109312482037,
          0.08829982085256122,
          0.1587117032205557,
          0.3710578971195314,
          -0.6880114701614541,
          1.4592294790120843,
          0.32260083504845827,
          -0.31203982509622247,
          -0.5016395710778763,
          -0.7092626495034179,
          1.0623166785638058,
          -1.5567282874418933,
          -0.4470023818970348,
          0.9298520292269593,
          0.051790544147703926,
          -0.592455513839245,
          -0.1196242233503168,
          1.1594675175773657,
          0.6629796478742163,
          -1.7891314124011264,
          -2.0335113265519764,
          -0.6999835342221341,
          -1.1917599758854707,
          0.48071537380142443,
          0.05952184244397095,
          -0.5785307065158325,
          -0.3421145600853384,
          -1.4039388516097686,
          2.1502912104578336,
          -0.9615052636121858,
          -2.7254911460318976,
          0.9774563628902962,
          0.05190045743478614,
          0.2126943664117536,
          -1.5952990423031996,
          0.9130858983745637,
          -0.21639455031226423,
          -0.23989461487285638,
          0.9728080442967975,
          -0.1460459616149387,
          -1.3521999478330948,
          -2.065521937125486,
          -0.27532113693680454,
          -0.5980265778152496,
          0.09311905136783473,
          1.1902875577767913,
          0.2899773682382634,
          -0.312252032605789
         ],
         "y": [
          0.9398897318214089,
          -0.8731839425082643,
          0.046902450656532195,
          -0.5730263478031349,
          0.20964920461071293,
          1.589873522036531,
          0.04750924541528327,
          0.3550099321199273,
          -1.3717152265624826,
          -0.29363834535540906,
          -0.6834415374498101,
          0.3013358888971489,
          0.08557550080518363,
          -0.6075508809315883,
          -0.4554319865724272,
          -0.6267217986862303,
          -0.12408272291175006,
          2.1377019386303426,
          -0.5543428603297601,
          -0.26825029207872786,
          -1.0491011370545602,
          -0.3238181830805828,
          0.3117772248306555,
          -1.808426122955307,
          -0.33810791145502933,
          0.8746190178364772,
          0.3880907514176325,
          -0.2146447776967657,
          0.7117228782364389,
          -1.034419032052581,
          -1.3025207269502206,
          -0.9431243446739456,
          -1.3566849831833117,
          0.9139728482420952,
          -0.4491906321351525,
          0.20439161904362946,
          1.0408022183431263,
          0.5066670948192474,
          -0.10350418262487975,
          -0.9059301100673794,
          -0.18267520984842991,
          -0.12932747242214102,
          0.9490202299868135,
          1.5445301177158561,
          -0.5484910871344092,
          1.3463270476962672,
          -0.31544005436995826,
          -1.4849556354680933,
          0.6161677445530706,
          -1.4826409768646185,
          1.0790226993828536,
          0.17870810808648277,
          1.2507159469031213,
          -0.3723212271360819,
          1.1351360546362514,
          0.4989889637299344,
          0.5307557889854935,
          0.7642488396101653,
          -0.8648674375434916,
          -0.9868819280636416,
          -1.374768191849497,
          0.040196813920813354,
          -1.8501252771933256,
          -0.47096661859921635,
          0.030148809422230492,
          -0.49629746394738594,
          -0.48055047186500344,
          1.0019238054310298,
          -0.2059649005632659,
          0.03397516273643297,
          1.0738805827143372,
          2.4721239137994315,
          -0.4052189135756334,
          -0.34375404549779637,
          -1.0857649696484415,
          0.055094811569757304,
          -0.8850098967698943,
          -0.22656957039513467,
          0.39986500767204186,
          -0.34663345478149626,
          0.3968003349411088,
          -0.26733465187034505,
          -0.2198127906046125,
          0.37235632515082645,
          0.2910676243965551,
          -0.05890540711534565,
          0.9968503248422131,
          1.0010157850265846,
          -0.1184178551405647,
          0.30865917238422885,
          -0.3880279024822919,
          1.1596828942923951,
          -0.7113173402696118,
          1.6878264070830626,
          1.242425123682662,
          -0.49942462992988224,
          0.4277971787926875,
          0.918168330122392,
          -0.036254957143438314,
          0.7175071803974852
         ]
        }
       ],
       "layout": {
        "legend": {
         "bgcolor": "#F5F6F9",
         "font": {
          "color": "#4D5663"
         }
        },
        "paper_bgcolor": "#F5F6F9",
        "plot_bgcolor": "#F5F6F9",
        "template": {
         "data": {
          "bar": [
           {
            "error_x": {
             "color": "#2a3f5f"
            },
            "error_y": {
             "color": "#2a3f5f"
            },
            "marker": {
             "line": {
              "color": "#E5ECF6",
              "width": 0.5
             }
            },
            "type": "bar"
           }
          ],
          "barpolar": [
           {
            "marker": {
             "line": {
              "color": "#E5ECF6",
              "width": 0.5
             }
            },
            "type": "barpolar"
           }
          ],
          "carpet": [
           {
            "aaxis": {
             "endlinecolor": "#2a3f5f",
             "gridcolor": "white",
             "linecolor": "white",
             "minorgridcolor": "white",
             "startlinecolor": "#2a3f5f"
            },
            "baxis": {
             "endlinecolor": "#2a3f5f",
             "gridcolor": "white",
             "linecolor": "white",
             "minorgridcolor": "white",
             "startlinecolor": "#2a3f5f"
            },
            "type": "carpet"
           }
          ],
          "choropleth": [
           {
            "colorbar": {
             "outlinewidth": 0,
             "ticks": ""
            },
            "type": "choropleth"
           }
          ],
          "contour": [
           {
            "colorbar": {
             "outlinewidth": 0,
             "ticks": ""
            },
            "colorscale": [
             [
              0,
              "#0d0887"
             ],
             [
              0.1111111111111111,
              "#46039f"
             ],
             [
              0.2222222222222222,
              "#7201a8"
             ],
             [
              0.3333333333333333,
              "#9c179e"
             ],
             [
              0.4444444444444444,
              "#bd3786"
             ],
             [
              0.5555555555555556,
              "#d8576b"
             ],
             [
              0.6666666666666666,
              "#ed7953"
             ],
             [
              0.7777777777777778,
              "#fb9f3a"
             ],
             [
              0.8888888888888888,
              "#fdca26"
             ],
             [
              1,
              "#f0f921"
             ]
            ],
            "type": "contour"
           }
          ],
          "contourcarpet": [
           {
            "colorbar": {
             "outlinewidth": 0,
             "ticks": ""
            },
            "type": "contourcarpet"
           }
          ],
          "heatmap": [
           {
            "colorbar": {
             "outlinewidth": 0,
             "ticks": ""
            },
            "colorscale": [
             [
              0,
              "#0d0887"
             ],
             [
              0.1111111111111111,
              "#46039f"
             ],
             [
              0.2222222222222222,
              "#7201a8"
             ],
             [
              0.3333333333333333,
              "#9c179e"
             ],
             [
              0.4444444444444444,
              "#bd3786"
             ],
             [
              0.5555555555555556,
              "#d8576b"
             ],
             [
              0.6666666666666666,
              "#ed7953"
             ],
             [
              0.7777777777777778,
              "#fb9f3a"
             ],
             [
              0.8888888888888888,
              "#fdca26"
             ],
             [
              1,
              "#f0f921"
             ]
            ],
            "type": "heatmap"
           }
          ],
          "heatmapgl": [
           {
            "colorbar": {
             "outlinewidth": 0,
             "ticks": ""
            },
            "colorscale": [
             [
              0,
              "#0d0887"
             ],
             [
              0.1111111111111111,
              "#46039f"
             ],
             [
              0.2222222222222222,
              "#7201a8"
             ],
             [
              0.3333333333333333,
              "#9c179e"
             ],
             [
              0.4444444444444444,
              "#bd3786"
             ],
             [
              0.5555555555555556,
              "#d8576b"
             ],
             [
              0.6666666666666666,
              "#ed7953"
             ],
             [
              0.7777777777777778,
              "#fb9f3a"
             ],
             [
              0.8888888888888888,
              "#fdca26"
             ],
             [
              1,
              "#f0f921"
             ]
            ],
            "type": "heatmapgl"
           }
          ],
          "histogram": [
           {
            "marker": {
             "colorbar": {
              "outlinewidth": 0,
              "ticks": ""
             }
            },
            "type": "histogram"
           }
          ],
          "histogram2d": [
           {
            "colorbar": {
             "outlinewidth": 0,
             "ticks": ""
            },
            "colorscale": [
             [
              0,
              "#0d0887"
             ],
             [
              0.1111111111111111,
              "#46039f"
             ],
             [
              0.2222222222222222,
              "#7201a8"
             ],
             [
              0.3333333333333333,
              "#9c179e"
             ],
             [
              0.4444444444444444,
              "#bd3786"
             ],
             [
              0.5555555555555556,
              "#d8576b"
             ],
             [
              0.6666666666666666,
              "#ed7953"
             ],
             [
              0.7777777777777778,
              "#fb9f3a"
             ],
             [
              0.8888888888888888,
              "#fdca26"
             ],
             [
              1,
              "#f0f921"
             ]
            ],
            "type": "histogram2d"
           }
          ],
          "histogram2dcontour": [
           {
            "colorbar": {
             "outlinewidth": 0,
             "ticks": ""
            },
            "colorscale": [
             [
              0,
              "#0d0887"
             ],
             [
              0.1111111111111111,
              "#46039f"
             ],
             [
              0.2222222222222222,
              "#7201a8"
             ],
             [
              0.3333333333333333,
              "#9c179e"
             ],
             [
              0.4444444444444444,
              "#bd3786"
             ],
             [
              0.5555555555555556,
              "#d8576b"
             ],
             [
              0.6666666666666666,
              "#ed7953"
             ],
             [
              0.7777777777777778,
              "#fb9f3a"
             ],
             [
              0.8888888888888888,
              "#fdca26"
             ],
             [
              1,
              "#f0f921"
             ]
            ],
            "type": "histogram2dcontour"
           }
          ],
          "mesh3d": [
           {
            "colorbar": {
             "outlinewidth": 0,
             "ticks": ""
            },
            "type": "mesh3d"
           }
          ],
          "parcoords": [
           {
            "line": {
             "colorbar": {
              "outlinewidth": 0,
              "ticks": ""
             }
            },
            "type": "parcoords"
           }
          ],
          "pie": [
           {
            "automargin": true,
            "type": "pie"
           }
          ],
          "scatter": [
           {
            "marker": {
             "colorbar": {
              "outlinewidth": 0,
              "ticks": ""
             }
            },
            "type": "scatter"
           }
          ],
          "scatter3d": [
           {
            "line": {
             "colorbar": {
              "outlinewidth": 0,
              "ticks": ""
             }
            },
            "marker": {
             "colorbar": {
              "outlinewidth": 0,
              "ticks": ""
             }
            },
            "type": "scatter3d"
           }
          ],
          "scattercarpet": [
           {
            "marker": {
             "colorbar": {
              "outlinewidth": 0,
              "ticks": ""
             }
            },
            "type": "scattercarpet"
           }
          ],
          "scattergeo": [
           {
            "marker": {
             "colorbar": {
              "outlinewidth": 0,
              "ticks": ""
             }
            },
            "type": "scattergeo"
           }
          ],
          "scattergl": [
           {
            "marker": {
             "colorbar": {
              "outlinewidth": 0,
              "ticks": ""
             }
            },
            "type": "scattergl"
           }
          ],
          "scattermapbox": [
           {
            "marker": {
             "colorbar": {
              "outlinewidth": 0,
              "ticks": ""
             }
            },
            "type": "scattermapbox"
           }
          ],
          "scatterpolar": [
           {
            "marker": {
             "colorbar": {
              "outlinewidth": 0,
              "ticks": ""
             }
            },
            "type": "scatterpolar"
           }
          ],
          "scatterpolargl": [
           {
            "marker": {
             "colorbar": {
              "outlinewidth": 0,
              "ticks": ""
             }
            },
            "type": "scatterpolargl"
           }
          ],
          "scatterternary": [
           {
            "marker": {
             "colorbar": {
              "outlinewidth": 0,
              "ticks": ""
             }
            },
            "type": "scatterternary"
           }
          ],
          "surface": [
           {
            "colorbar": {
             "outlinewidth": 0,
             "ticks": ""
            },
            "colorscale": [
             [
              0,
              "#0d0887"
             ],
             [
              0.1111111111111111,
              "#46039f"
             ],
             [
              0.2222222222222222,
              "#7201a8"
             ],
             [
              0.3333333333333333,
              "#9c179e"
             ],
             [
              0.4444444444444444,
              "#bd3786"
             ],
             [
              0.5555555555555556,
              "#d8576b"
             ],
             [
              0.6666666666666666,
              "#ed7953"
             ],
             [
              0.7777777777777778,
              "#fb9f3a"
             ],
             [
              0.8888888888888888,
              "#fdca26"
             ],
             [
              1,
              "#f0f921"
             ]
            ],
            "type": "surface"
           }
          ],
          "table": [
           {
            "cells": {
             "fill": {
              "color": "#EBF0F8"
             },
             "line": {
              "color": "white"
             }
            },
            "header": {
             "fill": {
              "color": "#C8D4E3"
             },
             "line": {
              "color": "white"
             }
            },
            "type": "table"
           }
          ]
         },
         "layout": {
          "annotationdefaults": {
           "arrowcolor": "#2a3f5f",
           "arrowhead": 0,
           "arrowwidth": 1
          },
          "coloraxis": {
           "colorbar": {
            "outlinewidth": 0,
            "ticks": ""
           }
          },
          "colorscale": {
           "diverging": [
            [
             0,
             "#8e0152"
            ],
            [
             0.1,
             "#c51b7d"
            ],
            [
             0.2,
             "#de77ae"
            ],
            [
             0.3,
             "#f1b6da"
            ],
            [
             0.4,
             "#fde0ef"
            ],
            [
             0.5,
             "#f7f7f7"
            ],
            [
             0.6,
             "#e6f5d0"
            ],
            [
             0.7,
             "#b8e186"
            ],
            [
             0.8,
             "#7fbc41"
            ],
            [
             0.9,
             "#4d9221"
            ],
            [
             1,
             "#276419"
            ]
           ],
           "sequential": [
            [
             0,
             "#0d0887"
            ],
            [
             0.1111111111111111,
             "#46039f"
            ],
            [
             0.2222222222222222,
             "#7201a8"
            ],
            [
             0.3333333333333333,
             "#9c179e"
            ],
            [
             0.4444444444444444,
             "#bd3786"
            ],
            [
             0.5555555555555556,
             "#d8576b"
            ],
            [
             0.6666666666666666,
             "#ed7953"
            ],
            [
             0.7777777777777778,
             "#fb9f3a"
            ],
            [
             0.8888888888888888,
             "#fdca26"
            ],
            [
             1,
             "#f0f921"
            ]
           ],
           "sequentialminus": [
            [
             0,
             "#0d0887"
            ],
            [
             0.1111111111111111,
             "#46039f"
            ],
            [
             0.2222222222222222,
             "#7201a8"
            ],
            [
             0.3333333333333333,
             "#9c179e"
            ],
            [
             0.4444444444444444,
             "#bd3786"
            ],
            [
             0.5555555555555556,
             "#d8576b"
            ],
            [
             0.6666666666666666,
             "#ed7953"
            ],
            [
             0.7777777777777778,
             "#fb9f3a"
            ],
            [
             0.8888888888888888,
             "#fdca26"
            ],
            [
             1,
             "#f0f921"
            ]
           ]
          },
          "colorway": [
           "#636efa",
           "#EF553B",
           "#00cc96",
           "#ab63fa",
           "#FFA15A",
           "#19d3f3",
           "#FF6692",
           "#B6E880",
           "#FF97FF",
           "#FECB52"
          ],
          "font": {
           "color": "#2a3f5f"
          },
          "geo": {
           "bgcolor": "white",
           "lakecolor": "white",
           "landcolor": "#E5ECF6",
           "showlakes": true,
           "showland": true,
           "subunitcolor": "white"
          },
          "hoverlabel": {
           "align": "left"
          },
          "hovermode": "closest",
          "mapbox": {
           "style": "light"
          },
          "paper_bgcolor": "white",
          "plot_bgcolor": "#E5ECF6",
          "polar": {
           "angularaxis": {
            "gridcolor": "white",
            "linecolor": "white",
            "ticks": ""
           },
           "bgcolor": "#E5ECF6",
           "radialaxis": {
            "gridcolor": "white",
            "linecolor": "white",
            "ticks": ""
           }
          },
          "scene": {
           "xaxis": {
            "backgroundcolor": "#E5ECF6",
            "gridcolor": "white",
            "gridwidth": 2,
            "linecolor": "white",
            "showbackground": true,
            "ticks": "",
            "zerolinecolor": "white"
           },
           "yaxis": {
            "backgroundcolor": "#E5ECF6",
            "gridcolor": "white",
            "gridwidth": 2,
            "linecolor": "white",
            "showbackground": true,
            "ticks": "",
            "zerolinecolor": "white"
           },
           "zaxis": {
            "backgroundcolor": "#E5ECF6",
            "gridcolor": "white",
            "gridwidth": 2,
            "linecolor": "white",
            "showbackground": true,
            "ticks": "",
            "zerolinecolor": "white"
           }
          },
          "shapedefaults": {
           "line": {
            "color": "#2a3f5f"
           }
          },
          "ternary": {
           "aaxis": {
            "gridcolor": "white",
            "linecolor": "white",
            "ticks": ""
           },
           "baxis": {
            "gridcolor": "white",
            "linecolor": "white",
            "ticks": ""
           },
           "bgcolor": "#E5ECF6",
           "caxis": {
            "gridcolor": "white",
            "linecolor": "white",
            "ticks": ""
           }
          },
          "title": {
           "x": 0.05
          },
          "xaxis": {
           "automargin": true,
           "gridcolor": "white",
           "linecolor": "white",
           "ticks": "",
           "title": {
            "standoff": 15
           },
           "zerolinecolor": "white",
           "zerolinewidth": 2
          },
          "yaxis": {
           "automargin": true,
           "gridcolor": "white",
           "linecolor": "white",
           "ticks": "",
           "title": {
            "standoff": 15
           },
           "zerolinecolor": "white",
           "zerolinewidth": 2
          }
         }
        },
        "title": {
         "font": {
          "color": "#4D5663"
         }
        },
        "xaxis": {
         "gridcolor": "#E1E5ED",
         "showgrid": true,
         "tickfont": {
          "color": "#4D5663"
         },
         "title": {
          "font": {
           "color": "#4D5663"
          },
          "text": ""
         },
         "zerolinecolor": "#E1E5ED"
        },
        "yaxis": {
         "gridcolor": "#E1E5ED",
         "showgrid": true,
         "tickfont": {
          "color": "#4D5663"
         },
         "title": {
          "font": {
           "color": "#4D5663"
          },
          "text": ""
         },
         "zerolinecolor": "#E1E5ED"
        }
       }
      },
      "text/html": [
       "<div>\n",
       "        \n",
       "        \n",
       "            <div id=\"f97a315c-20c0-4ba5-b7af-093619ee09f0\" class=\"plotly-graph-div\" style=\"height:525px; width:100%;\"></div>\n",
       "            <script type=\"text/javascript\">\n",
       "                require([\"plotly\"], function(Plotly) {\n",
       "                    window.PLOTLYENV=window.PLOTLYENV || {};\n",
       "                    window.PLOTLYENV.BASE_URL='https://plot.ly';\n",
       "                    \n",
       "                if (document.getElementById(\"f97a315c-20c0-4ba5-b7af-093619ee09f0\")) {\n",
       "                    Plotly.newPlot(\n",
       "                        'f97a315c-20c0-4ba5-b7af-093619ee09f0',\n",
       "                        [{\"line\": {\"color\": \"rgba(255, 153, 51, 1.0)\", \"dash\": \"solid\", \"shape\": \"linear\", \"width\": 1.3}, \"marker\": {\"size\": 10, \"symbol\": \"circle\"}, \"mode\": \"markers\", \"name\": \"B\", \"text\": \"\", \"type\": \"scatter\", \"x\": [-0.35258759777768894, -0.2689202523477829, -0.7275561455665225, -0.4092338836746071, 0.5939352897099525, -1.2142800943388812, 0.7711096389260248, -0.21383971610196364, 2.0142645914043507, 0.7799110307712278, 1.5457083578522435, 0.9085304936655417, 1.1418265830175587, -0.2104929729809623, 0.7660603426217358, -2.0280362769007985, -2.233828943016878, -0.6300848842080163, 1.5525234298421335, 2.0855689538407653, -0.1996846114408051, 0.5116603997849389, 0.4413175834881552, -0.052475122738868694, -1.4832273130424847, -0.25774388512369106, -1.0640559145877198, -0.3583588767557854, -0.753930925599534, 0.004074420280987488, -0.14176351936354767, 1.4218626480633727, -1.3406424365335914, -0.6306641256341762, 0.34681256724898757, 0.43592034039747934, 0.6865252140987607, 0.5969319637737608, -0.2957449312225045, -1.5104607394739267, -0.2970795197674708, -1.510972639222177, -0.997112695722731, -0.16208689230666798, 1.380420552001041, -0.11125905541840161, 0.4671259115943136, 0.8067247284977627, -1.0343495030780103, 0.5994055167033986, -2.392944687471754, 0.009841623131410187, -2.805109312482037, 0.08829982085256122, 0.1587117032205557, 0.3710578971195314, -0.6880114701614541, 1.4592294790120843, 0.32260083504845827, -0.31203982509622247, -0.5016395710778763, -0.7092626495034179, 1.0623166785638058, -1.5567282874418933, -0.4470023818970348, 0.9298520292269593, 0.051790544147703926, -0.592455513839245, -0.1196242233503168, 1.1594675175773657, 0.6629796478742163, -1.7891314124011264, -2.0335113265519764, -0.6999835342221341, -1.1917599758854707, 0.48071537380142443, 0.05952184244397095, -0.5785307065158325, -0.3421145600853384, -1.4039388516097686, 2.1502912104578336, -0.9615052636121858, -2.7254911460318976, 0.9774563628902962, 0.05190045743478614, 0.2126943664117536, -1.5952990423031996, 0.9130858983745637, -0.21639455031226423, -0.23989461487285638, 0.9728080442967975, -0.1460459616149387, -1.3521999478330948, -2.065521937125486, -0.27532113693680454, -0.5980265778152496, 0.09311905136783473, 1.1902875577767913, 0.2899773682382634, -0.312252032605789], \"y\": [0.9398897318214089, -0.8731839425082643, 0.046902450656532195, -0.5730263478031349, 0.20964920461071293, 1.589873522036531, 0.04750924541528327, 0.3550099321199273, -1.3717152265624826, -0.29363834535540906, -0.6834415374498101, 0.3013358888971489, 0.08557550080518363, -0.6075508809315883, -0.4554319865724272, -0.6267217986862303, -0.12408272291175006, 2.1377019386303426, -0.5543428603297601, -0.26825029207872786, -1.0491011370545602, -0.3238181830805828, 0.3117772248306555, -1.808426122955307, -0.33810791145502933, 0.8746190178364772, 0.3880907514176325, -0.2146447776967657, 0.7117228782364389, -1.034419032052581, -1.3025207269502206, -0.9431243446739456, -1.3566849831833117, 0.9139728482420952, -0.4491906321351525, 0.20439161904362946, 1.0408022183431263, 0.5066670948192474, -0.10350418262487975, -0.9059301100673794, -0.18267520984842991, -0.12932747242214102, 0.9490202299868135, 1.5445301177158561, -0.5484910871344092, 1.3463270476962672, -0.31544005436995826, -1.4849556354680933, 0.6161677445530706, -1.4826409768646185, 1.0790226993828536, 0.17870810808648277, 1.2507159469031213, -0.3723212271360819, 1.1351360546362514, 0.4989889637299344, 0.5307557889854935, 0.7642488396101653, -0.8648674375434916, -0.9868819280636416, -1.374768191849497, 0.040196813920813354, -1.8501252771933256, -0.47096661859921635, 0.030148809422230492, -0.49629746394738594, -0.48055047186500344, 1.0019238054310298, -0.2059649005632659, 0.03397516273643297, 1.0738805827143372, 2.4721239137994315, -0.4052189135756334, -0.34375404549779637, -1.0857649696484415, 0.055094811569757304, -0.8850098967698943, -0.22656957039513467, 0.39986500767204186, -0.34663345478149626, 0.3968003349411088, -0.26733465187034505, -0.2198127906046125, 0.37235632515082645, 0.2910676243965551, -0.05890540711534565, 0.9968503248422131, 1.0010157850265846, -0.1184178551405647, 0.30865917238422885, -0.3880279024822919, 1.1596828942923951, -0.7113173402696118, 1.6878264070830626, 1.242425123682662, -0.49942462992988224, 0.4277971787926875, 0.918168330122392, -0.036254957143438314, 0.7175071803974852]}],\n",
       "                        {\"legend\": {\"bgcolor\": \"#F5F6F9\", \"font\": {\"color\": \"#4D5663\"}}, \"paper_bgcolor\": \"#F5F6F9\", \"plot_bgcolor\": \"#F5F6F9\", \"template\": {\"data\": {\"bar\": [{\"error_x\": {\"color\": \"#2a3f5f\"}, \"error_y\": {\"color\": \"#2a3f5f\"}, \"marker\": {\"line\": {\"color\": \"#E5ECF6\", \"width\": 0.5}}, \"type\": \"bar\"}], \"barpolar\": [{\"marker\": {\"line\": {\"color\": \"#E5ECF6\", \"width\": 0.5}}, \"type\": \"barpolar\"}], \"carpet\": [{\"aaxis\": {\"endlinecolor\": \"#2a3f5f\", \"gridcolor\": \"white\", \"linecolor\": \"white\", \"minorgridcolor\": \"white\", \"startlinecolor\": \"#2a3f5f\"}, \"baxis\": {\"endlinecolor\": \"#2a3f5f\", \"gridcolor\": \"white\", \"linecolor\": \"white\", \"minorgridcolor\": \"white\", \"startlinecolor\": \"#2a3f5f\"}, \"type\": \"carpet\"}], \"choropleth\": [{\"colorbar\": {\"outlinewidth\": 0, \"ticks\": \"\"}, \"type\": \"choropleth\"}], \"contour\": [{\"colorbar\": {\"outlinewidth\": 0, \"ticks\": \"\"}, \"colorscale\": [[0.0, \"#0d0887\"], [0.1111111111111111, \"#46039f\"], [0.2222222222222222, \"#7201a8\"], [0.3333333333333333, \"#9c179e\"], [0.4444444444444444, \"#bd3786\"], [0.5555555555555556, \"#d8576b\"], [0.6666666666666666, \"#ed7953\"], [0.7777777777777778, \"#fb9f3a\"], [0.8888888888888888, \"#fdca26\"], [1.0, \"#f0f921\"]], \"type\": \"contour\"}], \"contourcarpet\": [{\"colorbar\": {\"outlinewidth\": 0, \"ticks\": \"\"}, \"type\": \"contourcarpet\"}], \"heatmap\": [{\"colorbar\": {\"outlinewidth\": 0, \"ticks\": \"\"}, \"colorscale\": [[0.0, \"#0d0887\"], [0.1111111111111111, \"#46039f\"], [0.2222222222222222, \"#7201a8\"], [0.3333333333333333, \"#9c179e\"], [0.4444444444444444, \"#bd3786\"], [0.5555555555555556, \"#d8576b\"], [0.6666666666666666, \"#ed7953\"], [0.7777777777777778, \"#fb9f3a\"], [0.8888888888888888, \"#fdca26\"], [1.0, \"#f0f921\"]], \"type\": \"heatmap\"}], \"heatmapgl\": [{\"colorbar\": {\"outlinewidth\": 0, \"ticks\": \"\"}, \"colorscale\": [[0.0, \"#0d0887\"], [0.1111111111111111, \"#46039f\"], [0.2222222222222222, \"#7201a8\"], [0.3333333333333333, \"#9c179e\"], [0.4444444444444444, \"#bd3786\"], [0.5555555555555556, \"#d8576b\"], [0.6666666666666666, \"#ed7953\"], [0.7777777777777778, \"#fb9f3a\"], [0.8888888888888888, \"#fdca26\"], [1.0, \"#f0f921\"]], \"type\": \"heatmapgl\"}], \"histogram\": [{\"marker\": {\"colorbar\": {\"outlinewidth\": 0, \"ticks\": \"\"}}, \"type\": \"histogram\"}], \"histogram2d\": [{\"colorbar\": {\"outlinewidth\": 0, \"ticks\": \"\"}, \"colorscale\": [[0.0, \"#0d0887\"], [0.1111111111111111, \"#46039f\"], [0.2222222222222222, \"#7201a8\"], [0.3333333333333333, \"#9c179e\"], [0.4444444444444444, \"#bd3786\"], [0.5555555555555556, \"#d8576b\"], [0.6666666666666666, \"#ed7953\"], [0.7777777777777778, \"#fb9f3a\"], [0.8888888888888888, \"#fdca26\"], [1.0, \"#f0f921\"]], \"type\": \"histogram2d\"}], \"histogram2dcontour\": [{\"colorbar\": {\"outlinewidth\": 0, \"ticks\": \"\"}, \"colorscale\": [[0.0, \"#0d0887\"], [0.1111111111111111, \"#46039f\"], [0.2222222222222222, \"#7201a8\"], [0.3333333333333333, \"#9c179e\"], [0.4444444444444444, \"#bd3786\"], [0.5555555555555556, \"#d8576b\"], [0.6666666666666666, \"#ed7953\"], [0.7777777777777778, \"#fb9f3a\"], [0.8888888888888888, \"#fdca26\"], [1.0, \"#f0f921\"]], \"type\": \"histogram2dcontour\"}], \"mesh3d\": [{\"colorbar\": {\"outlinewidth\": 0, \"ticks\": \"\"}, \"type\": \"mesh3d\"}], \"parcoords\": [{\"line\": {\"colorbar\": {\"outlinewidth\": 0, \"ticks\": \"\"}}, \"type\": \"parcoords\"}], \"pie\": [{\"automargin\": true, \"type\": \"pie\"}], \"scatter\": [{\"marker\": {\"colorbar\": {\"outlinewidth\": 0, \"ticks\": \"\"}}, \"type\": \"scatter\"}], \"scatter3d\": [{\"line\": {\"colorbar\": {\"outlinewidth\": 0, \"ticks\": \"\"}}, \"marker\": {\"colorbar\": {\"outlinewidth\": 0, \"ticks\": \"\"}}, \"type\": \"scatter3d\"}], \"scattercarpet\": [{\"marker\": {\"colorbar\": {\"outlinewidth\": 0, \"ticks\": \"\"}}, \"type\": \"scattercarpet\"}], \"scattergeo\": [{\"marker\": {\"colorbar\": {\"outlinewidth\": 0, \"ticks\": \"\"}}, \"type\": \"scattergeo\"}], \"scattergl\": [{\"marker\": {\"colorbar\": {\"outlinewidth\": 0, \"ticks\": \"\"}}, \"type\": \"scattergl\"}], \"scattermapbox\": [{\"marker\": {\"colorbar\": {\"outlinewidth\": 0, \"ticks\": \"\"}}, \"type\": \"scattermapbox\"}], \"scatterpolar\": [{\"marker\": {\"colorbar\": {\"outlinewidth\": 0, \"ticks\": \"\"}}, \"type\": \"scatterpolar\"}], \"scatterpolargl\": [{\"marker\": {\"colorbar\": {\"outlinewidth\": 0, \"ticks\": \"\"}}, \"type\": \"scatterpolargl\"}], \"scatterternary\": [{\"marker\": {\"colorbar\": {\"outlinewidth\": 0, \"ticks\": \"\"}}, \"type\": \"scatterternary\"}], \"surface\": [{\"colorbar\": {\"outlinewidth\": 0, \"ticks\": \"\"}, \"colorscale\": [[0.0, \"#0d0887\"], [0.1111111111111111, \"#46039f\"], [0.2222222222222222, \"#7201a8\"], [0.3333333333333333, \"#9c179e\"], [0.4444444444444444, \"#bd3786\"], [0.5555555555555556, \"#d8576b\"], [0.6666666666666666, \"#ed7953\"], [0.7777777777777778, \"#fb9f3a\"], [0.8888888888888888, \"#fdca26\"], [1.0, \"#f0f921\"]], \"type\": \"surface\"}], \"table\": [{\"cells\": {\"fill\": {\"color\": \"#EBF0F8\"}, \"line\": {\"color\": \"white\"}}, \"header\": {\"fill\": {\"color\": \"#C8D4E3\"}, \"line\": {\"color\": \"white\"}}, \"type\": \"table\"}]}, \"layout\": {\"annotationdefaults\": {\"arrowcolor\": \"#2a3f5f\", \"arrowhead\": 0, \"arrowwidth\": 1}, \"coloraxis\": {\"colorbar\": {\"outlinewidth\": 0, \"ticks\": \"\"}}, \"colorscale\": {\"diverging\": [[0, \"#8e0152\"], [0.1, \"#c51b7d\"], [0.2, \"#de77ae\"], [0.3, \"#f1b6da\"], [0.4, \"#fde0ef\"], [0.5, \"#f7f7f7\"], [0.6, \"#e6f5d0\"], [0.7, \"#b8e186\"], [0.8, \"#7fbc41\"], [0.9, \"#4d9221\"], [1, \"#276419\"]], \"sequential\": [[0.0, \"#0d0887\"], [0.1111111111111111, \"#46039f\"], [0.2222222222222222, \"#7201a8\"], [0.3333333333333333, \"#9c179e\"], [0.4444444444444444, \"#bd3786\"], [0.5555555555555556, \"#d8576b\"], [0.6666666666666666, \"#ed7953\"], [0.7777777777777778, \"#fb9f3a\"], [0.8888888888888888, \"#fdca26\"], [1.0, \"#f0f921\"]], \"sequentialminus\": [[0.0, \"#0d0887\"], [0.1111111111111111, \"#46039f\"], [0.2222222222222222, \"#7201a8\"], [0.3333333333333333, \"#9c179e\"], [0.4444444444444444, \"#bd3786\"], [0.5555555555555556, \"#d8576b\"], [0.6666666666666666, \"#ed7953\"], [0.7777777777777778, \"#fb9f3a\"], [0.8888888888888888, \"#fdca26\"], [1.0, \"#f0f921\"]]}, \"colorway\": [\"#636efa\", \"#EF553B\", \"#00cc96\", \"#ab63fa\", \"#FFA15A\", \"#19d3f3\", \"#FF6692\", \"#B6E880\", \"#FF97FF\", \"#FECB52\"], \"font\": {\"color\": \"#2a3f5f\"}, \"geo\": {\"bgcolor\": \"white\", \"lakecolor\": \"white\", \"landcolor\": \"#E5ECF6\", \"showlakes\": true, \"showland\": true, \"subunitcolor\": \"white\"}, \"hoverlabel\": {\"align\": \"left\"}, \"hovermode\": \"closest\", \"mapbox\": {\"style\": \"light\"}, \"paper_bgcolor\": \"white\", \"plot_bgcolor\": \"#E5ECF6\", \"polar\": {\"angularaxis\": {\"gridcolor\": \"white\", \"linecolor\": \"white\", \"ticks\": \"\"}, \"bgcolor\": \"#E5ECF6\", \"radialaxis\": {\"gridcolor\": \"white\", \"linecolor\": \"white\", \"ticks\": \"\"}}, \"scene\": {\"xaxis\": {\"backgroundcolor\": \"#E5ECF6\", \"gridcolor\": \"white\", \"gridwidth\": 2, \"linecolor\": \"white\", \"showbackground\": true, \"ticks\": \"\", \"zerolinecolor\": \"white\"}, \"yaxis\": {\"backgroundcolor\": \"#E5ECF6\", \"gridcolor\": \"white\", \"gridwidth\": 2, \"linecolor\": \"white\", \"showbackground\": true, \"ticks\": \"\", \"zerolinecolor\": \"white\"}, \"zaxis\": {\"backgroundcolor\": \"#E5ECF6\", \"gridcolor\": \"white\", \"gridwidth\": 2, \"linecolor\": \"white\", \"showbackground\": true, \"ticks\": \"\", \"zerolinecolor\": \"white\"}}, \"shapedefaults\": {\"line\": {\"color\": \"#2a3f5f\"}}, \"ternary\": {\"aaxis\": {\"gridcolor\": \"white\", \"linecolor\": \"white\", \"ticks\": \"\"}, \"baxis\": {\"gridcolor\": \"white\", \"linecolor\": \"white\", \"ticks\": \"\"}, \"bgcolor\": \"#E5ECF6\", \"caxis\": {\"gridcolor\": \"white\", \"linecolor\": \"white\", \"ticks\": \"\"}}, \"title\": {\"x\": 0.05}, \"xaxis\": {\"automargin\": true, \"gridcolor\": \"white\", \"linecolor\": \"white\", \"ticks\": \"\", \"title\": {\"standoff\": 15}, \"zerolinecolor\": \"white\", \"zerolinewidth\": 2}, \"yaxis\": {\"automargin\": true, \"gridcolor\": \"white\", \"linecolor\": \"white\", \"ticks\": \"\", \"title\": {\"standoff\": 15}, \"zerolinecolor\": \"white\", \"zerolinewidth\": 2}}}, \"title\": {\"font\": {\"color\": \"#4D5663\"}}, \"xaxis\": {\"gridcolor\": \"#E1E5ED\", \"showgrid\": true, \"tickfont\": {\"color\": \"#4D5663\"}, \"title\": {\"font\": {\"color\": \"#4D5663\"}, \"text\": \"\"}, \"zerolinecolor\": \"#E1E5ED\"}, \"yaxis\": {\"gridcolor\": \"#E1E5ED\", \"showgrid\": true, \"tickfont\": {\"color\": \"#4D5663\"}, \"title\": {\"font\": {\"color\": \"#4D5663\"}, \"text\": \"\"}, \"zerolinecolor\": \"#E1E5ED\"}},\n",
       "                        {\"showLink\": true, \"linkText\": \"Export to plot.ly\", \"plotlyServerURL\": \"https://plot.ly\", \"responsive\": true}\n",
       "                    ).then(function(){\n",
       "                            \n",
       "var gd = document.getElementById('f97a315c-20c0-4ba5-b7af-093619ee09f0');\n",
       "var x = new MutationObserver(function (mutations, observer) {{\n",
       "        var display = window.getComputedStyle(gd).display;\n",
       "        if (!display || display === 'none') {{\n",
       "            console.log([gd, 'removed!']);\n",
       "            Plotly.purge(gd);\n",
       "            observer.disconnect();\n",
       "        }}\n",
       "}});\n",
       "\n",
       "// Listen for the removal of the full notebook cells\n",
       "var notebookContainer = gd.closest('#notebook-container');\n",
       "if (notebookContainer) {{\n",
       "    x.observe(notebookContainer, {childList: true});\n",
       "}}\n",
       "\n",
       "// Listen for the clearing of the current output cell\n",
       "var outputEl = gd.closest('.output');\n",
       "if (outputEl) {{\n",
       "    x.observe(outputEl, {childList: true});\n",
       "}}\n",
       "\n",
       "                        })\n",
       "                };\n",
       "                });\n",
       "            </script>\n",
       "        </div>"
      ]
     },
     "metadata": {},
     "output_type": "display_data"
    }
   ],
   "source": [
    "df.iplot(kind='scatter',x='A',y='B',mode='markers',size=10)"
   ]
  },
  {
   "cell_type": "markdown",
   "metadata": {},
   "source": [
    "## Bar Plots"
   ]
  },
  {
   "cell_type": "code",
   "execution_count": 11,
   "metadata": {},
   "outputs": [
    {
     "data": {
      "application/vnd.plotly.v1+json": {
       "config": {
        "linkText": "Export to plot.ly",
        "plotlyServerURL": "https://plot.ly",
        "showLink": true
       },
       "data": [
        {
         "marker": {
          "color": "rgba(255, 153, 51, 0.6)",
          "line": {
           "color": "rgba(255, 153, 51, 1.0)",
           "width": 1
          }
         },
         "name": "Values",
         "orientation": "v",
         "text": "",
         "type": "bar",
         "x": [
          "A",
          "B",
          "C"
         ],
         "y": [
          32,
          43,
          50
         ]
        }
       ],
       "layout": {
        "legend": {
         "bgcolor": "#F5F6F9",
         "font": {
          "color": "#4D5663"
         }
        },
        "paper_bgcolor": "#F5F6F9",
        "plot_bgcolor": "#F5F6F9",
        "template": {
         "data": {
          "bar": [
           {
            "error_x": {
             "color": "#2a3f5f"
            },
            "error_y": {
             "color": "#2a3f5f"
            },
            "marker": {
             "line": {
              "color": "#E5ECF6",
              "width": 0.5
             }
            },
            "type": "bar"
           }
          ],
          "barpolar": [
           {
            "marker": {
             "line": {
              "color": "#E5ECF6",
              "width": 0.5
             }
            },
            "type": "barpolar"
           }
          ],
          "carpet": [
           {
            "aaxis": {
             "endlinecolor": "#2a3f5f",
             "gridcolor": "white",
             "linecolor": "white",
             "minorgridcolor": "white",
             "startlinecolor": "#2a3f5f"
            },
            "baxis": {
             "endlinecolor": "#2a3f5f",
             "gridcolor": "white",
             "linecolor": "white",
             "minorgridcolor": "white",
             "startlinecolor": "#2a3f5f"
            },
            "type": "carpet"
           }
          ],
          "choropleth": [
           {
            "colorbar": {
             "outlinewidth": 0,
             "ticks": ""
            },
            "type": "choropleth"
           }
          ],
          "contour": [
           {
            "colorbar": {
             "outlinewidth": 0,
             "ticks": ""
            },
            "colorscale": [
             [
              0,
              "#0d0887"
             ],
             [
              0.1111111111111111,
              "#46039f"
             ],
             [
              0.2222222222222222,
              "#7201a8"
             ],
             [
              0.3333333333333333,
              "#9c179e"
             ],
             [
              0.4444444444444444,
              "#bd3786"
             ],
             [
              0.5555555555555556,
              "#d8576b"
             ],
             [
              0.6666666666666666,
              "#ed7953"
             ],
             [
              0.7777777777777778,
              "#fb9f3a"
             ],
             [
              0.8888888888888888,
              "#fdca26"
             ],
             [
              1,
              "#f0f921"
             ]
            ],
            "type": "contour"
           }
          ],
          "contourcarpet": [
           {
            "colorbar": {
             "outlinewidth": 0,
             "ticks": ""
            },
            "type": "contourcarpet"
           }
          ],
          "heatmap": [
           {
            "colorbar": {
             "outlinewidth": 0,
             "ticks": ""
            },
            "colorscale": [
             [
              0,
              "#0d0887"
             ],
             [
              0.1111111111111111,
              "#46039f"
             ],
             [
              0.2222222222222222,
              "#7201a8"
             ],
             [
              0.3333333333333333,
              "#9c179e"
             ],
             [
              0.4444444444444444,
              "#bd3786"
             ],
             [
              0.5555555555555556,
              "#d8576b"
             ],
             [
              0.6666666666666666,
              "#ed7953"
             ],
             [
              0.7777777777777778,
              "#fb9f3a"
             ],
             [
              0.8888888888888888,
              "#fdca26"
             ],
             [
              1,
              "#f0f921"
             ]
            ],
            "type": "heatmap"
           }
          ],
          "heatmapgl": [
           {
            "colorbar": {
             "outlinewidth": 0,
             "ticks": ""
            },
            "colorscale": [
             [
              0,
              "#0d0887"
             ],
             [
              0.1111111111111111,
              "#46039f"
             ],
             [
              0.2222222222222222,
              "#7201a8"
             ],
             [
              0.3333333333333333,
              "#9c179e"
             ],
             [
              0.4444444444444444,
              "#bd3786"
             ],
             [
              0.5555555555555556,
              "#d8576b"
             ],
             [
              0.6666666666666666,
              "#ed7953"
             ],
             [
              0.7777777777777778,
              "#fb9f3a"
             ],
             [
              0.8888888888888888,
              "#fdca26"
             ],
             [
              1,
              "#f0f921"
             ]
            ],
            "type": "heatmapgl"
           }
          ],
          "histogram": [
           {
            "marker": {
             "colorbar": {
              "outlinewidth": 0,
              "ticks": ""
             }
            },
            "type": "histogram"
           }
          ],
          "histogram2d": [
           {
            "colorbar": {
             "outlinewidth": 0,
             "ticks": ""
            },
            "colorscale": [
             [
              0,
              "#0d0887"
             ],
             [
              0.1111111111111111,
              "#46039f"
             ],
             [
              0.2222222222222222,
              "#7201a8"
             ],
             [
              0.3333333333333333,
              "#9c179e"
             ],
             [
              0.4444444444444444,
              "#bd3786"
             ],
             [
              0.5555555555555556,
              "#d8576b"
             ],
             [
              0.6666666666666666,
              "#ed7953"
             ],
             [
              0.7777777777777778,
              "#fb9f3a"
             ],
             [
              0.8888888888888888,
              "#fdca26"
             ],
             [
              1,
              "#f0f921"
             ]
            ],
            "type": "histogram2d"
           }
          ],
          "histogram2dcontour": [
           {
            "colorbar": {
             "outlinewidth": 0,
             "ticks": ""
            },
            "colorscale": [
             [
              0,
              "#0d0887"
             ],
             [
              0.1111111111111111,
              "#46039f"
             ],
             [
              0.2222222222222222,
              "#7201a8"
             ],
             [
              0.3333333333333333,
              "#9c179e"
             ],
             [
              0.4444444444444444,
              "#bd3786"
             ],
             [
              0.5555555555555556,
              "#d8576b"
             ],
             [
              0.6666666666666666,
              "#ed7953"
             ],
             [
              0.7777777777777778,
              "#fb9f3a"
             ],
             [
              0.8888888888888888,
              "#fdca26"
             ],
             [
              1,
              "#f0f921"
             ]
            ],
            "type": "histogram2dcontour"
           }
          ],
          "mesh3d": [
           {
            "colorbar": {
             "outlinewidth": 0,
             "ticks": ""
            },
            "type": "mesh3d"
           }
          ],
          "parcoords": [
           {
            "line": {
             "colorbar": {
              "outlinewidth": 0,
              "ticks": ""
             }
            },
            "type": "parcoords"
           }
          ],
          "pie": [
           {
            "automargin": true,
            "type": "pie"
           }
          ],
          "scatter": [
           {
            "marker": {
             "colorbar": {
              "outlinewidth": 0,
              "ticks": ""
             }
            },
            "type": "scatter"
           }
          ],
          "scatter3d": [
           {
            "line": {
             "colorbar": {
              "outlinewidth": 0,
              "ticks": ""
             }
            },
            "marker": {
             "colorbar": {
              "outlinewidth": 0,
              "ticks": ""
             }
            },
            "type": "scatter3d"
           }
          ],
          "scattercarpet": [
           {
            "marker": {
             "colorbar": {
              "outlinewidth": 0,
              "ticks": ""
             }
            },
            "type": "scattercarpet"
           }
          ],
          "scattergeo": [
           {
            "marker": {
             "colorbar": {
              "outlinewidth": 0,
              "ticks": ""
             }
            },
            "type": "scattergeo"
           }
          ],
          "scattergl": [
           {
            "marker": {
             "colorbar": {
              "outlinewidth": 0,
              "ticks": ""
             }
            },
            "type": "scattergl"
           }
          ],
          "scattermapbox": [
           {
            "marker": {
             "colorbar": {
              "outlinewidth": 0,
              "ticks": ""
             }
            },
            "type": "scattermapbox"
           }
          ],
          "scatterpolar": [
           {
            "marker": {
             "colorbar": {
              "outlinewidth": 0,
              "ticks": ""
             }
            },
            "type": "scatterpolar"
           }
          ],
          "scatterpolargl": [
           {
            "marker": {
             "colorbar": {
              "outlinewidth": 0,
              "ticks": ""
             }
            },
            "type": "scatterpolargl"
           }
          ],
          "scatterternary": [
           {
            "marker": {
             "colorbar": {
              "outlinewidth": 0,
              "ticks": ""
             }
            },
            "type": "scatterternary"
           }
          ],
          "surface": [
           {
            "colorbar": {
             "outlinewidth": 0,
             "ticks": ""
            },
            "colorscale": [
             [
              0,
              "#0d0887"
             ],
             [
              0.1111111111111111,
              "#46039f"
             ],
             [
              0.2222222222222222,
              "#7201a8"
             ],
             [
              0.3333333333333333,
              "#9c179e"
             ],
             [
              0.4444444444444444,
              "#bd3786"
             ],
             [
              0.5555555555555556,
              "#d8576b"
             ],
             [
              0.6666666666666666,
              "#ed7953"
             ],
             [
              0.7777777777777778,
              "#fb9f3a"
             ],
             [
              0.8888888888888888,
              "#fdca26"
             ],
             [
              1,
              "#f0f921"
             ]
            ],
            "type": "surface"
           }
          ],
          "table": [
           {
            "cells": {
             "fill": {
              "color": "#EBF0F8"
             },
             "line": {
              "color": "white"
             }
            },
            "header": {
             "fill": {
              "color": "#C8D4E3"
             },
             "line": {
              "color": "white"
             }
            },
            "type": "table"
           }
          ]
         },
         "layout": {
          "annotationdefaults": {
           "arrowcolor": "#2a3f5f",
           "arrowhead": 0,
           "arrowwidth": 1
          },
          "coloraxis": {
           "colorbar": {
            "outlinewidth": 0,
            "ticks": ""
           }
          },
          "colorscale": {
           "diverging": [
            [
             0,
             "#8e0152"
            ],
            [
             0.1,
             "#c51b7d"
            ],
            [
             0.2,
             "#de77ae"
            ],
            [
             0.3,
             "#f1b6da"
            ],
            [
             0.4,
             "#fde0ef"
            ],
            [
             0.5,
             "#f7f7f7"
            ],
            [
             0.6,
             "#e6f5d0"
            ],
            [
             0.7,
             "#b8e186"
            ],
            [
             0.8,
             "#7fbc41"
            ],
            [
             0.9,
             "#4d9221"
            ],
            [
             1,
             "#276419"
            ]
           ],
           "sequential": [
            [
             0,
             "#0d0887"
            ],
            [
             0.1111111111111111,
             "#46039f"
            ],
            [
             0.2222222222222222,
             "#7201a8"
            ],
            [
             0.3333333333333333,
             "#9c179e"
            ],
            [
             0.4444444444444444,
             "#bd3786"
            ],
            [
             0.5555555555555556,
             "#d8576b"
            ],
            [
             0.6666666666666666,
             "#ed7953"
            ],
            [
             0.7777777777777778,
             "#fb9f3a"
            ],
            [
             0.8888888888888888,
             "#fdca26"
            ],
            [
             1,
             "#f0f921"
            ]
           ],
           "sequentialminus": [
            [
             0,
             "#0d0887"
            ],
            [
             0.1111111111111111,
             "#46039f"
            ],
            [
             0.2222222222222222,
             "#7201a8"
            ],
            [
             0.3333333333333333,
             "#9c179e"
            ],
            [
             0.4444444444444444,
             "#bd3786"
            ],
            [
             0.5555555555555556,
             "#d8576b"
            ],
            [
             0.6666666666666666,
             "#ed7953"
            ],
            [
             0.7777777777777778,
             "#fb9f3a"
            ],
            [
             0.8888888888888888,
             "#fdca26"
            ],
            [
             1,
             "#f0f921"
            ]
           ]
          },
          "colorway": [
           "#636efa",
           "#EF553B",
           "#00cc96",
           "#ab63fa",
           "#FFA15A",
           "#19d3f3",
           "#FF6692",
           "#B6E880",
           "#FF97FF",
           "#FECB52"
          ],
          "font": {
           "color": "#2a3f5f"
          },
          "geo": {
           "bgcolor": "white",
           "lakecolor": "white",
           "landcolor": "#E5ECF6",
           "showlakes": true,
           "showland": true,
           "subunitcolor": "white"
          },
          "hoverlabel": {
           "align": "left"
          },
          "hovermode": "closest",
          "mapbox": {
           "style": "light"
          },
          "paper_bgcolor": "white",
          "plot_bgcolor": "#E5ECF6",
          "polar": {
           "angularaxis": {
            "gridcolor": "white",
            "linecolor": "white",
            "ticks": ""
           },
           "bgcolor": "#E5ECF6",
           "radialaxis": {
            "gridcolor": "white",
            "linecolor": "white",
            "ticks": ""
           }
          },
          "scene": {
           "xaxis": {
            "backgroundcolor": "#E5ECF6",
            "gridcolor": "white",
            "gridwidth": 2,
            "linecolor": "white",
            "showbackground": true,
            "ticks": "",
            "zerolinecolor": "white"
           },
           "yaxis": {
            "backgroundcolor": "#E5ECF6",
            "gridcolor": "white",
            "gridwidth": 2,
            "linecolor": "white",
            "showbackground": true,
            "ticks": "",
            "zerolinecolor": "white"
           },
           "zaxis": {
            "backgroundcolor": "#E5ECF6",
            "gridcolor": "white",
            "gridwidth": 2,
            "linecolor": "white",
            "showbackground": true,
            "ticks": "",
            "zerolinecolor": "white"
           }
          },
          "shapedefaults": {
           "line": {
            "color": "#2a3f5f"
           }
          },
          "ternary": {
           "aaxis": {
            "gridcolor": "white",
            "linecolor": "white",
            "ticks": ""
           },
           "baxis": {
            "gridcolor": "white",
            "linecolor": "white",
            "ticks": ""
           },
           "bgcolor": "#E5ECF6",
           "caxis": {
            "gridcolor": "white",
            "linecolor": "white",
            "ticks": ""
           }
          },
          "title": {
           "x": 0.05
          },
          "xaxis": {
           "automargin": true,
           "gridcolor": "white",
           "linecolor": "white",
           "ticks": "",
           "title": {
            "standoff": 15
           },
           "zerolinecolor": "white",
           "zerolinewidth": 2
          },
          "yaxis": {
           "automargin": true,
           "gridcolor": "white",
           "linecolor": "white",
           "ticks": "",
           "title": {
            "standoff": 15
           },
           "zerolinecolor": "white",
           "zerolinewidth": 2
          }
         }
        },
        "title": {
         "font": {
          "color": "#4D5663"
         }
        },
        "xaxis": {
         "gridcolor": "#E1E5ED",
         "showgrid": true,
         "tickfont": {
          "color": "#4D5663"
         },
         "title": {
          "font": {
           "color": "#4D5663"
          },
          "text": ""
         },
         "zerolinecolor": "#E1E5ED"
        },
        "yaxis": {
         "gridcolor": "#E1E5ED",
         "showgrid": true,
         "tickfont": {
          "color": "#4D5663"
         },
         "title": {
          "font": {
           "color": "#4D5663"
          },
          "text": ""
         },
         "zerolinecolor": "#E1E5ED"
        }
       }
      },
      "text/html": [
       "<div>\n",
       "        \n",
       "        \n",
       "            <div id=\"f5f04ddf-b9bb-42b0-9389-b1768e7af6e3\" class=\"plotly-graph-div\" style=\"height:525px; width:100%;\"></div>\n",
       "            <script type=\"text/javascript\">\n",
       "                require([\"plotly\"], function(Plotly) {\n",
       "                    window.PLOTLYENV=window.PLOTLYENV || {};\n",
       "                    window.PLOTLYENV.BASE_URL='https://plot.ly';\n",
       "                    \n",
       "                if (document.getElementById(\"f5f04ddf-b9bb-42b0-9389-b1768e7af6e3\")) {\n",
       "                    Plotly.newPlot(\n",
       "                        'f5f04ddf-b9bb-42b0-9389-b1768e7af6e3',\n",
       "                        [{\"marker\": {\"color\": \"rgba(255, 153, 51, 0.6)\", \"line\": {\"color\": \"rgba(255, 153, 51, 1.0)\", \"width\": 1}}, \"name\": \"Values\", \"orientation\": \"v\", \"text\": \"\", \"type\": \"bar\", \"x\": [\"A\", \"B\", \"C\"], \"y\": [32, 43, 50]}],\n",
       "                        {\"legend\": {\"bgcolor\": \"#F5F6F9\", \"font\": {\"color\": \"#4D5663\"}}, \"paper_bgcolor\": \"#F5F6F9\", \"plot_bgcolor\": \"#F5F6F9\", \"template\": {\"data\": {\"bar\": [{\"error_x\": {\"color\": \"#2a3f5f\"}, \"error_y\": {\"color\": \"#2a3f5f\"}, \"marker\": {\"line\": {\"color\": \"#E5ECF6\", \"width\": 0.5}}, \"type\": \"bar\"}], \"barpolar\": [{\"marker\": {\"line\": {\"color\": \"#E5ECF6\", \"width\": 0.5}}, \"type\": \"barpolar\"}], \"carpet\": [{\"aaxis\": {\"endlinecolor\": \"#2a3f5f\", \"gridcolor\": \"white\", \"linecolor\": \"white\", \"minorgridcolor\": \"white\", \"startlinecolor\": \"#2a3f5f\"}, \"baxis\": {\"endlinecolor\": \"#2a3f5f\", \"gridcolor\": \"white\", \"linecolor\": \"white\", \"minorgridcolor\": \"white\", \"startlinecolor\": \"#2a3f5f\"}, \"type\": \"carpet\"}], \"choropleth\": [{\"colorbar\": {\"outlinewidth\": 0, \"ticks\": \"\"}, \"type\": \"choropleth\"}], \"contour\": [{\"colorbar\": {\"outlinewidth\": 0, \"ticks\": \"\"}, \"colorscale\": [[0.0, \"#0d0887\"], [0.1111111111111111, \"#46039f\"], [0.2222222222222222, \"#7201a8\"], [0.3333333333333333, \"#9c179e\"], [0.4444444444444444, \"#bd3786\"], [0.5555555555555556, \"#d8576b\"], [0.6666666666666666, \"#ed7953\"], [0.7777777777777778, \"#fb9f3a\"], [0.8888888888888888, \"#fdca26\"], [1.0, \"#f0f921\"]], \"type\": \"contour\"}], \"contourcarpet\": [{\"colorbar\": {\"outlinewidth\": 0, \"ticks\": \"\"}, \"type\": \"contourcarpet\"}], \"heatmap\": [{\"colorbar\": {\"outlinewidth\": 0, \"ticks\": \"\"}, \"colorscale\": [[0.0, \"#0d0887\"], [0.1111111111111111, \"#46039f\"], [0.2222222222222222, \"#7201a8\"], [0.3333333333333333, \"#9c179e\"], [0.4444444444444444, \"#bd3786\"], [0.5555555555555556, \"#d8576b\"], [0.6666666666666666, \"#ed7953\"], [0.7777777777777778, \"#fb9f3a\"], [0.8888888888888888, \"#fdca26\"], [1.0, \"#f0f921\"]], \"type\": \"heatmap\"}], \"heatmapgl\": [{\"colorbar\": {\"outlinewidth\": 0, \"ticks\": \"\"}, \"colorscale\": [[0.0, \"#0d0887\"], [0.1111111111111111, \"#46039f\"], [0.2222222222222222, \"#7201a8\"], [0.3333333333333333, \"#9c179e\"], [0.4444444444444444, \"#bd3786\"], [0.5555555555555556, \"#d8576b\"], [0.6666666666666666, \"#ed7953\"], [0.7777777777777778, \"#fb9f3a\"], [0.8888888888888888, \"#fdca26\"], [1.0, \"#f0f921\"]], \"type\": \"heatmapgl\"}], \"histogram\": [{\"marker\": {\"colorbar\": {\"outlinewidth\": 0, \"ticks\": \"\"}}, \"type\": \"histogram\"}], \"histogram2d\": [{\"colorbar\": {\"outlinewidth\": 0, \"ticks\": \"\"}, \"colorscale\": [[0.0, \"#0d0887\"], [0.1111111111111111, \"#46039f\"], [0.2222222222222222, \"#7201a8\"], [0.3333333333333333, \"#9c179e\"], [0.4444444444444444, \"#bd3786\"], [0.5555555555555556, \"#d8576b\"], [0.6666666666666666, \"#ed7953\"], [0.7777777777777778, \"#fb9f3a\"], [0.8888888888888888, \"#fdca26\"], [1.0, \"#f0f921\"]], \"type\": \"histogram2d\"}], \"histogram2dcontour\": [{\"colorbar\": {\"outlinewidth\": 0, \"ticks\": \"\"}, \"colorscale\": [[0.0, \"#0d0887\"], [0.1111111111111111, \"#46039f\"], [0.2222222222222222, \"#7201a8\"], [0.3333333333333333, \"#9c179e\"], [0.4444444444444444, \"#bd3786\"], [0.5555555555555556, \"#d8576b\"], [0.6666666666666666, \"#ed7953\"], [0.7777777777777778, \"#fb9f3a\"], [0.8888888888888888, \"#fdca26\"], [1.0, \"#f0f921\"]], \"type\": \"histogram2dcontour\"}], \"mesh3d\": [{\"colorbar\": {\"outlinewidth\": 0, \"ticks\": \"\"}, \"type\": \"mesh3d\"}], \"parcoords\": [{\"line\": {\"colorbar\": {\"outlinewidth\": 0, \"ticks\": \"\"}}, \"type\": \"parcoords\"}], \"pie\": [{\"automargin\": true, \"type\": \"pie\"}], \"scatter\": [{\"marker\": {\"colorbar\": {\"outlinewidth\": 0, \"ticks\": \"\"}}, \"type\": \"scatter\"}], \"scatter3d\": [{\"line\": {\"colorbar\": {\"outlinewidth\": 0, \"ticks\": \"\"}}, \"marker\": {\"colorbar\": {\"outlinewidth\": 0, \"ticks\": \"\"}}, \"type\": \"scatter3d\"}], \"scattercarpet\": [{\"marker\": {\"colorbar\": {\"outlinewidth\": 0, \"ticks\": \"\"}}, \"type\": \"scattercarpet\"}], \"scattergeo\": [{\"marker\": {\"colorbar\": {\"outlinewidth\": 0, \"ticks\": \"\"}}, \"type\": \"scattergeo\"}], \"scattergl\": [{\"marker\": {\"colorbar\": {\"outlinewidth\": 0, \"ticks\": \"\"}}, \"type\": \"scattergl\"}], \"scattermapbox\": [{\"marker\": {\"colorbar\": {\"outlinewidth\": 0, \"ticks\": \"\"}}, \"type\": \"scattermapbox\"}], \"scatterpolar\": [{\"marker\": {\"colorbar\": {\"outlinewidth\": 0, \"ticks\": \"\"}}, \"type\": \"scatterpolar\"}], \"scatterpolargl\": [{\"marker\": {\"colorbar\": {\"outlinewidth\": 0, \"ticks\": \"\"}}, \"type\": \"scatterpolargl\"}], \"scatterternary\": [{\"marker\": {\"colorbar\": {\"outlinewidth\": 0, \"ticks\": \"\"}}, \"type\": \"scatterternary\"}], \"surface\": [{\"colorbar\": {\"outlinewidth\": 0, \"ticks\": \"\"}, \"colorscale\": [[0.0, \"#0d0887\"], [0.1111111111111111, \"#46039f\"], [0.2222222222222222, \"#7201a8\"], [0.3333333333333333, \"#9c179e\"], [0.4444444444444444, \"#bd3786\"], [0.5555555555555556, \"#d8576b\"], [0.6666666666666666, \"#ed7953\"], [0.7777777777777778, \"#fb9f3a\"], [0.8888888888888888, \"#fdca26\"], [1.0, \"#f0f921\"]], \"type\": \"surface\"}], \"table\": [{\"cells\": {\"fill\": {\"color\": \"#EBF0F8\"}, \"line\": {\"color\": \"white\"}}, \"header\": {\"fill\": {\"color\": \"#C8D4E3\"}, \"line\": {\"color\": \"white\"}}, \"type\": \"table\"}]}, \"layout\": {\"annotationdefaults\": {\"arrowcolor\": \"#2a3f5f\", \"arrowhead\": 0, \"arrowwidth\": 1}, \"coloraxis\": {\"colorbar\": {\"outlinewidth\": 0, \"ticks\": \"\"}}, \"colorscale\": {\"diverging\": [[0, \"#8e0152\"], [0.1, \"#c51b7d\"], [0.2, \"#de77ae\"], [0.3, \"#f1b6da\"], [0.4, \"#fde0ef\"], [0.5, \"#f7f7f7\"], [0.6, \"#e6f5d0\"], [0.7, \"#b8e186\"], [0.8, \"#7fbc41\"], [0.9, \"#4d9221\"], [1, \"#276419\"]], \"sequential\": [[0.0, \"#0d0887\"], [0.1111111111111111, \"#46039f\"], [0.2222222222222222, \"#7201a8\"], [0.3333333333333333, \"#9c179e\"], [0.4444444444444444, \"#bd3786\"], [0.5555555555555556, \"#d8576b\"], [0.6666666666666666, \"#ed7953\"], [0.7777777777777778, \"#fb9f3a\"], [0.8888888888888888, \"#fdca26\"], [1.0, \"#f0f921\"]], \"sequentialminus\": [[0.0, \"#0d0887\"], [0.1111111111111111, \"#46039f\"], [0.2222222222222222, \"#7201a8\"], [0.3333333333333333, \"#9c179e\"], [0.4444444444444444, \"#bd3786\"], [0.5555555555555556, \"#d8576b\"], [0.6666666666666666, \"#ed7953\"], [0.7777777777777778, \"#fb9f3a\"], [0.8888888888888888, \"#fdca26\"], [1.0, \"#f0f921\"]]}, \"colorway\": [\"#636efa\", \"#EF553B\", \"#00cc96\", \"#ab63fa\", \"#FFA15A\", \"#19d3f3\", \"#FF6692\", \"#B6E880\", \"#FF97FF\", \"#FECB52\"], \"font\": {\"color\": \"#2a3f5f\"}, \"geo\": {\"bgcolor\": \"white\", \"lakecolor\": \"white\", \"landcolor\": \"#E5ECF6\", \"showlakes\": true, \"showland\": true, \"subunitcolor\": \"white\"}, \"hoverlabel\": {\"align\": \"left\"}, \"hovermode\": \"closest\", \"mapbox\": {\"style\": \"light\"}, \"paper_bgcolor\": \"white\", \"plot_bgcolor\": \"#E5ECF6\", \"polar\": {\"angularaxis\": {\"gridcolor\": \"white\", \"linecolor\": \"white\", \"ticks\": \"\"}, \"bgcolor\": \"#E5ECF6\", \"radialaxis\": {\"gridcolor\": \"white\", \"linecolor\": \"white\", \"ticks\": \"\"}}, \"scene\": {\"xaxis\": {\"backgroundcolor\": \"#E5ECF6\", \"gridcolor\": \"white\", \"gridwidth\": 2, \"linecolor\": \"white\", \"showbackground\": true, \"ticks\": \"\", \"zerolinecolor\": \"white\"}, \"yaxis\": {\"backgroundcolor\": \"#E5ECF6\", \"gridcolor\": \"white\", \"gridwidth\": 2, \"linecolor\": \"white\", \"showbackground\": true, \"ticks\": \"\", \"zerolinecolor\": \"white\"}, \"zaxis\": {\"backgroundcolor\": \"#E5ECF6\", \"gridcolor\": \"white\", \"gridwidth\": 2, \"linecolor\": \"white\", \"showbackground\": true, \"ticks\": \"\", \"zerolinecolor\": \"white\"}}, \"shapedefaults\": {\"line\": {\"color\": \"#2a3f5f\"}}, \"ternary\": {\"aaxis\": {\"gridcolor\": \"white\", \"linecolor\": \"white\", \"ticks\": \"\"}, \"baxis\": {\"gridcolor\": \"white\", \"linecolor\": \"white\", \"ticks\": \"\"}, \"bgcolor\": \"#E5ECF6\", \"caxis\": {\"gridcolor\": \"white\", \"linecolor\": \"white\", \"ticks\": \"\"}}, \"title\": {\"x\": 0.05}, \"xaxis\": {\"automargin\": true, \"gridcolor\": \"white\", \"linecolor\": \"white\", \"ticks\": \"\", \"title\": {\"standoff\": 15}, \"zerolinecolor\": \"white\", \"zerolinewidth\": 2}, \"yaxis\": {\"automargin\": true, \"gridcolor\": \"white\", \"linecolor\": \"white\", \"ticks\": \"\", \"title\": {\"standoff\": 15}, \"zerolinecolor\": \"white\", \"zerolinewidth\": 2}}}, \"title\": {\"font\": {\"color\": \"#4D5663\"}}, \"xaxis\": {\"gridcolor\": \"#E1E5ED\", \"showgrid\": true, \"tickfont\": {\"color\": \"#4D5663\"}, \"title\": {\"font\": {\"color\": \"#4D5663\"}, \"text\": \"\"}, \"zerolinecolor\": \"#E1E5ED\"}, \"yaxis\": {\"gridcolor\": \"#E1E5ED\", \"showgrid\": true, \"tickfont\": {\"color\": \"#4D5663\"}, \"title\": {\"font\": {\"color\": \"#4D5663\"}, \"text\": \"\"}, \"zerolinecolor\": \"#E1E5ED\"}},\n",
       "                        {\"showLink\": true, \"linkText\": \"Export to plot.ly\", \"plotlyServerURL\": \"https://plot.ly\", \"responsive\": true}\n",
       "                    ).then(function(){\n",
       "                            \n",
       "var gd = document.getElementById('f5f04ddf-b9bb-42b0-9389-b1768e7af6e3');\n",
       "var x = new MutationObserver(function (mutations, observer) {{\n",
       "        var display = window.getComputedStyle(gd).display;\n",
       "        if (!display || display === 'none') {{\n",
       "            console.log([gd, 'removed!']);\n",
       "            Plotly.purge(gd);\n",
       "            observer.disconnect();\n",
       "        }}\n",
       "}});\n",
       "\n",
       "// Listen for the removal of the full notebook cells\n",
       "var notebookContainer = gd.closest('#notebook-container');\n",
       "if (notebookContainer) {{\n",
       "    x.observe(notebookContainer, {childList: true});\n",
       "}}\n",
       "\n",
       "// Listen for the clearing of the current output cell\n",
       "var outputEl = gd.closest('.output');\n",
       "if (outputEl) {{\n",
       "    x.observe(outputEl, {childList: true});\n",
       "}}\n",
       "\n",
       "                        })\n",
       "                };\n",
       "                });\n",
       "            </script>\n",
       "        </div>"
      ]
     },
     "metadata": {},
     "output_type": "display_data"
    }
   ],
   "source": [
    "df2.iplot(kind='bar',x='Category',y='Values')"
   ]
  },
  {
   "cell_type": "code",
   "execution_count": 12,
   "metadata": {},
   "outputs": [
    {
     "data": {
      "application/vnd.plotly.v1+json": {
       "config": {
        "linkText": "Export to plot.ly",
        "plotlyServerURL": "https://plot.ly",
        "showLink": true
       },
       "data": [
        {
         "marker": {
          "color": "rgba(255, 153, 51, 0.6)",
          "line": {
           "color": "rgba(255, 153, 51, 1.0)",
           "width": 1
          }
         },
         "name": "None",
         "orientation": "v",
         "text": "",
         "type": "bar",
         "x": [
          "A",
          "B",
          "C",
          "D"
         ],
         "y": [
          100,
          100,
          100,
          100
         ]
        }
       ],
       "layout": {
        "legend": {
         "bgcolor": "#F5F6F9",
         "font": {
          "color": "#4D5663"
         }
        },
        "paper_bgcolor": "#F5F6F9",
        "plot_bgcolor": "#F5F6F9",
        "template": {
         "data": {
          "bar": [
           {
            "error_x": {
             "color": "#2a3f5f"
            },
            "error_y": {
             "color": "#2a3f5f"
            },
            "marker": {
             "line": {
              "color": "#E5ECF6",
              "width": 0.5
             }
            },
            "type": "bar"
           }
          ],
          "barpolar": [
           {
            "marker": {
             "line": {
              "color": "#E5ECF6",
              "width": 0.5
             }
            },
            "type": "barpolar"
           }
          ],
          "carpet": [
           {
            "aaxis": {
             "endlinecolor": "#2a3f5f",
             "gridcolor": "white",
             "linecolor": "white",
             "minorgridcolor": "white",
             "startlinecolor": "#2a3f5f"
            },
            "baxis": {
             "endlinecolor": "#2a3f5f",
             "gridcolor": "white",
             "linecolor": "white",
             "minorgridcolor": "white",
             "startlinecolor": "#2a3f5f"
            },
            "type": "carpet"
           }
          ],
          "choropleth": [
           {
            "colorbar": {
             "outlinewidth": 0,
             "ticks": ""
            },
            "type": "choropleth"
           }
          ],
          "contour": [
           {
            "colorbar": {
             "outlinewidth": 0,
             "ticks": ""
            },
            "colorscale": [
             [
              0,
              "#0d0887"
             ],
             [
              0.1111111111111111,
              "#46039f"
             ],
             [
              0.2222222222222222,
              "#7201a8"
             ],
             [
              0.3333333333333333,
              "#9c179e"
             ],
             [
              0.4444444444444444,
              "#bd3786"
             ],
             [
              0.5555555555555556,
              "#d8576b"
             ],
             [
              0.6666666666666666,
              "#ed7953"
             ],
             [
              0.7777777777777778,
              "#fb9f3a"
             ],
             [
              0.8888888888888888,
              "#fdca26"
             ],
             [
              1,
              "#f0f921"
             ]
            ],
            "type": "contour"
           }
          ],
          "contourcarpet": [
           {
            "colorbar": {
             "outlinewidth": 0,
             "ticks": ""
            },
            "type": "contourcarpet"
           }
          ],
          "heatmap": [
           {
            "colorbar": {
             "outlinewidth": 0,
             "ticks": ""
            },
            "colorscale": [
             [
              0,
              "#0d0887"
             ],
             [
              0.1111111111111111,
              "#46039f"
             ],
             [
              0.2222222222222222,
              "#7201a8"
             ],
             [
              0.3333333333333333,
              "#9c179e"
             ],
             [
              0.4444444444444444,
              "#bd3786"
             ],
             [
              0.5555555555555556,
              "#d8576b"
             ],
             [
              0.6666666666666666,
              "#ed7953"
             ],
             [
              0.7777777777777778,
              "#fb9f3a"
             ],
             [
              0.8888888888888888,
              "#fdca26"
             ],
             [
              1,
              "#f0f921"
             ]
            ],
            "type": "heatmap"
           }
          ],
          "heatmapgl": [
           {
            "colorbar": {
             "outlinewidth": 0,
             "ticks": ""
            },
            "colorscale": [
             [
              0,
              "#0d0887"
             ],
             [
              0.1111111111111111,
              "#46039f"
             ],
             [
              0.2222222222222222,
              "#7201a8"
             ],
             [
              0.3333333333333333,
              "#9c179e"
             ],
             [
              0.4444444444444444,
              "#bd3786"
             ],
             [
              0.5555555555555556,
              "#d8576b"
             ],
             [
              0.6666666666666666,
              "#ed7953"
             ],
             [
              0.7777777777777778,
              "#fb9f3a"
             ],
             [
              0.8888888888888888,
              "#fdca26"
             ],
             [
              1,
              "#f0f921"
             ]
            ],
            "type": "heatmapgl"
           }
          ],
          "histogram": [
           {
            "marker": {
             "colorbar": {
              "outlinewidth": 0,
              "ticks": ""
             }
            },
            "type": "histogram"
           }
          ],
          "histogram2d": [
           {
            "colorbar": {
             "outlinewidth": 0,
             "ticks": ""
            },
            "colorscale": [
             [
              0,
              "#0d0887"
             ],
             [
              0.1111111111111111,
              "#46039f"
             ],
             [
              0.2222222222222222,
              "#7201a8"
             ],
             [
              0.3333333333333333,
              "#9c179e"
             ],
             [
              0.4444444444444444,
              "#bd3786"
             ],
             [
              0.5555555555555556,
              "#d8576b"
             ],
             [
              0.6666666666666666,
              "#ed7953"
             ],
             [
              0.7777777777777778,
              "#fb9f3a"
             ],
             [
              0.8888888888888888,
              "#fdca26"
             ],
             [
              1,
              "#f0f921"
             ]
            ],
            "type": "histogram2d"
           }
          ],
          "histogram2dcontour": [
           {
            "colorbar": {
             "outlinewidth": 0,
             "ticks": ""
            },
            "colorscale": [
             [
              0,
              "#0d0887"
             ],
             [
              0.1111111111111111,
              "#46039f"
             ],
             [
              0.2222222222222222,
              "#7201a8"
             ],
             [
              0.3333333333333333,
              "#9c179e"
             ],
             [
              0.4444444444444444,
              "#bd3786"
             ],
             [
              0.5555555555555556,
              "#d8576b"
             ],
             [
              0.6666666666666666,
              "#ed7953"
             ],
             [
              0.7777777777777778,
              "#fb9f3a"
             ],
             [
              0.8888888888888888,
              "#fdca26"
             ],
             [
              1,
              "#f0f921"
             ]
            ],
            "type": "histogram2dcontour"
           }
          ],
          "mesh3d": [
           {
            "colorbar": {
             "outlinewidth": 0,
             "ticks": ""
            },
            "type": "mesh3d"
           }
          ],
          "parcoords": [
           {
            "line": {
             "colorbar": {
              "outlinewidth": 0,
              "ticks": ""
             }
            },
            "type": "parcoords"
           }
          ],
          "pie": [
           {
            "automargin": true,
            "type": "pie"
           }
          ],
          "scatter": [
           {
            "marker": {
             "colorbar": {
              "outlinewidth": 0,
              "ticks": ""
             }
            },
            "type": "scatter"
           }
          ],
          "scatter3d": [
           {
            "line": {
             "colorbar": {
              "outlinewidth": 0,
              "ticks": ""
             }
            },
            "marker": {
             "colorbar": {
              "outlinewidth": 0,
              "ticks": ""
             }
            },
            "type": "scatter3d"
           }
          ],
          "scattercarpet": [
           {
            "marker": {
             "colorbar": {
              "outlinewidth": 0,
              "ticks": ""
             }
            },
            "type": "scattercarpet"
           }
          ],
          "scattergeo": [
           {
            "marker": {
             "colorbar": {
              "outlinewidth": 0,
              "ticks": ""
             }
            },
            "type": "scattergeo"
           }
          ],
          "scattergl": [
           {
            "marker": {
             "colorbar": {
              "outlinewidth": 0,
              "ticks": ""
             }
            },
            "type": "scattergl"
           }
          ],
          "scattermapbox": [
           {
            "marker": {
             "colorbar": {
              "outlinewidth": 0,
              "ticks": ""
             }
            },
            "type": "scattermapbox"
           }
          ],
          "scatterpolar": [
           {
            "marker": {
             "colorbar": {
              "outlinewidth": 0,
              "ticks": ""
             }
            },
            "type": "scatterpolar"
           }
          ],
          "scatterpolargl": [
           {
            "marker": {
             "colorbar": {
              "outlinewidth": 0,
              "ticks": ""
             }
            },
            "type": "scatterpolargl"
           }
          ],
          "scatterternary": [
           {
            "marker": {
             "colorbar": {
              "outlinewidth": 0,
              "ticks": ""
             }
            },
            "type": "scatterternary"
           }
          ],
          "surface": [
           {
            "colorbar": {
             "outlinewidth": 0,
             "ticks": ""
            },
            "colorscale": [
             [
              0,
              "#0d0887"
             ],
             [
              0.1111111111111111,
              "#46039f"
             ],
             [
              0.2222222222222222,
              "#7201a8"
             ],
             [
              0.3333333333333333,
              "#9c179e"
             ],
             [
              0.4444444444444444,
              "#bd3786"
             ],
             [
              0.5555555555555556,
              "#d8576b"
             ],
             [
              0.6666666666666666,
              "#ed7953"
             ],
             [
              0.7777777777777778,
              "#fb9f3a"
             ],
             [
              0.8888888888888888,
              "#fdca26"
             ],
             [
              1,
              "#f0f921"
             ]
            ],
            "type": "surface"
           }
          ],
          "table": [
           {
            "cells": {
             "fill": {
              "color": "#EBF0F8"
             },
             "line": {
              "color": "white"
             }
            },
            "header": {
             "fill": {
              "color": "#C8D4E3"
             },
             "line": {
              "color": "white"
             }
            },
            "type": "table"
           }
          ]
         },
         "layout": {
          "annotationdefaults": {
           "arrowcolor": "#2a3f5f",
           "arrowhead": 0,
           "arrowwidth": 1
          },
          "coloraxis": {
           "colorbar": {
            "outlinewidth": 0,
            "ticks": ""
           }
          },
          "colorscale": {
           "diverging": [
            [
             0,
             "#8e0152"
            ],
            [
             0.1,
             "#c51b7d"
            ],
            [
             0.2,
             "#de77ae"
            ],
            [
             0.3,
             "#f1b6da"
            ],
            [
             0.4,
             "#fde0ef"
            ],
            [
             0.5,
             "#f7f7f7"
            ],
            [
             0.6,
             "#e6f5d0"
            ],
            [
             0.7,
             "#b8e186"
            ],
            [
             0.8,
             "#7fbc41"
            ],
            [
             0.9,
             "#4d9221"
            ],
            [
             1,
             "#276419"
            ]
           ],
           "sequential": [
            [
             0,
             "#0d0887"
            ],
            [
             0.1111111111111111,
             "#46039f"
            ],
            [
             0.2222222222222222,
             "#7201a8"
            ],
            [
             0.3333333333333333,
             "#9c179e"
            ],
            [
             0.4444444444444444,
             "#bd3786"
            ],
            [
             0.5555555555555556,
             "#d8576b"
            ],
            [
             0.6666666666666666,
             "#ed7953"
            ],
            [
             0.7777777777777778,
             "#fb9f3a"
            ],
            [
             0.8888888888888888,
             "#fdca26"
            ],
            [
             1,
             "#f0f921"
            ]
           ],
           "sequentialminus": [
            [
             0,
             "#0d0887"
            ],
            [
             0.1111111111111111,
             "#46039f"
            ],
            [
             0.2222222222222222,
             "#7201a8"
            ],
            [
             0.3333333333333333,
             "#9c179e"
            ],
            [
             0.4444444444444444,
             "#bd3786"
            ],
            [
             0.5555555555555556,
             "#d8576b"
            ],
            [
             0.6666666666666666,
             "#ed7953"
            ],
            [
             0.7777777777777778,
             "#fb9f3a"
            ],
            [
             0.8888888888888888,
             "#fdca26"
            ],
            [
             1,
             "#f0f921"
            ]
           ]
          },
          "colorway": [
           "#636efa",
           "#EF553B",
           "#00cc96",
           "#ab63fa",
           "#FFA15A",
           "#19d3f3",
           "#FF6692",
           "#B6E880",
           "#FF97FF",
           "#FECB52"
          ],
          "font": {
           "color": "#2a3f5f"
          },
          "geo": {
           "bgcolor": "white",
           "lakecolor": "white",
           "landcolor": "#E5ECF6",
           "showlakes": true,
           "showland": true,
           "subunitcolor": "white"
          },
          "hoverlabel": {
           "align": "left"
          },
          "hovermode": "closest",
          "mapbox": {
           "style": "light"
          },
          "paper_bgcolor": "white",
          "plot_bgcolor": "#E5ECF6",
          "polar": {
           "angularaxis": {
            "gridcolor": "white",
            "linecolor": "white",
            "ticks": ""
           },
           "bgcolor": "#E5ECF6",
           "radialaxis": {
            "gridcolor": "white",
            "linecolor": "white",
            "ticks": ""
           }
          },
          "scene": {
           "xaxis": {
            "backgroundcolor": "#E5ECF6",
            "gridcolor": "white",
            "gridwidth": 2,
            "linecolor": "white",
            "showbackground": true,
            "ticks": "",
            "zerolinecolor": "white"
           },
           "yaxis": {
            "backgroundcolor": "#E5ECF6",
            "gridcolor": "white",
            "gridwidth": 2,
            "linecolor": "white",
            "showbackground": true,
            "ticks": "",
            "zerolinecolor": "white"
           },
           "zaxis": {
            "backgroundcolor": "#E5ECF6",
            "gridcolor": "white",
            "gridwidth": 2,
            "linecolor": "white",
            "showbackground": true,
            "ticks": "",
            "zerolinecolor": "white"
           }
          },
          "shapedefaults": {
           "line": {
            "color": "#2a3f5f"
           }
          },
          "ternary": {
           "aaxis": {
            "gridcolor": "white",
            "linecolor": "white",
            "ticks": ""
           },
           "baxis": {
            "gridcolor": "white",
            "linecolor": "white",
            "ticks": ""
           },
           "bgcolor": "#E5ECF6",
           "caxis": {
            "gridcolor": "white",
            "linecolor": "white",
            "ticks": ""
           }
          },
          "title": {
           "x": 0.05
          },
          "xaxis": {
           "automargin": true,
           "gridcolor": "white",
           "linecolor": "white",
           "ticks": "",
           "title": {
            "standoff": 15
           },
           "zerolinecolor": "white",
           "zerolinewidth": 2
          },
          "yaxis": {
           "automargin": true,
           "gridcolor": "white",
           "linecolor": "white",
           "ticks": "",
           "title": {
            "standoff": 15
           },
           "zerolinecolor": "white",
           "zerolinewidth": 2
          }
         }
        },
        "title": {
         "font": {
          "color": "#4D5663"
         }
        },
        "xaxis": {
         "gridcolor": "#E1E5ED",
         "showgrid": true,
         "tickfont": {
          "color": "#4D5663"
         },
         "title": {
          "font": {
           "color": "#4D5663"
          },
          "text": ""
         },
         "zerolinecolor": "#E1E5ED"
        },
        "yaxis": {
         "gridcolor": "#E1E5ED",
         "showgrid": true,
         "tickfont": {
          "color": "#4D5663"
         },
         "title": {
          "font": {
           "color": "#4D5663"
          },
          "text": ""
         },
         "zerolinecolor": "#E1E5ED"
        }
       }
      },
      "text/html": [
       "<div>\n",
       "        \n",
       "        \n",
       "            <div id=\"b995b1c9-83b3-4263-89e2-6479c046ae83\" class=\"plotly-graph-div\" style=\"height:525px; width:100%;\"></div>\n",
       "            <script type=\"text/javascript\">\n",
       "                require([\"plotly\"], function(Plotly) {\n",
       "                    window.PLOTLYENV=window.PLOTLYENV || {};\n",
       "                    window.PLOTLYENV.BASE_URL='https://plot.ly';\n",
       "                    \n",
       "                if (document.getElementById(\"b995b1c9-83b3-4263-89e2-6479c046ae83\")) {\n",
       "                    Plotly.newPlot(\n",
       "                        'b995b1c9-83b3-4263-89e2-6479c046ae83',\n",
       "                        [{\"marker\": {\"color\": \"rgba(255, 153, 51, 0.6)\", \"line\": {\"color\": \"rgba(255, 153, 51, 1.0)\", \"width\": 1}}, \"name\": \"None\", \"orientation\": \"v\", \"text\": \"\", \"type\": \"bar\", \"x\": [\"A\", \"B\", \"C\", \"D\"], \"y\": [100, 100, 100, 100]}],\n",
       "                        {\"legend\": {\"bgcolor\": \"#F5F6F9\", \"font\": {\"color\": \"#4D5663\"}}, \"paper_bgcolor\": \"#F5F6F9\", \"plot_bgcolor\": \"#F5F6F9\", \"template\": {\"data\": {\"bar\": [{\"error_x\": {\"color\": \"#2a3f5f\"}, \"error_y\": {\"color\": \"#2a3f5f\"}, \"marker\": {\"line\": {\"color\": \"#E5ECF6\", \"width\": 0.5}}, \"type\": \"bar\"}], \"barpolar\": [{\"marker\": {\"line\": {\"color\": \"#E5ECF6\", \"width\": 0.5}}, \"type\": \"barpolar\"}], \"carpet\": [{\"aaxis\": {\"endlinecolor\": \"#2a3f5f\", \"gridcolor\": \"white\", \"linecolor\": \"white\", \"minorgridcolor\": \"white\", \"startlinecolor\": \"#2a3f5f\"}, \"baxis\": {\"endlinecolor\": \"#2a3f5f\", \"gridcolor\": \"white\", \"linecolor\": \"white\", \"minorgridcolor\": \"white\", \"startlinecolor\": \"#2a3f5f\"}, \"type\": \"carpet\"}], \"choropleth\": [{\"colorbar\": {\"outlinewidth\": 0, \"ticks\": \"\"}, \"type\": \"choropleth\"}], \"contour\": [{\"colorbar\": {\"outlinewidth\": 0, \"ticks\": \"\"}, \"colorscale\": [[0.0, \"#0d0887\"], [0.1111111111111111, \"#46039f\"], [0.2222222222222222, \"#7201a8\"], [0.3333333333333333, \"#9c179e\"], [0.4444444444444444, \"#bd3786\"], [0.5555555555555556, \"#d8576b\"], [0.6666666666666666, \"#ed7953\"], [0.7777777777777778, \"#fb9f3a\"], [0.8888888888888888, \"#fdca26\"], [1.0, \"#f0f921\"]], \"type\": \"contour\"}], \"contourcarpet\": [{\"colorbar\": {\"outlinewidth\": 0, \"ticks\": \"\"}, \"type\": \"contourcarpet\"}], \"heatmap\": [{\"colorbar\": {\"outlinewidth\": 0, \"ticks\": \"\"}, \"colorscale\": [[0.0, \"#0d0887\"], [0.1111111111111111, \"#46039f\"], [0.2222222222222222, \"#7201a8\"], [0.3333333333333333, \"#9c179e\"], [0.4444444444444444, \"#bd3786\"], [0.5555555555555556, \"#d8576b\"], [0.6666666666666666, \"#ed7953\"], [0.7777777777777778, \"#fb9f3a\"], [0.8888888888888888, \"#fdca26\"], [1.0, \"#f0f921\"]], \"type\": \"heatmap\"}], \"heatmapgl\": [{\"colorbar\": {\"outlinewidth\": 0, \"ticks\": \"\"}, \"colorscale\": [[0.0, \"#0d0887\"], [0.1111111111111111, \"#46039f\"], [0.2222222222222222, \"#7201a8\"], [0.3333333333333333, \"#9c179e\"], [0.4444444444444444, \"#bd3786\"], [0.5555555555555556, \"#d8576b\"], [0.6666666666666666, \"#ed7953\"], [0.7777777777777778, \"#fb9f3a\"], [0.8888888888888888, \"#fdca26\"], [1.0, \"#f0f921\"]], \"type\": \"heatmapgl\"}], \"histogram\": [{\"marker\": {\"colorbar\": {\"outlinewidth\": 0, \"ticks\": \"\"}}, \"type\": \"histogram\"}], \"histogram2d\": [{\"colorbar\": {\"outlinewidth\": 0, \"ticks\": \"\"}, \"colorscale\": [[0.0, \"#0d0887\"], [0.1111111111111111, \"#46039f\"], [0.2222222222222222, \"#7201a8\"], [0.3333333333333333, \"#9c179e\"], [0.4444444444444444, \"#bd3786\"], [0.5555555555555556, \"#d8576b\"], [0.6666666666666666, \"#ed7953\"], [0.7777777777777778, \"#fb9f3a\"], [0.8888888888888888, \"#fdca26\"], [1.0, \"#f0f921\"]], \"type\": \"histogram2d\"}], \"histogram2dcontour\": [{\"colorbar\": {\"outlinewidth\": 0, \"ticks\": \"\"}, \"colorscale\": [[0.0, \"#0d0887\"], [0.1111111111111111, \"#46039f\"], [0.2222222222222222, \"#7201a8\"], [0.3333333333333333, \"#9c179e\"], [0.4444444444444444, \"#bd3786\"], [0.5555555555555556, \"#d8576b\"], [0.6666666666666666, \"#ed7953\"], [0.7777777777777778, \"#fb9f3a\"], [0.8888888888888888, \"#fdca26\"], [1.0, \"#f0f921\"]], \"type\": \"histogram2dcontour\"}], \"mesh3d\": [{\"colorbar\": {\"outlinewidth\": 0, \"ticks\": \"\"}, \"type\": \"mesh3d\"}], \"parcoords\": [{\"line\": {\"colorbar\": {\"outlinewidth\": 0, \"ticks\": \"\"}}, \"type\": \"parcoords\"}], \"pie\": [{\"automargin\": true, \"type\": \"pie\"}], \"scatter\": [{\"marker\": {\"colorbar\": {\"outlinewidth\": 0, \"ticks\": \"\"}}, \"type\": \"scatter\"}], \"scatter3d\": [{\"line\": {\"colorbar\": {\"outlinewidth\": 0, \"ticks\": \"\"}}, \"marker\": {\"colorbar\": {\"outlinewidth\": 0, \"ticks\": \"\"}}, \"type\": \"scatter3d\"}], \"scattercarpet\": [{\"marker\": {\"colorbar\": {\"outlinewidth\": 0, \"ticks\": \"\"}}, \"type\": \"scattercarpet\"}], \"scattergeo\": [{\"marker\": {\"colorbar\": {\"outlinewidth\": 0, \"ticks\": \"\"}}, \"type\": \"scattergeo\"}], \"scattergl\": [{\"marker\": {\"colorbar\": {\"outlinewidth\": 0, \"ticks\": \"\"}}, \"type\": \"scattergl\"}], \"scattermapbox\": [{\"marker\": {\"colorbar\": {\"outlinewidth\": 0, \"ticks\": \"\"}}, \"type\": \"scattermapbox\"}], \"scatterpolar\": [{\"marker\": {\"colorbar\": {\"outlinewidth\": 0, \"ticks\": \"\"}}, \"type\": \"scatterpolar\"}], \"scatterpolargl\": [{\"marker\": {\"colorbar\": {\"outlinewidth\": 0, \"ticks\": \"\"}}, \"type\": \"scatterpolargl\"}], \"scatterternary\": [{\"marker\": {\"colorbar\": {\"outlinewidth\": 0, \"ticks\": \"\"}}, \"type\": \"scatterternary\"}], \"surface\": [{\"colorbar\": {\"outlinewidth\": 0, \"ticks\": \"\"}, \"colorscale\": [[0.0, \"#0d0887\"], [0.1111111111111111, \"#46039f\"], [0.2222222222222222, \"#7201a8\"], [0.3333333333333333, \"#9c179e\"], [0.4444444444444444, \"#bd3786\"], [0.5555555555555556, \"#d8576b\"], [0.6666666666666666, \"#ed7953\"], [0.7777777777777778, \"#fb9f3a\"], [0.8888888888888888, \"#fdca26\"], [1.0, \"#f0f921\"]], \"type\": \"surface\"}], \"table\": [{\"cells\": {\"fill\": {\"color\": \"#EBF0F8\"}, \"line\": {\"color\": \"white\"}}, \"header\": {\"fill\": {\"color\": \"#C8D4E3\"}, \"line\": {\"color\": \"white\"}}, \"type\": \"table\"}]}, \"layout\": {\"annotationdefaults\": {\"arrowcolor\": \"#2a3f5f\", \"arrowhead\": 0, \"arrowwidth\": 1}, \"coloraxis\": {\"colorbar\": {\"outlinewidth\": 0, \"ticks\": \"\"}}, \"colorscale\": {\"diverging\": [[0, \"#8e0152\"], [0.1, \"#c51b7d\"], [0.2, \"#de77ae\"], [0.3, \"#f1b6da\"], [0.4, \"#fde0ef\"], [0.5, \"#f7f7f7\"], [0.6, \"#e6f5d0\"], [0.7, \"#b8e186\"], [0.8, \"#7fbc41\"], [0.9, \"#4d9221\"], [1, \"#276419\"]], \"sequential\": [[0.0, \"#0d0887\"], [0.1111111111111111, \"#46039f\"], [0.2222222222222222, \"#7201a8\"], [0.3333333333333333, \"#9c179e\"], [0.4444444444444444, \"#bd3786\"], [0.5555555555555556, \"#d8576b\"], [0.6666666666666666, \"#ed7953\"], [0.7777777777777778, \"#fb9f3a\"], [0.8888888888888888, \"#fdca26\"], [1.0, \"#f0f921\"]], \"sequentialminus\": [[0.0, \"#0d0887\"], [0.1111111111111111, \"#46039f\"], [0.2222222222222222, \"#7201a8\"], [0.3333333333333333, \"#9c179e\"], [0.4444444444444444, \"#bd3786\"], [0.5555555555555556, \"#d8576b\"], [0.6666666666666666, \"#ed7953\"], [0.7777777777777778, \"#fb9f3a\"], [0.8888888888888888, \"#fdca26\"], [1.0, \"#f0f921\"]]}, \"colorway\": [\"#636efa\", \"#EF553B\", \"#00cc96\", \"#ab63fa\", \"#FFA15A\", \"#19d3f3\", \"#FF6692\", \"#B6E880\", \"#FF97FF\", \"#FECB52\"], \"font\": {\"color\": \"#2a3f5f\"}, \"geo\": {\"bgcolor\": \"white\", \"lakecolor\": \"white\", \"landcolor\": \"#E5ECF6\", \"showlakes\": true, \"showland\": true, \"subunitcolor\": \"white\"}, \"hoverlabel\": {\"align\": \"left\"}, \"hovermode\": \"closest\", \"mapbox\": {\"style\": \"light\"}, \"paper_bgcolor\": \"white\", \"plot_bgcolor\": \"#E5ECF6\", \"polar\": {\"angularaxis\": {\"gridcolor\": \"white\", \"linecolor\": \"white\", \"ticks\": \"\"}, \"bgcolor\": \"#E5ECF6\", \"radialaxis\": {\"gridcolor\": \"white\", \"linecolor\": \"white\", \"ticks\": \"\"}}, \"scene\": {\"xaxis\": {\"backgroundcolor\": \"#E5ECF6\", \"gridcolor\": \"white\", \"gridwidth\": 2, \"linecolor\": \"white\", \"showbackground\": true, \"ticks\": \"\", \"zerolinecolor\": \"white\"}, \"yaxis\": {\"backgroundcolor\": \"#E5ECF6\", \"gridcolor\": \"white\", \"gridwidth\": 2, \"linecolor\": \"white\", \"showbackground\": true, \"ticks\": \"\", \"zerolinecolor\": \"white\"}, \"zaxis\": {\"backgroundcolor\": \"#E5ECF6\", \"gridcolor\": \"white\", \"gridwidth\": 2, \"linecolor\": \"white\", \"showbackground\": true, \"ticks\": \"\", \"zerolinecolor\": \"white\"}}, \"shapedefaults\": {\"line\": {\"color\": \"#2a3f5f\"}}, \"ternary\": {\"aaxis\": {\"gridcolor\": \"white\", \"linecolor\": \"white\", \"ticks\": \"\"}, \"baxis\": {\"gridcolor\": \"white\", \"linecolor\": \"white\", \"ticks\": \"\"}, \"bgcolor\": \"#E5ECF6\", \"caxis\": {\"gridcolor\": \"white\", \"linecolor\": \"white\", \"ticks\": \"\"}}, \"title\": {\"x\": 0.05}, \"xaxis\": {\"automargin\": true, \"gridcolor\": \"white\", \"linecolor\": \"white\", \"ticks\": \"\", \"title\": {\"standoff\": 15}, \"zerolinecolor\": \"white\", \"zerolinewidth\": 2}, \"yaxis\": {\"automargin\": true, \"gridcolor\": \"white\", \"linecolor\": \"white\", \"ticks\": \"\", \"title\": {\"standoff\": 15}, \"zerolinecolor\": \"white\", \"zerolinewidth\": 2}}}, \"title\": {\"font\": {\"color\": \"#4D5663\"}}, \"xaxis\": {\"gridcolor\": \"#E1E5ED\", \"showgrid\": true, \"tickfont\": {\"color\": \"#4D5663\"}, \"title\": {\"font\": {\"color\": \"#4D5663\"}, \"text\": \"\"}, \"zerolinecolor\": \"#E1E5ED\"}, \"yaxis\": {\"gridcolor\": \"#E1E5ED\", \"showgrid\": true, \"tickfont\": {\"color\": \"#4D5663\"}, \"title\": {\"font\": {\"color\": \"#4D5663\"}, \"text\": \"\"}, \"zerolinecolor\": \"#E1E5ED\"}},\n",
       "                        {\"showLink\": true, \"linkText\": \"Export to plot.ly\", \"plotlyServerURL\": \"https://plot.ly\", \"responsive\": true}\n",
       "                    ).then(function(){\n",
       "                            \n",
       "var gd = document.getElementById('b995b1c9-83b3-4263-89e2-6479c046ae83');\n",
       "var x = new MutationObserver(function (mutations, observer) {{\n",
       "        var display = window.getComputedStyle(gd).display;\n",
       "        if (!display || display === 'none') {{\n",
       "            console.log([gd, 'removed!']);\n",
       "            Plotly.purge(gd);\n",
       "            observer.disconnect();\n",
       "        }}\n",
       "}});\n",
       "\n",
       "// Listen for the removal of the full notebook cells\n",
       "var notebookContainer = gd.closest('#notebook-container');\n",
       "if (notebookContainer) {{\n",
       "    x.observe(notebookContainer, {childList: true});\n",
       "}}\n",
       "\n",
       "// Listen for the clearing of the current output cell\n",
       "var outputEl = gd.closest('.output');\n",
       "if (outputEl) {{\n",
       "    x.observe(outputEl, {childList: true});\n",
       "}}\n",
       "\n",
       "                        })\n",
       "                };\n",
       "                });\n",
       "            </script>\n",
       "        </div>"
      ]
     },
     "metadata": {},
     "output_type": "display_data"
    }
   ],
   "source": [
    "df.count().iplot(kind='bar')"
   ]
  },
  {
   "cell_type": "markdown",
   "metadata": {},
   "source": [
    "## Boxplots"
   ]
  },
  {
   "cell_type": "code",
   "execution_count": 13,
   "metadata": {},
   "outputs": [
    {
     "data": {
      "application/vnd.plotly.v1+json": {
       "config": {
        "linkText": "Export to plot.ly",
        "plotlyServerURL": "https://plot.ly",
        "showLink": true
       },
       "data": [
        {
         "boxpoints": false,
         "line": {
          "width": 1.3
         },
         "marker": {
          "color": "rgba(255, 153, 51, 1.0)"
         },
         "name": "A",
         "orientation": "v",
         "type": "box",
         "y": [
          -0.35258759777768894,
          -0.2689202523477829,
          -0.7275561455665225,
          -0.4092338836746071,
          0.5939352897099525,
          -1.2142800943388812,
          0.7711096389260248,
          -0.21383971610196364,
          2.0142645914043507,
          0.7799110307712278,
          1.5457083578522435,
          0.9085304936655417,
          1.1418265830175587,
          -0.2104929729809623,
          0.7660603426217358,
          -2.0280362769007985,
          -2.233828943016878,
          -0.6300848842080163,
          1.5525234298421335,
          2.0855689538407653,
          -0.1996846114408051,
          0.5116603997849389,
          0.4413175834881552,
          -0.052475122738868694,
          -1.4832273130424847,
          -0.25774388512369106,
          -1.0640559145877198,
          -0.3583588767557854,
          -0.753930925599534,
          0.004074420280987488,
          -0.14176351936354767,
          1.4218626480633727,
          -1.3406424365335914,
          -0.6306641256341762,
          0.34681256724898757,
          0.43592034039747934,
          0.6865252140987607,
          0.5969319637737608,
          -0.2957449312225045,
          -1.5104607394739267,
          -0.2970795197674708,
          -1.510972639222177,
          -0.997112695722731,
          -0.16208689230666798,
          1.380420552001041,
          -0.11125905541840161,
          0.4671259115943136,
          0.8067247284977627,
          -1.0343495030780103,
          0.5994055167033986,
          -2.392944687471754,
          0.009841623131410187,
          -2.805109312482037,
          0.08829982085256122,
          0.1587117032205557,
          0.3710578971195314,
          -0.6880114701614541,
          1.4592294790120843,
          0.32260083504845827,
          -0.31203982509622247,
          -0.5016395710778763,
          -0.7092626495034179,
          1.0623166785638058,
          -1.5567282874418933,
          -0.4470023818970348,
          0.9298520292269593,
          0.051790544147703926,
          -0.592455513839245,
          -0.1196242233503168,
          1.1594675175773657,
          0.6629796478742163,
          -1.7891314124011264,
          -2.0335113265519764,
          -0.6999835342221341,
          -1.1917599758854707,
          0.48071537380142443,
          0.05952184244397095,
          -0.5785307065158325,
          -0.3421145600853384,
          -1.4039388516097686,
          2.1502912104578336,
          -0.9615052636121858,
          -2.7254911460318976,
          0.9774563628902962,
          0.05190045743478614,
          0.2126943664117536,
          -1.5952990423031996,
          0.9130858983745637,
          -0.21639455031226423,
          -0.23989461487285638,
          0.9728080442967975,
          -0.1460459616149387,
          -1.3521999478330948,
          -2.065521937125486,
          -0.27532113693680454,
          -0.5980265778152496,
          0.09311905136783473,
          1.1902875577767913,
          0.2899773682382634,
          -0.312252032605789
         ]
        },
        {
         "boxpoints": false,
         "line": {
          "width": 1.3
         },
         "marker": {
          "color": "rgba(55, 128, 191, 1.0)"
         },
         "name": "B",
         "orientation": "v",
         "type": "box",
         "y": [
          0.9398897318214089,
          -0.8731839425082643,
          0.046902450656532195,
          -0.5730263478031349,
          0.20964920461071293,
          1.589873522036531,
          0.04750924541528327,
          0.3550099321199273,
          -1.3717152265624826,
          -0.29363834535540906,
          -0.6834415374498101,
          0.3013358888971489,
          0.08557550080518363,
          -0.6075508809315883,
          -0.4554319865724272,
          -0.6267217986862303,
          -0.12408272291175006,
          2.1377019386303426,
          -0.5543428603297601,
          -0.26825029207872786,
          -1.0491011370545602,
          -0.3238181830805828,
          0.3117772248306555,
          -1.808426122955307,
          -0.33810791145502933,
          0.8746190178364772,
          0.3880907514176325,
          -0.2146447776967657,
          0.7117228782364389,
          -1.034419032052581,
          -1.3025207269502206,
          -0.9431243446739456,
          -1.3566849831833117,
          0.9139728482420952,
          -0.4491906321351525,
          0.20439161904362946,
          1.0408022183431263,
          0.5066670948192474,
          -0.10350418262487975,
          -0.9059301100673794,
          -0.18267520984842991,
          -0.12932747242214102,
          0.9490202299868135,
          1.5445301177158561,
          -0.5484910871344092,
          1.3463270476962672,
          -0.31544005436995826,
          -1.4849556354680933,
          0.6161677445530706,
          -1.4826409768646185,
          1.0790226993828536,
          0.17870810808648277,
          1.2507159469031213,
          -0.3723212271360819,
          1.1351360546362514,
          0.4989889637299344,
          0.5307557889854935,
          0.7642488396101653,
          -0.8648674375434916,
          -0.9868819280636416,
          -1.374768191849497,
          0.040196813920813354,
          -1.8501252771933256,
          -0.47096661859921635,
          0.030148809422230492,
          -0.49629746394738594,
          -0.48055047186500344,
          1.0019238054310298,
          -0.2059649005632659,
          0.03397516273643297,
          1.0738805827143372,
          2.4721239137994315,
          -0.4052189135756334,
          -0.34375404549779637,
          -1.0857649696484415,
          0.055094811569757304,
          -0.8850098967698943,
          -0.22656957039513467,
          0.39986500767204186,
          -0.34663345478149626,
          0.3968003349411088,
          -0.26733465187034505,
          -0.2198127906046125,
          0.37235632515082645,
          0.2910676243965551,
          -0.05890540711534565,
          0.9968503248422131,
          1.0010157850265846,
          -0.1184178551405647,
          0.30865917238422885,
          -0.3880279024822919,
          1.1596828942923951,
          -0.7113173402696118,
          1.6878264070830626,
          1.242425123682662,
          -0.49942462992988224,
          0.4277971787926875,
          0.918168330122392,
          -0.036254957143438314,
          0.7175071803974852
         ]
        },
        {
         "boxpoints": false,
         "line": {
          "width": 1.3
         },
         "marker": {
          "color": "rgba(50, 171, 96, 1.0)"
         },
         "name": "C",
         "orientation": "v",
         "type": "box",
         "y": [
          0.8632668610366468,
          -0.6759838109729048,
          1.6760435691157856,
          0.2386522677056511,
          0.9177871555928089,
          -0.33195349463338125,
          -0.4596659548705168,
          -1.619828146084732,
          1.196895449591328,
          -1.4158182886092685,
          -1.4147310374881203,
          1.3071169019440745,
          2.034886088760232,
          0.831296945101511,
          -0.5331427176218014,
          0.7625743050946564,
          2.4870683403318696,
          1.8006533850034185,
          0.2525267540628914,
          0.6875297280476015,
          -1.0765790504865762,
          0.12728861231860875,
          0.7247502055785919,
          -0.49289388585364613,
          0.3744825557060185,
          -0.8096990396759861,
          1.1400463269190912,
          -0.15826526858594317,
          -1.2775919630437773,
          0.44639629173763584,
          0.7668272024069026,
          0.5320633979394429,
          0.12223289154187524,
          -0.9835329851688851,
          -0.2626440166090256,
          -0.49029865362572156,
          0.3315965239572869,
          -0.35443941541290896,
          0.49478368148043206,
          0.8803164086438205,
          -0.8665736048325886,
          0.8723221792680127,
          1.4657052626484044,
          1.410995083908226,
          -1.314848635987647,
          0.3624400384126643,
          1.72897276386658,
          0.744978917233216,
          -0.025728280250998856,
          -0.2055778639647989,
          -2.0427947545816276,
          0.21659128562133634,
          0.24200545678709667,
          0.5114516178742391,
          1.3674354426688156,
          0.3091350011835716,
          0.22077844271697306,
          1.5679050452010852,
          0.3878344264221422,
          2.0546408866166663,
          1.5945815066522286,
          0.012462768948805153,
          0.048795755411710925,
          0.7793211453715158,
          0.9925909406622786,
          -2.0754924977544023,
          -0.30780820544177,
          -0.17747889661433175,
          0.1676548442140887,
          -0.45399169918049453,
          0.9516971756525416,
          0.7422403966932977,
          -1.4908827862622838,
          -1.4834459137371023,
          0.7405222811073173,
          1.7286513714090677,
          0.1710746692888831,
          0.9932882074728955,
          0.9620004841015415,
          0.2015130492683428,
          0.035021823813223,
          0.4147467707948085,
          0.4470003224996248,
          0.060453446864904885,
          -0.5811734749393368,
          -0.23798052622064167,
          -1.0564814386852002,
          -0.9746741868220017,
          0.09571782632846486,
          -0.1413046510016507,
          0.6425182209935902,
          0.40640709529694263,
          1.2468937516914458,
          -0.03688936105911779,
          0.7563916635910612,
          0.19948370407499655,
          0.6205897717531387,
          0.5641429398722851,
          1.5157884976406186,
          1.3512524246962052
         ]
        },
        {
         "boxpoints": false,
         "line": {
          "width": 1.3
         },
         "marker": {
          "color": "rgba(128, 0, 128, 1.0)"
         },
         "name": "D",
         "orientation": "v",
         "type": "box",
         "y": [
          0.9789366989376848,
          1.30832357928357,
          0.5884856563699687,
          0.14036628201271756,
          0.6902925640847257,
          -1.5126471146292837,
          0.5838522454334771,
          -1.4296737914964506,
          0.3594290566830795,
          0.27528898081065095,
          1.1081475564270542,
          2.5984473271642785,
          1.0758490707613964,
          0.9299431908652861,
          0.3017714462607725,
          0.31744377207962077,
          1.7950852278831153,
          -1.0751557656845458,
          0.04402639317964974,
          0.6903493766099735,
          -0.6270238422144295,
          1.0712995511865127,
          -1.7683501946706863,
          1.8282889315983744,
          0.35518053351393475,
          0.2323104081405569,
          0.21712776031333625,
          -0.8721285925719905,
          0.07822111823045823,
          -0.357946864032969,
          -0.0025150210014309865,
          -1.9555427613752936,
          -0.8792349619541815,
          1.6392776481619253,
          1.725133470647381,
          -0.47384019988107273,
          -0.9283214012066563,
          -1.195115447791235,
          -0.712466083041683,
          0.9291792295744458,
          -2.620262854537771,
          -1.2040870131441697,
          -0.5704819254282041,
          0.6013119524591112,
          -0.16641731641561142,
          0.8869031277942011,
          0.7676138991426558,
          -0.21941255951318858,
          0.7336294742863043,
          -1.509760727788322,
          1.3089111293144589,
          -0.48868537947597857,
          0.36867948762371416,
          0.16243268044634435,
          -0.117667880199744,
          -1.5908850850157032,
          -0.03221680995116338,
          -0.8094926795677467,
          0.3332327077531709,
          -0.18761698312668973,
          -1.5210564862512626,
          0.8013496493739705,
          -0.3017689504627007,
          -1.607308712967462,
          -1.073672042348791,
          1.4206409245986824,
          -0.039649711946742494,
          -0.8501076563848817,
          -0.4081547304857195,
          1.4106568202197203,
          1.3844085550565954,
          -1.0442065776581584,
          -0.2601701490206853,
          0.8791199096736153,
          0.616019567546816,
          -1.292378530274667,
          0.038954439846378336,
          -0.8661149852701843,
          0.8187391085735966,
          0.3876138725797948,
          -0.6938650564423336,
          1.8712992267155486,
          -0.9040265178648582,
          -0.5551990862883487,
          1.2480663196654012,
          0.9195113201420941,
          -0.09151997693362701,
          -0.053381470849075324,
          1.0462469257539233,
          1.1492760485618918,
          0.27125133232960086,
          -0.4176644704698133,
          -1.7586536386062264,
          0.3556862900437833,
          -0.641816446050051,
          2.5709957855012364,
          1.514568293434986,
          0.8814684185001089,
          -1.1486878428943332,
          -1.3179289257071727
         ]
        }
       ],
       "layout": {
        "legend": {
         "bgcolor": "#F5F6F9",
         "font": {
          "color": "#4D5663"
         }
        },
        "paper_bgcolor": "#F5F6F9",
        "plot_bgcolor": "#F5F6F9",
        "template": {
         "data": {
          "bar": [
           {
            "error_x": {
             "color": "#2a3f5f"
            },
            "error_y": {
             "color": "#2a3f5f"
            },
            "marker": {
             "line": {
              "color": "#E5ECF6",
              "width": 0.5
             }
            },
            "type": "bar"
           }
          ],
          "barpolar": [
           {
            "marker": {
             "line": {
              "color": "#E5ECF6",
              "width": 0.5
             }
            },
            "type": "barpolar"
           }
          ],
          "carpet": [
           {
            "aaxis": {
             "endlinecolor": "#2a3f5f",
             "gridcolor": "white",
             "linecolor": "white",
             "minorgridcolor": "white",
             "startlinecolor": "#2a3f5f"
            },
            "baxis": {
             "endlinecolor": "#2a3f5f",
             "gridcolor": "white",
             "linecolor": "white",
             "minorgridcolor": "white",
             "startlinecolor": "#2a3f5f"
            },
            "type": "carpet"
           }
          ],
          "choropleth": [
           {
            "colorbar": {
             "outlinewidth": 0,
             "ticks": ""
            },
            "type": "choropleth"
           }
          ],
          "contour": [
           {
            "colorbar": {
             "outlinewidth": 0,
             "ticks": ""
            },
            "colorscale": [
             [
              0,
              "#0d0887"
             ],
             [
              0.1111111111111111,
              "#46039f"
             ],
             [
              0.2222222222222222,
              "#7201a8"
             ],
             [
              0.3333333333333333,
              "#9c179e"
             ],
             [
              0.4444444444444444,
              "#bd3786"
             ],
             [
              0.5555555555555556,
              "#d8576b"
             ],
             [
              0.6666666666666666,
              "#ed7953"
             ],
             [
              0.7777777777777778,
              "#fb9f3a"
             ],
             [
              0.8888888888888888,
              "#fdca26"
             ],
             [
              1,
              "#f0f921"
             ]
            ],
            "type": "contour"
           }
          ],
          "contourcarpet": [
           {
            "colorbar": {
             "outlinewidth": 0,
             "ticks": ""
            },
            "type": "contourcarpet"
           }
          ],
          "heatmap": [
           {
            "colorbar": {
             "outlinewidth": 0,
             "ticks": ""
            },
            "colorscale": [
             [
              0,
              "#0d0887"
             ],
             [
              0.1111111111111111,
              "#46039f"
             ],
             [
              0.2222222222222222,
              "#7201a8"
             ],
             [
              0.3333333333333333,
              "#9c179e"
             ],
             [
              0.4444444444444444,
              "#bd3786"
             ],
             [
              0.5555555555555556,
              "#d8576b"
             ],
             [
              0.6666666666666666,
              "#ed7953"
             ],
             [
              0.7777777777777778,
              "#fb9f3a"
             ],
             [
              0.8888888888888888,
              "#fdca26"
             ],
             [
              1,
              "#f0f921"
             ]
            ],
            "type": "heatmap"
           }
          ],
          "heatmapgl": [
           {
            "colorbar": {
             "outlinewidth": 0,
             "ticks": ""
            },
            "colorscale": [
             [
              0,
              "#0d0887"
             ],
             [
              0.1111111111111111,
              "#46039f"
             ],
             [
              0.2222222222222222,
              "#7201a8"
             ],
             [
              0.3333333333333333,
              "#9c179e"
             ],
             [
              0.4444444444444444,
              "#bd3786"
             ],
             [
              0.5555555555555556,
              "#d8576b"
             ],
             [
              0.6666666666666666,
              "#ed7953"
             ],
             [
              0.7777777777777778,
              "#fb9f3a"
             ],
             [
              0.8888888888888888,
              "#fdca26"
             ],
             [
              1,
              "#f0f921"
             ]
            ],
            "type": "heatmapgl"
           }
          ],
          "histogram": [
           {
            "marker": {
             "colorbar": {
              "outlinewidth": 0,
              "ticks": ""
             }
            },
            "type": "histogram"
           }
          ],
          "histogram2d": [
           {
            "colorbar": {
             "outlinewidth": 0,
             "ticks": ""
            },
            "colorscale": [
             [
              0,
              "#0d0887"
             ],
             [
              0.1111111111111111,
              "#46039f"
             ],
             [
              0.2222222222222222,
              "#7201a8"
             ],
             [
              0.3333333333333333,
              "#9c179e"
             ],
             [
              0.4444444444444444,
              "#bd3786"
             ],
             [
              0.5555555555555556,
              "#d8576b"
             ],
             [
              0.6666666666666666,
              "#ed7953"
             ],
             [
              0.7777777777777778,
              "#fb9f3a"
             ],
             [
              0.8888888888888888,
              "#fdca26"
             ],
             [
              1,
              "#f0f921"
             ]
            ],
            "type": "histogram2d"
           }
          ],
          "histogram2dcontour": [
           {
            "colorbar": {
             "outlinewidth": 0,
             "ticks": ""
            },
            "colorscale": [
             [
              0,
              "#0d0887"
             ],
             [
              0.1111111111111111,
              "#46039f"
             ],
             [
              0.2222222222222222,
              "#7201a8"
             ],
             [
              0.3333333333333333,
              "#9c179e"
             ],
             [
              0.4444444444444444,
              "#bd3786"
             ],
             [
              0.5555555555555556,
              "#d8576b"
             ],
             [
              0.6666666666666666,
              "#ed7953"
             ],
             [
              0.7777777777777778,
              "#fb9f3a"
             ],
             [
              0.8888888888888888,
              "#fdca26"
             ],
             [
              1,
              "#f0f921"
             ]
            ],
            "type": "histogram2dcontour"
           }
          ],
          "mesh3d": [
           {
            "colorbar": {
             "outlinewidth": 0,
             "ticks": ""
            },
            "type": "mesh3d"
           }
          ],
          "parcoords": [
           {
            "line": {
             "colorbar": {
              "outlinewidth": 0,
              "ticks": ""
             }
            },
            "type": "parcoords"
           }
          ],
          "pie": [
           {
            "automargin": true,
            "type": "pie"
           }
          ],
          "scatter": [
           {
            "marker": {
             "colorbar": {
              "outlinewidth": 0,
              "ticks": ""
             }
            },
            "type": "scatter"
           }
          ],
          "scatter3d": [
           {
            "line": {
             "colorbar": {
              "outlinewidth": 0,
              "ticks": ""
             }
            },
            "marker": {
             "colorbar": {
              "outlinewidth": 0,
              "ticks": ""
             }
            },
            "type": "scatter3d"
           }
          ],
          "scattercarpet": [
           {
            "marker": {
             "colorbar": {
              "outlinewidth": 0,
              "ticks": ""
             }
            },
            "type": "scattercarpet"
           }
          ],
          "scattergeo": [
           {
            "marker": {
             "colorbar": {
              "outlinewidth": 0,
              "ticks": ""
             }
            },
            "type": "scattergeo"
           }
          ],
          "scattergl": [
           {
            "marker": {
             "colorbar": {
              "outlinewidth": 0,
              "ticks": ""
             }
            },
            "type": "scattergl"
           }
          ],
          "scattermapbox": [
           {
            "marker": {
             "colorbar": {
              "outlinewidth": 0,
              "ticks": ""
             }
            },
            "type": "scattermapbox"
           }
          ],
          "scatterpolar": [
           {
            "marker": {
             "colorbar": {
              "outlinewidth": 0,
              "ticks": ""
             }
            },
            "type": "scatterpolar"
           }
          ],
          "scatterpolargl": [
           {
            "marker": {
             "colorbar": {
              "outlinewidth": 0,
              "ticks": ""
             }
            },
            "type": "scatterpolargl"
           }
          ],
          "scatterternary": [
           {
            "marker": {
             "colorbar": {
              "outlinewidth": 0,
              "ticks": ""
             }
            },
            "type": "scatterternary"
           }
          ],
          "surface": [
           {
            "colorbar": {
             "outlinewidth": 0,
             "ticks": ""
            },
            "colorscale": [
             [
              0,
              "#0d0887"
             ],
             [
              0.1111111111111111,
              "#46039f"
             ],
             [
              0.2222222222222222,
              "#7201a8"
             ],
             [
              0.3333333333333333,
              "#9c179e"
             ],
             [
              0.4444444444444444,
              "#bd3786"
             ],
             [
              0.5555555555555556,
              "#d8576b"
             ],
             [
              0.6666666666666666,
              "#ed7953"
             ],
             [
              0.7777777777777778,
              "#fb9f3a"
             ],
             [
              0.8888888888888888,
              "#fdca26"
             ],
             [
              1,
              "#f0f921"
             ]
            ],
            "type": "surface"
           }
          ],
          "table": [
           {
            "cells": {
             "fill": {
              "color": "#EBF0F8"
             },
             "line": {
              "color": "white"
             }
            },
            "header": {
             "fill": {
              "color": "#C8D4E3"
             },
             "line": {
              "color": "white"
             }
            },
            "type": "table"
           }
          ]
         },
         "layout": {
          "annotationdefaults": {
           "arrowcolor": "#2a3f5f",
           "arrowhead": 0,
           "arrowwidth": 1
          },
          "coloraxis": {
           "colorbar": {
            "outlinewidth": 0,
            "ticks": ""
           }
          },
          "colorscale": {
           "diverging": [
            [
             0,
             "#8e0152"
            ],
            [
             0.1,
             "#c51b7d"
            ],
            [
             0.2,
             "#de77ae"
            ],
            [
             0.3,
             "#f1b6da"
            ],
            [
             0.4,
             "#fde0ef"
            ],
            [
             0.5,
             "#f7f7f7"
            ],
            [
             0.6,
             "#e6f5d0"
            ],
            [
             0.7,
             "#b8e186"
            ],
            [
             0.8,
             "#7fbc41"
            ],
            [
             0.9,
             "#4d9221"
            ],
            [
             1,
             "#276419"
            ]
           ],
           "sequential": [
            [
             0,
             "#0d0887"
            ],
            [
             0.1111111111111111,
             "#46039f"
            ],
            [
             0.2222222222222222,
             "#7201a8"
            ],
            [
             0.3333333333333333,
             "#9c179e"
            ],
            [
             0.4444444444444444,
             "#bd3786"
            ],
            [
             0.5555555555555556,
             "#d8576b"
            ],
            [
             0.6666666666666666,
             "#ed7953"
            ],
            [
             0.7777777777777778,
             "#fb9f3a"
            ],
            [
             0.8888888888888888,
             "#fdca26"
            ],
            [
             1,
             "#f0f921"
            ]
           ],
           "sequentialminus": [
            [
             0,
             "#0d0887"
            ],
            [
             0.1111111111111111,
             "#46039f"
            ],
            [
             0.2222222222222222,
             "#7201a8"
            ],
            [
             0.3333333333333333,
             "#9c179e"
            ],
            [
             0.4444444444444444,
             "#bd3786"
            ],
            [
             0.5555555555555556,
             "#d8576b"
            ],
            [
             0.6666666666666666,
             "#ed7953"
            ],
            [
             0.7777777777777778,
             "#fb9f3a"
            ],
            [
             0.8888888888888888,
             "#fdca26"
            ],
            [
             1,
             "#f0f921"
            ]
           ]
          },
          "colorway": [
           "#636efa",
           "#EF553B",
           "#00cc96",
           "#ab63fa",
           "#FFA15A",
           "#19d3f3",
           "#FF6692",
           "#B6E880",
           "#FF97FF",
           "#FECB52"
          ],
          "font": {
           "color": "#2a3f5f"
          },
          "geo": {
           "bgcolor": "white",
           "lakecolor": "white",
           "landcolor": "#E5ECF6",
           "showlakes": true,
           "showland": true,
           "subunitcolor": "white"
          },
          "hoverlabel": {
           "align": "left"
          },
          "hovermode": "closest",
          "mapbox": {
           "style": "light"
          },
          "paper_bgcolor": "white",
          "plot_bgcolor": "#E5ECF6",
          "polar": {
           "angularaxis": {
            "gridcolor": "white",
            "linecolor": "white",
            "ticks": ""
           },
           "bgcolor": "#E5ECF6",
           "radialaxis": {
            "gridcolor": "white",
            "linecolor": "white",
            "ticks": ""
           }
          },
          "scene": {
           "xaxis": {
            "backgroundcolor": "#E5ECF6",
            "gridcolor": "white",
            "gridwidth": 2,
            "linecolor": "white",
            "showbackground": true,
            "ticks": "",
            "zerolinecolor": "white"
           },
           "yaxis": {
            "backgroundcolor": "#E5ECF6",
            "gridcolor": "white",
            "gridwidth": 2,
            "linecolor": "white",
            "showbackground": true,
            "ticks": "",
            "zerolinecolor": "white"
           },
           "zaxis": {
            "backgroundcolor": "#E5ECF6",
            "gridcolor": "white",
            "gridwidth": 2,
            "linecolor": "white",
            "showbackground": true,
            "ticks": "",
            "zerolinecolor": "white"
           }
          },
          "shapedefaults": {
           "line": {
            "color": "#2a3f5f"
           }
          },
          "ternary": {
           "aaxis": {
            "gridcolor": "white",
            "linecolor": "white",
            "ticks": ""
           },
           "baxis": {
            "gridcolor": "white",
            "linecolor": "white",
            "ticks": ""
           },
           "bgcolor": "#E5ECF6",
           "caxis": {
            "gridcolor": "white",
            "linecolor": "white",
            "ticks": ""
           }
          },
          "title": {
           "x": 0.05
          },
          "xaxis": {
           "automargin": true,
           "gridcolor": "white",
           "linecolor": "white",
           "ticks": "",
           "title": {
            "standoff": 15
           },
           "zerolinecolor": "white",
           "zerolinewidth": 2
          },
          "yaxis": {
           "automargin": true,
           "gridcolor": "white",
           "linecolor": "white",
           "ticks": "",
           "title": {
            "standoff": 15
           },
           "zerolinecolor": "white",
           "zerolinewidth": 2
          }
         }
        },
        "title": {
         "font": {
          "color": "#4D5663"
         }
        },
        "xaxis": {
         "gridcolor": "#E1E5ED",
         "showgrid": true,
         "tickfont": {
          "color": "#4D5663"
         },
         "title": {
          "font": {
           "color": "#4D5663"
          },
          "text": ""
         },
         "zerolinecolor": "#E1E5ED"
        },
        "yaxis": {
         "gridcolor": "#E1E5ED",
         "showgrid": true,
         "tickfont": {
          "color": "#4D5663"
         },
         "title": {
          "font": {
           "color": "#4D5663"
          },
          "text": ""
         },
         "zerolinecolor": "#E1E5ED"
        }
       }
      },
      "text/html": [
       "<div>\n",
       "        \n",
       "        \n",
       "            <div id=\"41ffceeb-e022-4bff-a369-bcf9ffe1f077\" class=\"plotly-graph-div\" style=\"height:525px; width:100%;\"></div>\n",
       "            <script type=\"text/javascript\">\n",
       "                require([\"plotly\"], function(Plotly) {\n",
       "                    window.PLOTLYENV=window.PLOTLYENV || {};\n",
       "                    window.PLOTLYENV.BASE_URL='https://plot.ly';\n",
       "                    \n",
       "                if (document.getElementById(\"41ffceeb-e022-4bff-a369-bcf9ffe1f077\")) {\n",
       "                    Plotly.newPlot(\n",
       "                        '41ffceeb-e022-4bff-a369-bcf9ffe1f077',\n",
       "                        [{\"boxpoints\": false, \"line\": {\"width\": 1.3}, \"marker\": {\"color\": \"rgba(255, 153, 51, 1.0)\"}, \"name\": \"A\", \"orientation\": \"v\", \"type\": \"box\", \"y\": [-0.35258759777768894, -0.2689202523477829, -0.7275561455665225, -0.4092338836746071, 0.5939352897099525, -1.2142800943388812, 0.7711096389260248, -0.21383971610196364, 2.0142645914043507, 0.7799110307712278, 1.5457083578522435, 0.9085304936655417, 1.1418265830175587, -0.2104929729809623, 0.7660603426217358, -2.0280362769007985, -2.233828943016878, -0.6300848842080163, 1.5525234298421335, 2.0855689538407653, -0.1996846114408051, 0.5116603997849389, 0.4413175834881552, -0.052475122738868694, -1.4832273130424847, -0.25774388512369106, -1.0640559145877198, -0.3583588767557854, -0.753930925599534, 0.004074420280987488, -0.14176351936354767, 1.4218626480633727, -1.3406424365335914, -0.6306641256341762, 0.34681256724898757, 0.43592034039747934, 0.6865252140987607, 0.5969319637737608, -0.2957449312225045, -1.5104607394739267, -0.2970795197674708, -1.510972639222177, -0.997112695722731, -0.16208689230666798, 1.380420552001041, -0.11125905541840161, 0.4671259115943136, 0.8067247284977627, -1.0343495030780103, 0.5994055167033986, -2.392944687471754, 0.009841623131410187, -2.805109312482037, 0.08829982085256122, 0.1587117032205557, 0.3710578971195314, -0.6880114701614541, 1.4592294790120843, 0.32260083504845827, -0.31203982509622247, -0.5016395710778763, -0.7092626495034179, 1.0623166785638058, -1.5567282874418933, -0.4470023818970348, 0.9298520292269593, 0.051790544147703926, -0.592455513839245, -0.1196242233503168, 1.1594675175773657, 0.6629796478742163, -1.7891314124011264, -2.0335113265519764, -0.6999835342221341, -1.1917599758854707, 0.48071537380142443, 0.05952184244397095, -0.5785307065158325, -0.3421145600853384, -1.4039388516097686, 2.1502912104578336, -0.9615052636121858, -2.7254911460318976, 0.9774563628902962, 0.05190045743478614, 0.2126943664117536, -1.5952990423031996, 0.9130858983745637, -0.21639455031226423, -0.23989461487285638, 0.9728080442967975, -0.1460459616149387, -1.3521999478330948, -2.065521937125486, -0.27532113693680454, -0.5980265778152496, 0.09311905136783473, 1.1902875577767913, 0.2899773682382634, -0.312252032605789]}, {\"boxpoints\": false, \"line\": {\"width\": 1.3}, \"marker\": {\"color\": \"rgba(55, 128, 191, 1.0)\"}, \"name\": \"B\", \"orientation\": \"v\", \"type\": \"box\", \"y\": [0.9398897318214089, -0.8731839425082643, 0.046902450656532195, -0.5730263478031349, 0.20964920461071293, 1.589873522036531, 0.04750924541528327, 0.3550099321199273, -1.3717152265624826, -0.29363834535540906, -0.6834415374498101, 0.3013358888971489, 0.08557550080518363, -0.6075508809315883, -0.4554319865724272, -0.6267217986862303, -0.12408272291175006, 2.1377019386303426, -0.5543428603297601, -0.26825029207872786, -1.0491011370545602, -0.3238181830805828, 0.3117772248306555, -1.808426122955307, -0.33810791145502933, 0.8746190178364772, 0.3880907514176325, -0.2146447776967657, 0.7117228782364389, -1.034419032052581, -1.3025207269502206, -0.9431243446739456, -1.3566849831833117, 0.9139728482420952, -0.4491906321351525, 0.20439161904362946, 1.0408022183431263, 0.5066670948192474, -0.10350418262487975, -0.9059301100673794, -0.18267520984842991, -0.12932747242214102, 0.9490202299868135, 1.5445301177158561, -0.5484910871344092, 1.3463270476962672, -0.31544005436995826, -1.4849556354680933, 0.6161677445530706, -1.4826409768646185, 1.0790226993828536, 0.17870810808648277, 1.2507159469031213, -0.3723212271360819, 1.1351360546362514, 0.4989889637299344, 0.5307557889854935, 0.7642488396101653, -0.8648674375434916, -0.9868819280636416, -1.374768191849497, 0.040196813920813354, -1.8501252771933256, -0.47096661859921635, 0.030148809422230492, -0.49629746394738594, -0.48055047186500344, 1.0019238054310298, -0.2059649005632659, 0.03397516273643297, 1.0738805827143372, 2.4721239137994315, -0.4052189135756334, -0.34375404549779637, -1.0857649696484415, 0.055094811569757304, -0.8850098967698943, -0.22656957039513467, 0.39986500767204186, -0.34663345478149626, 0.3968003349411088, -0.26733465187034505, -0.2198127906046125, 0.37235632515082645, 0.2910676243965551, -0.05890540711534565, 0.9968503248422131, 1.0010157850265846, -0.1184178551405647, 0.30865917238422885, -0.3880279024822919, 1.1596828942923951, -0.7113173402696118, 1.6878264070830626, 1.242425123682662, -0.49942462992988224, 0.4277971787926875, 0.918168330122392, -0.036254957143438314, 0.7175071803974852]}, {\"boxpoints\": false, \"line\": {\"width\": 1.3}, \"marker\": {\"color\": \"rgba(50, 171, 96, 1.0)\"}, \"name\": \"C\", \"orientation\": \"v\", \"type\": \"box\", \"y\": [0.8632668610366468, -0.6759838109729048, 1.6760435691157856, 0.2386522677056511, 0.9177871555928089, -0.33195349463338125, -0.4596659548705168, -1.619828146084732, 1.196895449591328, -1.4158182886092685, -1.4147310374881203, 1.3071169019440745, 2.034886088760232, 0.831296945101511, -0.5331427176218014, 0.7625743050946564, 2.4870683403318696, 1.8006533850034185, 0.2525267540628914, 0.6875297280476015, -1.0765790504865762, 0.12728861231860875, 0.7247502055785919, -0.49289388585364613, 0.3744825557060185, -0.8096990396759861, 1.1400463269190912, -0.15826526858594317, -1.2775919630437773, 0.44639629173763584, 0.7668272024069026, 0.5320633979394429, 0.12223289154187524, -0.9835329851688851, -0.2626440166090256, -0.49029865362572156, 0.3315965239572869, -0.35443941541290896, 0.49478368148043206, 0.8803164086438205, -0.8665736048325886, 0.8723221792680127, 1.4657052626484044, 1.410995083908226, -1.314848635987647, 0.3624400384126643, 1.72897276386658, 0.744978917233216, -0.025728280250998856, -0.2055778639647989, -2.0427947545816276, 0.21659128562133634, 0.24200545678709667, 0.5114516178742391, 1.3674354426688156, 0.3091350011835716, 0.22077844271697306, 1.5679050452010852, 0.3878344264221422, 2.0546408866166663, 1.5945815066522286, 0.012462768948805153, 0.048795755411710925, 0.7793211453715158, 0.9925909406622786, -2.0754924977544023, -0.30780820544177, -0.17747889661433175, 0.1676548442140887, -0.45399169918049453, 0.9516971756525416, 0.7422403966932977, -1.4908827862622838, -1.4834459137371023, 0.7405222811073173, 1.7286513714090677, 0.1710746692888831, 0.9932882074728955, 0.9620004841015415, 0.2015130492683428, 0.035021823813223, 0.4147467707948085, 0.4470003224996248, 0.060453446864904885, -0.5811734749393368, -0.23798052622064167, -1.0564814386852002, -0.9746741868220017, 0.09571782632846486, -0.1413046510016507, 0.6425182209935902, 0.40640709529694263, 1.2468937516914458, -0.03688936105911779, 0.7563916635910612, 0.19948370407499655, 0.6205897717531387, 0.5641429398722851, 1.5157884976406186, 1.3512524246962052]}, {\"boxpoints\": false, \"line\": {\"width\": 1.3}, \"marker\": {\"color\": \"rgba(128, 0, 128, 1.0)\"}, \"name\": \"D\", \"orientation\": \"v\", \"type\": \"box\", \"y\": [0.9789366989376848, 1.30832357928357, 0.5884856563699687, 0.14036628201271756, 0.6902925640847257, -1.5126471146292837, 0.5838522454334771, -1.4296737914964506, 0.3594290566830795, 0.27528898081065095, 1.1081475564270542, 2.5984473271642785, 1.0758490707613964, 0.9299431908652861, 0.3017714462607725, 0.31744377207962077, 1.7950852278831153, -1.0751557656845458, 0.04402639317964974, 0.6903493766099735, -0.6270238422144295, 1.0712995511865127, -1.7683501946706863, 1.8282889315983744, 0.35518053351393475, 0.2323104081405569, 0.21712776031333625, -0.8721285925719905, 0.07822111823045823, -0.357946864032969, -0.0025150210014309865, -1.9555427613752936, -0.8792349619541815, 1.6392776481619253, 1.725133470647381, -0.47384019988107273, -0.9283214012066563, -1.195115447791235, -0.712466083041683, 0.9291792295744458, -2.620262854537771, -1.2040870131441697, -0.5704819254282041, 0.6013119524591112, -0.16641731641561142, 0.8869031277942011, 0.7676138991426558, -0.21941255951318858, 0.7336294742863043, -1.509760727788322, 1.3089111293144589, -0.48868537947597857, 0.36867948762371416, 0.16243268044634435, -0.117667880199744, -1.5908850850157032, -0.03221680995116338, -0.8094926795677467, 0.3332327077531709, -0.18761698312668973, -1.5210564862512626, 0.8013496493739705, -0.3017689504627007, -1.607308712967462, -1.073672042348791, 1.4206409245986824, -0.039649711946742494, -0.8501076563848817, -0.4081547304857195, 1.4106568202197203, 1.3844085550565954, -1.0442065776581584, -0.2601701490206853, 0.8791199096736153, 0.616019567546816, -1.292378530274667, 0.038954439846378336, -0.8661149852701843, 0.8187391085735966, 0.3876138725797948, -0.6938650564423336, 1.8712992267155486, -0.9040265178648582, -0.5551990862883487, 1.2480663196654012, 0.9195113201420941, -0.09151997693362701, -0.053381470849075324, 1.0462469257539233, 1.1492760485618918, 0.27125133232960086, -0.4176644704698133, -1.7586536386062264, 0.3556862900437833, -0.641816446050051, 2.5709957855012364, 1.514568293434986, 0.8814684185001089, -1.1486878428943332, -1.3179289257071727]}],\n",
       "                        {\"legend\": {\"bgcolor\": \"#F5F6F9\", \"font\": {\"color\": \"#4D5663\"}}, \"paper_bgcolor\": \"#F5F6F9\", \"plot_bgcolor\": \"#F5F6F9\", \"template\": {\"data\": {\"bar\": [{\"error_x\": {\"color\": \"#2a3f5f\"}, \"error_y\": {\"color\": \"#2a3f5f\"}, \"marker\": {\"line\": {\"color\": \"#E5ECF6\", \"width\": 0.5}}, \"type\": \"bar\"}], \"barpolar\": [{\"marker\": {\"line\": {\"color\": \"#E5ECF6\", \"width\": 0.5}}, \"type\": \"barpolar\"}], \"carpet\": [{\"aaxis\": {\"endlinecolor\": \"#2a3f5f\", \"gridcolor\": \"white\", \"linecolor\": \"white\", \"minorgridcolor\": \"white\", \"startlinecolor\": \"#2a3f5f\"}, \"baxis\": {\"endlinecolor\": \"#2a3f5f\", \"gridcolor\": \"white\", \"linecolor\": \"white\", \"minorgridcolor\": \"white\", \"startlinecolor\": \"#2a3f5f\"}, \"type\": \"carpet\"}], \"choropleth\": [{\"colorbar\": {\"outlinewidth\": 0, \"ticks\": \"\"}, \"type\": \"choropleth\"}], \"contour\": [{\"colorbar\": {\"outlinewidth\": 0, \"ticks\": \"\"}, \"colorscale\": [[0.0, \"#0d0887\"], [0.1111111111111111, \"#46039f\"], [0.2222222222222222, \"#7201a8\"], [0.3333333333333333, \"#9c179e\"], [0.4444444444444444, \"#bd3786\"], [0.5555555555555556, \"#d8576b\"], [0.6666666666666666, \"#ed7953\"], [0.7777777777777778, \"#fb9f3a\"], [0.8888888888888888, \"#fdca26\"], [1.0, \"#f0f921\"]], \"type\": \"contour\"}], \"contourcarpet\": [{\"colorbar\": {\"outlinewidth\": 0, \"ticks\": \"\"}, \"type\": \"contourcarpet\"}], \"heatmap\": [{\"colorbar\": {\"outlinewidth\": 0, \"ticks\": \"\"}, \"colorscale\": [[0.0, \"#0d0887\"], [0.1111111111111111, \"#46039f\"], [0.2222222222222222, \"#7201a8\"], [0.3333333333333333, \"#9c179e\"], [0.4444444444444444, \"#bd3786\"], [0.5555555555555556, \"#d8576b\"], [0.6666666666666666, \"#ed7953\"], [0.7777777777777778, \"#fb9f3a\"], [0.8888888888888888, \"#fdca26\"], [1.0, \"#f0f921\"]], \"type\": \"heatmap\"}], \"heatmapgl\": [{\"colorbar\": {\"outlinewidth\": 0, \"ticks\": \"\"}, \"colorscale\": [[0.0, \"#0d0887\"], [0.1111111111111111, \"#46039f\"], [0.2222222222222222, \"#7201a8\"], [0.3333333333333333, \"#9c179e\"], [0.4444444444444444, \"#bd3786\"], [0.5555555555555556, \"#d8576b\"], [0.6666666666666666, \"#ed7953\"], [0.7777777777777778, \"#fb9f3a\"], [0.8888888888888888, \"#fdca26\"], [1.0, \"#f0f921\"]], \"type\": \"heatmapgl\"}], \"histogram\": [{\"marker\": {\"colorbar\": {\"outlinewidth\": 0, \"ticks\": \"\"}}, \"type\": \"histogram\"}], \"histogram2d\": [{\"colorbar\": {\"outlinewidth\": 0, \"ticks\": \"\"}, \"colorscale\": [[0.0, \"#0d0887\"], [0.1111111111111111, \"#46039f\"], [0.2222222222222222, \"#7201a8\"], [0.3333333333333333, \"#9c179e\"], [0.4444444444444444, \"#bd3786\"], [0.5555555555555556, \"#d8576b\"], [0.6666666666666666, \"#ed7953\"], [0.7777777777777778, \"#fb9f3a\"], [0.8888888888888888, \"#fdca26\"], [1.0, \"#f0f921\"]], \"type\": \"histogram2d\"}], \"histogram2dcontour\": [{\"colorbar\": {\"outlinewidth\": 0, \"ticks\": \"\"}, \"colorscale\": [[0.0, \"#0d0887\"], [0.1111111111111111, \"#46039f\"], [0.2222222222222222, \"#7201a8\"], [0.3333333333333333, \"#9c179e\"], [0.4444444444444444, \"#bd3786\"], [0.5555555555555556, \"#d8576b\"], [0.6666666666666666, \"#ed7953\"], [0.7777777777777778, \"#fb9f3a\"], [0.8888888888888888, \"#fdca26\"], [1.0, \"#f0f921\"]], \"type\": \"histogram2dcontour\"}], \"mesh3d\": [{\"colorbar\": {\"outlinewidth\": 0, \"ticks\": \"\"}, \"type\": \"mesh3d\"}], \"parcoords\": [{\"line\": {\"colorbar\": {\"outlinewidth\": 0, \"ticks\": \"\"}}, \"type\": \"parcoords\"}], \"pie\": [{\"automargin\": true, \"type\": \"pie\"}], \"scatter\": [{\"marker\": {\"colorbar\": {\"outlinewidth\": 0, \"ticks\": \"\"}}, \"type\": \"scatter\"}], \"scatter3d\": [{\"line\": {\"colorbar\": {\"outlinewidth\": 0, \"ticks\": \"\"}}, \"marker\": {\"colorbar\": {\"outlinewidth\": 0, \"ticks\": \"\"}}, \"type\": \"scatter3d\"}], \"scattercarpet\": [{\"marker\": {\"colorbar\": {\"outlinewidth\": 0, \"ticks\": \"\"}}, \"type\": \"scattercarpet\"}], \"scattergeo\": [{\"marker\": {\"colorbar\": {\"outlinewidth\": 0, \"ticks\": \"\"}}, \"type\": \"scattergeo\"}], \"scattergl\": [{\"marker\": {\"colorbar\": {\"outlinewidth\": 0, \"ticks\": \"\"}}, \"type\": \"scattergl\"}], \"scattermapbox\": [{\"marker\": {\"colorbar\": {\"outlinewidth\": 0, \"ticks\": \"\"}}, \"type\": \"scattermapbox\"}], \"scatterpolar\": [{\"marker\": {\"colorbar\": {\"outlinewidth\": 0, \"ticks\": \"\"}}, \"type\": \"scatterpolar\"}], \"scatterpolargl\": [{\"marker\": {\"colorbar\": {\"outlinewidth\": 0, \"ticks\": \"\"}}, \"type\": \"scatterpolargl\"}], \"scatterternary\": [{\"marker\": {\"colorbar\": {\"outlinewidth\": 0, \"ticks\": \"\"}}, \"type\": \"scatterternary\"}], \"surface\": [{\"colorbar\": {\"outlinewidth\": 0, \"ticks\": \"\"}, \"colorscale\": [[0.0, \"#0d0887\"], [0.1111111111111111, \"#46039f\"], [0.2222222222222222, \"#7201a8\"], [0.3333333333333333, \"#9c179e\"], [0.4444444444444444, \"#bd3786\"], [0.5555555555555556, \"#d8576b\"], [0.6666666666666666, \"#ed7953\"], [0.7777777777777778, \"#fb9f3a\"], [0.8888888888888888, \"#fdca26\"], [1.0, \"#f0f921\"]], \"type\": \"surface\"}], \"table\": [{\"cells\": {\"fill\": {\"color\": \"#EBF0F8\"}, \"line\": {\"color\": \"white\"}}, \"header\": {\"fill\": {\"color\": \"#C8D4E3\"}, \"line\": {\"color\": \"white\"}}, \"type\": \"table\"}]}, \"layout\": {\"annotationdefaults\": {\"arrowcolor\": \"#2a3f5f\", \"arrowhead\": 0, \"arrowwidth\": 1}, \"coloraxis\": {\"colorbar\": {\"outlinewidth\": 0, \"ticks\": \"\"}}, \"colorscale\": {\"diverging\": [[0, \"#8e0152\"], [0.1, \"#c51b7d\"], [0.2, \"#de77ae\"], [0.3, \"#f1b6da\"], [0.4, \"#fde0ef\"], [0.5, \"#f7f7f7\"], [0.6, \"#e6f5d0\"], [0.7, \"#b8e186\"], [0.8, \"#7fbc41\"], [0.9, \"#4d9221\"], [1, \"#276419\"]], \"sequential\": [[0.0, \"#0d0887\"], [0.1111111111111111, \"#46039f\"], [0.2222222222222222, \"#7201a8\"], [0.3333333333333333, \"#9c179e\"], [0.4444444444444444, \"#bd3786\"], [0.5555555555555556, \"#d8576b\"], [0.6666666666666666, \"#ed7953\"], [0.7777777777777778, \"#fb9f3a\"], [0.8888888888888888, \"#fdca26\"], [1.0, \"#f0f921\"]], \"sequentialminus\": [[0.0, \"#0d0887\"], [0.1111111111111111, \"#46039f\"], [0.2222222222222222, \"#7201a8\"], [0.3333333333333333, \"#9c179e\"], [0.4444444444444444, \"#bd3786\"], [0.5555555555555556, \"#d8576b\"], [0.6666666666666666, \"#ed7953\"], [0.7777777777777778, \"#fb9f3a\"], [0.8888888888888888, \"#fdca26\"], [1.0, \"#f0f921\"]]}, \"colorway\": [\"#636efa\", \"#EF553B\", \"#00cc96\", \"#ab63fa\", \"#FFA15A\", \"#19d3f3\", \"#FF6692\", \"#B6E880\", \"#FF97FF\", \"#FECB52\"], \"font\": {\"color\": \"#2a3f5f\"}, \"geo\": {\"bgcolor\": \"white\", \"lakecolor\": \"white\", \"landcolor\": \"#E5ECF6\", \"showlakes\": true, \"showland\": true, \"subunitcolor\": \"white\"}, \"hoverlabel\": {\"align\": \"left\"}, \"hovermode\": \"closest\", \"mapbox\": {\"style\": \"light\"}, \"paper_bgcolor\": \"white\", \"plot_bgcolor\": \"#E5ECF6\", \"polar\": {\"angularaxis\": {\"gridcolor\": \"white\", \"linecolor\": \"white\", \"ticks\": \"\"}, \"bgcolor\": \"#E5ECF6\", \"radialaxis\": {\"gridcolor\": \"white\", \"linecolor\": \"white\", \"ticks\": \"\"}}, \"scene\": {\"xaxis\": {\"backgroundcolor\": \"#E5ECF6\", \"gridcolor\": \"white\", \"gridwidth\": 2, \"linecolor\": \"white\", \"showbackground\": true, \"ticks\": \"\", \"zerolinecolor\": \"white\"}, \"yaxis\": {\"backgroundcolor\": \"#E5ECF6\", \"gridcolor\": \"white\", \"gridwidth\": 2, \"linecolor\": \"white\", \"showbackground\": true, \"ticks\": \"\", \"zerolinecolor\": \"white\"}, \"zaxis\": {\"backgroundcolor\": \"#E5ECF6\", \"gridcolor\": \"white\", \"gridwidth\": 2, \"linecolor\": \"white\", \"showbackground\": true, \"ticks\": \"\", \"zerolinecolor\": \"white\"}}, \"shapedefaults\": {\"line\": {\"color\": \"#2a3f5f\"}}, \"ternary\": {\"aaxis\": {\"gridcolor\": \"white\", \"linecolor\": \"white\", \"ticks\": \"\"}, \"baxis\": {\"gridcolor\": \"white\", \"linecolor\": \"white\", \"ticks\": \"\"}, \"bgcolor\": \"#E5ECF6\", \"caxis\": {\"gridcolor\": \"white\", \"linecolor\": \"white\", \"ticks\": \"\"}}, \"title\": {\"x\": 0.05}, \"xaxis\": {\"automargin\": true, \"gridcolor\": \"white\", \"linecolor\": \"white\", \"ticks\": \"\", \"title\": {\"standoff\": 15}, \"zerolinecolor\": \"white\", \"zerolinewidth\": 2}, \"yaxis\": {\"automargin\": true, \"gridcolor\": \"white\", \"linecolor\": \"white\", \"ticks\": \"\", \"title\": {\"standoff\": 15}, \"zerolinecolor\": \"white\", \"zerolinewidth\": 2}}}, \"title\": {\"font\": {\"color\": \"#4D5663\"}}, \"xaxis\": {\"gridcolor\": \"#E1E5ED\", \"showgrid\": true, \"tickfont\": {\"color\": \"#4D5663\"}, \"title\": {\"font\": {\"color\": \"#4D5663\"}, \"text\": \"\"}, \"zerolinecolor\": \"#E1E5ED\"}, \"yaxis\": {\"gridcolor\": \"#E1E5ED\", \"showgrid\": true, \"tickfont\": {\"color\": \"#4D5663\"}, \"title\": {\"font\": {\"color\": \"#4D5663\"}, \"text\": \"\"}, \"zerolinecolor\": \"#E1E5ED\"}},\n",
       "                        {\"showLink\": true, \"linkText\": \"Export to plot.ly\", \"plotlyServerURL\": \"https://plot.ly\", \"responsive\": true}\n",
       "                    ).then(function(){\n",
       "                            \n",
       "var gd = document.getElementById('41ffceeb-e022-4bff-a369-bcf9ffe1f077');\n",
       "var x = new MutationObserver(function (mutations, observer) {{\n",
       "        var display = window.getComputedStyle(gd).display;\n",
       "        if (!display || display === 'none') {{\n",
       "            console.log([gd, 'removed!']);\n",
       "            Plotly.purge(gd);\n",
       "            observer.disconnect();\n",
       "        }}\n",
       "}});\n",
       "\n",
       "// Listen for the removal of the full notebook cells\n",
       "var notebookContainer = gd.closest('#notebook-container');\n",
       "if (notebookContainer) {{\n",
       "    x.observe(notebookContainer, {childList: true});\n",
       "}}\n",
       "\n",
       "// Listen for the clearing of the current output cell\n",
       "var outputEl = gd.closest('.output');\n",
       "if (outputEl) {{\n",
       "    x.observe(outputEl, {childList: true});\n",
       "}}\n",
       "\n",
       "                        })\n",
       "                };\n",
       "                });\n",
       "            </script>\n",
       "        </div>"
      ]
     },
     "metadata": {},
     "output_type": "display_data"
    }
   ],
   "source": [
    "df.iplot(kind='box')"
   ]
  },
  {
   "cell_type": "markdown",
   "metadata": {},
   "source": [
    "## 3d Surface"
   ]
  },
  {
   "cell_type": "code",
   "execution_count": 14,
   "metadata": {},
   "outputs": [
    {
     "data": {
      "application/vnd.plotly.v1+json": {
       "config": {
        "linkText": "Export to plot.ly",
        "plotlyServerURL": "https://plot.ly",
        "showLink": true
       },
       "data": [
        {
         "colorscale": [
          [
           0,
           "rgb(165,0,38)"
          ],
          [
           0.1,
           "rgb(215,48,39)"
          ],
          [
           0.2,
           "rgb(244,109,67)"
          ],
          [
           0.3,
           "rgb(253,174,97)"
          ],
          [
           0.4,
           "rgb(254,224,144)"
          ],
          [
           0.5,
           "rgb(255,255,191)"
          ],
          [
           0.6,
           "rgb(224,243,248)"
          ],
          [
           0.7,
           "rgb(171,217,233)"
          ],
          [
           0.8,
           "rgb(116,173,209)"
          ],
          [
           0.9,
           "rgb(69,117,180)"
          ],
          [
           1,
           "rgb(49,54,149)"
          ]
         ],
         "type": "surface",
         "x": [
          0,
          1,
          2,
          3,
          4
         ],
         "y": [
          "x",
          "y",
          "z"
         ],
         "z": [
          [
           1,
           2,
           3,
           4,
           5
          ],
          [
           10,
           20,
           30,
           20,
           10
          ],
          [
           5,
           4,
           3,
           2,
           1
          ]
         ]
        }
       ],
       "layout": {
        "legend": {
         "bgcolor": "#F5F6F9",
         "font": {
          "color": "#4D5663"
         }
        },
        "paper_bgcolor": "#F5F6F9",
        "plot_bgcolor": "#F5F6F9",
        "template": {
         "data": {
          "bar": [
           {
            "error_x": {
             "color": "#2a3f5f"
            },
            "error_y": {
             "color": "#2a3f5f"
            },
            "marker": {
             "line": {
              "color": "#E5ECF6",
              "width": 0.5
             }
            },
            "type": "bar"
           }
          ],
          "barpolar": [
           {
            "marker": {
             "line": {
              "color": "#E5ECF6",
              "width": 0.5
             }
            },
            "type": "barpolar"
           }
          ],
          "carpet": [
           {
            "aaxis": {
             "endlinecolor": "#2a3f5f",
             "gridcolor": "white",
             "linecolor": "white",
             "minorgridcolor": "white",
             "startlinecolor": "#2a3f5f"
            },
            "baxis": {
             "endlinecolor": "#2a3f5f",
             "gridcolor": "white",
             "linecolor": "white",
             "minorgridcolor": "white",
             "startlinecolor": "#2a3f5f"
            },
            "type": "carpet"
           }
          ],
          "choropleth": [
           {
            "colorbar": {
             "outlinewidth": 0,
             "ticks": ""
            },
            "type": "choropleth"
           }
          ],
          "contour": [
           {
            "colorbar": {
             "outlinewidth": 0,
             "ticks": ""
            },
            "colorscale": [
             [
              0,
              "#0d0887"
             ],
             [
              0.1111111111111111,
              "#46039f"
             ],
             [
              0.2222222222222222,
              "#7201a8"
             ],
             [
              0.3333333333333333,
              "#9c179e"
             ],
             [
              0.4444444444444444,
              "#bd3786"
             ],
             [
              0.5555555555555556,
              "#d8576b"
             ],
             [
              0.6666666666666666,
              "#ed7953"
             ],
             [
              0.7777777777777778,
              "#fb9f3a"
             ],
             [
              0.8888888888888888,
              "#fdca26"
             ],
             [
              1,
              "#f0f921"
             ]
            ],
            "type": "contour"
           }
          ],
          "contourcarpet": [
           {
            "colorbar": {
             "outlinewidth": 0,
             "ticks": ""
            },
            "type": "contourcarpet"
           }
          ],
          "heatmap": [
           {
            "colorbar": {
             "outlinewidth": 0,
             "ticks": ""
            },
            "colorscale": [
             [
              0,
              "#0d0887"
             ],
             [
              0.1111111111111111,
              "#46039f"
             ],
             [
              0.2222222222222222,
              "#7201a8"
             ],
             [
              0.3333333333333333,
              "#9c179e"
             ],
             [
              0.4444444444444444,
              "#bd3786"
             ],
             [
              0.5555555555555556,
              "#d8576b"
             ],
             [
              0.6666666666666666,
              "#ed7953"
             ],
             [
              0.7777777777777778,
              "#fb9f3a"
             ],
             [
              0.8888888888888888,
              "#fdca26"
             ],
             [
              1,
              "#f0f921"
             ]
            ],
            "type": "heatmap"
           }
          ],
          "heatmapgl": [
           {
            "colorbar": {
             "outlinewidth": 0,
             "ticks": ""
            },
            "colorscale": [
             [
              0,
              "#0d0887"
             ],
             [
              0.1111111111111111,
              "#46039f"
             ],
             [
              0.2222222222222222,
              "#7201a8"
             ],
             [
              0.3333333333333333,
              "#9c179e"
             ],
             [
              0.4444444444444444,
              "#bd3786"
             ],
             [
              0.5555555555555556,
              "#d8576b"
             ],
             [
              0.6666666666666666,
              "#ed7953"
             ],
             [
              0.7777777777777778,
              "#fb9f3a"
             ],
             [
              0.8888888888888888,
              "#fdca26"
             ],
             [
              1,
              "#f0f921"
             ]
            ],
            "type": "heatmapgl"
           }
          ],
          "histogram": [
           {
            "marker": {
             "colorbar": {
              "outlinewidth": 0,
              "ticks": ""
             }
            },
            "type": "histogram"
           }
          ],
          "histogram2d": [
           {
            "colorbar": {
             "outlinewidth": 0,
             "ticks": ""
            },
            "colorscale": [
             [
              0,
              "#0d0887"
             ],
             [
              0.1111111111111111,
              "#46039f"
             ],
             [
              0.2222222222222222,
              "#7201a8"
             ],
             [
              0.3333333333333333,
              "#9c179e"
             ],
             [
              0.4444444444444444,
              "#bd3786"
             ],
             [
              0.5555555555555556,
              "#d8576b"
             ],
             [
              0.6666666666666666,
              "#ed7953"
             ],
             [
              0.7777777777777778,
              "#fb9f3a"
             ],
             [
              0.8888888888888888,
              "#fdca26"
             ],
             [
              1,
              "#f0f921"
             ]
            ],
            "type": "histogram2d"
           }
          ],
          "histogram2dcontour": [
           {
            "colorbar": {
             "outlinewidth": 0,
             "ticks": ""
            },
            "colorscale": [
             [
              0,
              "#0d0887"
             ],
             [
              0.1111111111111111,
              "#46039f"
             ],
             [
              0.2222222222222222,
              "#7201a8"
             ],
             [
              0.3333333333333333,
              "#9c179e"
             ],
             [
              0.4444444444444444,
              "#bd3786"
             ],
             [
              0.5555555555555556,
              "#d8576b"
             ],
             [
              0.6666666666666666,
              "#ed7953"
             ],
             [
              0.7777777777777778,
              "#fb9f3a"
             ],
             [
              0.8888888888888888,
              "#fdca26"
             ],
             [
              1,
              "#f0f921"
             ]
            ],
            "type": "histogram2dcontour"
           }
          ],
          "mesh3d": [
           {
            "colorbar": {
             "outlinewidth": 0,
             "ticks": ""
            },
            "type": "mesh3d"
           }
          ],
          "parcoords": [
           {
            "line": {
             "colorbar": {
              "outlinewidth": 0,
              "ticks": ""
             }
            },
            "type": "parcoords"
           }
          ],
          "pie": [
           {
            "automargin": true,
            "type": "pie"
           }
          ],
          "scatter": [
           {
            "marker": {
             "colorbar": {
              "outlinewidth": 0,
              "ticks": ""
             }
            },
            "type": "scatter"
           }
          ],
          "scatter3d": [
           {
            "line": {
             "colorbar": {
              "outlinewidth": 0,
              "ticks": ""
             }
            },
            "marker": {
             "colorbar": {
              "outlinewidth": 0,
              "ticks": ""
             }
            },
            "type": "scatter3d"
           }
          ],
          "scattercarpet": [
           {
            "marker": {
             "colorbar": {
              "outlinewidth": 0,
              "ticks": ""
             }
            },
            "type": "scattercarpet"
           }
          ],
          "scattergeo": [
           {
            "marker": {
             "colorbar": {
              "outlinewidth": 0,
              "ticks": ""
             }
            },
            "type": "scattergeo"
           }
          ],
          "scattergl": [
           {
            "marker": {
             "colorbar": {
              "outlinewidth": 0,
              "ticks": ""
             }
            },
            "type": "scattergl"
           }
          ],
          "scattermapbox": [
           {
            "marker": {
             "colorbar": {
              "outlinewidth": 0,
              "ticks": ""
             }
            },
            "type": "scattermapbox"
           }
          ],
          "scatterpolar": [
           {
            "marker": {
             "colorbar": {
              "outlinewidth": 0,
              "ticks": ""
             }
            },
            "type": "scatterpolar"
           }
          ],
          "scatterpolargl": [
           {
            "marker": {
             "colorbar": {
              "outlinewidth": 0,
              "ticks": ""
             }
            },
            "type": "scatterpolargl"
           }
          ],
          "scatterternary": [
           {
            "marker": {
             "colorbar": {
              "outlinewidth": 0,
              "ticks": ""
             }
            },
            "type": "scatterternary"
           }
          ],
          "surface": [
           {
            "colorbar": {
             "outlinewidth": 0,
             "ticks": ""
            },
            "colorscale": [
             [
              0,
              "#0d0887"
             ],
             [
              0.1111111111111111,
              "#46039f"
             ],
             [
              0.2222222222222222,
              "#7201a8"
             ],
             [
              0.3333333333333333,
              "#9c179e"
             ],
             [
              0.4444444444444444,
              "#bd3786"
             ],
             [
              0.5555555555555556,
              "#d8576b"
             ],
             [
              0.6666666666666666,
              "#ed7953"
             ],
             [
              0.7777777777777778,
              "#fb9f3a"
             ],
             [
              0.8888888888888888,
              "#fdca26"
             ],
             [
              1,
              "#f0f921"
             ]
            ],
            "type": "surface"
           }
          ],
          "table": [
           {
            "cells": {
             "fill": {
              "color": "#EBF0F8"
             },
             "line": {
              "color": "white"
             }
            },
            "header": {
             "fill": {
              "color": "#C8D4E3"
             },
             "line": {
              "color": "white"
             }
            },
            "type": "table"
           }
          ]
         },
         "layout": {
          "annotationdefaults": {
           "arrowcolor": "#2a3f5f",
           "arrowhead": 0,
           "arrowwidth": 1
          },
          "coloraxis": {
           "colorbar": {
            "outlinewidth": 0,
            "ticks": ""
           }
          },
          "colorscale": {
           "diverging": [
            [
             0,
             "#8e0152"
            ],
            [
             0.1,
             "#c51b7d"
            ],
            [
             0.2,
             "#de77ae"
            ],
            [
             0.3,
             "#f1b6da"
            ],
            [
             0.4,
             "#fde0ef"
            ],
            [
             0.5,
             "#f7f7f7"
            ],
            [
             0.6,
             "#e6f5d0"
            ],
            [
             0.7,
             "#b8e186"
            ],
            [
             0.8,
             "#7fbc41"
            ],
            [
             0.9,
             "#4d9221"
            ],
            [
             1,
             "#276419"
            ]
           ],
           "sequential": [
            [
             0,
             "#0d0887"
            ],
            [
             0.1111111111111111,
             "#46039f"
            ],
            [
             0.2222222222222222,
             "#7201a8"
            ],
            [
             0.3333333333333333,
             "#9c179e"
            ],
            [
             0.4444444444444444,
             "#bd3786"
            ],
            [
             0.5555555555555556,
             "#d8576b"
            ],
            [
             0.6666666666666666,
             "#ed7953"
            ],
            [
             0.7777777777777778,
             "#fb9f3a"
            ],
            [
             0.8888888888888888,
             "#fdca26"
            ],
            [
             1,
             "#f0f921"
            ]
           ],
           "sequentialminus": [
            [
             0,
             "#0d0887"
            ],
            [
             0.1111111111111111,
             "#46039f"
            ],
            [
             0.2222222222222222,
             "#7201a8"
            ],
            [
             0.3333333333333333,
             "#9c179e"
            ],
            [
             0.4444444444444444,
             "#bd3786"
            ],
            [
             0.5555555555555556,
             "#d8576b"
            ],
            [
             0.6666666666666666,
             "#ed7953"
            ],
            [
             0.7777777777777778,
             "#fb9f3a"
            ],
            [
             0.8888888888888888,
             "#fdca26"
            ],
            [
             1,
             "#f0f921"
            ]
           ]
          },
          "colorway": [
           "#636efa",
           "#EF553B",
           "#00cc96",
           "#ab63fa",
           "#FFA15A",
           "#19d3f3",
           "#FF6692",
           "#B6E880",
           "#FF97FF",
           "#FECB52"
          ],
          "font": {
           "color": "#2a3f5f"
          },
          "geo": {
           "bgcolor": "white",
           "lakecolor": "white",
           "landcolor": "#E5ECF6",
           "showlakes": true,
           "showland": true,
           "subunitcolor": "white"
          },
          "hoverlabel": {
           "align": "left"
          },
          "hovermode": "closest",
          "mapbox": {
           "style": "light"
          },
          "paper_bgcolor": "white",
          "plot_bgcolor": "#E5ECF6",
          "polar": {
           "angularaxis": {
            "gridcolor": "white",
            "linecolor": "white",
            "ticks": ""
           },
           "bgcolor": "#E5ECF6",
           "radialaxis": {
            "gridcolor": "white",
            "linecolor": "white",
            "ticks": ""
           }
          },
          "scene": {
           "xaxis": {
            "backgroundcolor": "#E5ECF6",
            "gridcolor": "white",
            "gridwidth": 2,
            "linecolor": "white",
            "showbackground": true,
            "ticks": "",
            "zerolinecolor": "white"
           },
           "yaxis": {
            "backgroundcolor": "#E5ECF6",
            "gridcolor": "white",
            "gridwidth": 2,
            "linecolor": "white",
            "showbackground": true,
            "ticks": "",
            "zerolinecolor": "white"
           },
           "zaxis": {
            "backgroundcolor": "#E5ECF6",
            "gridcolor": "white",
            "gridwidth": 2,
            "linecolor": "white",
            "showbackground": true,
            "ticks": "",
            "zerolinecolor": "white"
           }
          },
          "shapedefaults": {
           "line": {
            "color": "#2a3f5f"
           }
          },
          "ternary": {
           "aaxis": {
            "gridcolor": "white",
            "linecolor": "white",
            "ticks": ""
           },
           "baxis": {
            "gridcolor": "white",
            "linecolor": "white",
            "ticks": ""
           },
           "bgcolor": "#E5ECF6",
           "caxis": {
            "gridcolor": "white",
            "linecolor": "white",
            "ticks": ""
           }
          },
          "title": {
           "x": 0.05
          },
          "xaxis": {
           "automargin": true,
           "gridcolor": "white",
           "linecolor": "white",
           "ticks": "",
           "title": {
            "standoff": 15
           },
           "zerolinecolor": "white",
           "zerolinewidth": 2
          },
          "yaxis": {
           "automargin": true,
           "gridcolor": "white",
           "linecolor": "white",
           "ticks": "",
           "title": {
            "standoff": 15
           },
           "zerolinecolor": "white",
           "zerolinewidth": 2
          }
         }
        },
        "title": {
         "font": {
          "color": "#4D5663"
         }
        },
        "xaxis": {
         "gridcolor": "#E1E5ED",
         "showgrid": true,
         "tickfont": {
          "color": "#4D5663"
         },
         "title": {
          "font": {
           "color": "#4D5663"
          },
          "text": ""
         },
         "zerolinecolor": "#E1E5ED"
        },
        "yaxis": {
         "gridcolor": "#E1E5ED",
         "showgrid": true,
         "tickfont": {
          "color": "#4D5663"
         },
         "title": {
          "font": {
           "color": "#4D5663"
          },
          "text": ""
         },
         "zerolinecolor": "#E1E5ED"
        }
       }
      },
      "text/html": [
       "<div>\n",
       "        \n",
       "        \n",
       "            <div id=\"387f6ddb-17f2-4725-8418-83be0597ab73\" class=\"plotly-graph-div\" style=\"height:525px; width:100%;\"></div>\n",
       "            <script type=\"text/javascript\">\n",
       "                require([\"plotly\"], function(Plotly) {\n",
       "                    window.PLOTLYENV=window.PLOTLYENV || {};\n",
       "                    window.PLOTLYENV.BASE_URL='https://plot.ly';\n",
       "                    \n",
       "                if (document.getElementById(\"387f6ddb-17f2-4725-8418-83be0597ab73\")) {\n",
       "                    Plotly.newPlot(\n",
       "                        '387f6ddb-17f2-4725-8418-83be0597ab73',\n",
       "                        [{\"colorscale\": [[0.0, \"rgb(165,0,38)\"], [0.1, \"rgb(215,48,39)\"], [0.2, \"rgb(244,109,67)\"], [0.3, \"rgb(253,174,97)\"], [0.4, \"rgb(254,224,144)\"], [0.5, \"rgb(255,255,191)\"], [0.6, \"rgb(224,243,248)\"], [0.7, \"rgb(171,217,233)\"], [0.8, \"rgb(116,173,209)\"], [0.9, \"rgb(69,117,180)\"], [1.0, \"rgb(49,54,149)\"]], \"type\": \"surface\", \"x\": [0, 1, 2, 3, 4], \"y\": [\"x\", \"y\", \"z\"], \"z\": [[1, 2, 3, 4, 5], [10, 20, 30, 20, 10], [5, 4, 3, 2, 1]]}],\n",
       "                        {\"legend\": {\"bgcolor\": \"#F5F6F9\", \"font\": {\"color\": \"#4D5663\"}}, \"paper_bgcolor\": \"#F5F6F9\", \"plot_bgcolor\": \"#F5F6F9\", \"template\": {\"data\": {\"bar\": [{\"error_x\": {\"color\": \"#2a3f5f\"}, \"error_y\": {\"color\": \"#2a3f5f\"}, \"marker\": {\"line\": {\"color\": \"#E5ECF6\", \"width\": 0.5}}, \"type\": \"bar\"}], \"barpolar\": [{\"marker\": {\"line\": {\"color\": \"#E5ECF6\", \"width\": 0.5}}, \"type\": \"barpolar\"}], \"carpet\": [{\"aaxis\": {\"endlinecolor\": \"#2a3f5f\", \"gridcolor\": \"white\", \"linecolor\": \"white\", \"minorgridcolor\": \"white\", \"startlinecolor\": \"#2a3f5f\"}, \"baxis\": {\"endlinecolor\": \"#2a3f5f\", \"gridcolor\": \"white\", \"linecolor\": \"white\", \"minorgridcolor\": \"white\", \"startlinecolor\": \"#2a3f5f\"}, \"type\": \"carpet\"}], \"choropleth\": [{\"colorbar\": {\"outlinewidth\": 0, \"ticks\": \"\"}, \"type\": \"choropleth\"}], \"contour\": [{\"colorbar\": {\"outlinewidth\": 0, \"ticks\": \"\"}, \"colorscale\": [[0.0, \"#0d0887\"], [0.1111111111111111, \"#46039f\"], [0.2222222222222222, \"#7201a8\"], [0.3333333333333333, \"#9c179e\"], [0.4444444444444444, \"#bd3786\"], [0.5555555555555556, \"#d8576b\"], [0.6666666666666666, \"#ed7953\"], [0.7777777777777778, \"#fb9f3a\"], [0.8888888888888888, \"#fdca26\"], [1.0, \"#f0f921\"]], \"type\": \"contour\"}], \"contourcarpet\": [{\"colorbar\": {\"outlinewidth\": 0, \"ticks\": \"\"}, \"type\": \"contourcarpet\"}], \"heatmap\": [{\"colorbar\": {\"outlinewidth\": 0, \"ticks\": \"\"}, \"colorscale\": [[0.0, \"#0d0887\"], [0.1111111111111111, \"#46039f\"], [0.2222222222222222, \"#7201a8\"], [0.3333333333333333, \"#9c179e\"], [0.4444444444444444, \"#bd3786\"], [0.5555555555555556, \"#d8576b\"], [0.6666666666666666, \"#ed7953\"], [0.7777777777777778, \"#fb9f3a\"], [0.8888888888888888, \"#fdca26\"], [1.0, \"#f0f921\"]], \"type\": \"heatmap\"}], \"heatmapgl\": [{\"colorbar\": {\"outlinewidth\": 0, \"ticks\": \"\"}, \"colorscale\": [[0.0, \"#0d0887\"], [0.1111111111111111, \"#46039f\"], [0.2222222222222222, \"#7201a8\"], [0.3333333333333333, \"#9c179e\"], [0.4444444444444444, \"#bd3786\"], [0.5555555555555556, \"#d8576b\"], [0.6666666666666666, \"#ed7953\"], [0.7777777777777778, \"#fb9f3a\"], [0.8888888888888888, \"#fdca26\"], [1.0, \"#f0f921\"]], \"type\": \"heatmapgl\"}], \"histogram\": [{\"marker\": {\"colorbar\": {\"outlinewidth\": 0, \"ticks\": \"\"}}, \"type\": \"histogram\"}], \"histogram2d\": [{\"colorbar\": {\"outlinewidth\": 0, \"ticks\": \"\"}, \"colorscale\": [[0.0, \"#0d0887\"], [0.1111111111111111, \"#46039f\"], [0.2222222222222222, \"#7201a8\"], [0.3333333333333333, \"#9c179e\"], [0.4444444444444444, \"#bd3786\"], [0.5555555555555556, \"#d8576b\"], [0.6666666666666666, \"#ed7953\"], [0.7777777777777778, \"#fb9f3a\"], [0.8888888888888888, \"#fdca26\"], [1.0, \"#f0f921\"]], \"type\": \"histogram2d\"}], \"histogram2dcontour\": [{\"colorbar\": {\"outlinewidth\": 0, \"ticks\": \"\"}, \"colorscale\": [[0.0, \"#0d0887\"], [0.1111111111111111, \"#46039f\"], [0.2222222222222222, \"#7201a8\"], [0.3333333333333333, \"#9c179e\"], [0.4444444444444444, \"#bd3786\"], [0.5555555555555556, \"#d8576b\"], [0.6666666666666666, \"#ed7953\"], [0.7777777777777778, \"#fb9f3a\"], [0.8888888888888888, \"#fdca26\"], [1.0, \"#f0f921\"]], \"type\": \"histogram2dcontour\"}], \"mesh3d\": [{\"colorbar\": {\"outlinewidth\": 0, \"ticks\": \"\"}, \"type\": \"mesh3d\"}], \"parcoords\": [{\"line\": {\"colorbar\": {\"outlinewidth\": 0, \"ticks\": \"\"}}, \"type\": \"parcoords\"}], \"pie\": [{\"automargin\": true, \"type\": \"pie\"}], \"scatter\": [{\"marker\": {\"colorbar\": {\"outlinewidth\": 0, \"ticks\": \"\"}}, \"type\": \"scatter\"}], \"scatter3d\": [{\"line\": {\"colorbar\": {\"outlinewidth\": 0, \"ticks\": \"\"}}, \"marker\": {\"colorbar\": {\"outlinewidth\": 0, \"ticks\": \"\"}}, \"type\": \"scatter3d\"}], \"scattercarpet\": [{\"marker\": {\"colorbar\": {\"outlinewidth\": 0, \"ticks\": \"\"}}, \"type\": \"scattercarpet\"}], \"scattergeo\": [{\"marker\": {\"colorbar\": {\"outlinewidth\": 0, \"ticks\": \"\"}}, \"type\": \"scattergeo\"}], \"scattergl\": [{\"marker\": {\"colorbar\": {\"outlinewidth\": 0, \"ticks\": \"\"}}, \"type\": \"scattergl\"}], \"scattermapbox\": [{\"marker\": {\"colorbar\": {\"outlinewidth\": 0, \"ticks\": \"\"}}, \"type\": \"scattermapbox\"}], \"scatterpolar\": [{\"marker\": {\"colorbar\": {\"outlinewidth\": 0, \"ticks\": \"\"}}, \"type\": \"scatterpolar\"}], \"scatterpolargl\": [{\"marker\": {\"colorbar\": {\"outlinewidth\": 0, \"ticks\": \"\"}}, \"type\": \"scatterpolargl\"}], \"scatterternary\": [{\"marker\": {\"colorbar\": {\"outlinewidth\": 0, \"ticks\": \"\"}}, \"type\": \"scatterternary\"}], \"surface\": [{\"colorbar\": {\"outlinewidth\": 0, \"ticks\": \"\"}, \"colorscale\": [[0.0, \"#0d0887\"], [0.1111111111111111, \"#46039f\"], [0.2222222222222222, \"#7201a8\"], [0.3333333333333333, \"#9c179e\"], [0.4444444444444444, \"#bd3786\"], [0.5555555555555556, \"#d8576b\"], [0.6666666666666666, \"#ed7953\"], [0.7777777777777778, \"#fb9f3a\"], [0.8888888888888888, \"#fdca26\"], [1.0, \"#f0f921\"]], \"type\": \"surface\"}], \"table\": [{\"cells\": {\"fill\": {\"color\": \"#EBF0F8\"}, \"line\": {\"color\": \"white\"}}, \"header\": {\"fill\": {\"color\": \"#C8D4E3\"}, \"line\": {\"color\": \"white\"}}, \"type\": \"table\"}]}, \"layout\": {\"annotationdefaults\": {\"arrowcolor\": \"#2a3f5f\", \"arrowhead\": 0, \"arrowwidth\": 1}, \"coloraxis\": {\"colorbar\": {\"outlinewidth\": 0, \"ticks\": \"\"}}, \"colorscale\": {\"diverging\": [[0, \"#8e0152\"], [0.1, \"#c51b7d\"], [0.2, \"#de77ae\"], [0.3, \"#f1b6da\"], [0.4, \"#fde0ef\"], [0.5, \"#f7f7f7\"], [0.6, \"#e6f5d0\"], [0.7, \"#b8e186\"], [0.8, \"#7fbc41\"], [0.9, \"#4d9221\"], [1, \"#276419\"]], \"sequential\": [[0.0, \"#0d0887\"], [0.1111111111111111, \"#46039f\"], [0.2222222222222222, \"#7201a8\"], [0.3333333333333333, \"#9c179e\"], [0.4444444444444444, \"#bd3786\"], [0.5555555555555556, \"#d8576b\"], [0.6666666666666666, \"#ed7953\"], [0.7777777777777778, \"#fb9f3a\"], [0.8888888888888888, \"#fdca26\"], [1.0, \"#f0f921\"]], \"sequentialminus\": [[0.0, \"#0d0887\"], [0.1111111111111111, \"#46039f\"], [0.2222222222222222, \"#7201a8\"], [0.3333333333333333, \"#9c179e\"], [0.4444444444444444, \"#bd3786\"], [0.5555555555555556, \"#d8576b\"], [0.6666666666666666, \"#ed7953\"], [0.7777777777777778, \"#fb9f3a\"], [0.8888888888888888, \"#fdca26\"], [1.0, \"#f0f921\"]]}, \"colorway\": [\"#636efa\", \"#EF553B\", \"#00cc96\", \"#ab63fa\", \"#FFA15A\", \"#19d3f3\", \"#FF6692\", \"#B6E880\", \"#FF97FF\", \"#FECB52\"], \"font\": {\"color\": \"#2a3f5f\"}, \"geo\": {\"bgcolor\": \"white\", \"lakecolor\": \"white\", \"landcolor\": \"#E5ECF6\", \"showlakes\": true, \"showland\": true, \"subunitcolor\": \"white\"}, \"hoverlabel\": {\"align\": \"left\"}, \"hovermode\": \"closest\", \"mapbox\": {\"style\": \"light\"}, \"paper_bgcolor\": \"white\", \"plot_bgcolor\": \"#E5ECF6\", \"polar\": {\"angularaxis\": {\"gridcolor\": \"white\", \"linecolor\": \"white\", \"ticks\": \"\"}, \"bgcolor\": \"#E5ECF6\", \"radialaxis\": {\"gridcolor\": \"white\", \"linecolor\": \"white\", \"ticks\": \"\"}}, \"scene\": {\"xaxis\": {\"backgroundcolor\": \"#E5ECF6\", \"gridcolor\": \"white\", \"gridwidth\": 2, \"linecolor\": \"white\", \"showbackground\": true, \"ticks\": \"\", \"zerolinecolor\": \"white\"}, \"yaxis\": {\"backgroundcolor\": \"#E5ECF6\", \"gridcolor\": \"white\", \"gridwidth\": 2, \"linecolor\": \"white\", \"showbackground\": true, \"ticks\": \"\", \"zerolinecolor\": \"white\"}, \"zaxis\": {\"backgroundcolor\": \"#E5ECF6\", \"gridcolor\": \"white\", \"gridwidth\": 2, \"linecolor\": \"white\", \"showbackground\": true, \"ticks\": \"\", \"zerolinecolor\": \"white\"}}, \"shapedefaults\": {\"line\": {\"color\": \"#2a3f5f\"}}, \"ternary\": {\"aaxis\": {\"gridcolor\": \"white\", \"linecolor\": \"white\", \"ticks\": \"\"}, \"baxis\": {\"gridcolor\": \"white\", \"linecolor\": \"white\", \"ticks\": \"\"}, \"bgcolor\": \"#E5ECF6\", \"caxis\": {\"gridcolor\": \"white\", \"linecolor\": \"white\", \"ticks\": \"\"}}, \"title\": {\"x\": 0.05}, \"xaxis\": {\"automargin\": true, \"gridcolor\": \"white\", \"linecolor\": \"white\", \"ticks\": \"\", \"title\": {\"standoff\": 15}, \"zerolinecolor\": \"white\", \"zerolinewidth\": 2}, \"yaxis\": {\"automargin\": true, \"gridcolor\": \"white\", \"linecolor\": \"white\", \"ticks\": \"\", \"title\": {\"standoff\": 15}, \"zerolinecolor\": \"white\", \"zerolinewidth\": 2}}}, \"title\": {\"font\": {\"color\": \"#4D5663\"}}, \"xaxis\": {\"gridcolor\": \"#E1E5ED\", \"showgrid\": true, \"tickfont\": {\"color\": \"#4D5663\"}, \"title\": {\"font\": {\"color\": \"#4D5663\"}, \"text\": \"\"}, \"zerolinecolor\": \"#E1E5ED\"}, \"yaxis\": {\"gridcolor\": \"#E1E5ED\", \"showgrid\": true, \"tickfont\": {\"color\": \"#4D5663\"}, \"title\": {\"font\": {\"color\": \"#4D5663\"}, \"text\": \"\"}, \"zerolinecolor\": \"#E1E5ED\"}},\n",
       "                        {\"showLink\": true, \"linkText\": \"Export to plot.ly\", \"plotlyServerURL\": \"https://plot.ly\", \"responsive\": true}\n",
       "                    ).then(function(){\n",
       "                            \n",
       "var gd = document.getElementById('387f6ddb-17f2-4725-8418-83be0597ab73');\n",
       "var x = new MutationObserver(function (mutations, observer) {{\n",
       "        var display = window.getComputedStyle(gd).display;\n",
       "        if (!display || display === 'none') {{\n",
       "            console.log([gd, 'removed!']);\n",
       "            Plotly.purge(gd);\n",
       "            observer.disconnect();\n",
       "        }}\n",
       "}});\n",
       "\n",
       "// Listen for the removal of the full notebook cells\n",
       "var notebookContainer = gd.closest('#notebook-container');\n",
       "if (notebookContainer) {{\n",
       "    x.observe(notebookContainer, {childList: true});\n",
       "}}\n",
       "\n",
       "// Listen for the clearing of the current output cell\n",
       "var outputEl = gd.closest('.output');\n",
       "if (outputEl) {{\n",
       "    x.observe(outputEl, {childList: true});\n",
       "}}\n",
       "\n",
       "                        })\n",
       "                };\n",
       "                });\n",
       "            </script>\n",
       "        </div>"
      ]
     },
     "metadata": {},
     "output_type": "display_data"
    }
   ],
   "source": [
    "df3 = pd.DataFrame({'x':[1,2,3,4,5],'y':[10,20,30,20,10],'z':[5,4,3,2,1]})\n",
    "df3.iplot(kind='surface',colorscale='rdylbu')"
   ]
  },
  {
   "cell_type": "markdown",
   "metadata": {},
   "source": [
    "## Spread"
   ]
  },
  {
   "cell_type": "code",
   "execution_count": 15,
   "metadata": {},
   "outputs": [
    {
     "name": "stderr",
     "output_type": "stream",
     "text": [
      "C:\\Users\\Dell\\anaconda3\\lib\\site-packages\\cufflinks\\plotlytools.py:849: FutureWarning:\n",
      "\n",
      "The pandas.np module is deprecated and will be removed from pandas in a future version. Import numpy directly instead\n",
      "\n",
      "C:\\Users\\Dell\\anaconda3\\lib\\site-packages\\cufflinks\\plotlytools.py:850: FutureWarning:\n",
      "\n",
      "The pandas.np module is deprecated and will be removed from pandas in a future version. Import numpy directly instead\n",
      "\n"
     ]
    },
    {
     "data": {
      "application/vnd.plotly.v1+json": {
       "config": {
        "linkText": "Export to plot.ly",
        "plotlyServerURL": "https://plot.ly",
        "showLink": true
       },
       "data": [
        {
         "line": {
          "color": "rgba(255, 153, 51, 1.0)",
          "dash": "solid",
          "shape": "linear",
          "width": 1.3
         },
         "mode": "lines",
         "name": "A",
         "text": "",
         "type": "scatter",
         "x": [
          0,
          1,
          2,
          3,
          4,
          5,
          6,
          7,
          8,
          9,
          10,
          11,
          12,
          13,
          14,
          15,
          16,
          17,
          18,
          19,
          20,
          21,
          22,
          23,
          24,
          25,
          26,
          27,
          28,
          29,
          30,
          31,
          32,
          33,
          34,
          35,
          36,
          37,
          38,
          39,
          40,
          41,
          42,
          43,
          44,
          45,
          46,
          47,
          48,
          49,
          50,
          51,
          52,
          53,
          54,
          55,
          56,
          57,
          58,
          59,
          60,
          61,
          62,
          63,
          64,
          65,
          66,
          67,
          68,
          69,
          70,
          71,
          72,
          73,
          74,
          75,
          76,
          77,
          78,
          79,
          80,
          81,
          82,
          83,
          84,
          85,
          86,
          87,
          88,
          89,
          90,
          91,
          92,
          93,
          94,
          95,
          96,
          97,
          98,
          99
         ],
         "y": [
          -0.35258759777768894,
          -0.2689202523477829,
          -0.7275561455665225,
          -0.4092338836746071,
          0.5939352897099525,
          -1.2142800943388812,
          0.7711096389260248,
          -0.21383971610196364,
          2.0142645914043507,
          0.7799110307712278,
          1.5457083578522435,
          0.9085304936655417,
          1.1418265830175587,
          -0.2104929729809623,
          0.7660603426217358,
          -2.0280362769007985,
          -2.233828943016878,
          -0.6300848842080163,
          1.5525234298421335,
          2.0855689538407653,
          -0.1996846114408051,
          0.5116603997849389,
          0.4413175834881552,
          -0.052475122738868694,
          -1.4832273130424847,
          -0.25774388512369106,
          -1.0640559145877198,
          -0.3583588767557854,
          -0.753930925599534,
          0.004074420280987488,
          -0.14176351936354767,
          1.4218626480633727,
          -1.3406424365335914,
          -0.6306641256341762,
          0.34681256724898757,
          0.43592034039747934,
          0.6865252140987607,
          0.5969319637737608,
          -0.2957449312225045,
          -1.5104607394739267,
          -0.2970795197674708,
          -1.510972639222177,
          -0.997112695722731,
          -0.16208689230666798,
          1.380420552001041,
          -0.11125905541840161,
          0.4671259115943136,
          0.8067247284977627,
          -1.0343495030780103,
          0.5994055167033986,
          -2.392944687471754,
          0.009841623131410187,
          -2.805109312482037,
          0.08829982085256122,
          0.1587117032205557,
          0.3710578971195314,
          -0.6880114701614541,
          1.4592294790120843,
          0.32260083504845827,
          -0.31203982509622247,
          -0.5016395710778763,
          -0.7092626495034179,
          1.0623166785638058,
          -1.5567282874418933,
          -0.4470023818970348,
          0.9298520292269593,
          0.051790544147703926,
          -0.592455513839245,
          -0.1196242233503168,
          1.1594675175773657,
          0.6629796478742163,
          -1.7891314124011264,
          -2.0335113265519764,
          -0.6999835342221341,
          -1.1917599758854707,
          0.48071537380142443,
          0.05952184244397095,
          -0.5785307065158325,
          -0.3421145600853384,
          -1.4039388516097686,
          2.1502912104578336,
          -0.9615052636121858,
          -2.7254911460318976,
          0.9774563628902962,
          0.05190045743478614,
          0.2126943664117536,
          -1.5952990423031996,
          0.9130858983745637,
          -0.21639455031226423,
          -0.23989461487285638,
          0.9728080442967975,
          -0.1460459616149387,
          -1.3521999478330948,
          -2.065521937125486,
          -0.27532113693680454,
          -0.5980265778152496,
          0.09311905136783473,
          1.1902875577767913,
          0.2899773682382634,
          -0.312252032605789
         ]
        },
        {
         "line": {
          "color": "rgba(55, 128, 191, 1.0)",
          "dash": "solid",
          "shape": "linear",
          "width": 1.3
         },
         "mode": "lines",
         "name": "B",
         "text": "",
         "type": "scatter",
         "x": [
          0,
          1,
          2,
          3,
          4,
          5,
          6,
          7,
          8,
          9,
          10,
          11,
          12,
          13,
          14,
          15,
          16,
          17,
          18,
          19,
          20,
          21,
          22,
          23,
          24,
          25,
          26,
          27,
          28,
          29,
          30,
          31,
          32,
          33,
          34,
          35,
          36,
          37,
          38,
          39,
          40,
          41,
          42,
          43,
          44,
          45,
          46,
          47,
          48,
          49,
          50,
          51,
          52,
          53,
          54,
          55,
          56,
          57,
          58,
          59,
          60,
          61,
          62,
          63,
          64,
          65,
          66,
          67,
          68,
          69,
          70,
          71,
          72,
          73,
          74,
          75,
          76,
          77,
          78,
          79,
          80,
          81,
          82,
          83,
          84,
          85,
          86,
          87,
          88,
          89,
          90,
          91,
          92,
          93,
          94,
          95,
          96,
          97,
          98,
          99
         ],
         "y": [
          0.9398897318214089,
          -0.8731839425082643,
          0.046902450656532195,
          -0.5730263478031349,
          0.20964920461071293,
          1.589873522036531,
          0.04750924541528327,
          0.3550099321199273,
          -1.3717152265624826,
          -0.29363834535540906,
          -0.6834415374498101,
          0.3013358888971489,
          0.08557550080518363,
          -0.6075508809315883,
          -0.4554319865724272,
          -0.6267217986862303,
          -0.12408272291175006,
          2.1377019386303426,
          -0.5543428603297601,
          -0.26825029207872786,
          -1.0491011370545602,
          -0.3238181830805828,
          0.3117772248306555,
          -1.808426122955307,
          -0.33810791145502933,
          0.8746190178364772,
          0.3880907514176325,
          -0.2146447776967657,
          0.7117228782364389,
          -1.034419032052581,
          -1.3025207269502206,
          -0.9431243446739456,
          -1.3566849831833117,
          0.9139728482420952,
          -0.4491906321351525,
          0.20439161904362946,
          1.0408022183431263,
          0.5066670948192474,
          -0.10350418262487975,
          -0.9059301100673794,
          -0.18267520984842991,
          -0.12932747242214102,
          0.9490202299868135,
          1.5445301177158561,
          -0.5484910871344092,
          1.3463270476962672,
          -0.31544005436995826,
          -1.4849556354680933,
          0.6161677445530706,
          -1.4826409768646185,
          1.0790226993828536,
          0.17870810808648277,
          1.2507159469031213,
          -0.3723212271360819,
          1.1351360546362514,
          0.4989889637299344,
          0.5307557889854935,
          0.7642488396101653,
          -0.8648674375434916,
          -0.9868819280636416,
          -1.374768191849497,
          0.040196813920813354,
          -1.8501252771933256,
          -0.47096661859921635,
          0.030148809422230492,
          -0.49629746394738594,
          -0.48055047186500344,
          1.0019238054310298,
          -0.2059649005632659,
          0.03397516273643297,
          1.0738805827143372,
          2.4721239137994315,
          -0.4052189135756334,
          -0.34375404549779637,
          -1.0857649696484415,
          0.055094811569757304,
          -0.8850098967698943,
          -0.22656957039513467,
          0.39986500767204186,
          -0.34663345478149626,
          0.3968003349411088,
          -0.26733465187034505,
          -0.2198127906046125,
          0.37235632515082645,
          0.2910676243965551,
          -0.05890540711534565,
          0.9968503248422131,
          1.0010157850265846,
          -0.1184178551405647,
          0.30865917238422885,
          -0.3880279024822919,
          1.1596828942923951,
          -0.7113173402696118,
          1.6878264070830626,
          1.242425123682662,
          -0.49942462992988224,
          0.4277971787926875,
          0.918168330122392,
          -0.036254957143438314,
          0.7175071803974852
         ]
        },
        {
         "connectgaps": false,
         "fill": "tozeroy",
         "line": {
          "color": "green",
          "dash": "solid",
          "shape": "linear",
          "width": 0.5
         },
         "mode": "lines",
         "name": "Spread",
         "showlegend": false,
         "type": "scatter",
         "x": [
          0,
          1,
          2,
          3,
          4,
          5,
          6,
          7,
          8,
          9,
          10,
          11,
          12,
          13,
          14,
          15,
          16,
          17,
          18,
          19,
          20,
          21,
          22,
          23,
          24,
          25,
          26,
          27,
          28,
          29,
          30,
          31,
          32,
          33,
          34,
          35,
          36,
          37,
          38,
          39,
          40,
          41,
          42,
          43,
          44,
          45,
          46,
          47,
          48,
          49,
          50,
          51,
          52,
          53,
          54,
          55,
          56,
          57,
          58,
          59,
          60,
          61,
          62,
          63,
          64,
          65,
          66,
          67,
          68,
          69,
          70,
          71,
          72,
          73,
          74,
          75,
          76,
          77,
          78,
          79,
          80,
          81,
          82,
          83,
          84,
          85,
          86,
          87,
          88,
          89,
          90,
          91,
          92,
          93,
          94,
          95,
          96,
          97,
          98,
          99
         ],
         "xaxis": "x2",
         "y": [
          "",
          0.6042636901604814,
          "",
          0.16379246412852777,
          0.38428608509923956,
          "",
          0.7236003935107416,
          "",
          3.3859798179668332,
          1.0735493761266368,
          2.2291498953020534,
          0.6071946047683928,
          1.056251082212375,
          0.39705790795062595,
          1.221492329194163,
          "",
          "",
          "",
          2.1068662901718938,
          2.3538192459194933,
          0.8494165256137551,
          0.8354785828655218,
          0.1295403586574997,
          1.7559510002164382,
          "",
          "",
          "",
          "",
          "",
          1.0384934523335685,
          1.160757207586673,
          2.364986992737318,
          0.01604254664972027,
          "",
          0.7960031993841401,
          0.2315287213538499,
          "",
          0.09026486895451336,
          "",
          "",
          "",
          "",
          "",
          "",
          1.9289116391354502,
          "",
          0.7825659659642719,
          2.291680363965856,
          "",
          2.082046493568017,
          "",
          "",
          "",
          0.4606210479886431,
          "",
          "",
          "",
          0.694980639401919,
          1.1874682725919499,
          0.6748421029674192,
          0.8731286207716207,
          "",
          2.9124419557571315,
          "",
          "",
          1.4261494931743453,
          0.5323410160127073,
          "",
          0.08634067721294911,
          1.1254923548409326,
          "",
          "",
          "",
          "",
          "",
          0.4256205622316671,
          0.9445317392138652,
          "",
          "",
          "",
          1.7534908755167247,
          "",
          "",
          0.6051000377394697,
          "",
          0.27159977352709924,
          "",
          "",
          "",
          "",
          1.3608359467790894,
          "",
          "",
          "",
          "",
          "",
          "",
          0.27211922765439933,
          0.3262323253817017,
          ""
         ],
         "yaxis": "y2"
        },
        {
         "connectgaps": false,
         "fill": "tozeroy",
         "line": {
          "color": "red",
          "dash": "solid",
          "shape": "linear",
          "width": 0.5
         },
         "mode": "lines",
         "name": "Spread",
         "showlegend": false,
         "type": "scatter",
         "x": [
          0,
          1,
          2,
          3,
          4,
          5,
          6,
          7,
          8,
          9,
          10,
          11,
          12,
          13,
          14,
          15,
          16,
          17,
          18,
          19,
          20,
          21,
          22,
          23,
          24,
          25,
          26,
          27,
          28,
          29,
          30,
          31,
          32,
          33,
          34,
          35,
          36,
          37,
          38,
          39,
          40,
          41,
          42,
          43,
          44,
          45,
          46,
          47,
          48,
          49,
          50,
          51,
          52,
          53,
          54,
          55,
          56,
          57,
          58,
          59,
          60,
          61,
          62,
          63,
          64,
          65,
          66,
          67,
          68,
          69,
          70,
          71,
          72,
          73,
          74,
          75,
          76,
          77,
          78,
          79,
          80,
          81,
          82,
          83,
          84,
          85,
          86,
          87,
          88,
          89,
          90,
          91,
          92,
          93,
          94,
          95,
          96,
          97,
          98,
          99
         ],
         "xaxis": "x2",
         "y": [
          -1.292477329599098,
          "",
          -0.7744585962230547,
          "",
          "",
          -2.8041536163754124,
          "",
          -0.568849648221891,
          "",
          "",
          "",
          "",
          "",
          "",
          "",
          -1.4013144782145681,
          -2.109746220105128,
          -2.767786822838359,
          "",
          "",
          "",
          "",
          "",
          "",
          -1.1451194015874553,
          -1.1323629029601683,
          -1.4521466660053521,
          -0.14371409905901972,
          -1.465653803835973,
          "",
          "",
          "",
          "",
          -1.5446369738762713,
          "",
          "",
          -0.3542770042443656,
          "",
          -0.19224074859762474,
          -0.6045306294065472,
          -0.11440430991904091,
          -1.381645166800036,
          -1.9461329257095445,
          -1.7066170100225242,
          "",
          -1.4575861031146689,
          "",
          "",
          -1.6505172476310808,
          "",
          -3.4719673868546077,
          -0.1688664849550726,
          -4.055825259385158,
          "",
          -0.9764243514156957,
          -0.127931066610403,
          -1.2187672591469476,
          "",
          "",
          "",
          "",
          -0.7494594634242312,
          "",
          -1.085761668842677,
          -0.47715119131926526,
          "",
          "",
          -1.5943793192702747,
          "",
          "",
          -0.4109009348401209,
          -4.261255326200558,
          -1.628292412976343,
          -0.35622948872433774,
          -0.10599500623702918,
          "",
          "",
          -0.3519611361206978,
          -0.7419795677573803,
          -1.0573053968282724,
          "",
          -0.6941706117418407,
          -2.505678355427285,
          "",
          -0.23916716696176896,
          "",
          -2.5921493671454128,
          -0.08792988665202095,
          -0.09797669517169953,
          -0.5485537872570853,
          "",
          -1.305728855907334,
          -0.640882607563483,
          -3.7533483442085487,
          -1.5177462606194665,
          -0.09860194788536736,
          -0.3346781274248528,
          "",
          "",
          -1.0297592130032742
         ],
         "yaxis": "y2"
        }
       ],
       "layout": {
        "hovermode": "x",
        "legend": {
         "bgcolor": "#F5F6F9",
         "font": {
          "color": "#4D5663"
         }
        },
        "paper_bgcolor": "#F5F6F9",
        "plot_bgcolor": "#F5F6F9",
        "template": {
         "data": {
          "bar": [
           {
            "error_x": {
             "color": "#2a3f5f"
            },
            "error_y": {
             "color": "#2a3f5f"
            },
            "marker": {
             "line": {
              "color": "#E5ECF6",
              "width": 0.5
             }
            },
            "type": "bar"
           }
          ],
          "barpolar": [
           {
            "marker": {
             "line": {
              "color": "#E5ECF6",
              "width": 0.5
             }
            },
            "type": "barpolar"
           }
          ],
          "carpet": [
           {
            "aaxis": {
             "endlinecolor": "#2a3f5f",
             "gridcolor": "white",
             "linecolor": "white",
             "minorgridcolor": "white",
             "startlinecolor": "#2a3f5f"
            },
            "baxis": {
             "endlinecolor": "#2a3f5f",
             "gridcolor": "white",
             "linecolor": "white",
             "minorgridcolor": "white",
             "startlinecolor": "#2a3f5f"
            },
            "type": "carpet"
           }
          ],
          "choropleth": [
           {
            "colorbar": {
             "outlinewidth": 0,
             "ticks": ""
            },
            "type": "choropleth"
           }
          ],
          "contour": [
           {
            "colorbar": {
             "outlinewidth": 0,
             "ticks": ""
            },
            "colorscale": [
             [
              0,
              "#0d0887"
             ],
             [
              0.1111111111111111,
              "#46039f"
             ],
             [
              0.2222222222222222,
              "#7201a8"
             ],
             [
              0.3333333333333333,
              "#9c179e"
             ],
             [
              0.4444444444444444,
              "#bd3786"
             ],
             [
              0.5555555555555556,
              "#d8576b"
             ],
             [
              0.6666666666666666,
              "#ed7953"
             ],
             [
              0.7777777777777778,
              "#fb9f3a"
             ],
             [
              0.8888888888888888,
              "#fdca26"
             ],
             [
              1,
              "#f0f921"
             ]
            ],
            "type": "contour"
           }
          ],
          "contourcarpet": [
           {
            "colorbar": {
             "outlinewidth": 0,
             "ticks": ""
            },
            "type": "contourcarpet"
           }
          ],
          "heatmap": [
           {
            "colorbar": {
             "outlinewidth": 0,
             "ticks": ""
            },
            "colorscale": [
             [
              0,
              "#0d0887"
             ],
             [
              0.1111111111111111,
              "#46039f"
             ],
             [
              0.2222222222222222,
              "#7201a8"
             ],
             [
              0.3333333333333333,
              "#9c179e"
             ],
             [
              0.4444444444444444,
              "#bd3786"
             ],
             [
              0.5555555555555556,
              "#d8576b"
             ],
             [
              0.6666666666666666,
              "#ed7953"
             ],
             [
              0.7777777777777778,
              "#fb9f3a"
             ],
             [
              0.8888888888888888,
              "#fdca26"
             ],
             [
              1,
              "#f0f921"
             ]
            ],
            "type": "heatmap"
           }
          ],
          "heatmapgl": [
           {
            "colorbar": {
             "outlinewidth": 0,
             "ticks": ""
            },
            "colorscale": [
             [
              0,
              "#0d0887"
             ],
             [
              0.1111111111111111,
              "#46039f"
             ],
             [
              0.2222222222222222,
              "#7201a8"
             ],
             [
              0.3333333333333333,
              "#9c179e"
             ],
             [
              0.4444444444444444,
              "#bd3786"
             ],
             [
              0.5555555555555556,
              "#d8576b"
             ],
             [
              0.6666666666666666,
              "#ed7953"
             ],
             [
              0.7777777777777778,
              "#fb9f3a"
             ],
             [
              0.8888888888888888,
              "#fdca26"
             ],
             [
              1,
              "#f0f921"
             ]
            ],
            "type": "heatmapgl"
           }
          ],
          "histogram": [
           {
            "marker": {
             "colorbar": {
              "outlinewidth": 0,
              "ticks": ""
             }
            },
            "type": "histogram"
           }
          ],
          "histogram2d": [
           {
            "colorbar": {
             "outlinewidth": 0,
             "ticks": ""
            },
            "colorscale": [
             [
              0,
              "#0d0887"
             ],
             [
              0.1111111111111111,
              "#46039f"
             ],
             [
              0.2222222222222222,
              "#7201a8"
             ],
             [
              0.3333333333333333,
              "#9c179e"
             ],
             [
              0.4444444444444444,
              "#bd3786"
             ],
             [
              0.5555555555555556,
              "#d8576b"
             ],
             [
              0.6666666666666666,
              "#ed7953"
             ],
             [
              0.7777777777777778,
              "#fb9f3a"
             ],
             [
              0.8888888888888888,
              "#fdca26"
             ],
             [
              1,
              "#f0f921"
             ]
            ],
            "type": "histogram2d"
           }
          ],
          "histogram2dcontour": [
           {
            "colorbar": {
             "outlinewidth": 0,
             "ticks": ""
            },
            "colorscale": [
             [
              0,
              "#0d0887"
             ],
             [
              0.1111111111111111,
              "#46039f"
             ],
             [
              0.2222222222222222,
              "#7201a8"
             ],
             [
              0.3333333333333333,
              "#9c179e"
             ],
             [
              0.4444444444444444,
              "#bd3786"
             ],
             [
              0.5555555555555556,
              "#d8576b"
             ],
             [
              0.6666666666666666,
              "#ed7953"
             ],
             [
              0.7777777777777778,
              "#fb9f3a"
             ],
             [
              0.8888888888888888,
              "#fdca26"
             ],
             [
              1,
              "#f0f921"
             ]
            ],
            "type": "histogram2dcontour"
           }
          ],
          "mesh3d": [
           {
            "colorbar": {
             "outlinewidth": 0,
             "ticks": ""
            },
            "type": "mesh3d"
           }
          ],
          "parcoords": [
           {
            "line": {
             "colorbar": {
              "outlinewidth": 0,
              "ticks": ""
             }
            },
            "type": "parcoords"
           }
          ],
          "pie": [
           {
            "automargin": true,
            "type": "pie"
           }
          ],
          "scatter": [
           {
            "marker": {
             "colorbar": {
              "outlinewidth": 0,
              "ticks": ""
             }
            },
            "type": "scatter"
           }
          ],
          "scatter3d": [
           {
            "line": {
             "colorbar": {
              "outlinewidth": 0,
              "ticks": ""
             }
            },
            "marker": {
             "colorbar": {
              "outlinewidth": 0,
              "ticks": ""
             }
            },
            "type": "scatter3d"
           }
          ],
          "scattercarpet": [
           {
            "marker": {
             "colorbar": {
              "outlinewidth": 0,
              "ticks": ""
             }
            },
            "type": "scattercarpet"
           }
          ],
          "scattergeo": [
           {
            "marker": {
             "colorbar": {
              "outlinewidth": 0,
              "ticks": ""
             }
            },
            "type": "scattergeo"
           }
          ],
          "scattergl": [
           {
            "marker": {
             "colorbar": {
              "outlinewidth": 0,
              "ticks": ""
             }
            },
            "type": "scattergl"
           }
          ],
          "scattermapbox": [
           {
            "marker": {
             "colorbar": {
              "outlinewidth": 0,
              "ticks": ""
             }
            },
            "type": "scattermapbox"
           }
          ],
          "scatterpolar": [
           {
            "marker": {
             "colorbar": {
              "outlinewidth": 0,
              "ticks": ""
             }
            },
            "type": "scatterpolar"
           }
          ],
          "scatterpolargl": [
           {
            "marker": {
             "colorbar": {
              "outlinewidth": 0,
              "ticks": ""
             }
            },
            "type": "scatterpolargl"
           }
          ],
          "scatterternary": [
           {
            "marker": {
             "colorbar": {
              "outlinewidth": 0,
              "ticks": ""
             }
            },
            "type": "scatterternary"
           }
          ],
          "surface": [
           {
            "colorbar": {
             "outlinewidth": 0,
             "ticks": ""
            },
            "colorscale": [
             [
              0,
              "#0d0887"
             ],
             [
              0.1111111111111111,
              "#46039f"
             ],
             [
              0.2222222222222222,
              "#7201a8"
             ],
             [
              0.3333333333333333,
              "#9c179e"
             ],
             [
              0.4444444444444444,
              "#bd3786"
             ],
             [
              0.5555555555555556,
              "#d8576b"
             ],
             [
              0.6666666666666666,
              "#ed7953"
             ],
             [
              0.7777777777777778,
              "#fb9f3a"
             ],
             [
              0.8888888888888888,
              "#fdca26"
             ],
             [
              1,
              "#f0f921"
             ]
            ],
            "type": "surface"
           }
          ],
          "table": [
           {
            "cells": {
             "fill": {
              "color": "#EBF0F8"
             },
             "line": {
              "color": "white"
             }
            },
            "header": {
             "fill": {
              "color": "#C8D4E3"
             },
             "line": {
              "color": "white"
             }
            },
            "type": "table"
           }
          ]
         },
         "layout": {
          "annotationdefaults": {
           "arrowcolor": "#2a3f5f",
           "arrowhead": 0,
           "arrowwidth": 1
          },
          "coloraxis": {
           "colorbar": {
            "outlinewidth": 0,
            "ticks": ""
           }
          },
          "colorscale": {
           "diverging": [
            [
             0,
             "#8e0152"
            ],
            [
             0.1,
             "#c51b7d"
            ],
            [
             0.2,
             "#de77ae"
            ],
            [
             0.3,
             "#f1b6da"
            ],
            [
             0.4,
             "#fde0ef"
            ],
            [
             0.5,
             "#f7f7f7"
            ],
            [
             0.6,
             "#e6f5d0"
            ],
            [
             0.7,
             "#b8e186"
            ],
            [
             0.8,
             "#7fbc41"
            ],
            [
             0.9,
             "#4d9221"
            ],
            [
             1,
             "#276419"
            ]
           ],
           "sequential": [
            [
             0,
             "#0d0887"
            ],
            [
             0.1111111111111111,
             "#46039f"
            ],
            [
             0.2222222222222222,
             "#7201a8"
            ],
            [
             0.3333333333333333,
             "#9c179e"
            ],
            [
             0.4444444444444444,
             "#bd3786"
            ],
            [
             0.5555555555555556,
             "#d8576b"
            ],
            [
             0.6666666666666666,
             "#ed7953"
            ],
            [
             0.7777777777777778,
             "#fb9f3a"
            ],
            [
             0.8888888888888888,
             "#fdca26"
            ],
            [
             1,
             "#f0f921"
            ]
           ],
           "sequentialminus": [
            [
             0,
             "#0d0887"
            ],
            [
             0.1111111111111111,
             "#46039f"
            ],
            [
             0.2222222222222222,
             "#7201a8"
            ],
            [
             0.3333333333333333,
             "#9c179e"
            ],
            [
             0.4444444444444444,
             "#bd3786"
            ],
            [
             0.5555555555555556,
             "#d8576b"
            ],
            [
             0.6666666666666666,
             "#ed7953"
            ],
            [
             0.7777777777777778,
             "#fb9f3a"
            ],
            [
             0.8888888888888888,
             "#fdca26"
            ],
            [
             1,
             "#f0f921"
            ]
           ]
          },
          "colorway": [
           "#636efa",
           "#EF553B",
           "#00cc96",
           "#ab63fa",
           "#FFA15A",
           "#19d3f3",
           "#FF6692",
           "#B6E880",
           "#FF97FF",
           "#FECB52"
          ],
          "font": {
           "color": "#2a3f5f"
          },
          "geo": {
           "bgcolor": "white",
           "lakecolor": "white",
           "landcolor": "#E5ECF6",
           "showlakes": true,
           "showland": true,
           "subunitcolor": "white"
          },
          "hoverlabel": {
           "align": "left"
          },
          "hovermode": "closest",
          "mapbox": {
           "style": "light"
          },
          "paper_bgcolor": "white",
          "plot_bgcolor": "#E5ECF6",
          "polar": {
           "angularaxis": {
            "gridcolor": "white",
            "linecolor": "white",
            "ticks": ""
           },
           "bgcolor": "#E5ECF6",
           "radialaxis": {
            "gridcolor": "white",
            "linecolor": "white",
            "ticks": ""
           }
          },
          "scene": {
           "xaxis": {
            "backgroundcolor": "#E5ECF6",
            "gridcolor": "white",
            "gridwidth": 2,
            "linecolor": "white",
            "showbackground": true,
            "ticks": "",
            "zerolinecolor": "white"
           },
           "yaxis": {
            "backgroundcolor": "#E5ECF6",
            "gridcolor": "white",
            "gridwidth": 2,
            "linecolor": "white",
            "showbackground": true,
            "ticks": "",
            "zerolinecolor": "white"
           },
           "zaxis": {
            "backgroundcolor": "#E5ECF6",
            "gridcolor": "white",
            "gridwidth": 2,
            "linecolor": "white",
            "showbackground": true,
            "ticks": "",
            "zerolinecolor": "white"
           }
          },
          "shapedefaults": {
           "line": {
            "color": "#2a3f5f"
           }
          },
          "ternary": {
           "aaxis": {
            "gridcolor": "white",
            "linecolor": "white",
            "ticks": ""
           },
           "baxis": {
            "gridcolor": "white",
            "linecolor": "white",
            "ticks": ""
           },
           "bgcolor": "#E5ECF6",
           "caxis": {
            "gridcolor": "white",
            "linecolor": "white",
            "ticks": ""
           }
          },
          "title": {
           "x": 0.05
          },
          "xaxis": {
           "automargin": true,
           "gridcolor": "white",
           "linecolor": "white",
           "ticks": "",
           "title": {
            "standoff": 15
           },
           "zerolinecolor": "white",
           "zerolinewidth": 2
          },
          "yaxis": {
           "automargin": true,
           "gridcolor": "white",
           "linecolor": "white",
           "ticks": "",
           "title": {
            "standoff": 15
           },
           "zerolinecolor": "white",
           "zerolinewidth": 2
          }
         }
        },
        "title": {
         "font": {
          "color": "#4D5663"
         }
        },
        "xaxis": {
         "gridcolor": "#E1E5ED",
         "showgrid": true,
         "tickfont": {
          "color": "#4D5663"
         },
         "title": {
          "font": {
           "color": "#4D5663"
          },
          "text": ""
         },
         "zerolinecolor": "#E1E5ED"
        },
        "xaxis2": {
         "anchor": "y2",
         "gridcolor": "#E1E5ED",
         "showgrid": true,
         "showticklabels": false,
         "tickfont": {
          "color": "#4D5663"
         },
         "title": {
          "font": {
           "color": "#4D5663"
          },
          "text": ""
         },
         "zerolinecolor": "#E1E5ED"
        },
        "yaxis": {
         "domain": [
          0.3,
          1
         ],
         "gridcolor": "#E1E5ED",
         "showgrid": true,
         "tickfont": {
          "color": "#4D5663"
         },
         "title": {
          "font": {
           "color": "#4D5663"
          },
          "text": ""
         },
         "zerolinecolor": "#E1E5ED"
        },
        "yaxis2": {
         "domain": [
          0,
          0.25
         ],
         "gridcolor": "#E1E5ED",
         "showgrid": true,
         "tickfont": {
          "color": "#4D5663"
         },
         "title": {
          "font": {
           "color": "#4D5663"
          },
          "text": "Spread"
         },
         "zerolinecolor": "#E1E5ED"
        }
       }
      },
      "text/html": [
       "<div>\n",
       "        \n",
       "        \n",
       "            <div id=\"5e28f28b-4a7f-4f14-8048-5cc55fb3561b\" class=\"plotly-graph-div\" style=\"height:525px; width:100%;\"></div>\n",
       "            <script type=\"text/javascript\">\n",
       "                require([\"plotly\"], function(Plotly) {\n",
       "                    window.PLOTLYENV=window.PLOTLYENV || {};\n",
       "                    window.PLOTLYENV.BASE_URL='https://plot.ly';\n",
       "                    \n",
       "                if (document.getElementById(\"5e28f28b-4a7f-4f14-8048-5cc55fb3561b\")) {\n",
       "                    Plotly.newPlot(\n",
       "                        '5e28f28b-4a7f-4f14-8048-5cc55fb3561b',\n",
       "                        [{\"line\": {\"color\": \"rgba(255, 153, 51, 1.0)\", \"dash\": \"solid\", \"shape\": \"linear\", \"width\": 1.3}, \"mode\": \"lines\", \"name\": \"A\", \"text\": \"\", \"type\": \"scatter\", \"x\": [0, 1, 2, 3, 4, 5, 6, 7, 8, 9, 10, 11, 12, 13, 14, 15, 16, 17, 18, 19, 20, 21, 22, 23, 24, 25, 26, 27, 28, 29, 30, 31, 32, 33, 34, 35, 36, 37, 38, 39, 40, 41, 42, 43, 44, 45, 46, 47, 48, 49, 50, 51, 52, 53, 54, 55, 56, 57, 58, 59, 60, 61, 62, 63, 64, 65, 66, 67, 68, 69, 70, 71, 72, 73, 74, 75, 76, 77, 78, 79, 80, 81, 82, 83, 84, 85, 86, 87, 88, 89, 90, 91, 92, 93, 94, 95, 96, 97, 98, 99], \"y\": [-0.35258759777768894, -0.2689202523477829, -0.7275561455665225, -0.4092338836746071, 0.5939352897099525, -1.2142800943388812, 0.7711096389260248, -0.21383971610196364, 2.0142645914043507, 0.7799110307712278, 1.5457083578522435, 0.9085304936655417, 1.1418265830175587, -0.2104929729809623, 0.7660603426217358, -2.0280362769007985, -2.233828943016878, -0.6300848842080163, 1.5525234298421335, 2.0855689538407653, -0.1996846114408051, 0.5116603997849389, 0.4413175834881552, -0.052475122738868694, -1.4832273130424847, -0.25774388512369106, -1.0640559145877198, -0.3583588767557854, -0.753930925599534, 0.004074420280987488, -0.14176351936354767, 1.4218626480633727, -1.3406424365335914, -0.6306641256341762, 0.34681256724898757, 0.43592034039747934, 0.6865252140987607, 0.5969319637737608, -0.2957449312225045, -1.5104607394739267, -0.2970795197674708, -1.510972639222177, -0.997112695722731, -0.16208689230666798, 1.380420552001041, -0.11125905541840161, 0.4671259115943136, 0.8067247284977627, -1.0343495030780103, 0.5994055167033986, -2.392944687471754, 0.009841623131410187, -2.805109312482037, 0.08829982085256122, 0.1587117032205557, 0.3710578971195314, -0.6880114701614541, 1.4592294790120843, 0.32260083504845827, -0.31203982509622247, -0.5016395710778763, -0.7092626495034179, 1.0623166785638058, -1.5567282874418933, -0.4470023818970348, 0.9298520292269593, 0.051790544147703926, -0.592455513839245, -0.1196242233503168, 1.1594675175773657, 0.6629796478742163, -1.7891314124011264, -2.0335113265519764, -0.6999835342221341, -1.1917599758854707, 0.48071537380142443, 0.05952184244397095, -0.5785307065158325, -0.3421145600853384, -1.4039388516097686, 2.1502912104578336, -0.9615052636121858, -2.7254911460318976, 0.9774563628902962, 0.05190045743478614, 0.2126943664117536, -1.5952990423031996, 0.9130858983745637, -0.21639455031226423, -0.23989461487285638, 0.9728080442967975, -0.1460459616149387, -1.3521999478330948, -2.065521937125486, -0.27532113693680454, -0.5980265778152496, 0.09311905136783473, 1.1902875577767913, 0.2899773682382634, -0.312252032605789]}, {\"line\": {\"color\": \"rgba(55, 128, 191, 1.0)\", \"dash\": \"solid\", \"shape\": \"linear\", \"width\": 1.3}, \"mode\": \"lines\", \"name\": \"B\", \"text\": \"\", \"type\": \"scatter\", \"x\": [0, 1, 2, 3, 4, 5, 6, 7, 8, 9, 10, 11, 12, 13, 14, 15, 16, 17, 18, 19, 20, 21, 22, 23, 24, 25, 26, 27, 28, 29, 30, 31, 32, 33, 34, 35, 36, 37, 38, 39, 40, 41, 42, 43, 44, 45, 46, 47, 48, 49, 50, 51, 52, 53, 54, 55, 56, 57, 58, 59, 60, 61, 62, 63, 64, 65, 66, 67, 68, 69, 70, 71, 72, 73, 74, 75, 76, 77, 78, 79, 80, 81, 82, 83, 84, 85, 86, 87, 88, 89, 90, 91, 92, 93, 94, 95, 96, 97, 98, 99], \"y\": [0.9398897318214089, -0.8731839425082643, 0.046902450656532195, -0.5730263478031349, 0.20964920461071293, 1.589873522036531, 0.04750924541528327, 0.3550099321199273, -1.3717152265624826, -0.29363834535540906, -0.6834415374498101, 0.3013358888971489, 0.08557550080518363, -0.6075508809315883, -0.4554319865724272, -0.6267217986862303, -0.12408272291175006, 2.1377019386303426, -0.5543428603297601, -0.26825029207872786, -1.0491011370545602, -0.3238181830805828, 0.3117772248306555, -1.808426122955307, -0.33810791145502933, 0.8746190178364772, 0.3880907514176325, -0.2146447776967657, 0.7117228782364389, -1.034419032052581, -1.3025207269502206, -0.9431243446739456, -1.3566849831833117, 0.9139728482420952, -0.4491906321351525, 0.20439161904362946, 1.0408022183431263, 0.5066670948192474, -0.10350418262487975, -0.9059301100673794, -0.18267520984842991, -0.12932747242214102, 0.9490202299868135, 1.5445301177158561, -0.5484910871344092, 1.3463270476962672, -0.31544005436995826, -1.4849556354680933, 0.6161677445530706, -1.4826409768646185, 1.0790226993828536, 0.17870810808648277, 1.2507159469031213, -0.3723212271360819, 1.1351360546362514, 0.4989889637299344, 0.5307557889854935, 0.7642488396101653, -0.8648674375434916, -0.9868819280636416, -1.374768191849497, 0.040196813920813354, -1.8501252771933256, -0.47096661859921635, 0.030148809422230492, -0.49629746394738594, -0.48055047186500344, 1.0019238054310298, -0.2059649005632659, 0.03397516273643297, 1.0738805827143372, 2.4721239137994315, -0.4052189135756334, -0.34375404549779637, -1.0857649696484415, 0.055094811569757304, -0.8850098967698943, -0.22656957039513467, 0.39986500767204186, -0.34663345478149626, 0.3968003349411088, -0.26733465187034505, -0.2198127906046125, 0.37235632515082645, 0.2910676243965551, -0.05890540711534565, 0.9968503248422131, 1.0010157850265846, -0.1184178551405647, 0.30865917238422885, -0.3880279024822919, 1.1596828942923951, -0.7113173402696118, 1.6878264070830626, 1.242425123682662, -0.49942462992988224, 0.4277971787926875, 0.918168330122392, -0.036254957143438314, 0.7175071803974852]}, {\"connectgaps\": false, \"fill\": \"tozeroy\", \"line\": {\"color\": \"green\", \"dash\": \"solid\", \"shape\": \"linear\", \"width\": 0.5}, \"mode\": \"lines\", \"name\": \"Spread\", \"showlegend\": false, \"type\": \"scatter\", \"x\": [0, 1, 2, 3, 4, 5, 6, 7, 8, 9, 10, 11, 12, 13, 14, 15, 16, 17, 18, 19, 20, 21, 22, 23, 24, 25, 26, 27, 28, 29, 30, 31, 32, 33, 34, 35, 36, 37, 38, 39, 40, 41, 42, 43, 44, 45, 46, 47, 48, 49, 50, 51, 52, 53, 54, 55, 56, 57, 58, 59, 60, 61, 62, 63, 64, 65, 66, 67, 68, 69, 70, 71, 72, 73, 74, 75, 76, 77, 78, 79, 80, 81, 82, 83, 84, 85, 86, 87, 88, 89, 90, 91, 92, 93, 94, 95, 96, 97, 98, 99], \"xaxis\": \"x2\", \"y\": [\"\", 0.6042636901604814, \"\", 0.16379246412852777, 0.38428608509923956, \"\", 0.7236003935107416, \"\", 3.3859798179668332, 1.0735493761266368, 2.2291498953020534, 0.6071946047683928, 1.056251082212375, 0.39705790795062595, 1.221492329194163, \"\", \"\", \"\", 2.1068662901718938, 2.3538192459194933, 0.8494165256137551, 0.8354785828655218, 0.1295403586574997, 1.7559510002164382, \"\", \"\", \"\", \"\", \"\", 1.0384934523335685, 1.160757207586673, 2.364986992737318, 0.01604254664972027, \"\", 0.7960031993841401, 0.2315287213538499, \"\", 0.09026486895451336, \"\", \"\", \"\", \"\", \"\", \"\", 1.9289116391354502, \"\", 0.7825659659642719, 2.291680363965856, \"\", 2.082046493568017, \"\", \"\", \"\", 0.4606210479886431, \"\", \"\", \"\", 0.694980639401919, 1.1874682725919499, 0.6748421029674192, 0.8731286207716207, \"\", 2.9124419557571315, \"\", \"\", 1.4261494931743453, 0.5323410160127073, \"\", 0.08634067721294911, 1.1254923548409326, \"\", \"\", \"\", \"\", \"\", 0.4256205622316671, 0.9445317392138652, \"\", \"\", \"\", 1.7534908755167247, \"\", \"\", 0.6051000377394697, \"\", 0.27159977352709924, \"\", \"\", \"\", \"\", 1.3608359467790894, \"\", \"\", \"\", \"\", \"\", \"\", 0.27211922765439933, 0.3262323253817017, \"\"], \"yaxis\": \"y2\"}, {\"connectgaps\": false, \"fill\": \"tozeroy\", \"line\": {\"color\": \"red\", \"dash\": \"solid\", \"shape\": \"linear\", \"width\": 0.5}, \"mode\": \"lines\", \"name\": \"Spread\", \"showlegend\": false, \"type\": \"scatter\", \"x\": [0, 1, 2, 3, 4, 5, 6, 7, 8, 9, 10, 11, 12, 13, 14, 15, 16, 17, 18, 19, 20, 21, 22, 23, 24, 25, 26, 27, 28, 29, 30, 31, 32, 33, 34, 35, 36, 37, 38, 39, 40, 41, 42, 43, 44, 45, 46, 47, 48, 49, 50, 51, 52, 53, 54, 55, 56, 57, 58, 59, 60, 61, 62, 63, 64, 65, 66, 67, 68, 69, 70, 71, 72, 73, 74, 75, 76, 77, 78, 79, 80, 81, 82, 83, 84, 85, 86, 87, 88, 89, 90, 91, 92, 93, 94, 95, 96, 97, 98, 99], \"xaxis\": \"x2\", \"y\": [-1.292477329599098, \"\", -0.7744585962230547, \"\", \"\", -2.8041536163754124, \"\", -0.568849648221891, \"\", \"\", \"\", \"\", \"\", \"\", \"\", -1.4013144782145681, -2.109746220105128, -2.767786822838359, \"\", \"\", \"\", \"\", \"\", \"\", -1.1451194015874553, -1.1323629029601683, -1.4521466660053521, -0.14371409905901972, -1.465653803835973, \"\", \"\", \"\", \"\", -1.5446369738762713, \"\", \"\", -0.3542770042443656, \"\", -0.19224074859762474, -0.6045306294065472, -0.11440430991904091, -1.381645166800036, -1.9461329257095445, -1.7066170100225242, \"\", -1.4575861031146689, \"\", \"\", -1.6505172476310808, \"\", -3.4719673868546077, -0.1688664849550726, -4.055825259385158, \"\", -0.9764243514156957, -0.127931066610403, -1.2187672591469476, \"\", \"\", \"\", \"\", -0.7494594634242312, \"\", -1.085761668842677, -0.47715119131926526, \"\", \"\", -1.5943793192702747, \"\", \"\", -0.4109009348401209, -4.261255326200558, -1.628292412976343, -0.35622948872433774, -0.10599500623702918, \"\", \"\", -0.3519611361206978, -0.7419795677573803, -1.0573053968282724, \"\", -0.6941706117418407, -2.505678355427285, \"\", -0.23916716696176896, \"\", -2.5921493671454128, -0.08792988665202095, -0.09797669517169953, -0.5485537872570853, \"\", -1.305728855907334, -0.640882607563483, -3.7533483442085487, -1.5177462606194665, -0.09860194788536736, -0.3346781274248528, \"\", \"\", -1.0297592130032742], \"yaxis\": \"y2\"}],\n",
       "                        {\"hovermode\": \"x\", \"legend\": {\"bgcolor\": \"#F5F6F9\", \"font\": {\"color\": \"#4D5663\"}}, \"paper_bgcolor\": \"#F5F6F9\", \"plot_bgcolor\": \"#F5F6F9\", \"template\": {\"data\": {\"bar\": [{\"error_x\": {\"color\": \"#2a3f5f\"}, \"error_y\": {\"color\": \"#2a3f5f\"}, \"marker\": {\"line\": {\"color\": \"#E5ECF6\", \"width\": 0.5}}, \"type\": \"bar\"}], \"barpolar\": [{\"marker\": {\"line\": {\"color\": \"#E5ECF6\", \"width\": 0.5}}, \"type\": \"barpolar\"}], \"carpet\": [{\"aaxis\": {\"endlinecolor\": \"#2a3f5f\", \"gridcolor\": \"white\", \"linecolor\": \"white\", \"minorgridcolor\": \"white\", \"startlinecolor\": \"#2a3f5f\"}, \"baxis\": {\"endlinecolor\": \"#2a3f5f\", \"gridcolor\": \"white\", \"linecolor\": \"white\", \"minorgridcolor\": \"white\", \"startlinecolor\": \"#2a3f5f\"}, \"type\": \"carpet\"}], \"choropleth\": [{\"colorbar\": {\"outlinewidth\": 0, \"ticks\": \"\"}, \"type\": \"choropleth\"}], \"contour\": [{\"colorbar\": {\"outlinewidth\": 0, \"ticks\": \"\"}, \"colorscale\": [[0.0, \"#0d0887\"], [0.1111111111111111, \"#46039f\"], [0.2222222222222222, \"#7201a8\"], [0.3333333333333333, \"#9c179e\"], [0.4444444444444444, \"#bd3786\"], [0.5555555555555556, \"#d8576b\"], [0.6666666666666666, \"#ed7953\"], [0.7777777777777778, \"#fb9f3a\"], [0.8888888888888888, \"#fdca26\"], [1.0, \"#f0f921\"]], \"type\": \"contour\"}], \"contourcarpet\": [{\"colorbar\": {\"outlinewidth\": 0, \"ticks\": \"\"}, \"type\": \"contourcarpet\"}], \"heatmap\": [{\"colorbar\": {\"outlinewidth\": 0, \"ticks\": \"\"}, \"colorscale\": [[0.0, \"#0d0887\"], [0.1111111111111111, \"#46039f\"], [0.2222222222222222, \"#7201a8\"], [0.3333333333333333, \"#9c179e\"], [0.4444444444444444, \"#bd3786\"], [0.5555555555555556, \"#d8576b\"], [0.6666666666666666, \"#ed7953\"], [0.7777777777777778, \"#fb9f3a\"], [0.8888888888888888, \"#fdca26\"], [1.0, \"#f0f921\"]], \"type\": \"heatmap\"}], \"heatmapgl\": [{\"colorbar\": {\"outlinewidth\": 0, \"ticks\": \"\"}, \"colorscale\": [[0.0, \"#0d0887\"], [0.1111111111111111, \"#46039f\"], [0.2222222222222222, \"#7201a8\"], [0.3333333333333333, \"#9c179e\"], [0.4444444444444444, \"#bd3786\"], [0.5555555555555556, \"#d8576b\"], [0.6666666666666666, \"#ed7953\"], [0.7777777777777778, \"#fb9f3a\"], [0.8888888888888888, \"#fdca26\"], [1.0, \"#f0f921\"]], \"type\": \"heatmapgl\"}], \"histogram\": [{\"marker\": {\"colorbar\": {\"outlinewidth\": 0, \"ticks\": \"\"}}, \"type\": \"histogram\"}], \"histogram2d\": [{\"colorbar\": {\"outlinewidth\": 0, \"ticks\": \"\"}, \"colorscale\": [[0.0, \"#0d0887\"], [0.1111111111111111, \"#46039f\"], [0.2222222222222222, \"#7201a8\"], [0.3333333333333333, \"#9c179e\"], [0.4444444444444444, \"#bd3786\"], [0.5555555555555556, \"#d8576b\"], [0.6666666666666666, \"#ed7953\"], [0.7777777777777778, \"#fb9f3a\"], [0.8888888888888888, \"#fdca26\"], [1.0, \"#f0f921\"]], \"type\": \"histogram2d\"}], \"histogram2dcontour\": [{\"colorbar\": {\"outlinewidth\": 0, \"ticks\": \"\"}, \"colorscale\": [[0.0, \"#0d0887\"], [0.1111111111111111, \"#46039f\"], [0.2222222222222222, \"#7201a8\"], [0.3333333333333333, \"#9c179e\"], [0.4444444444444444, \"#bd3786\"], [0.5555555555555556, \"#d8576b\"], [0.6666666666666666, \"#ed7953\"], [0.7777777777777778, \"#fb9f3a\"], [0.8888888888888888, \"#fdca26\"], [1.0, \"#f0f921\"]], \"type\": \"histogram2dcontour\"}], \"mesh3d\": [{\"colorbar\": {\"outlinewidth\": 0, \"ticks\": \"\"}, \"type\": \"mesh3d\"}], \"parcoords\": [{\"line\": {\"colorbar\": {\"outlinewidth\": 0, \"ticks\": \"\"}}, \"type\": \"parcoords\"}], \"pie\": [{\"automargin\": true, \"type\": \"pie\"}], \"scatter\": [{\"marker\": {\"colorbar\": {\"outlinewidth\": 0, \"ticks\": \"\"}}, \"type\": \"scatter\"}], \"scatter3d\": [{\"line\": {\"colorbar\": {\"outlinewidth\": 0, \"ticks\": \"\"}}, \"marker\": {\"colorbar\": {\"outlinewidth\": 0, \"ticks\": \"\"}}, \"type\": \"scatter3d\"}], \"scattercarpet\": [{\"marker\": {\"colorbar\": {\"outlinewidth\": 0, \"ticks\": \"\"}}, \"type\": \"scattercarpet\"}], \"scattergeo\": [{\"marker\": {\"colorbar\": {\"outlinewidth\": 0, \"ticks\": \"\"}}, \"type\": \"scattergeo\"}], \"scattergl\": [{\"marker\": {\"colorbar\": {\"outlinewidth\": 0, \"ticks\": \"\"}}, \"type\": \"scattergl\"}], \"scattermapbox\": [{\"marker\": {\"colorbar\": {\"outlinewidth\": 0, \"ticks\": \"\"}}, \"type\": \"scattermapbox\"}], \"scatterpolar\": [{\"marker\": {\"colorbar\": {\"outlinewidth\": 0, \"ticks\": \"\"}}, \"type\": \"scatterpolar\"}], \"scatterpolargl\": [{\"marker\": {\"colorbar\": {\"outlinewidth\": 0, \"ticks\": \"\"}}, \"type\": \"scatterpolargl\"}], \"scatterternary\": [{\"marker\": {\"colorbar\": {\"outlinewidth\": 0, \"ticks\": \"\"}}, \"type\": \"scatterternary\"}], \"surface\": [{\"colorbar\": {\"outlinewidth\": 0, \"ticks\": \"\"}, \"colorscale\": [[0.0, \"#0d0887\"], [0.1111111111111111, \"#46039f\"], [0.2222222222222222, \"#7201a8\"], [0.3333333333333333, \"#9c179e\"], [0.4444444444444444, \"#bd3786\"], [0.5555555555555556, \"#d8576b\"], [0.6666666666666666, \"#ed7953\"], [0.7777777777777778, \"#fb9f3a\"], [0.8888888888888888, \"#fdca26\"], [1.0, \"#f0f921\"]], \"type\": \"surface\"}], \"table\": [{\"cells\": {\"fill\": {\"color\": \"#EBF0F8\"}, \"line\": {\"color\": \"white\"}}, \"header\": {\"fill\": {\"color\": \"#C8D4E3\"}, \"line\": {\"color\": \"white\"}}, \"type\": \"table\"}]}, \"layout\": {\"annotationdefaults\": {\"arrowcolor\": \"#2a3f5f\", \"arrowhead\": 0, \"arrowwidth\": 1}, \"coloraxis\": {\"colorbar\": {\"outlinewidth\": 0, \"ticks\": \"\"}}, \"colorscale\": {\"diverging\": [[0, \"#8e0152\"], [0.1, \"#c51b7d\"], [0.2, \"#de77ae\"], [0.3, \"#f1b6da\"], [0.4, \"#fde0ef\"], [0.5, \"#f7f7f7\"], [0.6, \"#e6f5d0\"], [0.7, \"#b8e186\"], [0.8, \"#7fbc41\"], [0.9, \"#4d9221\"], [1, \"#276419\"]], \"sequential\": [[0.0, \"#0d0887\"], [0.1111111111111111, \"#46039f\"], [0.2222222222222222, \"#7201a8\"], [0.3333333333333333, \"#9c179e\"], [0.4444444444444444, \"#bd3786\"], [0.5555555555555556, \"#d8576b\"], [0.6666666666666666, \"#ed7953\"], [0.7777777777777778, \"#fb9f3a\"], [0.8888888888888888, \"#fdca26\"], [1.0, \"#f0f921\"]], \"sequentialminus\": [[0.0, \"#0d0887\"], [0.1111111111111111, \"#46039f\"], [0.2222222222222222, \"#7201a8\"], [0.3333333333333333, \"#9c179e\"], [0.4444444444444444, \"#bd3786\"], [0.5555555555555556, \"#d8576b\"], [0.6666666666666666, \"#ed7953\"], [0.7777777777777778, \"#fb9f3a\"], [0.8888888888888888, \"#fdca26\"], [1.0, \"#f0f921\"]]}, \"colorway\": [\"#636efa\", \"#EF553B\", \"#00cc96\", \"#ab63fa\", \"#FFA15A\", \"#19d3f3\", \"#FF6692\", \"#B6E880\", \"#FF97FF\", \"#FECB52\"], \"font\": {\"color\": \"#2a3f5f\"}, \"geo\": {\"bgcolor\": \"white\", \"lakecolor\": \"white\", \"landcolor\": \"#E5ECF6\", \"showlakes\": true, \"showland\": true, \"subunitcolor\": \"white\"}, \"hoverlabel\": {\"align\": \"left\"}, \"hovermode\": \"closest\", \"mapbox\": {\"style\": \"light\"}, \"paper_bgcolor\": \"white\", \"plot_bgcolor\": \"#E5ECF6\", \"polar\": {\"angularaxis\": {\"gridcolor\": \"white\", \"linecolor\": \"white\", \"ticks\": \"\"}, \"bgcolor\": \"#E5ECF6\", \"radialaxis\": {\"gridcolor\": \"white\", \"linecolor\": \"white\", \"ticks\": \"\"}}, \"scene\": {\"xaxis\": {\"backgroundcolor\": \"#E5ECF6\", \"gridcolor\": \"white\", \"gridwidth\": 2, \"linecolor\": \"white\", \"showbackground\": true, \"ticks\": \"\", \"zerolinecolor\": \"white\"}, \"yaxis\": {\"backgroundcolor\": \"#E5ECF6\", \"gridcolor\": \"white\", \"gridwidth\": 2, \"linecolor\": \"white\", \"showbackground\": true, \"ticks\": \"\", \"zerolinecolor\": \"white\"}, \"zaxis\": {\"backgroundcolor\": \"#E5ECF6\", \"gridcolor\": \"white\", \"gridwidth\": 2, \"linecolor\": \"white\", \"showbackground\": true, \"ticks\": \"\", \"zerolinecolor\": \"white\"}}, \"shapedefaults\": {\"line\": {\"color\": \"#2a3f5f\"}}, \"ternary\": {\"aaxis\": {\"gridcolor\": \"white\", \"linecolor\": \"white\", \"ticks\": \"\"}, \"baxis\": {\"gridcolor\": \"white\", \"linecolor\": \"white\", \"ticks\": \"\"}, \"bgcolor\": \"#E5ECF6\", \"caxis\": {\"gridcolor\": \"white\", \"linecolor\": \"white\", \"ticks\": \"\"}}, \"title\": {\"x\": 0.05}, \"xaxis\": {\"automargin\": true, \"gridcolor\": \"white\", \"linecolor\": \"white\", \"ticks\": \"\", \"title\": {\"standoff\": 15}, \"zerolinecolor\": \"white\", \"zerolinewidth\": 2}, \"yaxis\": {\"automargin\": true, \"gridcolor\": \"white\", \"linecolor\": \"white\", \"ticks\": \"\", \"title\": {\"standoff\": 15}, \"zerolinecolor\": \"white\", \"zerolinewidth\": 2}}}, \"title\": {\"font\": {\"color\": \"#4D5663\"}}, \"xaxis\": {\"gridcolor\": \"#E1E5ED\", \"showgrid\": true, \"tickfont\": {\"color\": \"#4D5663\"}, \"title\": {\"font\": {\"color\": \"#4D5663\"}, \"text\": \"\"}, \"zerolinecolor\": \"#E1E5ED\"}, \"xaxis2\": {\"anchor\": \"y2\", \"gridcolor\": \"#E1E5ED\", \"showgrid\": true, \"showticklabels\": false, \"tickfont\": {\"color\": \"#4D5663\"}, \"title\": {\"font\": {\"color\": \"#4D5663\"}, \"text\": \"\"}, \"zerolinecolor\": \"#E1E5ED\"}, \"yaxis\": {\"domain\": [0.3, 1], \"gridcolor\": \"#E1E5ED\", \"showgrid\": true, \"tickfont\": {\"color\": \"#4D5663\"}, \"title\": {\"font\": {\"color\": \"#4D5663\"}, \"text\": \"\"}, \"zerolinecolor\": \"#E1E5ED\"}, \"yaxis2\": {\"domain\": [0, 0.25], \"gridcolor\": \"#E1E5ED\", \"showgrid\": true, \"tickfont\": {\"color\": \"#4D5663\"}, \"title\": {\"font\": {\"color\": \"#4D5663\"}, \"text\": \"Spread\"}, \"zerolinecolor\": \"#E1E5ED\"}},\n",
       "                        {\"showLink\": true, \"linkText\": \"Export to plot.ly\", \"plotlyServerURL\": \"https://plot.ly\", \"responsive\": true}\n",
       "                    ).then(function(){\n",
       "                            \n",
       "var gd = document.getElementById('5e28f28b-4a7f-4f14-8048-5cc55fb3561b');\n",
       "var x = new MutationObserver(function (mutations, observer) {{\n",
       "        var display = window.getComputedStyle(gd).display;\n",
       "        if (!display || display === 'none') {{\n",
       "            console.log([gd, 'removed!']);\n",
       "            Plotly.purge(gd);\n",
       "            observer.disconnect();\n",
       "        }}\n",
       "}});\n",
       "\n",
       "// Listen for the removal of the full notebook cells\n",
       "var notebookContainer = gd.closest('#notebook-container');\n",
       "if (notebookContainer) {{\n",
       "    x.observe(notebookContainer, {childList: true});\n",
       "}}\n",
       "\n",
       "// Listen for the clearing of the current output cell\n",
       "var outputEl = gd.closest('.output');\n",
       "if (outputEl) {{\n",
       "    x.observe(outputEl, {childList: true});\n",
       "}}\n",
       "\n",
       "                        })\n",
       "                };\n",
       "                });\n",
       "            </script>\n",
       "        </div>"
      ]
     },
     "metadata": {},
     "output_type": "display_data"
    }
   ],
   "source": [
    "df[['A','B']].iplot(kind='spread')"
   ]
  },
  {
   "cell_type": "markdown",
   "metadata": {},
   "source": [
    "## histogram"
   ]
  },
  {
   "cell_type": "code",
   "execution_count": 16,
   "metadata": {},
   "outputs": [
    {
     "data": {
      "application/vnd.plotly.v1+json": {
       "config": {
        "linkText": "Export to plot.ly",
        "plotlyServerURL": "https://plot.ly",
        "showLink": true
       },
       "data": [
        {
         "histfunc": "count",
         "histnorm": "",
         "marker": {
          "color": "rgba(255, 153, 51, 1.0)",
          "line": {
           "color": "#4D5663",
           "width": 1.3
          }
         },
         "name": "A",
         "nbinsx": 25,
         "opacity": 0.8,
         "orientation": "v",
         "type": "histogram",
         "x": [
          -0.35258759777768894,
          -0.2689202523477829,
          -0.7275561455665225,
          -0.4092338836746071,
          0.5939352897099525,
          -1.2142800943388812,
          0.7711096389260248,
          -0.21383971610196364,
          2.0142645914043507,
          0.7799110307712278,
          1.5457083578522435,
          0.9085304936655417,
          1.1418265830175587,
          -0.2104929729809623,
          0.7660603426217358,
          -2.0280362769007985,
          -2.233828943016878,
          -0.6300848842080163,
          1.5525234298421335,
          2.0855689538407653,
          -0.1996846114408051,
          0.5116603997849389,
          0.4413175834881552,
          -0.052475122738868694,
          -1.4832273130424847,
          -0.25774388512369106,
          -1.0640559145877198,
          -0.3583588767557854,
          -0.753930925599534,
          0.004074420280987488,
          -0.14176351936354767,
          1.4218626480633727,
          -1.3406424365335914,
          -0.6306641256341762,
          0.34681256724898757,
          0.43592034039747934,
          0.6865252140987607,
          0.5969319637737608,
          -0.2957449312225045,
          -1.5104607394739267,
          -0.2970795197674708,
          -1.510972639222177,
          -0.997112695722731,
          -0.16208689230666798,
          1.380420552001041,
          -0.11125905541840161,
          0.4671259115943136,
          0.8067247284977627,
          -1.0343495030780103,
          0.5994055167033986,
          -2.392944687471754,
          0.009841623131410187,
          -2.805109312482037,
          0.08829982085256122,
          0.1587117032205557,
          0.3710578971195314,
          -0.6880114701614541,
          1.4592294790120843,
          0.32260083504845827,
          -0.31203982509622247,
          -0.5016395710778763,
          -0.7092626495034179,
          1.0623166785638058,
          -1.5567282874418933,
          -0.4470023818970348,
          0.9298520292269593,
          0.051790544147703926,
          -0.592455513839245,
          -0.1196242233503168,
          1.1594675175773657,
          0.6629796478742163,
          -1.7891314124011264,
          -2.0335113265519764,
          -0.6999835342221341,
          -1.1917599758854707,
          0.48071537380142443,
          0.05952184244397095,
          -0.5785307065158325,
          -0.3421145600853384,
          -1.4039388516097686,
          2.1502912104578336,
          -0.9615052636121858,
          -2.7254911460318976,
          0.9774563628902962,
          0.05190045743478614,
          0.2126943664117536,
          -1.5952990423031996,
          0.9130858983745637,
          -0.21639455031226423,
          -0.23989461487285638,
          0.9728080442967975,
          -0.1460459616149387,
          -1.3521999478330948,
          -2.065521937125486,
          -0.27532113693680454,
          -0.5980265778152496,
          0.09311905136783473,
          1.1902875577767913,
          0.2899773682382634,
          -0.312252032605789
         ]
        }
       ],
       "layout": {
        "barmode": "overlay",
        "legend": {
         "bgcolor": "#F5F6F9",
         "font": {
          "color": "#4D5663"
         }
        },
        "paper_bgcolor": "#F5F6F9",
        "plot_bgcolor": "#F5F6F9",
        "template": {
         "data": {
          "bar": [
           {
            "error_x": {
             "color": "#2a3f5f"
            },
            "error_y": {
             "color": "#2a3f5f"
            },
            "marker": {
             "line": {
              "color": "#E5ECF6",
              "width": 0.5
             }
            },
            "type": "bar"
           }
          ],
          "barpolar": [
           {
            "marker": {
             "line": {
              "color": "#E5ECF6",
              "width": 0.5
             }
            },
            "type": "barpolar"
           }
          ],
          "carpet": [
           {
            "aaxis": {
             "endlinecolor": "#2a3f5f",
             "gridcolor": "white",
             "linecolor": "white",
             "minorgridcolor": "white",
             "startlinecolor": "#2a3f5f"
            },
            "baxis": {
             "endlinecolor": "#2a3f5f",
             "gridcolor": "white",
             "linecolor": "white",
             "minorgridcolor": "white",
             "startlinecolor": "#2a3f5f"
            },
            "type": "carpet"
           }
          ],
          "choropleth": [
           {
            "colorbar": {
             "outlinewidth": 0,
             "ticks": ""
            },
            "type": "choropleth"
           }
          ],
          "contour": [
           {
            "colorbar": {
             "outlinewidth": 0,
             "ticks": ""
            },
            "colorscale": [
             [
              0,
              "#0d0887"
             ],
             [
              0.1111111111111111,
              "#46039f"
             ],
             [
              0.2222222222222222,
              "#7201a8"
             ],
             [
              0.3333333333333333,
              "#9c179e"
             ],
             [
              0.4444444444444444,
              "#bd3786"
             ],
             [
              0.5555555555555556,
              "#d8576b"
             ],
             [
              0.6666666666666666,
              "#ed7953"
             ],
             [
              0.7777777777777778,
              "#fb9f3a"
             ],
             [
              0.8888888888888888,
              "#fdca26"
             ],
             [
              1,
              "#f0f921"
             ]
            ],
            "type": "contour"
           }
          ],
          "contourcarpet": [
           {
            "colorbar": {
             "outlinewidth": 0,
             "ticks": ""
            },
            "type": "contourcarpet"
           }
          ],
          "heatmap": [
           {
            "colorbar": {
             "outlinewidth": 0,
             "ticks": ""
            },
            "colorscale": [
             [
              0,
              "#0d0887"
             ],
             [
              0.1111111111111111,
              "#46039f"
             ],
             [
              0.2222222222222222,
              "#7201a8"
             ],
             [
              0.3333333333333333,
              "#9c179e"
             ],
             [
              0.4444444444444444,
              "#bd3786"
             ],
             [
              0.5555555555555556,
              "#d8576b"
             ],
             [
              0.6666666666666666,
              "#ed7953"
             ],
             [
              0.7777777777777778,
              "#fb9f3a"
             ],
             [
              0.8888888888888888,
              "#fdca26"
             ],
             [
              1,
              "#f0f921"
             ]
            ],
            "type": "heatmap"
           }
          ],
          "heatmapgl": [
           {
            "colorbar": {
             "outlinewidth": 0,
             "ticks": ""
            },
            "colorscale": [
             [
              0,
              "#0d0887"
             ],
             [
              0.1111111111111111,
              "#46039f"
             ],
             [
              0.2222222222222222,
              "#7201a8"
             ],
             [
              0.3333333333333333,
              "#9c179e"
             ],
             [
              0.4444444444444444,
              "#bd3786"
             ],
             [
              0.5555555555555556,
              "#d8576b"
             ],
             [
              0.6666666666666666,
              "#ed7953"
             ],
             [
              0.7777777777777778,
              "#fb9f3a"
             ],
             [
              0.8888888888888888,
              "#fdca26"
             ],
             [
              1,
              "#f0f921"
             ]
            ],
            "type": "heatmapgl"
           }
          ],
          "histogram": [
           {
            "marker": {
             "colorbar": {
              "outlinewidth": 0,
              "ticks": ""
             }
            },
            "type": "histogram"
           }
          ],
          "histogram2d": [
           {
            "colorbar": {
             "outlinewidth": 0,
             "ticks": ""
            },
            "colorscale": [
             [
              0,
              "#0d0887"
             ],
             [
              0.1111111111111111,
              "#46039f"
             ],
             [
              0.2222222222222222,
              "#7201a8"
             ],
             [
              0.3333333333333333,
              "#9c179e"
             ],
             [
              0.4444444444444444,
              "#bd3786"
             ],
             [
              0.5555555555555556,
              "#d8576b"
             ],
             [
              0.6666666666666666,
              "#ed7953"
             ],
             [
              0.7777777777777778,
              "#fb9f3a"
             ],
             [
              0.8888888888888888,
              "#fdca26"
             ],
             [
              1,
              "#f0f921"
             ]
            ],
            "type": "histogram2d"
           }
          ],
          "histogram2dcontour": [
           {
            "colorbar": {
             "outlinewidth": 0,
             "ticks": ""
            },
            "colorscale": [
             [
              0,
              "#0d0887"
             ],
             [
              0.1111111111111111,
              "#46039f"
             ],
             [
              0.2222222222222222,
              "#7201a8"
             ],
             [
              0.3333333333333333,
              "#9c179e"
             ],
             [
              0.4444444444444444,
              "#bd3786"
             ],
             [
              0.5555555555555556,
              "#d8576b"
             ],
             [
              0.6666666666666666,
              "#ed7953"
             ],
             [
              0.7777777777777778,
              "#fb9f3a"
             ],
             [
              0.8888888888888888,
              "#fdca26"
             ],
             [
              1,
              "#f0f921"
             ]
            ],
            "type": "histogram2dcontour"
           }
          ],
          "mesh3d": [
           {
            "colorbar": {
             "outlinewidth": 0,
             "ticks": ""
            },
            "type": "mesh3d"
           }
          ],
          "parcoords": [
           {
            "line": {
             "colorbar": {
              "outlinewidth": 0,
              "ticks": ""
             }
            },
            "type": "parcoords"
           }
          ],
          "pie": [
           {
            "automargin": true,
            "type": "pie"
           }
          ],
          "scatter": [
           {
            "marker": {
             "colorbar": {
              "outlinewidth": 0,
              "ticks": ""
             }
            },
            "type": "scatter"
           }
          ],
          "scatter3d": [
           {
            "line": {
             "colorbar": {
              "outlinewidth": 0,
              "ticks": ""
             }
            },
            "marker": {
             "colorbar": {
              "outlinewidth": 0,
              "ticks": ""
             }
            },
            "type": "scatter3d"
           }
          ],
          "scattercarpet": [
           {
            "marker": {
             "colorbar": {
              "outlinewidth": 0,
              "ticks": ""
             }
            },
            "type": "scattercarpet"
           }
          ],
          "scattergeo": [
           {
            "marker": {
             "colorbar": {
              "outlinewidth": 0,
              "ticks": ""
             }
            },
            "type": "scattergeo"
           }
          ],
          "scattergl": [
           {
            "marker": {
             "colorbar": {
              "outlinewidth": 0,
              "ticks": ""
             }
            },
            "type": "scattergl"
           }
          ],
          "scattermapbox": [
           {
            "marker": {
             "colorbar": {
              "outlinewidth": 0,
              "ticks": ""
             }
            },
            "type": "scattermapbox"
           }
          ],
          "scatterpolar": [
           {
            "marker": {
             "colorbar": {
              "outlinewidth": 0,
              "ticks": ""
             }
            },
            "type": "scatterpolar"
           }
          ],
          "scatterpolargl": [
           {
            "marker": {
             "colorbar": {
              "outlinewidth": 0,
              "ticks": ""
             }
            },
            "type": "scatterpolargl"
           }
          ],
          "scatterternary": [
           {
            "marker": {
             "colorbar": {
              "outlinewidth": 0,
              "ticks": ""
             }
            },
            "type": "scatterternary"
           }
          ],
          "surface": [
           {
            "colorbar": {
             "outlinewidth": 0,
             "ticks": ""
            },
            "colorscale": [
             [
              0,
              "#0d0887"
             ],
             [
              0.1111111111111111,
              "#46039f"
             ],
             [
              0.2222222222222222,
              "#7201a8"
             ],
             [
              0.3333333333333333,
              "#9c179e"
             ],
             [
              0.4444444444444444,
              "#bd3786"
             ],
             [
              0.5555555555555556,
              "#d8576b"
             ],
             [
              0.6666666666666666,
              "#ed7953"
             ],
             [
              0.7777777777777778,
              "#fb9f3a"
             ],
             [
              0.8888888888888888,
              "#fdca26"
             ],
             [
              1,
              "#f0f921"
             ]
            ],
            "type": "surface"
           }
          ],
          "table": [
           {
            "cells": {
             "fill": {
              "color": "#EBF0F8"
             },
             "line": {
              "color": "white"
             }
            },
            "header": {
             "fill": {
              "color": "#C8D4E3"
             },
             "line": {
              "color": "white"
             }
            },
            "type": "table"
           }
          ]
         },
         "layout": {
          "annotationdefaults": {
           "arrowcolor": "#2a3f5f",
           "arrowhead": 0,
           "arrowwidth": 1
          },
          "coloraxis": {
           "colorbar": {
            "outlinewidth": 0,
            "ticks": ""
           }
          },
          "colorscale": {
           "diverging": [
            [
             0,
             "#8e0152"
            ],
            [
             0.1,
             "#c51b7d"
            ],
            [
             0.2,
             "#de77ae"
            ],
            [
             0.3,
             "#f1b6da"
            ],
            [
             0.4,
             "#fde0ef"
            ],
            [
             0.5,
             "#f7f7f7"
            ],
            [
             0.6,
             "#e6f5d0"
            ],
            [
             0.7,
             "#b8e186"
            ],
            [
             0.8,
             "#7fbc41"
            ],
            [
             0.9,
             "#4d9221"
            ],
            [
             1,
             "#276419"
            ]
           ],
           "sequential": [
            [
             0,
             "#0d0887"
            ],
            [
             0.1111111111111111,
             "#46039f"
            ],
            [
             0.2222222222222222,
             "#7201a8"
            ],
            [
             0.3333333333333333,
             "#9c179e"
            ],
            [
             0.4444444444444444,
             "#bd3786"
            ],
            [
             0.5555555555555556,
             "#d8576b"
            ],
            [
             0.6666666666666666,
             "#ed7953"
            ],
            [
             0.7777777777777778,
             "#fb9f3a"
            ],
            [
             0.8888888888888888,
             "#fdca26"
            ],
            [
             1,
             "#f0f921"
            ]
           ],
           "sequentialminus": [
            [
             0,
             "#0d0887"
            ],
            [
             0.1111111111111111,
             "#46039f"
            ],
            [
             0.2222222222222222,
             "#7201a8"
            ],
            [
             0.3333333333333333,
             "#9c179e"
            ],
            [
             0.4444444444444444,
             "#bd3786"
            ],
            [
             0.5555555555555556,
             "#d8576b"
            ],
            [
             0.6666666666666666,
             "#ed7953"
            ],
            [
             0.7777777777777778,
             "#fb9f3a"
            ],
            [
             0.8888888888888888,
             "#fdca26"
            ],
            [
             1,
             "#f0f921"
            ]
           ]
          },
          "colorway": [
           "#636efa",
           "#EF553B",
           "#00cc96",
           "#ab63fa",
           "#FFA15A",
           "#19d3f3",
           "#FF6692",
           "#B6E880",
           "#FF97FF",
           "#FECB52"
          ],
          "font": {
           "color": "#2a3f5f"
          },
          "geo": {
           "bgcolor": "white",
           "lakecolor": "white",
           "landcolor": "#E5ECF6",
           "showlakes": true,
           "showland": true,
           "subunitcolor": "white"
          },
          "hoverlabel": {
           "align": "left"
          },
          "hovermode": "closest",
          "mapbox": {
           "style": "light"
          },
          "paper_bgcolor": "white",
          "plot_bgcolor": "#E5ECF6",
          "polar": {
           "angularaxis": {
            "gridcolor": "white",
            "linecolor": "white",
            "ticks": ""
           },
           "bgcolor": "#E5ECF6",
           "radialaxis": {
            "gridcolor": "white",
            "linecolor": "white",
            "ticks": ""
           }
          },
          "scene": {
           "xaxis": {
            "backgroundcolor": "#E5ECF6",
            "gridcolor": "white",
            "gridwidth": 2,
            "linecolor": "white",
            "showbackground": true,
            "ticks": "",
            "zerolinecolor": "white"
           },
           "yaxis": {
            "backgroundcolor": "#E5ECF6",
            "gridcolor": "white",
            "gridwidth": 2,
            "linecolor": "white",
            "showbackground": true,
            "ticks": "",
            "zerolinecolor": "white"
           },
           "zaxis": {
            "backgroundcolor": "#E5ECF6",
            "gridcolor": "white",
            "gridwidth": 2,
            "linecolor": "white",
            "showbackground": true,
            "ticks": "",
            "zerolinecolor": "white"
           }
          },
          "shapedefaults": {
           "line": {
            "color": "#2a3f5f"
           }
          },
          "ternary": {
           "aaxis": {
            "gridcolor": "white",
            "linecolor": "white",
            "ticks": ""
           },
           "baxis": {
            "gridcolor": "white",
            "linecolor": "white",
            "ticks": ""
           },
           "bgcolor": "#E5ECF6",
           "caxis": {
            "gridcolor": "white",
            "linecolor": "white",
            "ticks": ""
           }
          },
          "title": {
           "x": 0.05
          },
          "xaxis": {
           "automargin": true,
           "gridcolor": "white",
           "linecolor": "white",
           "ticks": "",
           "title": {
            "standoff": 15
           },
           "zerolinecolor": "white",
           "zerolinewidth": 2
          },
          "yaxis": {
           "automargin": true,
           "gridcolor": "white",
           "linecolor": "white",
           "ticks": "",
           "title": {
            "standoff": 15
           },
           "zerolinecolor": "white",
           "zerolinewidth": 2
          }
         }
        },
        "title": {
         "font": {
          "color": "#4D5663"
         }
        },
        "xaxis": {
         "gridcolor": "#E1E5ED",
         "showgrid": true,
         "tickfont": {
          "color": "#4D5663"
         },
         "title": {
          "font": {
           "color": "#4D5663"
          },
          "text": ""
         },
         "zerolinecolor": "#E1E5ED"
        },
        "yaxis": {
         "gridcolor": "#E1E5ED",
         "showgrid": true,
         "tickfont": {
          "color": "#4D5663"
         },
         "title": {
          "font": {
           "color": "#4D5663"
          },
          "text": ""
         },
         "zerolinecolor": "#E1E5ED"
        }
       }
      },
      "text/html": [
       "<div>\n",
       "        \n",
       "        \n",
       "            <div id=\"5efd8220-d287-4c47-8a4c-89e07e7eda60\" class=\"plotly-graph-div\" style=\"height:525px; width:100%;\"></div>\n",
       "            <script type=\"text/javascript\">\n",
       "                require([\"plotly\"], function(Plotly) {\n",
       "                    window.PLOTLYENV=window.PLOTLYENV || {};\n",
       "                    window.PLOTLYENV.BASE_URL='https://plot.ly';\n",
       "                    \n",
       "                if (document.getElementById(\"5efd8220-d287-4c47-8a4c-89e07e7eda60\")) {\n",
       "                    Plotly.newPlot(\n",
       "                        '5efd8220-d287-4c47-8a4c-89e07e7eda60',\n",
       "                        [{\"histfunc\": \"count\", \"histnorm\": \"\", \"marker\": {\"color\": \"rgba(255, 153, 51, 1.0)\", \"line\": {\"color\": \"#4D5663\", \"width\": 1.3}}, \"name\": \"A\", \"nbinsx\": 25, \"opacity\": 0.8, \"orientation\": \"v\", \"type\": \"histogram\", \"x\": [-0.35258759777768894, -0.2689202523477829, -0.7275561455665225, -0.4092338836746071, 0.5939352897099525, -1.2142800943388812, 0.7711096389260248, -0.21383971610196364, 2.0142645914043507, 0.7799110307712278, 1.5457083578522435, 0.9085304936655417, 1.1418265830175587, -0.2104929729809623, 0.7660603426217358, -2.0280362769007985, -2.233828943016878, -0.6300848842080163, 1.5525234298421335, 2.0855689538407653, -0.1996846114408051, 0.5116603997849389, 0.4413175834881552, -0.052475122738868694, -1.4832273130424847, -0.25774388512369106, -1.0640559145877198, -0.3583588767557854, -0.753930925599534, 0.004074420280987488, -0.14176351936354767, 1.4218626480633727, -1.3406424365335914, -0.6306641256341762, 0.34681256724898757, 0.43592034039747934, 0.6865252140987607, 0.5969319637737608, -0.2957449312225045, -1.5104607394739267, -0.2970795197674708, -1.510972639222177, -0.997112695722731, -0.16208689230666798, 1.380420552001041, -0.11125905541840161, 0.4671259115943136, 0.8067247284977627, -1.0343495030780103, 0.5994055167033986, -2.392944687471754, 0.009841623131410187, -2.805109312482037, 0.08829982085256122, 0.1587117032205557, 0.3710578971195314, -0.6880114701614541, 1.4592294790120843, 0.32260083504845827, -0.31203982509622247, -0.5016395710778763, -0.7092626495034179, 1.0623166785638058, -1.5567282874418933, -0.4470023818970348, 0.9298520292269593, 0.051790544147703926, -0.592455513839245, -0.1196242233503168, 1.1594675175773657, 0.6629796478742163, -1.7891314124011264, -2.0335113265519764, -0.6999835342221341, -1.1917599758854707, 0.48071537380142443, 0.05952184244397095, -0.5785307065158325, -0.3421145600853384, -1.4039388516097686, 2.1502912104578336, -0.9615052636121858, -2.7254911460318976, 0.9774563628902962, 0.05190045743478614, 0.2126943664117536, -1.5952990423031996, 0.9130858983745637, -0.21639455031226423, -0.23989461487285638, 0.9728080442967975, -0.1460459616149387, -1.3521999478330948, -2.065521937125486, -0.27532113693680454, -0.5980265778152496, 0.09311905136783473, 1.1902875577767913, 0.2899773682382634, -0.312252032605789]}],\n",
       "                        {\"barmode\": \"overlay\", \"legend\": {\"bgcolor\": \"#F5F6F9\", \"font\": {\"color\": \"#4D5663\"}}, \"paper_bgcolor\": \"#F5F6F9\", \"plot_bgcolor\": \"#F5F6F9\", \"template\": {\"data\": {\"bar\": [{\"error_x\": {\"color\": \"#2a3f5f\"}, \"error_y\": {\"color\": \"#2a3f5f\"}, \"marker\": {\"line\": {\"color\": \"#E5ECF6\", \"width\": 0.5}}, \"type\": \"bar\"}], \"barpolar\": [{\"marker\": {\"line\": {\"color\": \"#E5ECF6\", \"width\": 0.5}}, \"type\": \"barpolar\"}], \"carpet\": [{\"aaxis\": {\"endlinecolor\": \"#2a3f5f\", \"gridcolor\": \"white\", \"linecolor\": \"white\", \"minorgridcolor\": \"white\", \"startlinecolor\": \"#2a3f5f\"}, \"baxis\": {\"endlinecolor\": \"#2a3f5f\", \"gridcolor\": \"white\", \"linecolor\": \"white\", \"minorgridcolor\": \"white\", \"startlinecolor\": \"#2a3f5f\"}, \"type\": \"carpet\"}], \"choropleth\": [{\"colorbar\": {\"outlinewidth\": 0, \"ticks\": \"\"}, \"type\": \"choropleth\"}], \"contour\": [{\"colorbar\": {\"outlinewidth\": 0, \"ticks\": \"\"}, \"colorscale\": [[0.0, \"#0d0887\"], [0.1111111111111111, \"#46039f\"], [0.2222222222222222, \"#7201a8\"], [0.3333333333333333, \"#9c179e\"], [0.4444444444444444, \"#bd3786\"], [0.5555555555555556, \"#d8576b\"], [0.6666666666666666, \"#ed7953\"], [0.7777777777777778, \"#fb9f3a\"], [0.8888888888888888, \"#fdca26\"], [1.0, \"#f0f921\"]], \"type\": \"contour\"}], \"contourcarpet\": [{\"colorbar\": {\"outlinewidth\": 0, \"ticks\": \"\"}, \"type\": \"contourcarpet\"}], \"heatmap\": [{\"colorbar\": {\"outlinewidth\": 0, \"ticks\": \"\"}, \"colorscale\": [[0.0, \"#0d0887\"], [0.1111111111111111, \"#46039f\"], [0.2222222222222222, \"#7201a8\"], [0.3333333333333333, \"#9c179e\"], [0.4444444444444444, \"#bd3786\"], [0.5555555555555556, \"#d8576b\"], [0.6666666666666666, \"#ed7953\"], [0.7777777777777778, \"#fb9f3a\"], [0.8888888888888888, \"#fdca26\"], [1.0, \"#f0f921\"]], \"type\": \"heatmap\"}], \"heatmapgl\": [{\"colorbar\": {\"outlinewidth\": 0, \"ticks\": \"\"}, \"colorscale\": [[0.0, \"#0d0887\"], [0.1111111111111111, \"#46039f\"], [0.2222222222222222, \"#7201a8\"], [0.3333333333333333, \"#9c179e\"], [0.4444444444444444, \"#bd3786\"], [0.5555555555555556, \"#d8576b\"], [0.6666666666666666, \"#ed7953\"], [0.7777777777777778, \"#fb9f3a\"], [0.8888888888888888, \"#fdca26\"], [1.0, \"#f0f921\"]], \"type\": \"heatmapgl\"}], \"histogram\": [{\"marker\": {\"colorbar\": {\"outlinewidth\": 0, \"ticks\": \"\"}}, \"type\": \"histogram\"}], \"histogram2d\": [{\"colorbar\": {\"outlinewidth\": 0, \"ticks\": \"\"}, \"colorscale\": [[0.0, \"#0d0887\"], [0.1111111111111111, \"#46039f\"], [0.2222222222222222, \"#7201a8\"], [0.3333333333333333, \"#9c179e\"], [0.4444444444444444, \"#bd3786\"], [0.5555555555555556, \"#d8576b\"], [0.6666666666666666, \"#ed7953\"], [0.7777777777777778, \"#fb9f3a\"], [0.8888888888888888, \"#fdca26\"], [1.0, \"#f0f921\"]], \"type\": \"histogram2d\"}], \"histogram2dcontour\": [{\"colorbar\": {\"outlinewidth\": 0, \"ticks\": \"\"}, \"colorscale\": [[0.0, \"#0d0887\"], [0.1111111111111111, \"#46039f\"], [0.2222222222222222, \"#7201a8\"], [0.3333333333333333, \"#9c179e\"], [0.4444444444444444, \"#bd3786\"], [0.5555555555555556, \"#d8576b\"], [0.6666666666666666, \"#ed7953\"], [0.7777777777777778, \"#fb9f3a\"], [0.8888888888888888, \"#fdca26\"], [1.0, \"#f0f921\"]], \"type\": \"histogram2dcontour\"}], \"mesh3d\": [{\"colorbar\": {\"outlinewidth\": 0, \"ticks\": \"\"}, \"type\": \"mesh3d\"}], \"parcoords\": [{\"line\": {\"colorbar\": {\"outlinewidth\": 0, \"ticks\": \"\"}}, \"type\": \"parcoords\"}], \"pie\": [{\"automargin\": true, \"type\": \"pie\"}], \"scatter\": [{\"marker\": {\"colorbar\": {\"outlinewidth\": 0, \"ticks\": \"\"}}, \"type\": \"scatter\"}], \"scatter3d\": [{\"line\": {\"colorbar\": {\"outlinewidth\": 0, \"ticks\": \"\"}}, \"marker\": {\"colorbar\": {\"outlinewidth\": 0, \"ticks\": \"\"}}, \"type\": \"scatter3d\"}], \"scattercarpet\": [{\"marker\": {\"colorbar\": {\"outlinewidth\": 0, \"ticks\": \"\"}}, \"type\": \"scattercarpet\"}], \"scattergeo\": [{\"marker\": {\"colorbar\": {\"outlinewidth\": 0, \"ticks\": \"\"}}, \"type\": \"scattergeo\"}], \"scattergl\": [{\"marker\": {\"colorbar\": {\"outlinewidth\": 0, \"ticks\": \"\"}}, \"type\": \"scattergl\"}], \"scattermapbox\": [{\"marker\": {\"colorbar\": {\"outlinewidth\": 0, \"ticks\": \"\"}}, \"type\": \"scattermapbox\"}], \"scatterpolar\": [{\"marker\": {\"colorbar\": {\"outlinewidth\": 0, \"ticks\": \"\"}}, \"type\": \"scatterpolar\"}], \"scatterpolargl\": [{\"marker\": {\"colorbar\": {\"outlinewidth\": 0, \"ticks\": \"\"}}, \"type\": \"scatterpolargl\"}], \"scatterternary\": [{\"marker\": {\"colorbar\": {\"outlinewidth\": 0, \"ticks\": \"\"}}, \"type\": \"scatterternary\"}], \"surface\": [{\"colorbar\": {\"outlinewidth\": 0, \"ticks\": \"\"}, \"colorscale\": [[0.0, \"#0d0887\"], [0.1111111111111111, \"#46039f\"], [0.2222222222222222, \"#7201a8\"], [0.3333333333333333, \"#9c179e\"], [0.4444444444444444, \"#bd3786\"], [0.5555555555555556, \"#d8576b\"], [0.6666666666666666, \"#ed7953\"], [0.7777777777777778, \"#fb9f3a\"], [0.8888888888888888, \"#fdca26\"], [1.0, \"#f0f921\"]], \"type\": \"surface\"}], \"table\": [{\"cells\": {\"fill\": {\"color\": \"#EBF0F8\"}, \"line\": {\"color\": \"white\"}}, \"header\": {\"fill\": {\"color\": \"#C8D4E3\"}, \"line\": {\"color\": \"white\"}}, \"type\": \"table\"}]}, \"layout\": {\"annotationdefaults\": {\"arrowcolor\": \"#2a3f5f\", \"arrowhead\": 0, \"arrowwidth\": 1}, \"coloraxis\": {\"colorbar\": {\"outlinewidth\": 0, \"ticks\": \"\"}}, \"colorscale\": {\"diverging\": [[0, \"#8e0152\"], [0.1, \"#c51b7d\"], [0.2, \"#de77ae\"], [0.3, \"#f1b6da\"], [0.4, \"#fde0ef\"], [0.5, \"#f7f7f7\"], [0.6, \"#e6f5d0\"], [0.7, \"#b8e186\"], [0.8, \"#7fbc41\"], [0.9, \"#4d9221\"], [1, \"#276419\"]], \"sequential\": [[0.0, \"#0d0887\"], [0.1111111111111111, \"#46039f\"], [0.2222222222222222, \"#7201a8\"], [0.3333333333333333, \"#9c179e\"], [0.4444444444444444, \"#bd3786\"], [0.5555555555555556, \"#d8576b\"], [0.6666666666666666, \"#ed7953\"], [0.7777777777777778, \"#fb9f3a\"], [0.8888888888888888, \"#fdca26\"], [1.0, \"#f0f921\"]], \"sequentialminus\": [[0.0, \"#0d0887\"], [0.1111111111111111, \"#46039f\"], [0.2222222222222222, \"#7201a8\"], [0.3333333333333333, \"#9c179e\"], [0.4444444444444444, \"#bd3786\"], [0.5555555555555556, \"#d8576b\"], [0.6666666666666666, \"#ed7953\"], [0.7777777777777778, \"#fb9f3a\"], [0.8888888888888888, \"#fdca26\"], [1.0, \"#f0f921\"]]}, \"colorway\": [\"#636efa\", \"#EF553B\", \"#00cc96\", \"#ab63fa\", \"#FFA15A\", \"#19d3f3\", \"#FF6692\", \"#B6E880\", \"#FF97FF\", \"#FECB52\"], \"font\": {\"color\": \"#2a3f5f\"}, \"geo\": {\"bgcolor\": \"white\", \"lakecolor\": \"white\", \"landcolor\": \"#E5ECF6\", \"showlakes\": true, \"showland\": true, \"subunitcolor\": \"white\"}, \"hoverlabel\": {\"align\": \"left\"}, \"hovermode\": \"closest\", \"mapbox\": {\"style\": \"light\"}, \"paper_bgcolor\": \"white\", \"plot_bgcolor\": \"#E5ECF6\", \"polar\": {\"angularaxis\": {\"gridcolor\": \"white\", \"linecolor\": \"white\", \"ticks\": \"\"}, \"bgcolor\": \"#E5ECF6\", \"radialaxis\": {\"gridcolor\": \"white\", \"linecolor\": \"white\", \"ticks\": \"\"}}, \"scene\": {\"xaxis\": {\"backgroundcolor\": \"#E5ECF6\", \"gridcolor\": \"white\", \"gridwidth\": 2, \"linecolor\": \"white\", \"showbackground\": true, \"ticks\": \"\", \"zerolinecolor\": \"white\"}, \"yaxis\": {\"backgroundcolor\": \"#E5ECF6\", \"gridcolor\": \"white\", \"gridwidth\": 2, \"linecolor\": \"white\", \"showbackground\": true, \"ticks\": \"\", \"zerolinecolor\": \"white\"}, \"zaxis\": {\"backgroundcolor\": \"#E5ECF6\", \"gridcolor\": \"white\", \"gridwidth\": 2, \"linecolor\": \"white\", \"showbackground\": true, \"ticks\": \"\", \"zerolinecolor\": \"white\"}}, \"shapedefaults\": {\"line\": {\"color\": \"#2a3f5f\"}}, \"ternary\": {\"aaxis\": {\"gridcolor\": \"white\", \"linecolor\": \"white\", \"ticks\": \"\"}, \"baxis\": {\"gridcolor\": \"white\", \"linecolor\": \"white\", \"ticks\": \"\"}, \"bgcolor\": \"#E5ECF6\", \"caxis\": {\"gridcolor\": \"white\", \"linecolor\": \"white\", \"ticks\": \"\"}}, \"title\": {\"x\": 0.05}, \"xaxis\": {\"automargin\": true, \"gridcolor\": \"white\", \"linecolor\": \"white\", \"ticks\": \"\", \"title\": {\"standoff\": 15}, \"zerolinecolor\": \"white\", \"zerolinewidth\": 2}, \"yaxis\": {\"automargin\": true, \"gridcolor\": \"white\", \"linecolor\": \"white\", \"ticks\": \"\", \"title\": {\"standoff\": 15}, \"zerolinecolor\": \"white\", \"zerolinewidth\": 2}}}, \"title\": {\"font\": {\"color\": \"#4D5663\"}}, \"xaxis\": {\"gridcolor\": \"#E1E5ED\", \"showgrid\": true, \"tickfont\": {\"color\": \"#4D5663\"}, \"title\": {\"font\": {\"color\": \"#4D5663\"}, \"text\": \"\"}, \"zerolinecolor\": \"#E1E5ED\"}, \"yaxis\": {\"gridcolor\": \"#E1E5ED\", \"showgrid\": true, \"tickfont\": {\"color\": \"#4D5663\"}, \"title\": {\"font\": {\"color\": \"#4D5663\"}, \"text\": \"\"}, \"zerolinecolor\": \"#E1E5ED\"}},\n",
       "                        {\"showLink\": true, \"linkText\": \"Export to plot.ly\", \"plotlyServerURL\": \"https://plot.ly\", \"responsive\": true}\n",
       "                    ).then(function(){\n",
       "                            \n",
       "var gd = document.getElementById('5efd8220-d287-4c47-8a4c-89e07e7eda60');\n",
       "var x = new MutationObserver(function (mutations, observer) {{\n",
       "        var display = window.getComputedStyle(gd).display;\n",
       "        if (!display || display === 'none') {{\n",
       "            console.log([gd, 'removed!']);\n",
       "            Plotly.purge(gd);\n",
       "            observer.disconnect();\n",
       "        }}\n",
       "}});\n",
       "\n",
       "// Listen for the removal of the full notebook cells\n",
       "var notebookContainer = gd.closest('#notebook-container');\n",
       "if (notebookContainer) {{\n",
       "    x.observe(notebookContainer, {childList: true});\n",
       "}}\n",
       "\n",
       "// Listen for the clearing of the current output cell\n",
       "var outputEl = gd.closest('.output');\n",
       "if (outputEl) {{\n",
       "    x.observe(outputEl, {childList: true});\n",
       "}}\n",
       "\n",
       "                        })\n",
       "                };\n",
       "                });\n",
       "            </script>\n",
       "        </div>"
      ]
     },
     "metadata": {},
     "output_type": "display_data"
    }
   ],
   "source": [
    "df['A'].iplot(kind='hist',bins=25)"
   ]
  },
  {
   "cell_type": "markdown",
   "metadata": {},
   "source": [
    "## Bubble"
   ]
  },
  {
   "cell_type": "code",
   "execution_count": 17,
   "metadata": {},
   "outputs": [
    {
     "data": {
      "application/vnd.plotly.v1+json": {
       "config": {
        "linkText": "Export to plot.ly",
        "plotlyServerURL": "https://plot.ly",
        "showLink": true
       },
       "data": [
        {
         "marker": {
          "color": [
           "rgb(255, 153, 51)",
           "rgb(55, 128, 191)",
           "rgb(50, 171, 96)",
           "rgb(128, 0, 128)",
           "rgb(219, 64, 82)",
           "rgb(0, 128, 128)",
           "rgb(255, 255, 51)",
           "rgb(128, 128, 0)",
           "rgb(251, 128, 114)",
           "rgb(128, 177, 211)"
          ],
          "line": {
           "width": 1.3
          },
          "size": [
           76,
           42,
           94,
           62,
           77,
           50,
           47,
           21,
           83,
           26,
           26,
           86,
           102,
           75,
           45,
           74,
           112,
           96,
           63,
           72,
           33,
           60,
           73,
           46,
           65,
           39,
           82,
           54,
           29,
           67,
           74,
           69,
           60,
           35,
           51,
           46,
           64,
           49,
           68,
           76,
           38,
           76,
           89,
           88,
           28,
           65,
           95,
           73,
           56,
           52,
           12,
           62,
           62,
           68,
           87,
           64,
           62,
           91,
           65,
           102,
           92,
           57,
           58,
           74,
           79,
           12,
           50,
           53,
           61,
           47,
           78,
           73,
           24,
           24,
           73,
           95,
           61,
           79,
           78,
           61,
           58,
           66,
           67,
           58,
           44,
           52,
           34,
           36,
           59,
           54,
           71,
           66,
           84,
           56,
           74,
           61,
           71,
           69,
           90,
           87
          ],
          "symbol": "circle"
         },
         "mode": "markers",
         "text": "",
         "type": "scatter",
         "x": [
          -0.35258759777768894,
          -0.2689202523477829,
          -0.7275561455665225,
          -0.4092338836746071,
          0.5939352897099525,
          -1.2142800943388812,
          0.7711096389260248,
          -0.21383971610196364,
          2.0142645914043507,
          0.7799110307712278,
          1.5457083578522435,
          0.9085304936655417,
          1.1418265830175587,
          -0.2104929729809623,
          0.7660603426217358,
          -2.0280362769007985,
          -2.233828943016878,
          -0.6300848842080163,
          1.5525234298421335,
          2.0855689538407653,
          -0.1996846114408051,
          0.5116603997849389,
          0.4413175834881552,
          -0.052475122738868694,
          -1.4832273130424847,
          -0.25774388512369106,
          -1.0640559145877198,
          -0.3583588767557854,
          -0.753930925599534,
          0.004074420280987488,
          -0.14176351936354767,
          1.4218626480633727,
          -1.3406424365335914,
          -0.6306641256341762,
          0.34681256724898757,
          0.43592034039747934,
          0.6865252140987607,
          0.5969319637737608,
          -0.2957449312225045,
          -1.5104607394739267,
          -0.2970795197674708,
          -1.510972639222177,
          -0.997112695722731,
          -0.16208689230666798,
          1.380420552001041,
          -0.11125905541840161,
          0.4671259115943136,
          0.8067247284977627,
          -1.0343495030780103,
          0.5994055167033986,
          -2.392944687471754,
          0.009841623131410187,
          -2.805109312482037,
          0.08829982085256122,
          0.1587117032205557,
          0.3710578971195314,
          -0.6880114701614541,
          1.4592294790120843,
          0.32260083504845827,
          -0.31203982509622247,
          -0.5016395710778763,
          -0.7092626495034179,
          1.0623166785638058,
          -1.5567282874418933,
          -0.4470023818970348,
          0.9298520292269593,
          0.051790544147703926,
          -0.592455513839245,
          -0.1196242233503168,
          1.1594675175773657,
          0.6629796478742163,
          -1.7891314124011264,
          -2.0335113265519764,
          -0.6999835342221341,
          -1.1917599758854707,
          0.48071537380142443,
          0.05952184244397095,
          -0.5785307065158325,
          -0.3421145600853384,
          -1.4039388516097686,
          2.1502912104578336,
          -0.9615052636121858,
          -2.7254911460318976,
          0.9774563628902962,
          0.05190045743478614,
          0.2126943664117536,
          -1.5952990423031996,
          0.9130858983745637,
          -0.21639455031226423,
          -0.23989461487285638,
          0.9728080442967975,
          -0.1460459616149387,
          -1.3521999478330948,
          -2.065521937125486,
          -0.27532113693680454,
          -0.5980265778152496,
          0.09311905136783473,
          1.1902875577767913,
          0.2899773682382634,
          -0.312252032605789
         ],
         "y": [
          0.9398897318214089,
          -0.8731839425082643,
          0.046902450656532195,
          -0.5730263478031349,
          0.20964920461071293,
          1.589873522036531,
          0.04750924541528327,
          0.3550099321199273,
          -1.3717152265624826,
          -0.29363834535540906,
          -0.6834415374498101,
          0.3013358888971489,
          0.08557550080518363,
          -0.6075508809315883,
          -0.4554319865724272,
          -0.6267217986862303,
          -0.12408272291175006,
          2.1377019386303426,
          -0.5543428603297601,
          -0.26825029207872786,
          -1.0491011370545602,
          -0.3238181830805828,
          0.3117772248306555,
          -1.808426122955307,
          -0.33810791145502933,
          0.8746190178364772,
          0.3880907514176325,
          -0.2146447776967657,
          0.7117228782364389,
          -1.034419032052581,
          -1.3025207269502206,
          -0.9431243446739456,
          -1.3566849831833117,
          0.9139728482420952,
          -0.4491906321351525,
          0.20439161904362946,
          1.0408022183431263,
          0.5066670948192474,
          -0.10350418262487975,
          -0.9059301100673794,
          -0.18267520984842991,
          -0.12932747242214102,
          0.9490202299868135,
          1.5445301177158561,
          -0.5484910871344092,
          1.3463270476962672,
          -0.31544005436995826,
          -1.4849556354680933,
          0.6161677445530706,
          -1.4826409768646185,
          1.0790226993828536,
          0.17870810808648277,
          1.2507159469031213,
          -0.3723212271360819,
          1.1351360546362514,
          0.4989889637299344,
          0.5307557889854935,
          0.7642488396101653,
          -0.8648674375434916,
          -0.9868819280636416,
          -1.374768191849497,
          0.040196813920813354,
          -1.8501252771933256,
          -0.47096661859921635,
          0.030148809422230492,
          -0.49629746394738594,
          -0.48055047186500344,
          1.0019238054310298,
          -0.2059649005632659,
          0.03397516273643297,
          1.0738805827143372,
          2.4721239137994315,
          -0.4052189135756334,
          -0.34375404549779637,
          -1.0857649696484415,
          0.055094811569757304,
          -0.8850098967698943,
          -0.22656957039513467,
          0.39986500767204186,
          -0.34663345478149626,
          0.3968003349411088,
          -0.26733465187034505,
          -0.2198127906046125,
          0.37235632515082645,
          0.2910676243965551,
          -0.05890540711534565,
          0.9968503248422131,
          1.0010157850265846,
          -0.1184178551405647,
          0.30865917238422885,
          -0.3880279024822919,
          1.1596828942923951,
          -0.7113173402696118,
          1.6878264070830626,
          1.242425123682662,
          -0.49942462992988224,
          0.4277971787926875,
          0.918168330122392,
          -0.036254957143438314,
          0.7175071803974852
         ]
        }
       ],
       "layout": {
        "legend": {
         "bgcolor": "#F5F6F9",
         "font": {
          "color": "#4D5663"
         }
        },
        "paper_bgcolor": "#F5F6F9",
        "plot_bgcolor": "#F5F6F9",
        "template": {
         "data": {
          "bar": [
           {
            "error_x": {
             "color": "#2a3f5f"
            },
            "error_y": {
             "color": "#2a3f5f"
            },
            "marker": {
             "line": {
              "color": "#E5ECF6",
              "width": 0.5
             }
            },
            "type": "bar"
           }
          ],
          "barpolar": [
           {
            "marker": {
             "line": {
              "color": "#E5ECF6",
              "width": 0.5
             }
            },
            "type": "barpolar"
           }
          ],
          "carpet": [
           {
            "aaxis": {
             "endlinecolor": "#2a3f5f",
             "gridcolor": "white",
             "linecolor": "white",
             "minorgridcolor": "white",
             "startlinecolor": "#2a3f5f"
            },
            "baxis": {
             "endlinecolor": "#2a3f5f",
             "gridcolor": "white",
             "linecolor": "white",
             "minorgridcolor": "white",
             "startlinecolor": "#2a3f5f"
            },
            "type": "carpet"
           }
          ],
          "choropleth": [
           {
            "colorbar": {
             "outlinewidth": 0,
             "ticks": ""
            },
            "type": "choropleth"
           }
          ],
          "contour": [
           {
            "colorbar": {
             "outlinewidth": 0,
             "ticks": ""
            },
            "colorscale": [
             [
              0,
              "#0d0887"
             ],
             [
              0.1111111111111111,
              "#46039f"
             ],
             [
              0.2222222222222222,
              "#7201a8"
             ],
             [
              0.3333333333333333,
              "#9c179e"
             ],
             [
              0.4444444444444444,
              "#bd3786"
             ],
             [
              0.5555555555555556,
              "#d8576b"
             ],
             [
              0.6666666666666666,
              "#ed7953"
             ],
             [
              0.7777777777777778,
              "#fb9f3a"
             ],
             [
              0.8888888888888888,
              "#fdca26"
             ],
             [
              1,
              "#f0f921"
             ]
            ],
            "type": "contour"
           }
          ],
          "contourcarpet": [
           {
            "colorbar": {
             "outlinewidth": 0,
             "ticks": ""
            },
            "type": "contourcarpet"
           }
          ],
          "heatmap": [
           {
            "colorbar": {
             "outlinewidth": 0,
             "ticks": ""
            },
            "colorscale": [
             [
              0,
              "#0d0887"
             ],
             [
              0.1111111111111111,
              "#46039f"
             ],
             [
              0.2222222222222222,
              "#7201a8"
             ],
             [
              0.3333333333333333,
              "#9c179e"
             ],
             [
              0.4444444444444444,
              "#bd3786"
             ],
             [
              0.5555555555555556,
              "#d8576b"
             ],
             [
              0.6666666666666666,
              "#ed7953"
             ],
             [
              0.7777777777777778,
              "#fb9f3a"
             ],
             [
              0.8888888888888888,
              "#fdca26"
             ],
             [
              1,
              "#f0f921"
             ]
            ],
            "type": "heatmap"
           }
          ],
          "heatmapgl": [
           {
            "colorbar": {
             "outlinewidth": 0,
             "ticks": ""
            },
            "colorscale": [
             [
              0,
              "#0d0887"
             ],
             [
              0.1111111111111111,
              "#46039f"
             ],
             [
              0.2222222222222222,
              "#7201a8"
             ],
             [
              0.3333333333333333,
              "#9c179e"
             ],
             [
              0.4444444444444444,
              "#bd3786"
             ],
             [
              0.5555555555555556,
              "#d8576b"
             ],
             [
              0.6666666666666666,
              "#ed7953"
             ],
             [
              0.7777777777777778,
              "#fb9f3a"
             ],
             [
              0.8888888888888888,
              "#fdca26"
             ],
             [
              1,
              "#f0f921"
             ]
            ],
            "type": "heatmapgl"
           }
          ],
          "histogram": [
           {
            "marker": {
             "colorbar": {
              "outlinewidth": 0,
              "ticks": ""
             }
            },
            "type": "histogram"
           }
          ],
          "histogram2d": [
           {
            "colorbar": {
             "outlinewidth": 0,
             "ticks": ""
            },
            "colorscale": [
             [
              0,
              "#0d0887"
             ],
             [
              0.1111111111111111,
              "#46039f"
             ],
             [
              0.2222222222222222,
              "#7201a8"
             ],
             [
              0.3333333333333333,
              "#9c179e"
             ],
             [
              0.4444444444444444,
              "#bd3786"
             ],
             [
              0.5555555555555556,
              "#d8576b"
             ],
             [
              0.6666666666666666,
              "#ed7953"
             ],
             [
              0.7777777777777778,
              "#fb9f3a"
             ],
             [
              0.8888888888888888,
              "#fdca26"
             ],
             [
              1,
              "#f0f921"
             ]
            ],
            "type": "histogram2d"
           }
          ],
          "histogram2dcontour": [
           {
            "colorbar": {
             "outlinewidth": 0,
             "ticks": ""
            },
            "colorscale": [
             [
              0,
              "#0d0887"
             ],
             [
              0.1111111111111111,
              "#46039f"
             ],
             [
              0.2222222222222222,
              "#7201a8"
             ],
             [
              0.3333333333333333,
              "#9c179e"
             ],
             [
              0.4444444444444444,
              "#bd3786"
             ],
             [
              0.5555555555555556,
              "#d8576b"
             ],
             [
              0.6666666666666666,
              "#ed7953"
             ],
             [
              0.7777777777777778,
              "#fb9f3a"
             ],
             [
              0.8888888888888888,
              "#fdca26"
             ],
             [
              1,
              "#f0f921"
             ]
            ],
            "type": "histogram2dcontour"
           }
          ],
          "mesh3d": [
           {
            "colorbar": {
             "outlinewidth": 0,
             "ticks": ""
            },
            "type": "mesh3d"
           }
          ],
          "parcoords": [
           {
            "line": {
             "colorbar": {
              "outlinewidth": 0,
              "ticks": ""
             }
            },
            "type": "parcoords"
           }
          ],
          "pie": [
           {
            "automargin": true,
            "type": "pie"
           }
          ],
          "scatter": [
           {
            "marker": {
             "colorbar": {
              "outlinewidth": 0,
              "ticks": ""
             }
            },
            "type": "scatter"
           }
          ],
          "scatter3d": [
           {
            "line": {
             "colorbar": {
              "outlinewidth": 0,
              "ticks": ""
             }
            },
            "marker": {
             "colorbar": {
              "outlinewidth": 0,
              "ticks": ""
             }
            },
            "type": "scatter3d"
           }
          ],
          "scattercarpet": [
           {
            "marker": {
             "colorbar": {
              "outlinewidth": 0,
              "ticks": ""
             }
            },
            "type": "scattercarpet"
           }
          ],
          "scattergeo": [
           {
            "marker": {
             "colorbar": {
              "outlinewidth": 0,
              "ticks": ""
             }
            },
            "type": "scattergeo"
           }
          ],
          "scattergl": [
           {
            "marker": {
             "colorbar": {
              "outlinewidth": 0,
              "ticks": ""
             }
            },
            "type": "scattergl"
           }
          ],
          "scattermapbox": [
           {
            "marker": {
             "colorbar": {
              "outlinewidth": 0,
              "ticks": ""
             }
            },
            "type": "scattermapbox"
           }
          ],
          "scatterpolar": [
           {
            "marker": {
             "colorbar": {
              "outlinewidth": 0,
              "ticks": ""
             }
            },
            "type": "scatterpolar"
           }
          ],
          "scatterpolargl": [
           {
            "marker": {
             "colorbar": {
              "outlinewidth": 0,
              "ticks": ""
             }
            },
            "type": "scatterpolargl"
           }
          ],
          "scatterternary": [
           {
            "marker": {
             "colorbar": {
              "outlinewidth": 0,
              "ticks": ""
             }
            },
            "type": "scatterternary"
           }
          ],
          "surface": [
           {
            "colorbar": {
             "outlinewidth": 0,
             "ticks": ""
            },
            "colorscale": [
             [
              0,
              "#0d0887"
             ],
             [
              0.1111111111111111,
              "#46039f"
             ],
             [
              0.2222222222222222,
              "#7201a8"
             ],
             [
              0.3333333333333333,
              "#9c179e"
             ],
             [
              0.4444444444444444,
              "#bd3786"
             ],
             [
              0.5555555555555556,
              "#d8576b"
             ],
             [
              0.6666666666666666,
              "#ed7953"
             ],
             [
              0.7777777777777778,
              "#fb9f3a"
             ],
             [
              0.8888888888888888,
              "#fdca26"
             ],
             [
              1,
              "#f0f921"
             ]
            ],
            "type": "surface"
           }
          ],
          "table": [
           {
            "cells": {
             "fill": {
              "color": "#EBF0F8"
             },
             "line": {
              "color": "white"
             }
            },
            "header": {
             "fill": {
              "color": "#C8D4E3"
             },
             "line": {
              "color": "white"
             }
            },
            "type": "table"
           }
          ]
         },
         "layout": {
          "annotationdefaults": {
           "arrowcolor": "#2a3f5f",
           "arrowhead": 0,
           "arrowwidth": 1
          },
          "coloraxis": {
           "colorbar": {
            "outlinewidth": 0,
            "ticks": ""
           }
          },
          "colorscale": {
           "diverging": [
            [
             0,
             "#8e0152"
            ],
            [
             0.1,
             "#c51b7d"
            ],
            [
             0.2,
             "#de77ae"
            ],
            [
             0.3,
             "#f1b6da"
            ],
            [
             0.4,
             "#fde0ef"
            ],
            [
             0.5,
             "#f7f7f7"
            ],
            [
             0.6,
             "#e6f5d0"
            ],
            [
             0.7,
             "#b8e186"
            ],
            [
             0.8,
             "#7fbc41"
            ],
            [
             0.9,
             "#4d9221"
            ],
            [
             1,
             "#276419"
            ]
           ],
           "sequential": [
            [
             0,
             "#0d0887"
            ],
            [
             0.1111111111111111,
             "#46039f"
            ],
            [
             0.2222222222222222,
             "#7201a8"
            ],
            [
             0.3333333333333333,
             "#9c179e"
            ],
            [
             0.4444444444444444,
             "#bd3786"
            ],
            [
             0.5555555555555556,
             "#d8576b"
            ],
            [
             0.6666666666666666,
             "#ed7953"
            ],
            [
             0.7777777777777778,
             "#fb9f3a"
            ],
            [
             0.8888888888888888,
             "#fdca26"
            ],
            [
             1,
             "#f0f921"
            ]
           ],
           "sequentialminus": [
            [
             0,
             "#0d0887"
            ],
            [
             0.1111111111111111,
             "#46039f"
            ],
            [
             0.2222222222222222,
             "#7201a8"
            ],
            [
             0.3333333333333333,
             "#9c179e"
            ],
            [
             0.4444444444444444,
             "#bd3786"
            ],
            [
             0.5555555555555556,
             "#d8576b"
            ],
            [
             0.6666666666666666,
             "#ed7953"
            ],
            [
             0.7777777777777778,
             "#fb9f3a"
            ],
            [
             0.8888888888888888,
             "#fdca26"
            ],
            [
             1,
             "#f0f921"
            ]
           ]
          },
          "colorway": [
           "#636efa",
           "#EF553B",
           "#00cc96",
           "#ab63fa",
           "#FFA15A",
           "#19d3f3",
           "#FF6692",
           "#B6E880",
           "#FF97FF",
           "#FECB52"
          ],
          "font": {
           "color": "#2a3f5f"
          },
          "geo": {
           "bgcolor": "white",
           "lakecolor": "white",
           "landcolor": "#E5ECF6",
           "showlakes": true,
           "showland": true,
           "subunitcolor": "white"
          },
          "hoverlabel": {
           "align": "left"
          },
          "hovermode": "closest",
          "mapbox": {
           "style": "light"
          },
          "paper_bgcolor": "white",
          "plot_bgcolor": "#E5ECF6",
          "polar": {
           "angularaxis": {
            "gridcolor": "white",
            "linecolor": "white",
            "ticks": ""
           },
           "bgcolor": "#E5ECF6",
           "radialaxis": {
            "gridcolor": "white",
            "linecolor": "white",
            "ticks": ""
           }
          },
          "scene": {
           "xaxis": {
            "backgroundcolor": "#E5ECF6",
            "gridcolor": "white",
            "gridwidth": 2,
            "linecolor": "white",
            "showbackground": true,
            "ticks": "",
            "zerolinecolor": "white"
           },
           "yaxis": {
            "backgroundcolor": "#E5ECF6",
            "gridcolor": "white",
            "gridwidth": 2,
            "linecolor": "white",
            "showbackground": true,
            "ticks": "",
            "zerolinecolor": "white"
           },
           "zaxis": {
            "backgroundcolor": "#E5ECF6",
            "gridcolor": "white",
            "gridwidth": 2,
            "linecolor": "white",
            "showbackground": true,
            "ticks": "",
            "zerolinecolor": "white"
           }
          },
          "shapedefaults": {
           "line": {
            "color": "#2a3f5f"
           }
          },
          "ternary": {
           "aaxis": {
            "gridcolor": "white",
            "linecolor": "white",
            "ticks": ""
           },
           "baxis": {
            "gridcolor": "white",
            "linecolor": "white",
            "ticks": ""
           },
           "bgcolor": "#E5ECF6",
           "caxis": {
            "gridcolor": "white",
            "linecolor": "white",
            "ticks": ""
           }
          },
          "title": {
           "x": 0.05
          },
          "xaxis": {
           "automargin": true,
           "gridcolor": "white",
           "linecolor": "white",
           "ticks": "",
           "title": {
            "standoff": 15
           },
           "zerolinecolor": "white",
           "zerolinewidth": 2
          },
          "yaxis": {
           "automargin": true,
           "gridcolor": "white",
           "linecolor": "white",
           "ticks": "",
           "title": {
            "standoff": 15
           },
           "zerolinecolor": "white",
           "zerolinewidth": 2
          }
         }
        },
        "title": {
         "font": {
          "color": "#4D5663"
         }
        },
        "xaxis": {
         "gridcolor": "#E1E5ED",
         "showgrid": true,
         "tickfont": {
          "color": "#4D5663"
         },
         "title": {
          "font": {
           "color": "#4D5663"
          },
          "text": ""
         },
         "zerolinecolor": "#E1E5ED"
        },
        "yaxis": {
         "gridcolor": "#E1E5ED",
         "showgrid": true,
         "tickfont": {
          "color": "#4D5663"
         },
         "title": {
          "font": {
           "color": "#4D5663"
          },
          "text": ""
         },
         "zerolinecolor": "#E1E5ED"
        }
       }
      },
      "text/html": [
       "<div>\n",
       "        \n",
       "        \n",
       "            <div id=\"4ac2675c-aa40-43cd-ba21-9a39250a2f49\" class=\"plotly-graph-div\" style=\"height:525px; width:100%;\"></div>\n",
       "            <script type=\"text/javascript\">\n",
       "                require([\"plotly\"], function(Plotly) {\n",
       "                    window.PLOTLYENV=window.PLOTLYENV || {};\n",
       "                    window.PLOTLYENV.BASE_URL='https://plot.ly';\n",
       "                    \n",
       "                if (document.getElementById(\"4ac2675c-aa40-43cd-ba21-9a39250a2f49\")) {\n",
       "                    Plotly.newPlot(\n",
       "                        '4ac2675c-aa40-43cd-ba21-9a39250a2f49',\n",
       "                        [{\"marker\": {\"color\": [\"rgb(255, 153, 51)\", \"rgb(55, 128, 191)\", \"rgb(50, 171, 96)\", \"rgb(128, 0, 128)\", \"rgb(219, 64, 82)\", \"rgb(0, 128, 128)\", \"rgb(255, 255, 51)\", \"rgb(128, 128, 0)\", \"rgb(251, 128, 114)\", \"rgb(128, 177, 211)\"], \"line\": {\"width\": 1.3}, \"size\": [76, 42, 94, 62, 77, 50, 47, 21, 83, 26, 26, 86, 102, 75, 45, 74, 112, 96, 63, 72, 33, 60, 73, 46, 65, 39, 82, 54, 29, 67, 74, 69, 60, 35, 51, 46, 64, 49, 68, 76, 38, 76, 89, 88, 28, 65, 95, 73, 56, 52, 12, 62, 62, 68, 87, 64, 62, 91, 65, 102, 92, 57, 58, 74, 79, 12, 50, 53, 61, 47, 78, 73, 24, 24, 73, 95, 61, 79, 78, 61, 58, 66, 67, 58, 44, 52, 34, 36, 59, 54, 71, 66, 84, 56, 74, 61, 71, 69, 90, 87], \"symbol\": \"circle\"}, \"mode\": \"markers\", \"text\": \"\", \"type\": \"scatter\", \"x\": [-0.35258759777768894, -0.2689202523477829, -0.7275561455665225, -0.4092338836746071, 0.5939352897099525, -1.2142800943388812, 0.7711096389260248, -0.21383971610196364, 2.0142645914043507, 0.7799110307712278, 1.5457083578522435, 0.9085304936655417, 1.1418265830175587, -0.2104929729809623, 0.7660603426217358, -2.0280362769007985, -2.233828943016878, -0.6300848842080163, 1.5525234298421335, 2.0855689538407653, -0.1996846114408051, 0.5116603997849389, 0.4413175834881552, -0.052475122738868694, -1.4832273130424847, -0.25774388512369106, -1.0640559145877198, -0.3583588767557854, -0.753930925599534, 0.004074420280987488, -0.14176351936354767, 1.4218626480633727, -1.3406424365335914, -0.6306641256341762, 0.34681256724898757, 0.43592034039747934, 0.6865252140987607, 0.5969319637737608, -0.2957449312225045, -1.5104607394739267, -0.2970795197674708, -1.510972639222177, -0.997112695722731, -0.16208689230666798, 1.380420552001041, -0.11125905541840161, 0.4671259115943136, 0.8067247284977627, -1.0343495030780103, 0.5994055167033986, -2.392944687471754, 0.009841623131410187, -2.805109312482037, 0.08829982085256122, 0.1587117032205557, 0.3710578971195314, -0.6880114701614541, 1.4592294790120843, 0.32260083504845827, -0.31203982509622247, -0.5016395710778763, -0.7092626495034179, 1.0623166785638058, -1.5567282874418933, -0.4470023818970348, 0.9298520292269593, 0.051790544147703926, -0.592455513839245, -0.1196242233503168, 1.1594675175773657, 0.6629796478742163, -1.7891314124011264, -2.0335113265519764, -0.6999835342221341, -1.1917599758854707, 0.48071537380142443, 0.05952184244397095, -0.5785307065158325, -0.3421145600853384, -1.4039388516097686, 2.1502912104578336, -0.9615052636121858, -2.7254911460318976, 0.9774563628902962, 0.05190045743478614, 0.2126943664117536, -1.5952990423031996, 0.9130858983745637, -0.21639455031226423, -0.23989461487285638, 0.9728080442967975, -0.1460459616149387, -1.3521999478330948, -2.065521937125486, -0.27532113693680454, -0.5980265778152496, 0.09311905136783473, 1.1902875577767913, 0.2899773682382634, -0.312252032605789], \"y\": [0.9398897318214089, -0.8731839425082643, 0.046902450656532195, -0.5730263478031349, 0.20964920461071293, 1.589873522036531, 0.04750924541528327, 0.3550099321199273, -1.3717152265624826, -0.29363834535540906, -0.6834415374498101, 0.3013358888971489, 0.08557550080518363, -0.6075508809315883, -0.4554319865724272, -0.6267217986862303, -0.12408272291175006, 2.1377019386303426, -0.5543428603297601, -0.26825029207872786, -1.0491011370545602, -0.3238181830805828, 0.3117772248306555, -1.808426122955307, -0.33810791145502933, 0.8746190178364772, 0.3880907514176325, -0.2146447776967657, 0.7117228782364389, -1.034419032052581, -1.3025207269502206, -0.9431243446739456, -1.3566849831833117, 0.9139728482420952, -0.4491906321351525, 0.20439161904362946, 1.0408022183431263, 0.5066670948192474, -0.10350418262487975, -0.9059301100673794, -0.18267520984842991, -0.12932747242214102, 0.9490202299868135, 1.5445301177158561, -0.5484910871344092, 1.3463270476962672, -0.31544005436995826, -1.4849556354680933, 0.6161677445530706, -1.4826409768646185, 1.0790226993828536, 0.17870810808648277, 1.2507159469031213, -0.3723212271360819, 1.1351360546362514, 0.4989889637299344, 0.5307557889854935, 0.7642488396101653, -0.8648674375434916, -0.9868819280636416, -1.374768191849497, 0.040196813920813354, -1.8501252771933256, -0.47096661859921635, 0.030148809422230492, -0.49629746394738594, -0.48055047186500344, 1.0019238054310298, -0.2059649005632659, 0.03397516273643297, 1.0738805827143372, 2.4721239137994315, -0.4052189135756334, -0.34375404549779637, -1.0857649696484415, 0.055094811569757304, -0.8850098967698943, -0.22656957039513467, 0.39986500767204186, -0.34663345478149626, 0.3968003349411088, -0.26733465187034505, -0.2198127906046125, 0.37235632515082645, 0.2910676243965551, -0.05890540711534565, 0.9968503248422131, 1.0010157850265846, -0.1184178551405647, 0.30865917238422885, -0.3880279024822919, 1.1596828942923951, -0.7113173402696118, 1.6878264070830626, 1.242425123682662, -0.49942462992988224, 0.4277971787926875, 0.918168330122392, -0.036254957143438314, 0.7175071803974852]}],\n",
       "                        {\"legend\": {\"bgcolor\": \"#F5F6F9\", \"font\": {\"color\": \"#4D5663\"}}, \"paper_bgcolor\": \"#F5F6F9\", \"plot_bgcolor\": \"#F5F6F9\", \"template\": {\"data\": {\"bar\": [{\"error_x\": {\"color\": \"#2a3f5f\"}, \"error_y\": {\"color\": \"#2a3f5f\"}, \"marker\": {\"line\": {\"color\": \"#E5ECF6\", \"width\": 0.5}}, \"type\": \"bar\"}], \"barpolar\": [{\"marker\": {\"line\": {\"color\": \"#E5ECF6\", \"width\": 0.5}}, \"type\": \"barpolar\"}], \"carpet\": [{\"aaxis\": {\"endlinecolor\": \"#2a3f5f\", \"gridcolor\": \"white\", \"linecolor\": \"white\", \"minorgridcolor\": \"white\", \"startlinecolor\": \"#2a3f5f\"}, \"baxis\": {\"endlinecolor\": \"#2a3f5f\", \"gridcolor\": \"white\", \"linecolor\": \"white\", \"minorgridcolor\": \"white\", \"startlinecolor\": \"#2a3f5f\"}, \"type\": \"carpet\"}], \"choropleth\": [{\"colorbar\": {\"outlinewidth\": 0, \"ticks\": \"\"}, \"type\": \"choropleth\"}], \"contour\": [{\"colorbar\": {\"outlinewidth\": 0, \"ticks\": \"\"}, \"colorscale\": [[0.0, \"#0d0887\"], [0.1111111111111111, \"#46039f\"], [0.2222222222222222, \"#7201a8\"], [0.3333333333333333, \"#9c179e\"], [0.4444444444444444, \"#bd3786\"], [0.5555555555555556, \"#d8576b\"], [0.6666666666666666, \"#ed7953\"], [0.7777777777777778, \"#fb9f3a\"], [0.8888888888888888, \"#fdca26\"], [1.0, \"#f0f921\"]], \"type\": \"contour\"}], \"contourcarpet\": [{\"colorbar\": {\"outlinewidth\": 0, \"ticks\": \"\"}, \"type\": \"contourcarpet\"}], \"heatmap\": [{\"colorbar\": {\"outlinewidth\": 0, \"ticks\": \"\"}, \"colorscale\": [[0.0, \"#0d0887\"], [0.1111111111111111, \"#46039f\"], [0.2222222222222222, \"#7201a8\"], [0.3333333333333333, \"#9c179e\"], [0.4444444444444444, \"#bd3786\"], [0.5555555555555556, \"#d8576b\"], [0.6666666666666666, \"#ed7953\"], [0.7777777777777778, \"#fb9f3a\"], [0.8888888888888888, \"#fdca26\"], [1.0, \"#f0f921\"]], \"type\": \"heatmap\"}], \"heatmapgl\": [{\"colorbar\": {\"outlinewidth\": 0, \"ticks\": \"\"}, \"colorscale\": [[0.0, \"#0d0887\"], [0.1111111111111111, \"#46039f\"], [0.2222222222222222, \"#7201a8\"], [0.3333333333333333, \"#9c179e\"], [0.4444444444444444, \"#bd3786\"], [0.5555555555555556, \"#d8576b\"], [0.6666666666666666, \"#ed7953\"], [0.7777777777777778, \"#fb9f3a\"], [0.8888888888888888, \"#fdca26\"], [1.0, \"#f0f921\"]], \"type\": \"heatmapgl\"}], \"histogram\": [{\"marker\": {\"colorbar\": {\"outlinewidth\": 0, \"ticks\": \"\"}}, \"type\": \"histogram\"}], \"histogram2d\": [{\"colorbar\": {\"outlinewidth\": 0, \"ticks\": \"\"}, \"colorscale\": [[0.0, \"#0d0887\"], [0.1111111111111111, \"#46039f\"], [0.2222222222222222, \"#7201a8\"], [0.3333333333333333, \"#9c179e\"], [0.4444444444444444, \"#bd3786\"], [0.5555555555555556, \"#d8576b\"], [0.6666666666666666, \"#ed7953\"], [0.7777777777777778, \"#fb9f3a\"], [0.8888888888888888, \"#fdca26\"], [1.0, \"#f0f921\"]], \"type\": \"histogram2d\"}], \"histogram2dcontour\": [{\"colorbar\": {\"outlinewidth\": 0, \"ticks\": \"\"}, \"colorscale\": [[0.0, \"#0d0887\"], [0.1111111111111111, \"#46039f\"], [0.2222222222222222, \"#7201a8\"], [0.3333333333333333, \"#9c179e\"], [0.4444444444444444, \"#bd3786\"], [0.5555555555555556, \"#d8576b\"], [0.6666666666666666, \"#ed7953\"], [0.7777777777777778, \"#fb9f3a\"], [0.8888888888888888, \"#fdca26\"], [1.0, \"#f0f921\"]], \"type\": \"histogram2dcontour\"}], \"mesh3d\": [{\"colorbar\": {\"outlinewidth\": 0, \"ticks\": \"\"}, \"type\": \"mesh3d\"}], \"parcoords\": [{\"line\": {\"colorbar\": {\"outlinewidth\": 0, \"ticks\": \"\"}}, \"type\": \"parcoords\"}], \"pie\": [{\"automargin\": true, \"type\": \"pie\"}], \"scatter\": [{\"marker\": {\"colorbar\": {\"outlinewidth\": 0, \"ticks\": \"\"}}, \"type\": \"scatter\"}], \"scatter3d\": [{\"line\": {\"colorbar\": {\"outlinewidth\": 0, \"ticks\": \"\"}}, \"marker\": {\"colorbar\": {\"outlinewidth\": 0, \"ticks\": \"\"}}, \"type\": \"scatter3d\"}], \"scattercarpet\": [{\"marker\": {\"colorbar\": {\"outlinewidth\": 0, \"ticks\": \"\"}}, \"type\": \"scattercarpet\"}], \"scattergeo\": [{\"marker\": {\"colorbar\": {\"outlinewidth\": 0, \"ticks\": \"\"}}, \"type\": \"scattergeo\"}], \"scattergl\": [{\"marker\": {\"colorbar\": {\"outlinewidth\": 0, \"ticks\": \"\"}}, \"type\": \"scattergl\"}], \"scattermapbox\": [{\"marker\": {\"colorbar\": {\"outlinewidth\": 0, \"ticks\": \"\"}}, \"type\": \"scattermapbox\"}], \"scatterpolar\": [{\"marker\": {\"colorbar\": {\"outlinewidth\": 0, \"ticks\": \"\"}}, \"type\": \"scatterpolar\"}], \"scatterpolargl\": [{\"marker\": {\"colorbar\": {\"outlinewidth\": 0, \"ticks\": \"\"}}, \"type\": \"scatterpolargl\"}], \"scatterternary\": [{\"marker\": {\"colorbar\": {\"outlinewidth\": 0, \"ticks\": \"\"}}, \"type\": \"scatterternary\"}], \"surface\": [{\"colorbar\": {\"outlinewidth\": 0, \"ticks\": \"\"}, \"colorscale\": [[0.0, \"#0d0887\"], [0.1111111111111111, \"#46039f\"], [0.2222222222222222, \"#7201a8\"], [0.3333333333333333, \"#9c179e\"], [0.4444444444444444, \"#bd3786\"], [0.5555555555555556, \"#d8576b\"], [0.6666666666666666, \"#ed7953\"], [0.7777777777777778, \"#fb9f3a\"], [0.8888888888888888, \"#fdca26\"], [1.0, \"#f0f921\"]], \"type\": \"surface\"}], \"table\": [{\"cells\": {\"fill\": {\"color\": \"#EBF0F8\"}, \"line\": {\"color\": \"white\"}}, \"header\": {\"fill\": {\"color\": \"#C8D4E3\"}, \"line\": {\"color\": \"white\"}}, \"type\": \"table\"}]}, \"layout\": {\"annotationdefaults\": {\"arrowcolor\": \"#2a3f5f\", \"arrowhead\": 0, \"arrowwidth\": 1}, \"coloraxis\": {\"colorbar\": {\"outlinewidth\": 0, \"ticks\": \"\"}}, \"colorscale\": {\"diverging\": [[0, \"#8e0152\"], [0.1, \"#c51b7d\"], [0.2, \"#de77ae\"], [0.3, \"#f1b6da\"], [0.4, \"#fde0ef\"], [0.5, \"#f7f7f7\"], [0.6, \"#e6f5d0\"], [0.7, \"#b8e186\"], [0.8, \"#7fbc41\"], [0.9, \"#4d9221\"], [1, \"#276419\"]], \"sequential\": [[0.0, \"#0d0887\"], [0.1111111111111111, \"#46039f\"], [0.2222222222222222, \"#7201a8\"], [0.3333333333333333, \"#9c179e\"], [0.4444444444444444, \"#bd3786\"], [0.5555555555555556, \"#d8576b\"], [0.6666666666666666, \"#ed7953\"], [0.7777777777777778, \"#fb9f3a\"], [0.8888888888888888, \"#fdca26\"], [1.0, \"#f0f921\"]], \"sequentialminus\": [[0.0, \"#0d0887\"], [0.1111111111111111, \"#46039f\"], [0.2222222222222222, \"#7201a8\"], [0.3333333333333333, \"#9c179e\"], [0.4444444444444444, \"#bd3786\"], [0.5555555555555556, \"#d8576b\"], [0.6666666666666666, \"#ed7953\"], [0.7777777777777778, \"#fb9f3a\"], [0.8888888888888888, \"#fdca26\"], [1.0, \"#f0f921\"]]}, \"colorway\": [\"#636efa\", \"#EF553B\", \"#00cc96\", \"#ab63fa\", \"#FFA15A\", \"#19d3f3\", \"#FF6692\", \"#B6E880\", \"#FF97FF\", \"#FECB52\"], \"font\": {\"color\": \"#2a3f5f\"}, \"geo\": {\"bgcolor\": \"white\", \"lakecolor\": \"white\", \"landcolor\": \"#E5ECF6\", \"showlakes\": true, \"showland\": true, \"subunitcolor\": \"white\"}, \"hoverlabel\": {\"align\": \"left\"}, \"hovermode\": \"closest\", \"mapbox\": {\"style\": \"light\"}, \"paper_bgcolor\": \"white\", \"plot_bgcolor\": \"#E5ECF6\", \"polar\": {\"angularaxis\": {\"gridcolor\": \"white\", \"linecolor\": \"white\", \"ticks\": \"\"}, \"bgcolor\": \"#E5ECF6\", \"radialaxis\": {\"gridcolor\": \"white\", \"linecolor\": \"white\", \"ticks\": \"\"}}, \"scene\": {\"xaxis\": {\"backgroundcolor\": \"#E5ECF6\", \"gridcolor\": \"white\", \"gridwidth\": 2, \"linecolor\": \"white\", \"showbackground\": true, \"ticks\": \"\", \"zerolinecolor\": \"white\"}, \"yaxis\": {\"backgroundcolor\": \"#E5ECF6\", \"gridcolor\": \"white\", \"gridwidth\": 2, \"linecolor\": \"white\", \"showbackground\": true, \"ticks\": \"\", \"zerolinecolor\": \"white\"}, \"zaxis\": {\"backgroundcolor\": \"#E5ECF6\", \"gridcolor\": \"white\", \"gridwidth\": 2, \"linecolor\": \"white\", \"showbackground\": true, \"ticks\": \"\", \"zerolinecolor\": \"white\"}}, \"shapedefaults\": {\"line\": {\"color\": \"#2a3f5f\"}}, \"ternary\": {\"aaxis\": {\"gridcolor\": \"white\", \"linecolor\": \"white\", \"ticks\": \"\"}, \"baxis\": {\"gridcolor\": \"white\", \"linecolor\": \"white\", \"ticks\": \"\"}, \"bgcolor\": \"#E5ECF6\", \"caxis\": {\"gridcolor\": \"white\", \"linecolor\": \"white\", \"ticks\": \"\"}}, \"title\": {\"x\": 0.05}, \"xaxis\": {\"automargin\": true, \"gridcolor\": \"white\", \"linecolor\": \"white\", \"ticks\": \"\", \"title\": {\"standoff\": 15}, \"zerolinecolor\": \"white\", \"zerolinewidth\": 2}, \"yaxis\": {\"automargin\": true, \"gridcolor\": \"white\", \"linecolor\": \"white\", \"ticks\": \"\", \"title\": {\"standoff\": 15}, \"zerolinecolor\": \"white\", \"zerolinewidth\": 2}}}, \"title\": {\"font\": {\"color\": \"#4D5663\"}}, \"xaxis\": {\"gridcolor\": \"#E1E5ED\", \"showgrid\": true, \"tickfont\": {\"color\": \"#4D5663\"}, \"title\": {\"font\": {\"color\": \"#4D5663\"}, \"text\": \"\"}, \"zerolinecolor\": \"#E1E5ED\"}, \"yaxis\": {\"gridcolor\": \"#E1E5ED\", \"showgrid\": true, \"tickfont\": {\"color\": \"#4D5663\"}, \"title\": {\"font\": {\"color\": \"#4D5663\"}, \"text\": \"\"}, \"zerolinecolor\": \"#E1E5ED\"}},\n",
       "                        {\"showLink\": true, \"linkText\": \"Export to plot.ly\", \"plotlyServerURL\": \"https://plot.ly\", \"responsive\": true}\n",
       "                    ).then(function(){\n",
       "                            \n",
       "var gd = document.getElementById('4ac2675c-aa40-43cd-ba21-9a39250a2f49');\n",
       "var x = new MutationObserver(function (mutations, observer) {{\n",
       "        var display = window.getComputedStyle(gd).display;\n",
       "        if (!display || display === 'none') {{\n",
       "            console.log([gd, 'removed!']);\n",
       "            Plotly.purge(gd);\n",
       "            observer.disconnect();\n",
       "        }}\n",
       "}});\n",
       "\n",
       "// Listen for the removal of the full notebook cells\n",
       "var notebookContainer = gd.closest('#notebook-container');\n",
       "if (notebookContainer) {{\n",
       "    x.observe(notebookContainer, {childList: true});\n",
       "}}\n",
       "\n",
       "// Listen for the clearing of the current output cell\n",
       "var outputEl = gd.closest('.output');\n",
       "if (outputEl) {{\n",
       "    x.observe(outputEl, {childList: true});\n",
       "}}\n",
       "\n",
       "                        })\n",
       "                };\n",
       "                });\n",
       "            </script>\n",
       "        </div>"
      ]
     },
     "metadata": {},
     "output_type": "display_data"
    }
   ],
   "source": [
    "df.iplot(kind='bubble',x='A',y='B',size='C')"
   ]
  },
  {
   "cell_type": "markdown",
   "metadata": {},
   "source": [
    "## scatter_matrix()\n",
    "\n",
    "Similar to sns.pairplot()"
   ]
  },
  {
   "cell_type": "code",
   "execution_count": 18,
   "metadata": {},
   "outputs": [
    {
     "data": {
      "application/vnd.plotly.v1+json": {
       "config": {
        "linkText": "Export to plot.ly",
        "plotlyServerURL": "https://plot.ly",
        "showLink": true
       },
       "data": [
        {
         "histfunc": "count",
         "histnorm": "",
         "marker": {
          "color": "rgba(255, 153, 51, 1.0)",
          "line": {
           "color": "#4D5663",
           "width": 1.3
          }
         },
         "name": "A",
         "nbinsx": 10,
         "opacity": 0.8,
         "orientation": "v",
         "type": "histogram",
         "x": [
          -0.35258759777768894,
          -0.2689202523477829,
          -0.7275561455665225,
          -0.4092338836746071,
          0.5939352897099525,
          -1.2142800943388812,
          0.7711096389260248,
          -0.21383971610196364,
          2.0142645914043507,
          0.7799110307712278,
          1.5457083578522435,
          0.9085304936655417,
          1.1418265830175587,
          -0.2104929729809623,
          0.7660603426217358,
          -2.0280362769007985,
          -2.233828943016878,
          -0.6300848842080163,
          1.5525234298421335,
          2.0855689538407653,
          -0.1996846114408051,
          0.5116603997849389,
          0.4413175834881552,
          -0.052475122738868694,
          -1.4832273130424847,
          -0.25774388512369106,
          -1.0640559145877198,
          -0.3583588767557854,
          -0.753930925599534,
          0.004074420280987488,
          -0.14176351936354767,
          1.4218626480633727,
          -1.3406424365335914,
          -0.6306641256341762,
          0.34681256724898757,
          0.43592034039747934,
          0.6865252140987607,
          0.5969319637737608,
          -0.2957449312225045,
          -1.5104607394739267,
          -0.2970795197674708,
          -1.510972639222177,
          -0.997112695722731,
          -0.16208689230666798,
          1.380420552001041,
          -0.11125905541840161,
          0.4671259115943136,
          0.8067247284977627,
          -1.0343495030780103,
          0.5994055167033986,
          -2.392944687471754,
          0.009841623131410187,
          -2.805109312482037,
          0.08829982085256122,
          0.1587117032205557,
          0.3710578971195314,
          -0.6880114701614541,
          1.4592294790120843,
          0.32260083504845827,
          -0.31203982509622247,
          -0.5016395710778763,
          -0.7092626495034179,
          1.0623166785638058,
          -1.5567282874418933,
          -0.4470023818970348,
          0.9298520292269593,
          0.051790544147703926,
          -0.592455513839245,
          -0.1196242233503168,
          1.1594675175773657,
          0.6629796478742163,
          -1.7891314124011264,
          -2.0335113265519764,
          -0.6999835342221341,
          -1.1917599758854707,
          0.48071537380142443,
          0.05952184244397095,
          -0.5785307065158325,
          -0.3421145600853384,
          -1.4039388516097686,
          2.1502912104578336,
          -0.9615052636121858,
          -2.7254911460318976,
          0.9774563628902962,
          0.05190045743478614,
          0.2126943664117536,
          -1.5952990423031996,
          0.9130858983745637,
          -0.21639455031226423,
          -0.23989461487285638,
          0.9728080442967975,
          -0.1460459616149387,
          -1.3521999478330948,
          -2.065521937125486,
          -0.27532113693680454,
          -0.5980265778152496,
          0.09311905136783473,
          1.1902875577767913,
          0.2899773682382634,
          -0.312252032605789
         ],
         "xaxis": "x",
         "yaxis": "y"
        },
        {
         "line": {
          "color": "rgba(128, 128, 128, 1.0)",
          "dash": "solid",
          "shape": "linear",
          "width": 1.3
         },
         "marker": {
          "size": 2,
          "symbol": "circle"
         },
         "mode": "markers",
         "name": "A",
         "text": "",
         "type": "scatter",
         "x": [
          0.9398897318214089,
          -0.8731839425082643,
          0.046902450656532195,
          -0.5730263478031349,
          0.20964920461071293,
          1.589873522036531,
          0.04750924541528327,
          0.3550099321199273,
          -1.3717152265624826,
          -0.29363834535540906,
          -0.6834415374498101,
          0.3013358888971489,
          0.08557550080518363,
          -0.6075508809315883,
          -0.4554319865724272,
          -0.6267217986862303,
          -0.12408272291175006,
          2.1377019386303426,
          -0.5543428603297601,
          -0.26825029207872786,
          -1.0491011370545602,
          -0.3238181830805828,
          0.3117772248306555,
          -1.808426122955307,
          -0.33810791145502933,
          0.8746190178364772,
          0.3880907514176325,
          -0.2146447776967657,
          0.7117228782364389,
          -1.034419032052581,
          -1.3025207269502206,
          -0.9431243446739456,
          -1.3566849831833117,
          0.9139728482420952,
          -0.4491906321351525,
          0.20439161904362946,
          1.0408022183431263,
          0.5066670948192474,
          -0.10350418262487975,
          -0.9059301100673794,
          -0.18267520984842991,
          -0.12932747242214102,
          0.9490202299868135,
          1.5445301177158561,
          -0.5484910871344092,
          1.3463270476962672,
          -0.31544005436995826,
          -1.4849556354680933,
          0.6161677445530706,
          -1.4826409768646185,
          1.0790226993828536,
          0.17870810808648277,
          1.2507159469031213,
          -0.3723212271360819,
          1.1351360546362514,
          0.4989889637299344,
          0.5307557889854935,
          0.7642488396101653,
          -0.8648674375434916,
          -0.9868819280636416,
          -1.374768191849497,
          0.040196813920813354,
          -1.8501252771933256,
          -0.47096661859921635,
          0.030148809422230492,
          -0.49629746394738594,
          -0.48055047186500344,
          1.0019238054310298,
          -0.2059649005632659,
          0.03397516273643297,
          1.0738805827143372,
          2.4721239137994315,
          -0.4052189135756334,
          -0.34375404549779637,
          -1.0857649696484415,
          0.055094811569757304,
          -0.8850098967698943,
          -0.22656957039513467,
          0.39986500767204186,
          -0.34663345478149626,
          0.3968003349411088,
          -0.26733465187034505,
          -0.2198127906046125,
          0.37235632515082645,
          0.2910676243965551,
          -0.05890540711534565,
          0.9968503248422131,
          1.0010157850265846,
          -0.1184178551405647,
          0.30865917238422885,
          -0.3880279024822919,
          1.1596828942923951,
          -0.7113173402696118,
          1.6878264070830626,
          1.242425123682662,
          -0.49942462992988224,
          0.4277971787926875,
          0.918168330122392,
          -0.036254957143438314,
          0.7175071803974852
         ],
         "xaxis": "x2",
         "y": [
          -0.35258759777768894,
          -0.2689202523477829,
          -0.7275561455665225,
          -0.4092338836746071,
          0.5939352897099525,
          -1.2142800943388812,
          0.7711096389260248,
          -0.21383971610196364,
          2.0142645914043507,
          0.7799110307712278,
          1.5457083578522435,
          0.9085304936655417,
          1.1418265830175587,
          -0.2104929729809623,
          0.7660603426217358,
          -2.0280362769007985,
          -2.233828943016878,
          -0.6300848842080163,
          1.5525234298421335,
          2.0855689538407653,
          -0.1996846114408051,
          0.5116603997849389,
          0.4413175834881552,
          -0.052475122738868694,
          -1.4832273130424847,
          -0.25774388512369106,
          -1.0640559145877198,
          -0.3583588767557854,
          -0.753930925599534,
          0.004074420280987488,
          -0.14176351936354767,
          1.4218626480633727,
          -1.3406424365335914,
          -0.6306641256341762,
          0.34681256724898757,
          0.43592034039747934,
          0.6865252140987607,
          0.5969319637737608,
          -0.2957449312225045,
          -1.5104607394739267,
          -0.2970795197674708,
          -1.510972639222177,
          -0.997112695722731,
          -0.16208689230666798,
          1.380420552001041,
          -0.11125905541840161,
          0.4671259115943136,
          0.8067247284977627,
          -1.0343495030780103,
          0.5994055167033986,
          -2.392944687471754,
          0.009841623131410187,
          -2.805109312482037,
          0.08829982085256122,
          0.1587117032205557,
          0.3710578971195314,
          -0.6880114701614541,
          1.4592294790120843,
          0.32260083504845827,
          -0.31203982509622247,
          -0.5016395710778763,
          -0.7092626495034179,
          1.0623166785638058,
          -1.5567282874418933,
          -0.4470023818970348,
          0.9298520292269593,
          0.051790544147703926,
          -0.592455513839245,
          -0.1196242233503168,
          1.1594675175773657,
          0.6629796478742163,
          -1.7891314124011264,
          -2.0335113265519764,
          -0.6999835342221341,
          -1.1917599758854707,
          0.48071537380142443,
          0.05952184244397095,
          -0.5785307065158325,
          -0.3421145600853384,
          -1.4039388516097686,
          2.1502912104578336,
          -0.9615052636121858,
          -2.7254911460318976,
          0.9774563628902962,
          0.05190045743478614,
          0.2126943664117536,
          -1.5952990423031996,
          0.9130858983745637,
          -0.21639455031226423,
          -0.23989461487285638,
          0.9728080442967975,
          -0.1460459616149387,
          -1.3521999478330948,
          -2.065521937125486,
          -0.27532113693680454,
          -0.5980265778152496,
          0.09311905136783473,
          1.1902875577767913,
          0.2899773682382634,
          -0.312252032605789
         ],
         "yaxis": "y2"
        },
        {
         "line": {
          "color": "rgba(128, 128, 128, 1.0)",
          "dash": "solid",
          "shape": "linear",
          "width": 1.3
         },
         "marker": {
          "size": 2,
          "symbol": "circle"
         },
         "mode": "markers",
         "name": "A",
         "text": "",
         "type": "scatter",
         "x": [
          0.8632668610366468,
          -0.6759838109729048,
          1.6760435691157856,
          0.2386522677056511,
          0.9177871555928089,
          -0.33195349463338125,
          -0.4596659548705168,
          -1.619828146084732,
          1.196895449591328,
          -1.4158182886092685,
          -1.4147310374881203,
          1.3071169019440745,
          2.034886088760232,
          0.831296945101511,
          -0.5331427176218014,
          0.7625743050946564,
          2.4870683403318696,
          1.8006533850034185,
          0.2525267540628914,
          0.6875297280476015,
          -1.0765790504865762,
          0.12728861231860875,
          0.7247502055785919,
          -0.49289388585364613,
          0.3744825557060185,
          -0.8096990396759861,
          1.1400463269190912,
          -0.15826526858594317,
          -1.2775919630437773,
          0.44639629173763584,
          0.7668272024069026,
          0.5320633979394429,
          0.12223289154187524,
          -0.9835329851688851,
          -0.2626440166090256,
          -0.49029865362572156,
          0.3315965239572869,
          -0.35443941541290896,
          0.49478368148043206,
          0.8803164086438205,
          -0.8665736048325886,
          0.8723221792680127,
          1.4657052626484044,
          1.410995083908226,
          -1.314848635987647,
          0.3624400384126643,
          1.72897276386658,
          0.744978917233216,
          -0.025728280250998856,
          -0.2055778639647989,
          -2.0427947545816276,
          0.21659128562133634,
          0.24200545678709667,
          0.5114516178742391,
          1.3674354426688156,
          0.3091350011835716,
          0.22077844271697306,
          1.5679050452010852,
          0.3878344264221422,
          2.0546408866166663,
          1.5945815066522286,
          0.012462768948805153,
          0.048795755411710925,
          0.7793211453715158,
          0.9925909406622786,
          -2.0754924977544023,
          -0.30780820544177,
          -0.17747889661433175,
          0.1676548442140887,
          -0.45399169918049453,
          0.9516971756525416,
          0.7422403966932977,
          -1.4908827862622838,
          -1.4834459137371023,
          0.7405222811073173,
          1.7286513714090677,
          0.1710746692888831,
          0.9932882074728955,
          0.9620004841015415,
          0.2015130492683428,
          0.035021823813223,
          0.4147467707948085,
          0.4470003224996248,
          0.060453446864904885,
          -0.5811734749393368,
          -0.23798052622064167,
          -1.0564814386852002,
          -0.9746741868220017,
          0.09571782632846486,
          -0.1413046510016507,
          0.6425182209935902,
          0.40640709529694263,
          1.2468937516914458,
          -0.03688936105911779,
          0.7563916635910612,
          0.19948370407499655,
          0.6205897717531387,
          0.5641429398722851,
          1.5157884976406186,
          1.3512524246962052
         ],
         "xaxis": "x3",
         "y": [
          -0.35258759777768894,
          -0.2689202523477829,
          -0.7275561455665225,
          -0.4092338836746071,
          0.5939352897099525,
          -1.2142800943388812,
          0.7711096389260248,
          -0.21383971610196364,
          2.0142645914043507,
          0.7799110307712278,
          1.5457083578522435,
          0.9085304936655417,
          1.1418265830175587,
          -0.2104929729809623,
          0.7660603426217358,
          -2.0280362769007985,
          -2.233828943016878,
          -0.6300848842080163,
          1.5525234298421335,
          2.0855689538407653,
          -0.1996846114408051,
          0.5116603997849389,
          0.4413175834881552,
          -0.052475122738868694,
          -1.4832273130424847,
          -0.25774388512369106,
          -1.0640559145877198,
          -0.3583588767557854,
          -0.753930925599534,
          0.004074420280987488,
          -0.14176351936354767,
          1.4218626480633727,
          -1.3406424365335914,
          -0.6306641256341762,
          0.34681256724898757,
          0.43592034039747934,
          0.6865252140987607,
          0.5969319637737608,
          -0.2957449312225045,
          -1.5104607394739267,
          -0.2970795197674708,
          -1.510972639222177,
          -0.997112695722731,
          -0.16208689230666798,
          1.380420552001041,
          -0.11125905541840161,
          0.4671259115943136,
          0.8067247284977627,
          -1.0343495030780103,
          0.5994055167033986,
          -2.392944687471754,
          0.009841623131410187,
          -2.805109312482037,
          0.08829982085256122,
          0.1587117032205557,
          0.3710578971195314,
          -0.6880114701614541,
          1.4592294790120843,
          0.32260083504845827,
          -0.31203982509622247,
          -0.5016395710778763,
          -0.7092626495034179,
          1.0623166785638058,
          -1.5567282874418933,
          -0.4470023818970348,
          0.9298520292269593,
          0.051790544147703926,
          -0.592455513839245,
          -0.1196242233503168,
          1.1594675175773657,
          0.6629796478742163,
          -1.7891314124011264,
          -2.0335113265519764,
          -0.6999835342221341,
          -1.1917599758854707,
          0.48071537380142443,
          0.05952184244397095,
          -0.5785307065158325,
          -0.3421145600853384,
          -1.4039388516097686,
          2.1502912104578336,
          -0.9615052636121858,
          -2.7254911460318976,
          0.9774563628902962,
          0.05190045743478614,
          0.2126943664117536,
          -1.5952990423031996,
          0.9130858983745637,
          -0.21639455031226423,
          -0.23989461487285638,
          0.9728080442967975,
          -0.1460459616149387,
          -1.3521999478330948,
          -2.065521937125486,
          -0.27532113693680454,
          -0.5980265778152496,
          0.09311905136783473,
          1.1902875577767913,
          0.2899773682382634,
          -0.312252032605789
         ],
         "yaxis": "y3"
        },
        {
         "line": {
          "color": "rgba(128, 128, 128, 1.0)",
          "dash": "solid",
          "shape": "linear",
          "width": 1.3
         },
         "marker": {
          "size": 2,
          "symbol": "circle"
         },
         "mode": "markers",
         "name": "A",
         "text": "",
         "type": "scatter",
         "x": [
          0.9789366989376848,
          1.30832357928357,
          0.5884856563699687,
          0.14036628201271756,
          0.6902925640847257,
          -1.5126471146292837,
          0.5838522454334771,
          -1.4296737914964506,
          0.3594290566830795,
          0.27528898081065095,
          1.1081475564270542,
          2.5984473271642785,
          1.0758490707613964,
          0.9299431908652861,
          0.3017714462607725,
          0.31744377207962077,
          1.7950852278831153,
          -1.0751557656845458,
          0.04402639317964974,
          0.6903493766099735,
          -0.6270238422144295,
          1.0712995511865127,
          -1.7683501946706863,
          1.8282889315983744,
          0.35518053351393475,
          0.2323104081405569,
          0.21712776031333625,
          -0.8721285925719905,
          0.07822111823045823,
          -0.357946864032969,
          -0.0025150210014309865,
          -1.9555427613752936,
          -0.8792349619541815,
          1.6392776481619253,
          1.725133470647381,
          -0.47384019988107273,
          -0.9283214012066563,
          -1.195115447791235,
          -0.712466083041683,
          0.9291792295744458,
          -2.620262854537771,
          -1.2040870131441697,
          -0.5704819254282041,
          0.6013119524591112,
          -0.16641731641561142,
          0.8869031277942011,
          0.7676138991426558,
          -0.21941255951318858,
          0.7336294742863043,
          -1.509760727788322,
          1.3089111293144589,
          -0.48868537947597857,
          0.36867948762371416,
          0.16243268044634435,
          -0.117667880199744,
          -1.5908850850157032,
          -0.03221680995116338,
          -0.8094926795677467,
          0.3332327077531709,
          -0.18761698312668973,
          -1.5210564862512626,
          0.8013496493739705,
          -0.3017689504627007,
          -1.607308712967462,
          -1.073672042348791,
          1.4206409245986824,
          -0.039649711946742494,
          -0.8501076563848817,
          -0.4081547304857195,
          1.4106568202197203,
          1.3844085550565954,
          -1.0442065776581584,
          -0.2601701490206853,
          0.8791199096736153,
          0.616019567546816,
          -1.292378530274667,
          0.038954439846378336,
          -0.8661149852701843,
          0.8187391085735966,
          0.3876138725797948,
          -0.6938650564423336,
          1.8712992267155486,
          -0.9040265178648582,
          -0.5551990862883487,
          1.2480663196654012,
          0.9195113201420941,
          -0.09151997693362701,
          -0.053381470849075324,
          1.0462469257539233,
          1.1492760485618918,
          0.27125133232960086,
          -0.4176644704698133,
          -1.7586536386062264,
          0.3556862900437833,
          -0.641816446050051,
          2.5709957855012364,
          1.514568293434986,
          0.8814684185001089,
          -1.1486878428943332,
          -1.3179289257071727
         ],
         "xaxis": "x4",
         "y": [
          -0.35258759777768894,
          -0.2689202523477829,
          -0.7275561455665225,
          -0.4092338836746071,
          0.5939352897099525,
          -1.2142800943388812,
          0.7711096389260248,
          -0.21383971610196364,
          2.0142645914043507,
          0.7799110307712278,
          1.5457083578522435,
          0.9085304936655417,
          1.1418265830175587,
          -0.2104929729809623,
          0.7660603426217358,
          -2.0280362769007985,
          -2.233828943016878,
          -0.6300848842080163,
          1.5525234298421335,
          2.0855689538407653,
          -0.1996846114408051,
          0.5116603997849389,
          0.4413175834881552,
          -0.052475122738868694,
          -1.4832273130424847,
          -0.25774388512369106,
          -1.0640559145877198,
          -0.3583588767557854,
          -0.753930925599534,
          0.004074420280987488,
          -0.14176351936354767,
          1.4218626480633727,
          -1.3406424365335914,
          -0.6306641256341762,
          0.34681256724898757,
          0.43592034039747934,
          0.6865252140987607,
          0.5969319637737608,
          -0.2957449312225045,
          -1.5104607394739267,
          -0.2970795197674708,
          -1.510972639222177,
          -0.997112695722731,
          -0.16208689230666798,
          1.380420552001041,
          -0.11125905541840161,
          0.4671259115943136,
          0.8067247284977627,
          -1.0343495030780103,
          0.5994055167033986,
          -2.392944687471754,
          0.009841623131410187,
          -2.805109312482037,
          0.08829982085256122,
          0.1587117032205557,
          0.3710578971195314,
          -0.6880114701614541,
          1.4592294790120843,
          0.32260083504845827,
          -0.31203982509622247,
          -0.5016395710778763,
          -0.7092626495034179,
          1.0623166785638058,
          -1.5567282874418933,
          -0.4470023818970348,
          0.9298520292269593,
          0.051790544147703926,
          -0.592455513839245,
          -0.1196242233503168,
          1.1594675175773657,
          0.6629796478742163,
          -1.7891314124011264,
          -2.0335113265519764,
          -0.6999835342221341,
          -1.1917599758854707,
          0.48071537380142443,
          0.05952184244397095,
          -0.5785307065158325,
          -0.3421145600853384,
          -1.4039388516097686,
          2.1502912104578336,
          -0.9615052636121858,
          -2.7254911460318976,
          0.9774563628902962,
          0.05190045743478614,
          0.2126943664117536,
          -1.5952990423031996,
          0.9130858983745637,
          -0.21639455031226423,
          -0.23989461487285638,
          0.9728080442967975,
          -0.1460459616149387,
          -1.3521999478330948,
          -2.065521937125486,
          -0.27532113693680454,
          -0.5980265778152496,
          0.09311905136783473,
          1.1902875577767913,
          0.2899773682382634,
          -0.312252032605789
         ],
         "yaxis": "y4"
        },
        {
         "line": {
          "color": "rgba(128, 128, 128, 1.0)",
          "dash": "solid",
          "shape": "linear",
          "width": 1.3
         },
         "marker": {
          "size": 2,
          "symbol": "circle"
         },
         "mode": "markers",
         "name": "B",
         "text": "",
         "type": "scatter",
         "x": [
          -0.35258759777768894,
          -0.2689202523477829,
          -0.7275561455665225,
          -0.4092338836746071,
          0.5939352897099525,
          -1.2142800943388812,
          0.7711096389260248,
          -0.21383971610196364,
          2.0142645914043507,
          0.7799110307712278,
          1.5457083578522435,
          0.9085304936655417,
          1.1418265830175587,
          -0.2104929729809623,
          0.7660603426217358,
          -2.0280362769007985,
          -2.233828943016878,
          -0.6300848842080163,
          1.5525234298421335,
          2.0855689538407653,
          -0.1996846114408051,
          0.5116603997849389,
          0.4413175834881552,
          -0.052475122738868694,
          -1.4832273130424847,
          -0.25774388512369106,
          -1.0640559145877198,
          -0.3583588767557854,
          -0.753930925599534,
          0.004074420280987488,
          -0.14176351936354767,
          1.4218626480633727,
          -1.3406424365335914,
          -0.6306641256341762,
          0.34681256724898757,
          0.43592034039747934,
          0.6865252140987607,
          0.5969319637737608,
          -0.2957449312225045,
          -1.5104607394739267,
          -0.2970795197674708,
          -1.510972639222177,
          -0.997112695722731,
          -0.16208689230666798,
          1.380420552001041,
          -0.11125905541840161,
          0.4671259115943136,
          0.8067247284977627,
          -1.0343495030780103,
          0.5994055167033986,
          -2.392944687471754,
          0.009841623131410187,
          -2.805109312482037,
          0.08829982085256122,
          0.1587117032205557,
          0.3710578971195314,
          -0.6880114701614541,
          1.4592294790120843,
          0.32260083504845827,
          -0.31203982509622247,
          -0.5016395710778763,
          -0.7092626495034179,
          1.0623166785638058,
          -1.5567282874418933,
          -0.4470023818970348,
          0.9298520292269593,
          0.051790544147703926,
          -0.592455513839245,
          -0.1196242233503168,
          1.1594675175773657,
          0.6629796478742163,
          -1.7891314124011264,
          -2.0335113265519764,
          -0.6999835342221341,
          -1.1917599758854707,
          0.48071537380142443,
          0.05952184244397095,
          -0.5785307065158325,
          -0.3421145600853384,
          -1.4039388516097686,
          2.1502912104578336,
          -0.9615052636121858,
          -2.7254911460318976,
          0.9774563628902962,
          0.05190045743478614,
          0.2126943664117536,
          -1.5952990423031996,
          0.9130858983745637,
          -0.21639455031226423,
          -0.23989461487285638,
          0.9728080442967975,
          -0.1460459616149387,
          -1.3521999478330948,
          -2.065521937125486,
          -0.27532113693680454,
          -0.5980265778152496,
          0.09311905136783473,
          1.1902875577767913,
          0.2899773682382634,
          -0.312252032605789
         ],
         "xaxis": "x5",
         "y": [
          0.9398897318214089,
          -0.8731839425082643,
          0.046902450656532195,
          -0.5730263478031349,
          0.20964920461071293,
          1.589873522036531,
          0.04750924541528327,
          0.3550099321199273,
          -1.3717152265624826,
          -0.29363834535540906,
          -0.6834415374498101,
          0.3013358888971489,
          0.08557550080518363,
          -0.6075508809315883,
          -0.4554319865724272,
          -0.6267217986862303,
          -0.12408272291175006,
          2.1377019386303426,
          -0.5543428603297601,
          -0.26825029207872786,
          -1.0491011370545602,
          -0.3238181830805828,
          0.3117772248306555,
          -1.808426122955307,
          -0.33810791145502933,
          0.8746190178364772,
          0.3880907514176325,
          -0.2146447776967657,
          0.7117228782364389,
          -1.034419032052581,
          -1.3025207269502206,
          -0.9431243446739456,
          -1.3566849831833117,
          0.9139728482420952,
          -0.4491906321351525,
          0.20439161904362946,
          1.0408022183431263,
          0.5066670948192474,
          -0.10350418262487975,
          -0.9059301100673794,
          -0.18267520984842991,
          -0.12932747242214102,
          0.9490202299868135,
          1.5445301177158561,
          -0.5484910871344092,
          1.3463270476962672,
          -0.31544005436995826,
          -1.4849556354680933,
          0.6161677445530706,
          -1.4826409768646185,
          1.0790226993828536,
          0.17870810808648277,
          1.2507159469031213,
          -0.3723212271360819,
          1.1351360546362514,
          0.4989889637299344,
          0.5307557889854935,
          0.7642488396101653,
          -0.8648674375434916,
          -0.9868819280636416,
          -1.374768191849497,
          0.040196813920813354,
          -1.8501252771933256,
          -0.47096661859921635,
          0.030148809422230492,
          -0.49629746394738594,
          -0.48055047186500344,
          1.0019238054310298,
          -0.2059649005632659,
          0.03397516273643297,
          1.0738805827143372,
          2.4721239137994315,
          -0.4052189135756334,
          -0.34375404549779637,
          -1.0857649696484415,
          0.055094811569757304,
          -0.8850098967698943,
          -0.22656957039513467,
          0.39986500767204186,
          -0.34663345478149626,
          0.3968003349411088,
          -0.26733465187034505,
          -0.2198127906046125,
          0.37235632515082645,
          0.2910676243965551,
          -0.05890540711534565,
          0.9968503248422131,
          1.0010157850265846,
          -0.1184178551405647,
          0.30865917238422885,
          -0.3880279024822919,
          1.1596828942923951,
          -0.7113173402696118,
          1.6878264070830626,
          1.242425123682662,
          -0.49942462992988224,
          0.4277971787926875,
          0.918168330122392,
          -0.036254957143438314,
          0.7175071803974852
         ],
         "yaxis": "y5"
        },
        {
         "histfunc": "count",
         "histnorm": "",
         "marker": {
          "color": "rgba(55, 128, 191, 1.0)",
          "line": {
           "color": "#4D5663",
           "width": 1.3
          }
         },
         "name": "B",
         "nbinsx": 10,
         "opacity": 0.8,
         "orientation": "v",
         "type": "histogram",
         "x": [
          0.9398897318214089,
          -0.8731839425082643,
          0.046902450656532195,
          -0.5730263478031349,
          0.20964920461071293,
          1.589873522036531,
          0.04750924541528327,
          0.3550099321199273,
          -1.3717152265624826,
          -0.29363834535540906,
          -0.6834415374498101,
          0.3013358888971489,
          0.08557550080518363,
          -0.6075508809315883,
          -0.4554319865724272,
          -0.6267217986862303,
          -0.12408272291175006,
          2.1377019386303426,
          -0.5543428603297601,
          -0.26825029207872786,
          -1.0491011370545602,
          -0.3238181830805828,
          0.3117772248306555,
          -1.808426122955307,
          -0.33810791145502933,
          0.8746190178364772,
          0.3880907514176325,
          -0.2146447776967657,
          0.7117228782364389,
          -1.034419032052581,
          -1.3025207269502206,
          -0.9431243446739456,
          -1.3566849831833117,
          0.9139728482420952,
          -0.4491906321351525,
          0.20439161904362946,
          1.0408022183431263,
          0.5066670948192474,
          -0.10350418262487975,
          -0.9059301100673794,
          -0.18267520984842991,
          -0.12932747242214102,
          0.9490202299868135,
          1.5445301177158561,
          -0.5484910871344092,
          1.3463270476962672,
          -0.31544005436995826,
          -1.4849556354680933,
          0.6161677445530706,
          -1.4826409768646185,
          1.0790226993828536,
          0.17870810808648277,
          1.2507159469031213,
          -0.3723212271360819,
          1.1351360546362514,
          0.4989889637299344,
          0.5307557889854935,
          0.7642488396101653,
          -0.8648674375434916,
          -0.9868819280636416,
          -1.374768191849497,
          0.040196813920813354,
          -1.8501252771933256,
          -0.47096661859921635,
          0.030148809422230492,
          -0.49629746394738594,
          -0.48055047186500344,
          1.0019238054310298,
          -0.2059649005632659,
          0.03397516273643297,
          1.0738805827143372,
          2.4721239137994315,
          -0.4052189135756334,
          -0.34375404549779637,
          -1.0857649696484415,
          0.055094811569757304,
          -0.8850098967698943,
          -0.22656957039513467,
          0.39986500767204186,
          -0.34663345478149626,
          0.3968003349411088,
          -0.26733465187034505,
          -0.2198127906046125,
          0.37235632515082645,
          0.2910676243965551,
          -0.05890540711534565,
          0.9968503248422131,
          1.0010157850265846,
          -0.1184178551405647,
          0.30865917238422885,
          -0.3880279024822919,
          1.1596828942923951,
          -0.7113173402696118,
          1.6878264070830626,
          1.242425123682662,
          -0.49942462992988224,
          0.4277971787926875,
          0.918168330122392,
          -0.036254957143438314,
          0.7175071803974852
         ],
         "xaxis": "x6",
         "yaxis": "y6"
        },
        {
         "line": {
          "color": "rgba(128, 128, 128, 1.0)",
          "dash": "solid",
          "shape": "linear",
          "width": 1.3
         },
         "marker": {
          "size": 2,
          "symbol": "circle"
         },
         "mode": "markers",
         "name": "B",
         "text": "",
         "type": "scatter",
         "x": [
          0.8632668610366468,
          -0.6759838109729048,
          1.6760435691157856,
          0.2386522677056511,
          0.9177871555928089,
          -0.33195349463338125,
          -0.4596659548705168,
          -1.619828146084732,
          1.196895449591328,
          -1.4158182886092685,
          -1.4147310374881203,
          1.3071169019440745,
          2.034886088760232,
          0.831296945101511,
          -0.5331427176218014,
          0.7625743050946564,
          2.4870683403318696,
          1.8006533850034185,
          0.2525267540628914,
          0.6875297280476015,
          -1.0765790504865762,
          0.12728861231860875,
          0.7247502055785919,
          -0.49289388585364613,
          0.3744825557060185,
          -0.8096990396759861,
          1.1400463269190912,
          -0.15826526858594317,
          -1.2775919630437773,
          0.44639629173763584,
          0.7668272024069026,
          0.5320633979394429,
          0.12223289154187524,
          -0.9835329851688851,
          -0.2626440166090256,
          -0.49029865362572156,
          0.3315965239572869,
          -0.35443941541290896,
          0.49478368148043206,
          0.8803164086438205,
          -0.8665736048325886,
          0.8723221792680127,
          1.4657052626484044,
          1.410995083908226,
          -1.314848635987647,
          0.3624400384126643,
          1.72897276386658,
          0.744978917233216,
          -0.025728280250998856,
          -0.2055778639647989,
          -2.0427947545816276,
          0.21659128562133634,
          0.24200545678709667,
          0.5114516178742391,
          1.3674354426688156,
          0.3091350011835716,
          0.22077844271697306,
          1.5679050452010852,
          0.3878344264221422,
          2.0546408866166663,
          1.5945815066522286,
          0.012462768948805153,
          0.048795755411710925,
          0.7793211453715158,
          0.9925909406622786,
          -2.0754924977544023,
          -0.30780820544177,
          -0.17747889661433175,
          0.1676548442140887,
          -0.45399169918049453,
          0.9516971756525416,
          0.7422403966932977,
          -1.4908827862622838,
          -1.4834459137371023,
          0.7405222811073173,
          1.7286513714090677,
          0.1710746692888831,
          0.9932882074728955,
          0.9620004841015415,
          0.2015130492683428,
          0.035021823813223,
          0.4147467707948085,
          0.4470003224996248,
          0.060453446864904885,
          -0.5811734749393368,
          -0.23798052622064167,
          -1.0564814386852002,
          -0.9746741868220017,
          0.09571782632846486,
          -0.1413046510016507,
          0.6425182209935902,
          0.40640709529694263,
          1.2468937516914458,
          -0.03688936105911779,
          0.7563916635910612,
          0.19948370407499655,
          0.6205897717531387,
          0.5641429398722851,
          1.5157884976406186,
          1.3512524246962052
         ],
         "xaxis": "x7",
         "y": [
          0.9398897318214089,
          -0.8731839425082643,
          0.046902450656532195,
          -0.5730263478031349,
          0.20964920461071293,
          1.589873522036531,
          0.04750924541528327,
          0.3550099321199273,
          -1.3717152265624826,
          -0.29363834535540906,
          -0.6834415374498101,
          0.3013358888971489,
          0.08557550080518363,
          -0.6075508809315883,
          -0.4554319865724272,
          -0.6267217986862303,
          -0.12408272291175006,
          2.1377019386303426,
          -0.5543428603297601,
          -0.26825029207872786,
          -1.0491011370545602,
          -0.3238181830805828,
          0.3117772248306555,
          -1.808426122955307,
          -0.33810791145502933,
          0.8746190178364772,
          0.3880907514176325,
          -0.2146447776967657,
          0.7117228782364389,
          -1.034419032052581,
          -1.3025207269502206,
          -0.9431243446739456,
          -1.3566849831833117,
          0.9139728482420952,
          -0.4491906321351525,
          0.20439161904362946,
          1.0408022183431263,
          0.5066670948192474,
          -0.10350418262487975,
          -0.9059301100673794,
          -0.18267520984842991,
          -0.12932747242214102,
          0.9490202299868135,
          1.5445301177158561,
          -0.5484910871344092,
          1.3463270476962672,
          -0.31544005436995826,
          -1.4849556354680933,
          0.6161677445530706,
          -1.4826409768646185,
          1.0790226993828536,
          0.17870810808648277,
          1.2507159469031213,
          -0.3723212271360819,
          1.1351360546362514,
          0.4989889637299344,
          0.5307557889854935,
          0.7642488396101653,
          -0.8648674375434916,
          -0.9868819280636416,
          -1.374768191849497,
          0.040196813920813354,
          -1.8501252771933256,
          -0.47096661859921635,
          0.030148809422230492,
          -0.49629746394738594,
          -0.48055047186500344,
          1.0019238054310298,
          -0.2059649005632659,
          0.03397516273643297,
          1.0738805827143372,
          2.4721239137994315,
          -0.4052189135756334,
          -0.34375404549779637,
          -1.0857649696484415,
          0.055094811569757304,
          -0.8850098967698943,
          -0.22656957039513467,
          0.39986500767204186,
          -0.34663345478149626,
          0.3968003349411088,
          -0.26733465187034505,
          -0.2198127906046125,
          0.37235632515082645,
          0.2910676243965551,
          -0.05890540711534565,
          0.9968503248422131,
          1.0010157850265846,
          -0.1184178551405647,
          0.30865917238422885,
          -0.3880279024822919,
          1.1596828942923951,
          -0.7113173402696118,
          1.6878264070830626,
          1.242425123682662,
          -0.49942462992988224,
          0.4277971787926875,
          0.918168330122392,
          -0.036254957143438314,
          0.7175071803974852
         ],
         "yaxis": "y7"
        },
        {
         "line": {
          "color": "rgba(128, 128, 128, 1.0)",
          "dash": "solid",
          "shape": "linear",
          "width": 1.3
         },
         "marker": {
          "size": 2,
          "symbol": "circle"
         },
         "mode": "markers",
         "name": "B",
         "text": "",
         "type": "scatter",
         "x": [
          0.9789366989376848,
          1.30832357928357,
          0.5884856563699687,
          0.14036628201271756,
          0.6902925640847257,
          -1.5126471146292837,
          0.5838522454334771,
          -1.4296737914964506,
          0.3594290566830795,
          0.27528898081065095,
          1.1081475564270542,
          2.5984473271642785,
          1.0758490707613964,
          0.9299431908652861,
          0.3017714462607725,
          0.31744377207962077,
          1.7950852278831153,
          -1.0751557656845458,
          0.04402639317964974,
          0.6903493766099735,
          -0.6270238422144295,
          1.0712995511865127,
          -1.7683501946706863,
          1.8282889315983744,
          0.35518053351393475,
          0.2323104081405569,
          0.21712776031333625,
          -0.8721285925719905,
          0.07822111823045823,
          -0.357946864032969,
          -0.0025150210014309865,
          -1.9555427613752936,
          -0.8792349619541815,
          1.6392776481619253,
          1.725133470647381,
          -0.47384019988107273,
          -0.9283214012066563,
          -1.195115447791235,
          -0.712466083041683,
          0.9291792295744458,
          -2.620262854537771,
          -1.2040870131441697,
          -0.5704819254282041,
          0.6013119524591112,
          -0.16641731641561142,
          0.8869031277942011,
          0.7676138991426558,
          -0.21941255951318858,
          0.7336294742863043,
          -1.509760727788322,
          1.3089111293144589,
          -0.48868537947597857,
          0.36867948762371416,
          0.16243268044634435,
          -0.117667880199744,
          -1.5908850850157032,
          -0.03221680995116338,
          -0.8094926795677467,
          0.3332327077531709,
          -0.18761698312668973,
          -1.5210564862512626,
          0.8013496493739705,
          -0.3017689504627007,
          -1.607308712967462,
          -1.073672042348791,
          1.4206409245986824,
          -0.039649711946742494,
          -0.8501076563848817,
          -0.4081547304857195,
          1.4106568202197203,
          1.3844085550565954,
          -1.0442065776581584,
          -0.2601701490206853,
          0.8791199096736153,
          0.616019567546816,
          -1.292378530274667,
          0.038954439846378336,
          -0.8661149852701843,
          0.8187391085735966,
          0.3876138725797948,
          -0.6938650564423336,
          1.8712992267155486,
          -0.9040265178648582,
          -0.5551990862883487,
          1.2480663196654012,
          0.9195113201420941,
          -0.09151997693362701,
          -0.053381470849075324,
          1.0462469257539233,
          1.1492760485618918,
          0.27125133232960086,
          -0.4176644704698133,
          -1.7586536386062264,
          0.3556862900437833,
          -0.641816446050051,
          2.5709957855012364,
          1.514568293434986,
          0.8814684185001089,
          -1.1486878428943332,
          -1.3179289257071727
         ],
         "xaxis": "x8",
         "y": [
          0.9398897318214089,
          -0.8731839425082643,
          0.046902450656532195,
          -0.5730263478031349,
          0.20964920461071293,
          1.589873522036531,
          0.04750924541528327,
          0.3550099321199273,
          -1.3717152265624826,
          -0.29363834535540906,
          -0.6834415374498101,
          0.3013358888971489,
          0.08557550080518363,
          -0.6075508809315883,
          -0.4554319865724272,
          -0.6267217986862303,
          -0.12408272291175006,
          2.1377019386303426,
          -0.5543428603297601,
          -0.26825029207872786,
          -1.0491011370545602,
          -0.3238181830805828,
          0.3117772248306555,
          -1.808426122955307,
          -0.33810791145502933,
          0.8746190178364772,
          0.3880907514176325,
          -0.2146447776967657,
          0.7117228782364389,
          -1.034419032052581,
          -1.3025207269502206,
          -0.9431243446739456,
          -1.3566849831833117,
          0.9139728482420952,
          -0.4491906321351525,
          0.20439161904362946,
          1.0408022183431263,
          0.5066670948192474,
          -0.10350418262487975,
          -0.9059301100673794,
          -0.18267520984842991,
          -0.12932747242214102,
          0.9490202299868135,
          1.5445301177158561,
          -0.5484910871344092,
          1.3463270476962672,
          -0.31544005436995826,
          -1.4849556354680933,
          0.6161677445530706,
          -1.4826409768646185,
          1.0790226993828536,
          0.17870810808648277,
          1.2507159469031213,
          -0.3723212271360819,
          1.1351360546362514,
          0.4989889637299344,
          0.5307557889854935,
          0.7642488396101653,
          -0.8648674375434916,
          -0.9868819280636416,
          -1.374768191849497,
          0.040196813920813354,
          -1.8501252771933256,
          -0.47096661859921635,
          0.030148809422230492,
          -0.49629746394738594,
          -0.48055047186500344,
          1.0019238054310298,
          -0.2059649005632659,
          0.03397516273643297,
          1.0738805827143372,
          2.4721239137994315,
          -0.4052189135756334,
          -0.34375404549779637,
          -1.0857649696484415,
          0.055094811569757304,
          -0.8850098967698943,
          -0.22656957039513467,
          0.39986500767204186,
          -0.34663345478149626,
          0.3968003349411088,
          -0.26733465187034505,
          -0.2198127906046125,
          0.37235632515082645,
          0.2910676243965551,
          -0.05890540711534565,
          0.9968503248422131,
          1.0010157850265846,
          -0.1184178551405647,
          0.30865917238422885,
          -0.3880279024822919,
          1.1596828942923951,
          -0.7113173402696118,
          1.6878264070830626,
          1.242425123682662,
          -0.49942462992988224,
          0.4277971787926875,
          0.918168330122392,
          -0.036254957143438314,
          0.7175071803974852
         ],
         "yaxis": "y8"
        },
        {
         "line": {
          "color": "rgba(128, 128, 128, 1.0)",
          "dash": "solid",
          "shape": "linear",
          "width": 1.3
         },
         "marker": {
          "size": 2,
          "symbol": "circle"
         },
         "mode": "markers",
         "name": "C",
         "text": "",
         "type": "scatter",
         "x": [
          -0.35258759777768894,
          -0.2689202523477829,
          -0.7275561455665225,
          -0.4092338836746071,
          0.5939352897099525,
          -1.2142800943388812,
          0.7711096389260248,
          -0.21383971610196364,
          2.0142645914043507,
          0.7799110307712278,
          1.5457083578522435,
          0.9085304936655417,
          1.1418265830175587,
          -0.2104929729809623,
          0.7660603426217358,
          -2.0280362769007985,
          -2.233828943016878,
          -0.6300848842080163,
          1.5525234298421335,
          2.0855689538407653,
          -0.1996846114408051,
          0.5116603997849389,
          0.4413175834881552,
          -0.052475122738868694,
          -1.4832273130424847,
          -0.25774388512369106,
          -1.0640559145877198,
          -0.3583588767557854,
          -0.753930925599534,
          0.004074420280987488,
          -0.14176351936354767,
          1.4218626480633727,
          -1.3406424365335914,
          -0.6306641256341762,
          0.34681256724898757,
          0.43592034039747934,
          0.6865252140987607,
          0.5969319637737608,
          -0.2957449312225045,
          -1.5104607394739267,
          -0.2970795197674708,
          -1.510972639222177,
          -0.997112695722731,
          -0.16208689230666798,
          1.380420552001041,
          -0.11125905541840161,
          0.4671259115943136,
          0.8067247284977627,
          -1.0343495030780103,
          0.5994055167033986,
          -2.392944687471754,
          0.009841623131410187,
          -2.805109312482037,
          0.08829982085256122,
          0.1587117032205557,
          0.3710578971195314,
          -0.6880114701614541,
          1.4592294790120843,
          0.32260083504845827,
          -0.31203982509622247,
          -0.5016395710778763,
          -0.7092626495034179,
          1.0623166785638058,
          -1.5567282874418933,
          -0.4470023818970348,
          0.9298520292269593,
          0.051790544147703926,
          -0.592455513839245,
          -0.1196242233503168,
          1.1594675175773657,
          0.6629796478742163,
          -1.7891314124011264,
          -2.0335113265519764,
          -0.6999835342221341,
          -1.1917599758854707,
          0.48071537380142443,
          0.05952184244397095,
          -0.5785307065158325,
          -0.3421145600853384,
          -1.4039388516097686,
          2.1502912104578336,
          -0.9615052636121858,
          -2.7254911460318976,
          0.9774563628902962,
          0.05190045743478614,
          0.2126943664117536,
          -1.5952990423031996,
          0.9130858983745637,
          -0.21639455031226423,
          -0.23989461487285638,
          0.9728080442967975,
          -0.1460459616149387,
          -1.3521999478330948,
          -2.065521937125486,
          -0.27532113693680454,
          -0.5980265778152496,
          0.09311905136783473,
          1.1902875577767913,
          0.2899773682382634,
          -0.312252032605789
         ],
         "xaxis": "x9",
         "y": [
          0.8632668610366468,
          -0.6759838109729048,
          1.6760435691157856,
          0.2386522677056511,
          0.9177871555928089,
          -0.33195349463338125,
          -0.4596659548705168,
          -1.619828146084732,
          1.196895449591328,
          -1.4158182886092685,
          -1.4147310374881203,
          1.3071169019440745,
          2.034886088760232,
          0.831296945101511,
          -0.5331427176218014,
          0.7625743050946564,
          2.4870683403318696,
          1.8006533850034185,
          0.2525267540628914,
          0.6875297280476015,
          -1.0765790504865762,
          0.12728861231860875,
          0.7247502055785919,
          -0.49289388585364613,
          0.3744825557060185,
          -0.8096990396759861,
          1.1400463269190912,
          -0.15826526858594317,
          -1.2775919630437773,
          0.44639629173763584,
          0.7668272024069026,
          0.5320633979394429,
          0.12223289154187524,
          -0.9835329851688851,
          -0.2626440166090256,
          -0.49029865362572156,
          0.3315965239572869,
          -0.35443941541290896,
          0.49478368148043206,
          0.8803164086438205,
          -0.8665736048325886,
          0.8723221792680127,
          1.4657052626484044,
          1.410995083908226,
          -1.314848635987647,
          0.3624400384126643,
          1.72897276386658,
          0.744978917233216,
          -0.025728280250998856,
          -0.2055778639647989,
          -2.0427947545816276,
          0.21659128562133634,
          0.24200545678709667,
          0.5114516178742391,
          1.3674354426688156,
          0.3091350011835716,
          0.22077844271697306,
          1.5679050452010852,
          0.3878344264221422,
          2.0546408866166663,
          1.5945815066522286,
          0.012462768948805153,
          0.048795755411710925,
          0.7793211453715158,
          0.9925909406622786,
          -2.0754924977544023,
          -0.30780820544177,
          -0.17747889661433175,
          0.1676548442140887,
          -0.45399169918049453,
          0.9516971756525416,
          0.7422403966932977,
          -1.4908827862622838,
          -1.4834459137371023,
          0.7405222811073173,
          1.7286513714090677,
          0.1710746692888831,
          0.9932882074728955,
          0.9620004841015415,
          0.2015130492683428,
          0.035021823813223,
          0.4147467707948085,
          0.4470003224996248,
          0.060453446864904885,
          -0.5811734749393368,
          -0.23798052622064167,
          -1.0564814386852002,
          -0.9746741868220017,
          0.09571782632846486,
          -0.1413046510016507,
          0.6425182209935902,
          0.40640709529694263,
          1.2468937516914458,
          -0.03688936105911779,
          0.7563916635910612,
          0.19948370407499655,
          0.6205897717531387,
          0.5641429398722851,
          1.5157884976406186,
          1.3512524246962052
         ],
         "yaxis": "y9"
        },
        {
         "line": {
          "color": "rgba(128, 128, 128, 1.0)",
          "dash": "solid",
          "shape": "linear",
          "width": 1.3
         },
         "marker": {
          "size": 2,
          "symbol": "circle"
         },
         "mode": "markers",
         "name": "C",
         "text": "",
         "type": "scatter",
         "x": [
          0.9398897318214089,
          -0.8731839425082643,
          0.046902450656532195,
          -0.5730263478031349,
          0.20964920461071293,
          1.589873522036531,
          0.04750924541528327,
          0.3550099321199273,
          -1.3717152265624826,
          -0.29363834535540906,
          -0.6834415374498101,
          0.3013358888971489,
          0.08557550080518363,
          -0.6075508809315883,
          -0.4554319865724272,
          -0.6267217986862303,
          -0.12408272291175006,
          2.1377019386303426,
          -0.5543428603297601,
          -0.26825029207872786,
          -1.0491011370545602,
          -0.3238181830805828,
          0.3117772248306555,
          -1.808426122955307,
          -0.33810791145502933,
          0.8746190178364772,
          0.3880907514176325,
          -0.2146447776967657,
          0.7117228782364389,
          -1.034419032052581,
          -1.3025207269502206,
          -0.9431243446739456,
          -1.3566849831833117,
          0.9139728482420952,
          -0.4491906321351525,
          0.20439161904362946,
          1.0408022183431263,
          0.5066670948192474,
          -0.10350418262487975,
          -0.9059301100673794,
          -0.18267520984842991,
          -0.12932747242214102,
          0.9490202299868135,
          1.5445301177158561,
          -0.5484910871344092,
          1.3463270476962672,
          -0.31544005436995826,
          -1.4849556354680933,
          0.6161677445530706,
          -1.4826409768646185,
          1.0790226993828536,
          0.17870810808648277,
          1.2507159469031213,
          -0.3723212271360819,
          1.1351360546362514,
          0.4989889637299344,
          0.5307557889854935,
          0.7642488396101653,
          -0.8648674375434916,
          -0.9868819280636416,
          -1.374768191849497,
          0.040196813920813354,
          -1.8501252771933256,
          -0.47096661859921635,
          0.030148809422230492,
          -0.49629746394738594,
          -0.48055047186500344,
          1.0019238054310298,
          -0.2059649005632659,
          0.03397516273643297,
          1.0738805827143372,
          2.4721239137994315,
          -0.4052189135756334,
          -0.34375404549779637,
          -1.0857649696484415,
          0.055094811569757304,
          -0.8850098967698943,
          -0.22656957039513467,
          0.39986500767204186,
          -0.34663345478149626,
          0.3968003349411088,
          -0.26733465187034505,
          -0.2198127906046125,
          0.37235632515082645,
          0.2910676243965551,
          -0.05890540711534565,
          0.9968503248422131,
          1.0010157850265846,
          -0.1184178551405647,
          0.30865917238422885,
          -0.3880279024822919,
          1.1596828942923951,
          -0.7113173402696118,
          1.6878264070830626,
          1.242425123682662,
          -0.49942462992988224,
          0.4277971787926875,
          0.918168330122392,
          -0.036254957143438314,
          0.7175071803974852
         ],
         "xaxis": "x10",
         "y": [
          0.8632668610366468,
          -0.6759838109729048,
          1.6760435691157856,
          0.2386522677056511,
          0.9177871555928089,
          -0.33195349463338125,
          -0.4596659548705168,
          -1.619828146084732,
          1.196895449591328,
          -1.4158182886092685,
          -1.4147310374881203,
          1.3071169019440745,
          2.034886088760232,
          0.831296945101511,
          -0.5331427176218014,
          0.7625743050946564,
          2.4870683403318696,
          1.8006533850034185,
          0.2525267540628914,
          0.6875297280476015,
          -1.0765790504865762,
          0.12728861231860875,
          0.7247502055785919,
          -0.49289388585364613,
          0.3744825557060185,
          -0.8096990396759861,
          1.1400463269190912,
          -0.15826526858594317,
          -1.2775919630437773,
          0.44639629173763584,
          0.7668272024069026,
          0.5320633979394429,
          0.12223289154187524,
          -0.9835329851688851,
          -0.2626440166090256,
          -0.49029865362572156,
          0.3315965239572869,
          -0.35443941541290896,
          0.49478368148043206,
          0.8803164086438205,
          -0.8665736048325886,
          0.8723221792680127,
          1.4657052626484044,
          1.410995083908226,
          -1.314848635987647,
          0.3624400384126643,
          1.72897276386658,
          0.744978917233216,
          -0.025728280250998856,
          -0.2055778639647989,
          -2.0427947545816276,
          0.21659128562133634,
          0.24200545678709667,
          0.5114516178742391,
          1.3674354426688156,
          0.3091350011835716,
          0.22077844271697306,
          1.5679050452010852,
          0.3878344264221422,
          2.0546408866166663,
          1.5945815066522286,
          0.012462768948805153,
          0.048795755411710925,
          0.7793211453715158,
          0.9925909406622786,
          -2.0754924977544023,
          -0.30780820544177,
          -0.17747889661433175,
          0.1676548442140887,
          -0.45399169918049453,
          0.9516971756525416,
          0.7422403966932977,
          -1.4908827862622838,
          -1.4834459137371023,
          0.7405222811073173,
          1.7286513714090677,
          0.1710746692888831,
          0.9932882074728955,
          0.9620004841015415,
          0.2015130492683428,
          0.035021823813223,
          0.4147467707948085,
          0.4470003224996248,
          0.060453446864904885,
          -0.5811734749393368,
          -0.23798052622064167,
          -1.0564814386852002,
          -0.9746741868220017,
          0.09571782632846486,
          -0.1413046510016507,
          0.6425182209935902,
          0.40640709529694263,
          1.2468937516914458,
          -0.03688936105911779,
          0.7563916635910612,
          0.19948370407499655,
          0.6205897717531387,
          0.5641429398722851,
          1.5157884976406186,
          1.3512524246962052
         ],
         "yaxis": "y10"
        },
        {
         "histfunc": "count",
         "histnorm": "",
         "marker": {
          "color": "rgba(50, 171, 96, 1.0)",
          "line": {
           "color": "#4D5663",
           "width": 1.3
          }
         },
         "name": "C",
         "nbinsx": 10,
         "opacity": 0.8,
         "orientation": "v",
         "type": "histogram",
         "x": [
          0.8632668610366468,
          -0.6759838109729048,
          1.6760435691157856,
          0.2386522677056511,
          0.9177871555928089,
          -0.33195349463338125,
          -0.4596659548705168,
          -1.619828146084732,
          1.196895449591328,
          -1.4158182886092685,
          -1.4147310374881203,
          1.3071169019440745,
          2.034886088760232,
          0.831296945101511,
          -0.5331427176218014,
          0.7625743050946564,
          2.4870683403318696,
          1.8006533850034185,
          0.2525267540628914,
          0.6875297280476015,
          -1.0765790504865762,
          0.12728861231860875,
          0.7247502055785919,
          -0.49289388585364613,
          0.3744825557060185,
          -0.8096990396759861,
          1.1400463269190912,
          -0.15826526858594317,
          -1.2775919630437773,
          0.44639629173763584,
          0.7668272024069026,
          0.5320633979394429,
          0.12223289154187524,
          -0.9835329851688851,
          -0.2626440166090256,
          -0.49029865362572156,
          0.3315965239572869,
          -0.35443941541290896,
          0.49478368148043206,
          0.8803164086438205,
          -0.8665736048325886,
          0.8723221792680127,
          1.4657052626484044,
          1.410995083908226,
          -1.314848635987647,
          0.3624400384126643,
          1.72897276386658,
          0.744978917233216,
          -0.025728280250998856,
          -0.2055778639647989,
          -2.0427947545816276,
          0.21659128562133634,
          0.24200545678709667,
          0.5114516178742391,
          1.3674354426688156,
          0.3091350011835716,
          0.22077844271697306,
          1.5679050452010852,
          0.3878344264221422,
          2.0546408866166663,
          1.5945815066522286,
          0.012462768948805153,
          0.048795755411710925,
          0.7793211453715158,
          0.9925909406622786,
          -2.0754924977544023,
          -0.30780820544177,
          -0.17747889661433175,
          0.1676548442140887,
          -0.45399169918049453,
          0.9516971756525416,
          0.7422403966932977,
          -1.4908827862622838,
          -1.4834459137371023,
          0.7405222811073173,
          1.7286513714090677,
          0.1710746692888831,
          0.9932882074728955,
          0.9620004841015415,
          0.2015130492683428,
          0.035021823813223,
          0.4147467707948085,
          0.4470003224996248,
          0.060453446864904885,
          -0.5811734749393368,
          -0.23798052622064167,
          -1.0564814386852002,
          -0.9746741868220017,
          0.09571782632846486,
          -0.1413046510016507,
          0.6425182209935902,
          0.40640709529694263,
          1.2468937516914458,
          -0.03688936105911779,
          0.7563916635910612,
          0.19948370407499655,
          0.6205897717531387,
          0.5641429398722851,
          1.5157884976406186,
          1.3512524246962052
         ],
         "xaxis": "x11",
         "yaxis": "y11"
        },
        {
         "line": {
          "color": "rgba(128, 128, 128, 1.0)",
          "dash": "solid",
          "shape": "linear",
          "width": 1.3
         },
         "marker": {
          "size": 2,
          "symbol": "circle"
         },
         "mode": "markers",
         "name": "C",
         "text": "",
         "type": "scatter",
         "x": [
          0.9789366989376848,
          1.30832357928357,
          0.5884856563699687,
          0.14036628201271756,
          0.6902925640847257,
          -1.5126471146292837,
          0.5838522454334771,
          -1.4296737914964506,
          0.3594290566830795,
          0.27528898081065095,
          1.1081475564270542,
          2.5984473271642785,
          1.0758490707613964,
          0.9299431908652861,
          0.3017714462607725,
          0.31744377207962077,
          1.7950852278831153,
          -1.0751557656845458,
          0.04402639317964974,
          0.6903493766099735,
          -0.6270238422144295,
          1.0712995511865127,
          -1.7683501946706863,
          1.8282889315983744,
          0.35518053351393475,
          0.2323104081405569,
          0.21712776031333625,
          -0.8721285925719905,
          0.07822111823045823,
          -0.357946864032969,
          -0.0025150210014309865,
          -1.9555427613752936,
          -0.8792349619541815,
          1.6392776481619253,
          1.725133470647381,
          -0.47384019988107273,
          -0.9283214012066563,
          -1.195115447791235,
          -0.712466083041683,
          0.9291792295744458,
          -2.620262854537771,
          -1.2040870131441697,
          -0.5704819254282041,
          0.6013119524591112,
          -0.16641731641561142,
          0.8869031277942011,
          0.7676138991426558,
          -0.21941255951318858,
          0.7336294742863043,
          -1.509760727788322,
          1.3089111293144589,
          -0.48868537947597857,
          0.36867948762371416,
          0.16243268044634435,
          -0.117667880199744,
          -1.5908850850157032,
          -0.03221680995116338,
          -0.8094926795677467,
          0.3332327077531709,
          -0.18761698312668973,
          -1.5210564862512626,
          0.8013496493739705,
          -0.3017689504627007,
          -1.607308712967462,
          -1.073672042348791,
          1.4206409245986824,
          -0.039649711946742494,
          -0.8501076563848817,
          -0.4081547304857195,
          1.4106568202197203,
          1.3844085550565954,
          -1.0442065776581584,
          -0.2601701490206853,
          0.8791199096736153,
          0.616019567546816,
          -1.292378530274667,
          0.038954439846378336,
          -0.8661149852701843,
          0.8187391085735966,
          0.3876138725797948,
          -0.6938650564423336,
          1.8712992267155486,
          -0.9040265178648582,
          -0.5551990862883487,
          1.2480663196654012,
          0.9195113201420941,
          -0.09151997693362701,
          -0.053381470849075324,
          1.0462469257539233,
          1.1492760485618918,
          0.27125133232960086,
          -0.4176644704698133,
          -1.7586536386062264,
          0.3556862900437833,
          -0.641816446050051,
          2.5709957855012364,
          1.514568293434986,
          0.8814684185001089,
          -1.1486878428943332,
          -1.3179289257071727
         ],
         "xaxis": "x12",
         "y": [
          0.8632668610366468,
          -0.6759838109729048,
          1.6760435691157856,
          0.2386522677056511,
          0.9177871555928089,
          -0.33195349463338125,
          -0.4596659548705168,
          -1.619828146084732,
          1.196895449591328,
          -1.4158182886092685,
          -1.4147310374881203,
          1.3071169019440745,
          2.034886088760232,
          0.831296945101511,
          -0.5331427176218014,
          0.7625743050946564,
          2.4870683403318696,
          1.8006533850034185,
          0.2525267540628914,
          0.6875297280476015,
          -1.0765790504865762,
          0.12728861231860875,
          0.7247502055785919,
          -0.49289388585364613,
          0.3744825557060185,
          -0.8096990396759861,
          1.1400463269190912,
          -0.15826526858594317,
          -1.2775919630437773,
          0.44639629173763584,
          0.7668272024069026,
          0.5320633979394429,
          0.12223289154187524,
          -0.9835329851688851,
          -0.2626440166090256,
          -0.49029865362572156,
          0.3315965239572869,
          -0.35443941541290896,
          0.49478368148043206,
          0.8803164086438205,
          -0.8665736048325886,
          0.8723221792680127,
          1.4657052626484044,
          1.410995083908226,
          -1.314848635987647,
          0.3624400384126643,
          1.72897276386658,
          0.744978917233216,
          -0.025728280250998856,
          -0.2055778639647989,
          -2.0427947545816276,
          0.21659128562133634,
          0.24200545678709667,
          0.5114516178742391,
          1.3674354426688156,
          0.3091350011835716,
          0.22077844271697306,
          1.5679050452010852,
          0.3878344264221422,
          2.0546408866166663,
          1.5945815066522286,
          0.012462768948805153,
          0.048795755411710925,
          0.7793211453715158,
          0.9925909406622786,
          -2.0754924977544023,
          -0.30780820544177,
          -0.17747889661433175,
          0.1676548442140887,
          -0.45399169918049453,
          0.9516971756525416,
          0.7422403966932977,
          -1.4908827862622838,
          -1.4834459137371023,
          0.7405222811073173,
          1.7286513714090677,
          0.1710746692888831,
          0.9932882074728955,
          0.9620004841015415,
          0.2015130492683428,
          0.035021823813223,
          0.4147467707948085,
          0.4470003224996248,
          0.060453446864904885,
          -0.5811734749393368,
          -0.23798052622064167,
          -1.0564814386852002,
          -0.9746741868220017,
          0.09571782632846486,
          -0.1413046510016507,
          0.6425182209935902,
          0.40640709529694263,
          1.2468937516914458,
          -0.03688936105911779,
          0.7563916635910612,
          0.19948370407499655,
          0.6205897717531387,
          0.5641429398722851,
          1.5157884976406186,
          1.3512524246962052
         ],
         "yaxis": "y12"
        },
        {
         "line": {
          "color": "rgba(128, 128, 128, 1.0)",
          "dash": "solid",
          "shape": "linear",
          "width": 1.3
         },
         "marker": {
          "size": 2,
          "symbol": "circle"
         },
         "mode": "markers",
         "name": "D",
         "text": "",
         "type": "scatter",
         "x": [
          -0.35258759777768894,
          -0.2689202523477829,
          -0.7275561455665225,
          -0.4092338836746071,
          0.5939352897099525,
          -1.2142800943388812,
          0.7711096389260248,
          -0.21383971610196364,
          2.0142645914043507,
          0.7799110307712278,
          1.5457083578522435,
          0.9085304936655417,
          1.1418265830175587,
          -0.2104929729809623,
          0.7660603426217358,
          -2.0280362769007985,
          -2.233828943016878,
          -0.6300848842080163,
          1.5525234298421335,
          2.0855689538407653,
          -0.1996846114408051,
          0.5116603997849389,
          0.4413175834881552,
          -0.052475122738868694,
          -1.4832273130424847,
          -0.25774388512369106,
          -1.0640559145877198,
          -0.3583588767557854,
          -0.753930925599534,
          0.004074420280987488,
          -0.14176351936354767,
          1.4218626480633727,
          -1.3406424365335914,
          -0.6306641256341762,
          0.34681256724898757,
          0.43592034039747934,
          0.6865252140987607,
          0.5969319637737608,
          -0.2957449312225045,
          -1.5104607394739267,
          -0.2970795197674708,
          -1.510972639222177,
          -0.997112695722731,
          -0.16208689230666798,
          1.380420552001041,
          -0.11125905541840161,
          0.4671259115943136,
          0.8067247284977627,
          -1.0343495030780103,
          0.5994055167033986,
          -2.392944687471754,
          0.009841623131410187,
          -2.805109312482037,
          0.08829982085256122,
          0.1587117032205557,
          0.3710578971195314,
          -0.6880114701614541,
          1.4592294790120843,
          0.32260083504845827,
          -0.31203982509622247,
          -0.5016395710778763,
          -0.7092626495034179,
          1.0623166785638058,
          -1.5567282874418933,
          -0.4470023818970348,
          0.9298520292269593,
          0.051790544147703926,
          -0.592455513839245,
          -0.1196242233503168,
          1.1594675175773657,
          0.6629796478742163,
          -1.7891314124011264,
          -2.0335113265519764,
          -0.6999835342221341,
          -1.1917599758854707,
          0.48071537380142443,
          0.05952184244397095,
          -0.5785307065158325,
          -0.3421145600853384,
          -1.4039388516097686,
          2.1502912104578336,
          -0.9615052636121858,
          -2.7254911460318976,
          0.9774563628902962,
          0.05190045743478614,
          0.2126943664117536,
          -1.5952990423031996,
          0.9130858983745637,
          -0.21639455031226423,
          -0.23989461487285638,
          0.9728080442967975,
          -0.1460459616149387,
          -1.3521999478330948,
          -2.065521937125486,
          -0.27532113693680454,
          -0.5980265778152496,
          0.09311905136783473,
          1.1902875577767913,
          0.2899773682382634,
          -0.312252032605789
         ],
         "xaxis": "x13",
         "y": [
          0.9789366989376848,
          1.30832357928357,
          0.5884856563699687,
          0.14036628201271756,
          0.6902925640847257,
          -1.5126471146292837,
          0.5838522454334771,
          -1.4296737914964506,
          0.3594290566830795,
          0.27528898081065095,
          1.1081475564270542,
          2.5984473271642785,
          1.0758490707613964,
          0.9299431908652861,
          0.3017714462607725,
          0.31744377207962077,
          1.7950852278831153,
          -1.0751557656845458,
          0.04402639317964974,
          0.6903493766099735,
          -0.6270238422144295,
          1.0712995511865127,
          -1.7683501946706863,
          1.8282889315983744,
          0.35518053351393475,
          0.2323104081405569,
          0.21712776031333625,
          -0.8721285925719905,
          0.07822111823045823,
          -0.357946864032969,
          -0.0025150210014309865,
          -1.9555427613752936,
          -0.8792349619541815,
          1.6392776481619253,
          1.725133470647381,
          -0.47384019988107273,
          -0.9283214012066563,
          -1.195115447791235,
          -0.712466083041683,
          0.9291792295744458,
          -2.620262854537771,
          -1.2040870131441697,
          -0.5704819254282041,
          0.6013119524591112,
          -0.16641731641561142,
          0.8869031277942011,
          0.7676138991426558,
          -0.21941255951318858,
          0.7336294742863043,
          -1.509760727788322,
          1.3089111293144589,
          -0.48868537947597857,
          0.36867948762371416,
          0.16243268044634435,
          -0.117667880199744,
          -1.5908850850157032,
          -0.03221680995116338,
          -0.8094926795677467,
          0.3332327077531709,
          -0.18761698312668973,
          -1.5210564862512626,
          0.8013496493739705,
          -0.3017689504627007,
          -1.607308712967462,
          -1.073672042348791,
          1.4206409245986824,
          -0.039649711946742494,
          -0.8501076563848817,
          -0.4081547304857195,
          1.4106568202197203,
          1.3844085550565954,
          -1.0442065776581584,
          -0.2601701490206853,
          0.8791199096736153,
          0.616019567546816,
          -1.292378530274667,
          0.038954439846378336,
          -0.8661149852701843,
          0.8187391085735966,
          0.3876138725797948,
          -0.6938650564423336,
          1.8712992267155486,
          -0.9040265178648582,
          -0.5551990862883487,
          1.2480663196654012,
          0.9195113201420941,
          -0.09151997693362701,
          -0.053381470849075324,
          1.0462469257539233,
          1.1492760485618918,
          0.27125133232960086,
          -0.4176644704698133,
          -1.7586536386062264,
          0.3556862900437833,
          -0.641816446050051,
          2.5709957855012364,
          1.514568293434986,
          0.8814684185001089,
          -1.1486878428943332,
          -1.3179289257071727
         ],
         "yaxis": "y13"
        },
        {
         "line": {
          "color": "rgba(128, 128, 128, 1.0)",
          "dash": "solid",
          "shape": "linear",
          "width": 1.3
         },
         "marker": {
          "size": 2,
          "symbol": "circle"
         },
         "mode": "markers",
         "name": "D",
         "text": "",
         "type": "scatter",
         "x": [
          0.9398897318214089,
          -0.8731839425082643,
          0.046902450656532195,
          -0.5730263478031349,
          0.20964920461071293,
          1.589873522036531,
          0.04750924541528327,
          0.3550099321199273,
          -1.3717152265624826,
          -0.29363834535540906,
          -0.6834415374498101,
          0.3013358888971489,
          0.08557550080518363,
          -0.6075508809315883,
          -0.4554319865724272,
          -0.6267217986862303,
          -0.12408272291175006,
          2.1377019386303426,
          -0.5543428603297601,
          -0.26825029207872786,
          -1.0491011370545602,
          -0.3238181830805828,
          0.3117772248306555,
          -1.808426122955307,
          -0.33810791145502933,
          0.8746190178364772,
          0.3880907514176325,
          -0.2146447776967657,
          0.7117228782364389,
          -1.034419032052581,
          -1.3025207269502206,
          -0.9431243446739456,
          -1.3566849831833117,
          0.9139728482420952,
          -0.4491906321351525,
          0.20439161904362946,
          1.0408022183431263,
          0.5066670948192474,
          -0.10350418262487975,
          -0.9059301100673794,
          -0.18267520984842991,
          -0.12932747242214102,
          0.9490202299868135,
          1.5445301177158561,
          -0.5484910871344092,
          1.3463270476962672,
          -0.31544005436995826,
          -1.4849556354680933,
          0.6161677445530706,
          -1.4826409768646185,
          1.0790226993828536,
          0.17870810808648277,
          1.2507159469031213,
          -0.3723212271360819,
          1.1351360546362514,
          0.4989889637299344,
          0.5307557889854935,
          0.7642488396101653,
          -0.8648674375434916,
          -0.9868819280636416,
          -1.374768191849497,
          0.040196813920813354,
          -1.8501252771933256,
          -0.47096661859921635,
          0.030148809422230492,
          -0.49629746394738594,
          -0.48055047186500344,
          1.0019238054310298,
          -0.2059649005632659,
          0.03397516273643297,
          1.0738805827143372,
          2.4721239137994315,
          -0.4052189135756334,
          -0.34375404549779637,
          -1.0857649696484415,
          0.055094811569757304,
          -0.8850098967698943,
          -0.22656957039513467,
          0.39986500767204186,
          -0.34663345478149626,
          0.3968003349411088,
          -0.26733465187034505,
          -0.2198127906046125,
          0.37235632515082645,
          0.2910676243965551,
          -0.05890540711534565,
          0.9968503248422131,
          1.0010157850265846,
          -0.1184178551405647,
          0.30865917238422885,
          -0.3880279024822919,
          1.1596828942923951,
          -0.7113173402696118,
          1.6878264070830626,
          1.242425123682662,
          -0.49942462992988224,
          0.4277971787926875,
          0.918168330122392,
          -0.036254957143438314,
          0.7175071803974852
         ],
         "xaxis": "x14",
         "y": [
          0.9789366989376848,
          1.30832357928357,
          0.5884856563699687,
          0.14036628201271756,
          0.6902925640847257,
          -1.5126471146292837,
          0.5838522454334771,
          -1.4296737914964506,
          0.3594290566830795,
          0.27528898081065095,
          1.1081475564270542,
          2.5984473271642785,
          1.0758490707613964,
          0.9299431908652861,
          0.3017714462607725,
          0.31744377207962077,
          1.7950852278831153,
          -1.0751557656845458,
          0.04402639317964974,
          0.6903493766099735,
          -0.6270238422144295,
          1.0712995511865127,
          -1.7683501946706863,
          1.8282889315983744,
          0.35518053351393475,
          0.2323104081405569,
          0.21712776031333625,
          -0.8721285925719905,
          0.07822111823045823,
          -0.357946864032969,
          -0.0025150210014309865,
          -1.9555427613752936,
          -0.8792349619541815,
          1.6392776481619253,
          1.725133470647381,
          -0.47384019988107273,
          -0.9283214012066563,
          -1.195115447791235,
          -0.712466083041683,
          0.9291792295744458,
          -2.620262854537771,
          -1.2040870131441697,
          -0.5704819254282041,
          0.6013119524591112,
          -0.16641731641561142,
          0.8869031277942011,
          0.7676138991426558,
          -0.21941255951318858,
          0.7336294742863043,
          -1.509760727788322,
          1.3089111293144589,
          -0.48868537947597857,
          0.36867948762371416,
          0.16243268044634435,
          -0.117667880199744,
          -1.5908850850157032,
          -0.03221680995116338,
          -0.8094926795677467,
          0.3332327077531709,
          -0.18761698312668973,
          -1.5210564862512626,
          0.8013496493739705,
          -0.3017689504627007,
          -1.607308712967462,
          -1.073672042348791,
          1.4206409245986824,
          -0.039649711946742494,
          -0.8501076563848817,
          -0.4081547304857195,
          1.4106568202197203,
          1.3844085550565954,
          -1.0442065776581584,
          -0.2601701490206853,
          0.8791199096736153,
          0.616019567546816,
          -1.292378530274667,
          0.038954439846378336,
          -0.8661149852701843,
          0.8187391085735966,
          0.3876138725797948,
          -0.6938650564423336,
          1.8712992267155486,
          -0.9040265178648582,
          -0.5551990862883487,
          1.2480663196654012,
          0.9195113201420941,
          -0.09151997693362701,
          -0.053381470849075324,
          1.0462469257539233,
          1.1492760485618918,
          0.27125133232960086,
          -0.4176644704698133,
          -1.7586536386062264,
          0.3556862900437833,
          -0.641816446050051,
          2.5709957855012364,
          1.514568293434986,
          0.8814684185001089,
          -1.1486878428943332,
          -1.3179289257071727
         ],
         "yaxis": "y14"
        },
        {
         "line": {
          "color": "rgba(128, 128, 128, 1.0)",
          "dash": "solid",
          "shape": "linear",
          "width": 1.3
         },
         "marker": {
          "size": 2,
          "symbol": "circle"
         },
         "mode": "markers",
         "name": "D",
         "text": "",
         "type": "scatter",
         "x": [
          0.8632668610366468,
          -0.6759838109729048,
          1.6760435691157856,
          0.2386522677056511,
          0.9177871555928089,
          -0.33195349463338125,
          -0.4596659548705168,
          -1.619828146084732,
          1.196895449591328,
          -1.4158182886092685,
          -1.4147310374881203,
          1.3071169019440745,
          2.034886088760232,
          0.831296945101511,
          -0.5331427176218014,
          0.7625743050946564,
          2.4870683403318696,
          1.8006533850034185,
          0.2525267540628914,
          0.6875297280476015,
          -1.0765790504865762,
          0.12728861231860875,
          0.7247502055785919,
          -0.49289388585364613,
          0.3744825557060185,
          -0.8096990396759861,
          1.1400463269190912,
          -0.15826526858594317,
          -1.2775919630437773,
          0.44639629173763584,
          0.7668272024069026,
          0.5320633979394429,
          0.12223289154187524,
          -0.9835329851688851,
          -0.2626440166090256,
          -0.49029865362572156,
          0.3315965239572869,
          -0.35443941541290896,
          0.49478368148043206,
          0.8803164086438205,
          -0.8665736048325886,
          0.8723221792680127,
          1.4657052626484044,
          1.410995083908226,
          -1.314848635987647,
          0.3624400384126643,
          1.72897276386658,
          0.744978917233216,
          -0.025728280250998856,
          -0.2055778639647989,
          -2.0427947545816276,
          0.21659128562133634,
          0.24200545678709667,
          0.5114516178742391,
          1.3674354426688156,
          0.3091350011835716,
          0.22077844271697306,
          1.5679050452010852,
          0.3878344264221422,
          2.0546408866166663,
          1.5945815066522286,
          0.012462768948805153,
          0.048795755411710925,
          0.7793211453715158,
          0.9925909406622786,
          -2.0754924977544023,
          -0.30780820544177,
          -0.17747889661433175,
          0.1676548442140887,
          -0.45399169918049453,
          0.9516971756525416,
          0.7422403966932977,
          -1.4908827862622838,
          -1.4834459137371023,
          0.7405222811073173,
          1.7286513714090677,
          0.1710746692888831,
          0.9932882074728955,
          0.9620004841015415,
          0.2015130492683428,
          0.035021823813223,
          0.4147467707948085,
          0.4470003224996248,
          0.060453446864904885,
          -0.5811734749393368,
          -0.23798052622064167,
          -1.0564814386852002,
          -0.9746741868220017,
          0.09571782632846486,
          -0.1413046510016507,
          0.6425182209935902,
          0.40640709529694263,
          1.2468937516914458,
          -0.03688936105911779,
          0.7563916635910612,
          0.19948370407499655,
          0.6205897717531387,
          0.5641429398722851,
          1.5157884976406186,
          1.3512524246962052
         ],
         "xaxis": "x15",
         "y": [
          0.9789366989376848,
          1.30832357928357,
          0.5884856563699687,
          0.14036628201271756,
          0.6902925640847257,
          -1.5126471146292837,
          0.5838522454334771,
          -1.4296737914964506,
          0.3594290566830795,
          0.27528898081065095,
          1.1081475564270542,
          2.5984473271642785,
          1.0758490707613964,
          0.9299431908652861,
          0.3017714462607725,
          0.31744377207962077,
          1.7950852278831153,
          -1.0751557656845458,
          0.04402639317964974,
          0.6903493766099735,
          -0.6270238422144295,
          1.0712995511865127,
          -1.7683501946706863,
          1.8282889315983744,
          0.35518053351393475,
          0.2323104081405569,
          0.21712776031333625,
          -0.8721285925719905,
          0.07822111823045823,
          -0.357946864032969,
          -0.0025150210014309865,
          -1.9555427613752936,
          -0.8792349619541815,
          1.6392776481619253,
          1.725133470647381,
          -0.47384019988107273,
          -0.9283214012066563,
          -1.195115447791235,
          -0.712466083041683,
          0.9291792295744458,
          -2.620262854537771,
          -1.2040870131441697,
          -0.5704819254282041,
          0.6013119524591112,
          -0.16641731641561142,
          0.8869031277942011,
          0.7676138991426558,
          -0.21941255951318858,
          0.7336294742863043,
          -1.509760727788322,
          1.3089111293144589,
          -0.48868537947597857,
          0.36867948762371416,
          0.16243268044634435,
          -0.117667880199744,
          -1.5908850850157032,
          -0.03221680995116338,
          -0.8094926795677467,
          0.3332327077531709,
          -0.18761698312668973,
          -1.5210564862512626,
          0.8013496493739705,
          -0.3017689504627007,
          -1.607308712967462,
          -1.073672042348791,
          1.4206409245986824,
          -0.039649711946742494,
          -0.8501076563848817,
          -0.4081547304857195,
          1.4106568202197203,
          1.3844085550565954,
          -1.0442065776581584,
          -0.2601701490206853,
          0.8791199096736153,
          0.616019567546816,
          -1.292378530274667,
          0.038954439846378336,
          -0.8661149852701843,
          0.8187391085735966,
          0.3876138725797948,
          -0.6938650564423336,
          1.8712992267155486,
          -0.9040265178648582,
          -0.5551990862883487,
          1.2480663196654012,
          0.9195113201420941,
          -0.09151997693362701,
          -0.053381470849075324,
          1.0462469257539233,
          1.1492760485618918,
          0.27125133232960086,
          -0.4176644704698133,
          -1.7586536386062264,
          0.3556862900437833,
          -0.641816446050051,
          2.5709957855012364,
          1.514568293434986,
          0.8814684185001089,
          -1.1486878428943332,
          -1.3179289257071727
         ],
         "yaxis": "y15"
        },
        {
         "histfunc": "count",
         "histnorm": "",
         "marker": {
          "color": "rgba(128, 0, 128, 1.0)",
          "line": {
           "color": "#4D5663",
           "width": 1.3
          }
         },
         "name": "D",
         "nbinsx": 10,
         "opacity": 0.8,
         "orientation": "v",
         "type": "histogram",
         "x": [
          0.9789366989376848,
          1.30832357928357,
          0.5884856563699687,
          0.14036628201271756,
          0.6902925640847257,
          -1.5126471146292837,
          0.5838522454334771,
          -1.4296737914964506,
          0.3594290566830795,
          0.27528898081065095,
          1.1081475564270542,
          2.5984473271642785,
          1.0758490707613964,
          0.9299431908652861,
          0.3017714462607725,
          0.31744377207962077,
          1.7950852278831153,
          -1.0751557656845458,
          0.04402639317964974,
          0.6903493766099735,
          -0.6270238422144295,
          1.0712995511865127,
          -1.7683501946706863,
          1.8282889315983744,
          0.35518053351393475,
          0.2323104081405569,
          0.21712776031333625,
          -0.8721285925719905,
          0.07822111823045823,
          -0.357946864032969,
          -0.0025150210014309865,
          -1.9555427613752936,
          -0.8792349619541815,
          1.6392776481619253,
          1.725133470647381,
          -0.47384019988107273,
          -0.9283214012066563,
          -1.195115447791235,
          -0.712466083041683,
          0.9291792295744458,
          -2.620262854537771,
          -1.2040870131441697,
          -0.5704819254282041,
          0.6013119524591112,
          -0.16641731641561142,
          0.8869031277942011,
          0.7676138991426558,
          -0.21941255951318858,
          0.7336294742863043,
          -1.509760727788322,
          1.3089111293144589,
          -0.48868537947597857,
          0.36867948762371416,
          0.16243268044634435,
          -0.117667880199744,
          -1.5908850850157032,
          -0.03221680995116338,
          -0.8094926795677467,
          0.3332327077531709,
          -0.18761698312668973,
          -1.5210564862512626,
          0.8013496493739705,
          -0.3017689504627007,
          -1.607308712967462,
          -1.073672042348791,
          1.4206409245986824,
          -0.039649711946742494,
          -0.8501076563848817,
          -0.4081547304857195,
          1.4106568202197203,
          1.3844085550565954,
          -1.0442065776581584,
          -0.2601701490206853,
          0.8791199096736153,
          0.616019567546816,
          -1.292378530274667,
          0.038954439846378336,
          -0.8661149852701843,
          0.8187391085735966,
          0.3876138725797948,
          -0.6938650564423336,
          1.8712992267155486,
          -0.9040265178648582,
          -0.5551990862883487,
          1.2480663196654012,
          0.9195113201420941,
          -0.09151997693362701,
          -0.053381470849075324,
          1.0462469257539233,
          1.1492760485618918,
          0.27125133232960086,
          -0.4176644704698133,
          -1.7586536386062264,
          0.3556862900437833,
          -0.641816446050051,
          2.5709957855012364,
          1.514568293434986,
          0.8814684185001089,
          -1.1486878428943332,
          -1.3179289257071727
         ],
         "xaxis": "x16",
         "yaxis": "y16"
        }
       ],
       "layout": {
        "bargap": 0.02,
        "legend": {
         "bgcolor": "#F5F6F9",
         "font": {
          "color": "#4D5663"
         }
        },
        "paper_bgcolor": "#F5F6F9",
        "plot_bgcolor": "#F5F6F9",
        "showlegend": false,
        "template": {
         "data": {
          "bar": [
           {
            "error_x": {
             "color": "#2a3f5f"
            },
            "error_y": {
             "color": "#2a3f5f"
            },
            "marker": {
             "line": {
              "color": "#E5ECF6",
              "width": 0.5
             }
            },
            "type": "bar"
           }
          ],
          "barpolar": [
           {
            "marker": {
             "line": {
              "color": "#E5ECF6",
              "width": 0.5
             }
            },
            "type": "barpolar"
           }
          ],
          "carpet": [
           {
            "aaxis": {
             "endlinecolor": "#2a3f5f",
             "gridcolor": "white",
             "linecolor": "white",
             "minorgridcolor": "white",
             "startlinecolor": "#2a3f5f"
            },
            "baxis": {
             "endlinecolor": "#2a3f5f",
             "gridcolor": "white",
             "linecolor": "white",
             "minorgridcolor": "white",
             "startlinecolor": "#2a3f5f"
            },
            "type": "carpet"
           }
          ],
          "choropleth": [
           {
            "colorbar": {
             "outlinewidth": 0,
             "ticks": ""
            },
            "type": "choropleth"
           }
          ],
          "contour": [
           {
            "colorbar": {
             "outlinewidth": 0,
             "ticks": ""
            },
            "colorscale": [
             [
              0,
              "#0d0887"
             ],
             [
              0.1111111111111111,
              "#46039f"
             ],
             [
              0.2222222222222222,
              "#7201a8"
             ],
             [
              0.3333333333333333,
              "#9c179e"
             ],
             [
              0.4444444444444444,
              "#bd3786"
             ],
             [
              0.5555555555555556,
              "#d8576b"
             ],
             [
              0.6666666666666666,
              "#ed7953"
             ],
             [
              0.7777777777777778,
              "#fb9f3a"
             ],
             [
              0.8888888888888888,
              "#fdca26"
             ],
             [
              1,
              "#f0f921"
             ]
            ],
            "type": "contour"
           }
          ],
          "contourcarpet": [
           {
            "colorbar": {
             "outlinewidth": 0,
             "ticks": ""
            },
            "type": "contourcarpet"
           }
          ],
          "heatmap": [
           {
            "colorbar": {
             "outlinewidth": 0,
             "ticks": ""
            },
            "colorscale": [
             [
              0,
              "#0d0887"
             ],
             [
              0.1111111111111111,
              "#46039f"
             ],
             [
              0.2222222222222222,
              "#7201a8"
             ],
             [
              0.3333333333333333,
              "#9c179e"
             ],
             [
              0.4444444444444444,
              "#bd3786"
             ],
             [
              0.5555555555555556,
              "#d8576b"
             ],
             [
              0.6666666666666666,
              "#ed7953"
             ],
             [
              0.7777777777777778,
              "#fb9f3a"
             ],
             [
              0.8888888888888888,
              "#fdca26"
             ],
             [
              1,
              "#f0f921"
             ]
            ],
            "type": "heatmap"
           }
          ],
          "heatmapgl": [
           {
            "colorbar": {
             "outlinewidth": 0,
             "ticks": ""
            },
            "colorscale": [
             [
              0,
              "#0d0887"
             ],
             [
              0.1111111111111111,
              "#46039f"
             ],
             [
              0.2222222222222222,
              "#7201a8"
             ],
             [
              0.3333333333333333,
              "#9c179e"
             ],
             [
              0.4444444444444444,
              "#bd3786"
             ],
             [
              0.5555555555555556,
              "#d8576b"
             ],
             [
              0.6666666666666666,
              "#ed7953"
             ],
             [
              0.7777777777777778,
              "#fb9f3a"
             ],
             [
              0.8888888888888888,
              "#fdca26"
             ],
             [
              1,
              "#f0f921"
             ]
            ],
            "type": "heatmapgl"
           }
          ],
          "histogram": [
           {
            "marker": {
             "colorbar": {
              "outlinewidth": 0,
              "ticks": ""
             }
            },
            "type": "histogram"
           }
          ],
          "histogram2d": [
           {
            "colorbar": {
             "outlinewidth": 0,
             "ticks": ""
            },
            "colorscale": [
             [
              0,
              "#0d0887"
             ],
             [
              0.1111111111111111,
              "#46039f"
             ],
             [
              0.2222222222222222,
              "#7201a8"
             ],
             [
              0.3333333333333333,
              "#9c179e"
             ],
             [
              0.4444444444444444,
              "#bd3786"
             ],
             [
              0.5555555555555556,
              "#d8576b"
             ],
             [
              0.6666666666666666,
              "#ed7953"
             ],
             [
              0.7777777777777778,
              "#fb9f3a"
             ],
             [
              0.8888888888888888,
              "#fdca26"
             ],
             [
              1,
              "#f0f921"
             ]
            ],
            "type": "histogram2d"
           }
          ],
          "histogram2dcontour": [
           {
            "colorbar": {
             "outlinewidth": 0,
             "ticks": ""
            },
            "colorscale": [
             [
              0,
              "#0d0887"
             ],
             [
              0.1111111111111111,
              "#46039f"
             ],
             [
              0.2222222222222222,
              "#7201a8"
             ],
             [
              0.3333333333333333,
              "#9c179e"
             ],
             [
              0.4444444444444444,
              "#bd3786"
             ],
             [
              0.5555555555555556,
              "#d8576b"
             ],
             [
              0.6666666666666666,
              "#ed7953"
             ],
             [
              0.7777777777777778,
              "#fb9f3a"
             ],
             [
              0.8888888888888888,
              "#fdca26"
             ],
             [
              1,
              "#f0f921"
             ]
            ],
            "type": "histogram2dcontour"
           }
          ],
          "mesh3d": [
           {
            "colorbar": {
             "outlinewidth": 0,
             "ticks": ""
            },
            "type": "mesh3d"
           }
          ],
          "parcoords": [
           {
            "line": {
             "colorbar": {
              "outlinewidth": 0,
              "ticks": ""
             }
            },
            "type": "parcoords"
           }
          ],
          "pie": [
           {
            "automargin": true,
            "type": "pie"
           }
          ],
          "scatter": [
           {
            "marker": {
             "colorbar": {
              "outlinewidth": 0,
              "ticks": ""
             }
            },
            "type": "scatter"
           }
          ],
          "scatter3d": [
           {
            "line": {
             "colorbar": {
              "outlinewidth": 0,
              "ticks": ""
             }
            },
            "marker": {
             "colorbar": {
              "outlinewidth": 0,
              "ticks": ""
             }
            },
            "type": "scatter3d"
           }
          ],
          "scattercarpet": [
           {
            "marker": {
             "colorbar": {
              "outlinewidth": 0,
              "ticks": ""
             }
            },
            "type": "scattercarpet"
           }
          ],
          "scattergeo": [
           {
            "marker": {
             "colorbar": {
              "outlinewidth": 0,
              "ticks": ""
             }
            },
            "type": "scattergeo"
           }
          ],
          "scattergl": [
           {
            "marker": {
             "colorbar": {
              "outlinewidth": 0,
              "ticks": ""
             }
            },
            "type": "scattergl"
           }
          ],
          "scattermapbox": [
           {
            "marker": {
             "colorbar": {
              "outlinewidth": 0,
              "ticks": ""
             }
            },
            "type": "scattermapbox"
           }
          ],
          "scatterpolar": [
           {
            "marker": {
             "colorbar": {
              "outlinewidth": 0,
              "ticks": ""
             }
            },
            "type": "scatterpolar"
           }
          ],
          "scatterpolargl": [
           {
            "marker": {
             "colorbar": {
              "outlinewidth": 0,
              "ticks": ""
             }
            },
            "type": "scatterpolargl"
           }
          ],
          "scatterternary": [
           {
            "marker": {
             "colorbar": {
              "outlinewidth": 0,
              "ticks": ""
             }
            },
            "type": "scatterternary"
           }
          ],
          "surface": [
           {
            "colorbar": {
             "outlinewidth": 0,
             "ticks": ""
            },
            "colorscale": [
             [
              0,
              "#0d0887"
             ],
             [
              0.1111111111111111,
              "#46039f"
             ],
             [
              0.2222222222222222,
              "#7201a8"
             ],
             [
              0.3333333333333333,
              "#9c179e"
             ],
             [
              0.4444444444444444,
              "#bd3786"
             ],
             [
              0.5555555555555556,
              "#d8576b"
             ],
             [
              0.6666666666666666,
              "#ed7953"
             ],
             [
              0.7777777777777778,
              "#fb9f3a"
             ],
             [
              0.8888888888888888,
              "#fdca26"
             ],
             [
              1,
              "#f0f921"
             ]
            ],
            "type": "surface"
           }
          ],
          "table": [
           {
            "cells": {
             "fill": {
              "color": "#EBF0F8"
             },
             "line": {
              "color": "white"
             }
            },
            "header": {
             "fill": {
              "color": "#C8D4E3"
             },
             "line": {
              "color": "white"
             }
            },
            "type": "table"
           }
          ]
         },
         "layout": {
          "annotationdefaults": {
           "arrowcolor": "#2a3f5f",
           "arrowhead": 0,
           "arrowwidth": 1
          },
          "coloraxis": {
           "colorbar": {
            "outlinewidth": 0,
            "ticks": ""
           }
          },
          "colorscale": {
           "diverging": [
            [
             0,
             "#8e0152"
            ],
            [
             0.1,
             "#c51b7d"
            ],
            [
             0.2,
             "#de77ae"
            ],
            [
             0.3,
             "#f1b6da"
            ],
            [
             0.4,
             "#fde0ef"
            ],
            [
             0.5,
             "#f7f7f7"
            ],
            [
             0.6,
             "#e6f5d0"
            ],
            [
             0.7,
             "#b8e186"
            ],
            [
             0.8,
             "#7fbc41"
            ],
            [
             0.9,
             "#4d9221"
            ],
            [
             1,
             "#276419"
            ]
           ],
           "sequential": [
            [
             0,
             "#0d0887"
            ],
            [
             0.1111111111111111,
             "#46039f"
            ],
            [
             0.2222222222222222,
             "#7201a8"
            ],
            [
             0.3333333333333333,
             "#9c179e"
            ],
            [
             0.4444444444444444,
             "#bd3786"
            ],
            [
             0.5555555555555556,
             "#d8576b"
            ],
            [
             0.6666666666666666,
             "#ed7953"
            ],
            [
             0.7777777777777778,
             "#fb9f3a"
            ],
            [
             0.8888888888888888,
             "#fdca26"
            ],
            [
             1,
             "#f0f921"
            ]
           ],
           "sequentialminus": [
            [
             0,
             "#0d0887"
            ],
            [
             0.1111111111111111,
             "#46039f"
            ],
            [
             0.2222222222222222,
             "#7201a8"
            ],
            [
             0.3333333333333333,
             "#9c179e"
            ],
            [
             0.4444444444444444,
             "#bd3786"
            ],
            [
             0.5555555555555556,
             "#d8576b"
            ],
            [
             0.6666666666666666,
             "#ed7953"
            ],
            [
             0.7777777777777778,
             "#fb9f3a"
            ],
            [
             0.8888888888888888,
             "#fdca26"
            ],
            [
             1,
             "#f0f921"
            ]
           ]
          },
          "colorway": [
           "#636efa",
           "#EF553B",
           "#00cc96",
           "#ab63fa",
           "#FFA15A",
           "#19d3f3",
           "#FF6692",
           "#B6E880",
           "#FF97FF",
           "#FECB52"
          ],
          "font": {
           "color": "#2a3f5f"
          },
          "geo": {
           "bgcolor": "white",
           "lakecolor": "white",
           "landcolor": "#E5ECF6",
           "showlakes": true,
           "showland": true,
           "subunitcolor": "white"
          },
          "hoverlabel": {
           "align": "left"
          },
          "hovermode": "closest",
          "mapbox": {
           "style": "light"
          },
          "paper_bgcolor": "white",
          "plot_bgcolor": "#E5ECF6",
          "polar": {
           "angularaxis": {
            "gridcolor": "white",
            "linecolor": "white",
            "ticks": ""
           },
           "bgcolor": "#E5ECF6",
           "radialaxis": {
            "gridcolor": "white",
            "linecolor": "white",
            "ticks": ""
           }
          },
          "scene": {
           "xaxis": {
            "backgroundcolor": "#E5ECF6",
            "gridcolor": "white",
            "gridwidth": 2,
            "linecolor": "white",
            "showbackground": true,
            "ticks": "",
            "zerolinecolor": "white"
           },
           "yaxis": {
            "backgroundcolor": "#E5ECF6",
            "gridcolor": "white",
            "gridwidth": 2,
            "linecolor": "white",
            "showbackground": true,
            "ticks": "",
            "zerolinecolor": "white"
           },
           "zaxis": {
            "backgroundcolor": "#E5ECF6",
            "gridcolor": "white",
            "gridwidth": 2,
            "linecolor": "white",
            "showbackground": true,
            "ticks": "",
            "zerolinecolor": "white"
           }
          },
          "shapedefaults": {
           "line": {
            "color": "#2a3f5f"
           }
          },
          "ternary": {
           "aaxis": {
            "gridcolor": "white",
            "linecolor": "white",
            "ticks": ""
           },
           "baxis": {
            "gridcolor": "white",
            "linecolor": "white",
            "ticks": ""
           },
           "bgcolor": "#E5ECF6",
           "caxis": {
            "gridcolor": "white",
            "linecolor": "white",
            "ticks": ""
           }
          },
          "title": {
           "x": 0.05
          },
          "xaxis": {
           "automargin": true,
           "gridcolor": "white",
           "linecolor": "white",
           "ticks": "",
           "title": {
            "standoff": 15
           },
           "zerolinecolor": "white",
           "zerolinewidth": 2
          },
          "yaxis": {
           "automargin": true,
           "gridcolor": "white",
           "linecolor": "white",
           "ticks": "",
           "title": {
            "standoff": 15
           },
           "zerolinecolor": "white",
           "zerolinewidth": 2
          }
         }
        },
        "title": {
         "font": {
          "color": "#4D5663"
         }
        },
        "xaxis": {
         "anchor": "y",
         "domain": [
          0,
          0.2125
         ],
         "gridcolor": "#E1E5ED",
         "showgrid": false,
         "tickfont": {
          "color": "#4D5663"
         },
         "title": {
          "font": {
           "color": "#4D5663"
          },
          "text": ""
         },
         "zerolinecolor": "#E1E5ED"
        },
        "xaxis10": {
         "anchor": "y10",
         "domain": [
          0.2625,
          0.475
         ],
         "gridcolor": "#E1E5ED",
         "showgrid": false,
         "tickfont": {
          "color": "#4D5663"
         },
         "title": {
          "font": {
           "color": "#4D5663"
          },
          "text": ""
         },
         "zerolinecolor": "#E1E5ED"
        },
        "xaxis11": {
         "anchor": "y11",
         "domain": [
          0.525,
          0.7375
         ],
         "gridcolor": "#E1E5ED",
         "showgrid": false,
         "tickfont": {
          "color": "#4D5663"
         },
         "title": {
          "font": {
           "color": "#4D5663"
          },
          "text": ""
         },
         "zerolinecolor": "#E1E5ED"
        },
        "xaxis12": {
         "anchor": "y12",
         "domain": [
          0.7875,
          1
         ],
         "gridcolor": "#E1E5ED",
         "showgrid": false,
         "tickfont": {
          "color": "#4D5663"
         },
         "title": {
          "font": {
           "color": "#4D5663"
          },
          "text": ""
         },
         "zerolinecolor": "#E1E5ED"
        },
        "xaxis13": {
         "anchor": "y13",
         "domain": [
          0,
          0.2125
         ],
         "gridcolor": "#E1E5ED",
         "showgrid": false,
         "tickfont": {
          "color": "#4D5663"
         },
         "title": {
          "font": {
           "color": "#4D5663"
          },
          "text": ""
         },
         "zerolinecolor": "#E1E5ED"
        },
        "xaxis14": {
         "anchor": "y14",
         "domain": [
          0.2625,
          0.475
         ],
         "gridcolor": "#E1E5ED",
         "showgrid": false,
         "tickfont": {
          "color": "#4D5663"
         },
         "title": {
          "font": {
           "color": "#4D5663"
          },
          "text": ""
         },
         "zerolinecolor": "#E1E5ED"
        },
        "xaxis15": {
         "anchor": "y15",
         "domain": [
          0.525,
          0.7375
         ],
         "gridcolor": "#E1E5ED",
         "showgrid": false,
         "tickfont": {
          "color": "#4D5663"
         },
         "title": {
          "font": {
           "color": "#4D5663"
          },
          "text": ""
         },
         "zerolinecolor": "#E1E5ED"
        },
        "xaxis16": {
         "anchor": "y16",
         "domain": [
          0.7875,
          1
         ],
         "gridcolor": "#E1E5ED",
         "showgrid": false,
         "tickfont": {
          "color": "#4D5663"
         },
         "title": {
          "font": {
           "color": "#4D5663"
          },
          "text": ""
         },
         "zerolinecolor": "#E1E5ED"
        },
        "xaxis2": {
         "anchor": "y2",
         "domain": [
          0.2625,
          0.475
         ],
         "gridcolor": "#E1E5ED",
         "showgrid": false,
         "tickfont": {
          "color": "#4D5663"
         },
         "title": {
          "font": {
           "color": "#4D5663"
          },
          "text": ""
         },
         "zerolinecolor": "#E1E5ED"
        },
        "xaxis3": {
         "anchor": "y3",
         "domain": [
          0.525,
          0.7375
         ],
         "gridcolor": "#E1E5ED",
         "showgrid": false,
         "tickfont": {
          "color": "#4D5663"
         },
         "title": {
          "font": {
           "color": "#4D5663"
          },
          "text": ""
         },
         "zerolinecolor": "#E1E5ED"
        },
        "xaxis4": {
         "anchor": "y4",
         "domain": [
          0.7875,
          1
         ],
         "gridcolor": "#E1E5ED",
         "showgrid": false,
         "tickfont": {
          "color": "#4D5663"
         },
         "title": {
          "font": {
           "color": "#4D5663"
          },
          "text": ""
         },
         "zerolinecolor": "#E1E5ED"
        },
        "xaxis5": {
         "anchor": "y5",
         "domain": [
          0,
          0.2125
         ],
         "gridcolor": "#E1E5ED",
         "showgrid": false,
         "tickfont": {
          "color": "#4D5663"
         },
         "title": {
          "font": {
           "color": "#4D5663"
          },
          "text": ""
         },
         "zerolinecolor": "#E1E5ED"
        },
        "xaxis6": {
         "anchor": "y6",
         "domain": [
          0.2625,
          0.475
         ],
         "gridcolor": "#E1E5ED",
         "showgrid": false,
         "tickfont": {
          "color": "#4D5663"
         },
         "title": {
          "font": {
           "color": "#4D5663"
          },
          "text": ""
         },
         "zerolinecolor": "#E1E5ED"
        },
        "xaxis7": {
         "anchor": "y7",
         "domain": [
          0.525,
          0.7375
         ],
         "gridcolor": "#E1E5ED",
         "showgrid": false,
         "tickfont": {
          "color": "#4D5663"
         },
         "title": {
          "font": {
           "color": "#4D5663"
          },
          "text": ""
         },
         "zerolinecolor": "#E1E5ED"
        },
        "xaxis8": {
         "anchor": "y8",
         "domain": [
          0.7875,
          1
         ],
         "gridcolor": "#E1E5ED",
         "showgrid": false,
         "tickfont": {
          "color": "#4D5663"
         },
         "title": {
          "font": {
           "color": "#4D5663"
          },
          "text": ""
         },
         "zerolinecolor": "#E1E5ED"
        },
        "xaxis9": {
         "anchor": "y9",
         "domain": [
          0,
          0.2125
         ],
         "gridcolor": "#E1E5ED",
         "showgrid": false,
         "tickfont": {
          "color": "#4D5663"
         },
         "title": {
          "font": {
           "color": "#4D5663"
          },
          "text": ""
         },
         "zerolinecolor": "#E1E5ED"
        },
        "yaxis": {
         "anchor": "x",
         "domain": [
          0.8025,
          1
         ],
         "gridcolor": "#E1E5ED",
         "showgrid": false,
         "tickfont": {
          "color": "#4D5663"
         },
         "title": {
          "font": {
           "color": "#4D5663"
          },
          "text": ""
         },
         "zerolinecolor": "#E1E5ED"
        },
        "yaxis10": {
         "anchor": "x10",
         "domain": [
          0.2675,
          0.465
         ],
         "gridcolor": "#E1E5ED",
         "showgrid": false,
         "tickfont": {
          "color": "#4D5663"
         },
         "title": {
          "font": {
           "color": "#4D5663"
          },
          "text": ""
         },
         "zerolinecolor": "#E1E5ED"
        },
        "yaxis11": {
         "anchor": "x11",
         "domain": [
          0.2675,
          0.465
         ],
         "gridcolor": "#E1E5ED",
         "showgrid": false,
         "tickfont": {
          "color": "#4D5663"
         },
         "title": {
          "font": {
           "color": "#4D5663"
          },
          "text": ""
         },
         "zerolinecolor": "#E1E5ED"
        },
        "yaxis12": {
         "anchor": "x12",
         "domain": [
          0.2675,
          0.465
         ],
         "gridcolor": "#E1E5ED",
         "showgrid": false,
         "tickfont": {
          "color": "#4D5663"
         },
         "title": {
          "font": {
           "color": "#4D5663"
          },
          "text": ""
         },
         "zerolinecolor": "#E1E5ED"
        },
        "yaxis13": {
         "anchor": "x13",
         "domain": [
          0,
          0.1975
         ],
         "gridcolor": "#E1E5ED",
         "showgrid": false,
         "tickfont": {
          "color": "#4D5663"
         },
         "title": {
          "font": {
           "color": "#4D5663"
          },
          "text": ""
         },
         "zerolinecolor": "#E1E5ED"
        },
        "yaxis14": {
         "anchor": "x14",
         "domain": [
          0,
          0.1975
         ],
         "gridcolor": "#E1E5ED",
         "showgrid": false,
         "tickfont": {
          "color": "#4D5663"
         },
         "title": {
          "font": {
           "color": "#4D5663"
          },
          "text": ""
         },
         "zerolinecolor": "#E1E5ED"
        },
        "yaxis15": {
         "anchor": "x15",
         "domain": [
          0,
          0.1975
         ],
         "gridcolor": "#E1E5ED",
         "showgrid": false,
         "tickfont": {
          "color": "#4D5663"
         },
         "title": {
          "font": {
           "color": "#4D5663"
          },
          "text": ""
         },
         "zerolinecolor": "#E1E5ED"
        },
        "yaxis16": {
         "anchor": "x16",
         "domain": [
          0,
          0.1975
         ],
         "gridcolor": "#E1E5ED",
         "showgrid": false,
         "tickfont": {
          "color": "#4D5663"
         },
         "title": {
          "font": {
           "color": "#4D5663"
          },
          "text": ""
         },
         "zerolinecolor": "#E1E5ED"
        },
        "yaxis2": {
         "anchor": "x2",
         "domain": [
          0.8025,
          1
         ],
         "gridcolor": "#E1E5ED",
         "showgrid": false,
         "tickfont": {
          "color": "#4D5663"
         },
         "title": {
          "font": {
           "color": "#4D5663"
          },
          "text": ""
         },
         "zerolinecolor": "#E1E5ED"
        },
        "yaxis3": {
         "anchor": "x3",
         "domain": [
          0.8025,
          1
         ],
         "gridcolor": "#E1E5ED",
         "showgrid": false,
         "tickfont": {
          "color": "#4D5663"
         },
         "title": {
          "font": {
           "color": "#4D5663"
          },
          "text": ""
         },
         "zerolinecolor": "#E1E5ED"
        },
        "yaxis4": {
         "anchor": "x4",
         "domain": [
          0.8025,
          1
         ],
         "gridcolor": "#E1E5ED",
         "showgrid": false,
         "tickfont": {
          "color": "#4D5663"
         },
         "title": {
          "font": {
           "color": "#4D5663"
          },
          "text": ""
         },
         "zerolinecolor": "#E1E5ED"
        },
        "yaxis5": {
         "anchor": "x5",
         "domain": [
          0.535,
          0.7325
         ],
         "gridcolor": "#E1E5ED",
         "showgrid": false,
         "tickfont": {
          "color": "#4D5663"
         },
         "title": {
          "font": {
           "color": "#4D5663"
          },
          "text": ""
         },
         "zerolinecolor": "#E1E5ED"
        },
        "yaxis6": {
         "anchor": "x6",
         "domain": [
          0.535,
          0.7325
         ],
         "gridcolor": "#E1E5ED",
         "showgrid": false,
         "tickfont": {
          "color": "#4D5663"
         },
         "title": {
          "font": {
           "color": "#4D5663"
          },
          "text": ""
         },
         "zerolinecolor": "#E1E5ED"
        },
        "yaxis7": {
         "anchor": "x7",
         "domain": [
          0.535,
          0.7325
         ],
         "gridcolor": "#E1E5ED",
         "showgrid": false,
         "tickfont": {
          "color": "#4D5663"
         },
         "title": {
          "font": {
           "color": "#4D5663"
          },
          "text": ""
         },
         "zerolinecolor": "#E1E5ED"
        },
        "yaxis8": {
         "anchor": "x8",
         "domain": [
          0.535,
          0.7325
         ],
         "gridcolor": "#E1E5ED",
         "showgrid": false,
         "tickfont": {
          "color": "#4D5663"
         },
         "title": {
          "font": {
           "color": "#4D5663"
          },
          "text": ""
         },
         "zerolinecolor": "#E1E5ED"
        },
        "yaxis9": {
         "anchor": "x9",
         "domain": [
          0.2675,
          0.465
         ],
         "gridcolor": "#E1E5ED",
         "showgrid": false,
         "tickfont": {
          "color": "#4D5663"
         },
         "title": {
          "font": {
           "color": "#4D5663"
          },
          "text": ""
         },
         "zerolinecolor": "#E1E5ED"
        }
       }
      },
      "text/html": [
       "<div>\n",
       "        \n",
       "        \n",
       "            <div id=\"482621a1-4728-473f-b97a-524967c89d25\" class=\"plotly-graph-div\" style=\"height:525px; width:100%;\"></div>\n",
       "            <script type=\"text/javascript\">\n",
       "                require([\"plotly\"], function(Plotly) {\n",
       "                    window.PLOTLYENV=window.PLOTLYENV || {};\n",
       "                    window.PLOTLYENV.BASE_URL='https://plot.ly';\n",
       "                    \n",
       "                if (document.getElementById(\"482621a1-4728-473f-b97a-524967c89d25\")) {\n",
       "                    Plotly.newPlot(\n",
       "                        '482621a1-4728-473f-b97a-524967c89d25',\n",
       "                        [{\"histfunc\": \"count\", \"histnorm\": \"\", \"marker\": {\"color\": \"rgba(255, 153, 51, 1.0)\", \"line\": {\"color\": \"#4D5663\", \"width\": 1.3}}, \"name\": \"A\", \"nbinsx\": 10, \"opacity\": 0.8, \"orientation\": \"v\", \"type\": \"histogram\", \"x\": [-0.35258759777768894, -0.2689202523477829, -0.7275561455665225, -0.4092338836746071, 0.5939352897099525, -1.2142800943388812, 0.7711096389260248, -0.21383971610196364, 2.0142645914043507, 0.7799110307712278, 1.5457083578522435, 0.9085304936655417, 1.1418265830175587, -0.2104929729809623, 0.7660603426217358, -2.0280362769007985, -2.233828943016878, -0.6300848842080163, 1.5525234298421335, 2.0855689538407653, -0.1996846114408051, 0.5116603997849389, 0.4413175834881552, -0.052475122738868694, -1.4832273130424847, -0.25774388512369106, -1.0640559145877198, -0.3583588767557854, -0.753930925599534, 0.004074420280987488, -0.14176351936354767, 1.4218626480633727, -1.3406424365335914, -0.6306641256341762, 0.34681256724898757, 0.43592034039747934, 0.6865252140987607, 0.5969319637737608, -0.2957449312225045, -1.5104607394739267, -0.2970795197674708, -1.510972639222177, -0.997112695722731, -0.16208689230666798, 1.380420552001041, -0.11125905541840161, 0.4671259115943136, 0.8067247284977627, -1.0343495030780103, 0.5994055167033986, -2.392944687471754, 0.009841623131410187, -2.805109312482037, 0.08829982085256122, 0.1587117032205557, 0.3710578971195314, -0.6880114701614541, 1.4592294790120843, 0.32260083504845827, -0.31203982509622247, -0.5016395710778763, -0.7092626495034179, 1.0623166785638058, -1.5567282874418933, -0.4470023818970348, 0.9298520292269593, 0.051790544147703926, -0.592455513839245, -0.1196242233503168, 1.1594675175773657, 0.6629796478742163, -1.7891314124011264, -2.0335113265519764, -0.6999835342221341, -1.1917599758854707, 0.48071537380142443, 0.05952184244397095, -0.5785307065158325, -0.3421145600853384, -1.4039388516097686, 2.1502912104578336, -0.9615052636121858, -2.7254911460318976, 0.9774563628902962, 0.05190045743478614, 0.2126943664117536, -1.5952990423031996, 0.9130858983745637, -0.21639455031226423, -0.23989461487285638, 0.9728080442967975, -0.1460459616149387, -1.3521999478330948, -2.065521937125486, -0.27532113693680454, -0.5980265778152496, 0.09311905136783473, 1.1902875577767913, 0.2899773682382634, -0.312252032605789], \"xaxis\": \"x\", \"yaxis\": \"y\"}, {\"line\": {\"color\": \"rgba(128, 128, 128, 1.0)\", \"dash\": \"solid\", \"shape\": \"linear\", \"width\": 1.3}, \"marker\": {\"size\": 2, \"symbol\": \"circle\"}, \"mode\": \"markers\", \"name\": \"A\", \"text\": \"\", \"type\": \"scatter\", \"x\": [0.9398897318214089, -0.8731839425082643, 0.046902450656532195, -0.5730263478031349, 0.20964920461071293, 1.589873522036531, 0.04750924541528327, 0.3550099321199273, -1.3717152265624826, -0.29363834535540906, -0.6834415374498101, 0.3013358888971489, 0.08557550080518363, -0.6075508809315883, -0.4554319865724272, -0.6267217986862303, -0.12408272291175006, 2.1377019386303426, -0.5543428603297601, -0.26825029207872786, -1.0491011370545602, -0.3238181830805828, 0.3117772248306555, -1.808426122955307, -0.33810791145502933, 0.8746190178364772, 0.3880907514176325, -0.2146447776967657, 0.7117228782364389, -1.034419032052581, -1.3025207269502206, -0.9431243446739456, -1.3566849831833117, 0.9139728482420952, -0.4491906321351525, 0.20439161904362946, 1.0408022183431263, 0.5066670948192474, -0.10350418262487975, -0.9059301100673794, -0.18267520984842991, -0.12932747242214102, 0.9490202299868135, 1.5445301177158561, -0.5484910871344092, 1.3463270476962672, -0.31544005436995826, -1.4849556354680933, 0.6161677445530706, -1.4826409768646185, 1.0790226993828536, 0.17870810808648277, 1.2507159469031213, -0.3723212271360819, 1.1351360546362514, 0.4989889637299344, 0.5307557889854935, 0.7642488396101653, -0.8648674375434916, -0.9868819280636416, -1.374768191849497, 0.040196813920813354, -1.8501252771933256, -0.47096661859921635, 0.030148809422230492, -0.49629746394738594, -0.48055047186500344, 1.0019238054310298, -0.2059649005632659, 0.03397516273643297, 1.0738805827143372, 2.4721239137994315, -0.4052189135756334, -0.34375404549779637, -1.0857649696484415, 0.055094811569757304, -0.8850098967698943, -0.22656957039513467, 0.39986500767204186, -0.34663345478149626, 0.3968003349411088, -0.26733465187034505, -0.2198127906046125, 0.37235632515082645, 0.2910676243965551, -0.05890540711534565, 0.9968503248422131, 1.0010157850265846, -0.1184178551405647, 0.30865917238422885, -0.3880279024822919, 1.1596828942923951, -0.7113173402696118, 1.6878264070830626, 1.242425123682662, -0.49942462992988224, 0.4277971787926875, 0.918168330122392, -0.036254957143438314, 0.7175071803974852], \"xaxis\": \"x2\", \"y\": [-0.35258759777768894, -0.2689202523477829, -0.7275561455665225, -0.4092338836746071, 0.5939352897099525, -1.2142800943388812, 0.7711096389260248, -0.21383971610196364, 2.0142645914043507, 0.7799110307712278, 1.5457083578522435, 0.9085304936655417, 1.1418265830175587, -0.2104929729809623, 0.7660603426217358, -2.0280362769007985, -2.233828943016878, -0.6300848842080163, 1.5525234298421335, 2.0855689538407653, -0.1996846114408051, 0.5116603997849389, 0.4413175834881552, -0.052475122738868694, -1.4832273130424847, -0.25774388512369106, -1.0640559145877198, -0.3583588767557854, -0.753930925599534, 0.004074420280987488, -0.14176351936354767, 1.4218626480633727, -1.3406424365335914, -0.6306641256341762, 0.34681256724898757, 0.43592034039747934, 0.6865252140987607, 0.5969319637737608, -0.2957449312225045, -1.5104607394739267, -0.2970795197674708, -1.510972639222177, -0.997112695722731, -0.16208689230666798, 1.380420552001041, -0.11125905541840161, 0.4671259115943136, 0.8067247284977627, -1.0343495030780103, 0.5994055167033986, -2.392944687471754, 0.009841623131410187, -2.805109312482037, 0.08829982085256122, 0.1587117032205557, 0.3710578971195314, -0.6880114701614541, 1.4592294790120843, 0.32260083504845827, -0.31203982509622247, -0.5016395710778763, -0.7092626495034179, 1.0623166785638058, -1.5567282874418933, -0.4470023818970348, 0.9298520292269593, 0.051790544147703926, -0.592455513839245, -0.1196242233503168, 1.1594675175773657, 0.6629796478742163, -1.7891314124011264, -2.0335113265519764, -0.6999835342221341, -1.1917599758854707, 0.48071537380142443, 0.05952184244397095, -0.5785307065158325, -0.3421145600853384, -1.4039388516097686, 2.1502912104578336, -0.9615052636121858, -2.7254911460318976, 0.9774563628902962, 0.05190045743478614, 0.2126943664117536, -1.5952990423031996, 0.9130858983745637, -0.21639455031226423, -0.23989461487285638, 0.9728080442967975, -0.1460459616149387, -1.3521999478330948, -2.065521937125486, -0.27532113693680454, -0.5980265778152496, 0.09311905136783473, 1.1902875577767913, 0.2899773682382634, -0.312252032605789], \"yaxis\": \"y2\"}, {\"line\": {\"color\": \"rgba(128, 128, 128, 1.0)\", \"dash\": \"solid\", \"shape\": \"linear\", \"width\": 1.3}, \"marker\": {\"size\": 2, \"symbol\": \"circle\"}, \"mode\": \"markers\", \"name\": \"A\", \"text\": \"\", \"type\": \"scatter\", \"x\": [0.8632668610366468, -0.6759838109729048, 1.6760435691157856, 0.2386522677056511, 0.9177871555928089, -0.33195349463338125, -0.4596659548705168, -1.619828146084732, 1.196895449591328, -1.4158182886092685, -1.4147310374881203, 1.3071169019440745, 2.034886088760232, 0.831296945101511, -0.5331427176218014, 0.7625743050946564, 2.4870683403318696, 1.8006533850034185, 0.2525267540628914, 0.6875297280476015, -1.0765790504865762, 0.12728861231860875, 0.7247502055785919, -0.49289388585364613, 0.3744825557060185, -0.8096990396759861, 1.1400463269190912, -0.15826526858594317, -1.2775919630437773, 0.44639629173763584, 0.7668272024069026, 0.5320633979394429, 0.12223289154187524, -0.9835329851688851, -0.2626440166090256, -0.49029865362572156, 0.3315965239572869, -0.35443941541290896, 0.49478368148043206, 0.8803164086438205, -0.8665736048325886, 0.8723221792680127, 1.4657052626484044, 1.410995083908226, -1.314848635987647, 0.3624400384126643, 1.72897276386658, 0.744978917233216, -0.025728280250998856, -0.2055778639647989, -2.0427947545816276, 0.21659128562133634, 0.24200545678709667, 0.5114516178742391, 1.3674354426688156, 0.3091350011835716, 0.22077844271697306, 1.5679050452010852, 0.3878344264221422, 2.0546408866166663, 1.5945815066522286, 0.012462768948805153, 0.048795755411710925, 0.7793211453715158, 0.9925909406622786, -2.0754924977544023, -0.30780820544177, -0.17747889661433175, 0.1676548442140887, -0.45399169918049453, 0.9516971756525416, 0.7422403966932977, -1.4908827862622838, -1.4834459137371023, 0.7405222811073173, 1.7286513714090677, 0.1710746692888831, 0.9932882074728955, 0.9620004841015415, 0.2015130492683428, 0.035021823813223, 0.4147467707948085, 0.4470003224996248, 0.060453446864904885, -0.5811734749393368, -0.23798052622064167, -1.0564814386852002, -0.9746741868220017, 0.09571782632846486, -0.1413046510016507, 0.6425182209935902, 0.40640709529694263, 1.2468937516914458, -0.03688936105911779, 0.7563916635910612, 0.19948370407499655, 0.6205897717531387, 0.5641429398722851, 1.5157884976406186, 1.3512524246962052], \"xaxis\": \"x3\", \"y\": [-0.35258759777768894, -0.2689202523477829, -0.7275561455665225, -0.4092338836746071, 0.5939352897099525, -1.2142800943388812, 0.7711096389260248, -0.21383971610196364, 2.0142645914043507, 0.7799110307712278, 1.5457083578522435, 0.9085304936655417, 1.1418265830175587, -0.2104929729809623, 0.7660603426217358, -2.0280362769007985, -2.233828943016878, -0.6300848842080163, 1.5525234298421335, 2.0855689538407653, -0.1996846114408051, 0.5116603997849389, 0.4413175834881552, -0.052475122738868694, -1.4832273130424847, -0.25774388512369106, -1.0640559145877198, -0.3583588767557854, -0.753930925599534, 0.004074420280987488, -0.14176351936354767, 1.4218626480633727, -1.3406424365335914, -0.6306641256341762, 0.34681256724898757, 0.43592034039747934, 0.6865252140987607, 0.5969319637737608, -0.2957449312225045, -1.5104607394739267, -0.2970795197674708, -1.510972639222177, -0.997112695722731, -0.16208689230666798, 1.380420552001041, -0.11125905541840161, 0.4671259115943136, 0.8067247284977627, -1.0343495030780103, 0.5994055167033986, -2.392944687471754, 0.009841623131410187, -2.805109312482037, 0.08829982085256122, 0.1587117032205557, 0.3710578971195314, -0.6880114701614541, 1.4592294790120843, 0.32260083504845827, -0.31203982509622247, -0.5016395710778763, -0.7092626495034179, 1.0623166785638058, -1.5567282874418933, -0.4470023818970348, 0.9298520292269593, 0.051790544147703926, -0.592455513839245, -0.1196242233503168, 1.1594675175773657, 0.6629796478742163, -1.7891314124011264, -2.0335113265519764, -0.6999835342221341, -1.1917599758854707, 0.48071537380142443, 0.05952184244397095, -0.5785307065158325, -0.3421145600853384, -1.4039388516097686, 2.1502912104578336, -0.9615052636121858, -2.7254911460318976, 0.9774563628902962, 0.05190045743478614, 0.2126943664117536, -1.5952990423031996, 0.9130858983745637, -0.21639455031226423, -0.23989461487285638, 0.9728080442967975, -0.1460459616149387, -1.3521999478330948, -2.065521937125486, -0.27532113693680454, -0.5980265778152496, 0.09311905136783473, 1.1902875577767913, 0.2899773682382634, -0.312252032605789], \"yaxis\": \"y3\"}, {\"line\": {\"color\": \"rgba(128, 128, 128, 1.0)\", \"dash\": \"solid\", \"shape\": \"linear\", \"width\": 1.3}, \"marker\": {\"size\": 2, \"symbol\": \"circle\"}, \"mode\": \"markers\", \"name\": \"A\", \"text\": \"\", \"type\": \"scatter\", \"x\": [0.9789366989376848, 1.30832357928357, 0.5884856563699687, 0.14036628201271756, 0.6902925640847257, -1.5126471146292837, 0.5838522454334771, -1.4296737914964506, 0.3594290566830795, 0.27528898081065095, 1.1081475564270542, 2.5984473271642785, 1.0758490707613964, 0.9299431908652861, 0.3017714462607725, 0.31744377207962077, 1.7950852278831153, -1.0751557656845458, 0.04402639317964974, 0.6903493766099735, -0.6270238422144295, 1.0712995511865127, -1.7683501946706863, 1.8282889315983744, 0.35518053351393475, 0.2323104081405569, 0.21712776031333625, -0.8721285925719905, 0.07822111823045823, -0.357946864032969, -0.0025150210014309865, -1.9555427613752936, -0.8792349619541815, 1.6392776481619253, 1.725133470647381, -0.47384019988107273, -0.9283214012066563, -1.195115447791235, -0.712466083041683, 0.9291792295744458, -2.620262854537771, -1.2040870131441697, -0.5704819254282041, 0.6013119524591112, -0.16641731641561142, 0.8869031277942011, 0.7676138991426558, -0.21941255951318858, 0.7336294742863043, -1.509760727788322, 1.3089111293144589, -0.48868537947597857, 0.36867948762371416, 0.16243268044634435, -0.117667880199744, -1.5908850850157032, -0.03221680995116338, -0.8094926795677467, 0.3332327077531709, -0.18761698312668973, -1.5210564862512626, 0.8013496493739705, -0.3017689504627007, -1.607308712967462, -1.073672042348791, 1.4206409245986824, -0.039649711946742494, -0.8501076563848817, -0.4081547304857195, 1.4106568202197203, 1.3844085550565954, -1.0442065776581584, -0.2601701490206853, 0.8791199096736153, 0.616019567546816, -1.292378530274667, 0.038954439846378336, -0.8661149852701843, 0.8187391085735966, 0.3876138725797948, -0.6938650564423336, 1.8712992267155486, -0.9040265178648582, -0.5551990862883487, 1.2480663196654012, 0.9195113201420941, -0.09151997693362701, -0.053381470849075324, 1.0462469257539233, 1.1492760485618918, 0.27125133232960086, -0.4176644704698133, -1.7586536386062264, 0.3556862900437833, -0.641816446050051, 2.5709957855012364, 1.514568293434986, 0.8814684185001089, -1.1486878428943332, -1.3179289257071727], \"xaxis\": \"x4\", \"y\": [-0.35258759777768894, -0.2689202523477829, -0.7275561455665225, -0.4092338836746071, 0.5939352897099525, -1.2142800943388812, 0.7711096389260248, -0.21383971610196364, 2.0142645914043507, 0.7799110307712278, 1.5457083578522435, 0.9085304936655417, 1.1418265830175587, -0.2104929729809623, 0.7660603426217358, -2.0280362769007985, -2.233828943016878, -0.6300848842080163, 1.5525234298421335, 2.0855689538407653, -0.1996846114408051, 0.5116603997849389, 0.4413175834881552, -0.052475122738868694, -1.4832273130424847, -0.25774388512369106, -1.0640559145877198, -0.3583588767557854, -0.753930925599534, 0.004074420280987488, -0.14176351936354767, 1.4218626480633727, -1.3406424365335914, -0.6306641256341762, 0.34681256724898757, 0.43592034039747934, 0.6865252140987607, 0.5969319637737608, -0.2957449312225045, -1.5104607394739267, -0.2970795197674708, -1.510972639222177, -0.997112695722731, -0.16208689230666798, 1.380420552001041, -0.11125905541840161, 0.4671259115943136, 0.8067247284977627, -1.0343495030780103, 0.5994055167033986, -2.392944687471754, 0.009841623131410187, -2.805109312482037, 0.08829982085256122, 0.1587117032205557, 0.3710578971195314, -0.6880114701614541, 1.4592294790120843, 0.32260083504845827, -0.31203982509622247, -0.5016395710778763, -0.7092626495034179, 1.0623166785638058, -1.5567282874418933, -0.4470023818970348, 0.9298520292269593, 0.051790544147703926, -0.592455513839245, -0.1196242233503168, 1.1594675175773657, 0.6629796478742163, -1.7891314124011264, -2.0335113265519764, -0.6999835342221341, -1.1917599758854707, 0.48071537380142443, 0.05952184244397095, -0.5785307065158325, -0.3421145600853384, -1.4039388516097686, 2.1502912104578336, -0.9615052636121858, -2.7254911460318976, 0.9774563628902962, 0.05190045743478614, 0.2126943664117536, -1.5952990423031996, 0.9130858983745637, -0.21639455031226423, -0.23989461487285638, 0.9728080442967975, -0.1460459616149387, -1.3521999478330948, -2.065521937125486, -0.27532113693680454, -0.5980265778152496, 0.09311905136783473, 1.1902875577767913, 0.2899773682382634, -0.312252032605789], \"yaxis\": \"y4\"}, {\"line\": {\"color\": \"rgba(128, 128, 128, 1.0)\", \"dash\": \"solid\", \"shape\": \"linear\", \"width\": 1.3}, \"marker\": {\"size\": 2, \"symbol\": \"circle\"}, \"mode\": \"markers\", \"name\": \"B\", \"text\": \"\", \"type\": \"scatter\", \"x\": [-0.35258759777768894, -0.2689202523477829, -0.7275561455665225, -0.4092338836746071, 0.5939352897099525, -1.2142800943388812, 0.7711096389260248, -0.21383971610196364, 2.0142645914043507, 0.7799110307712278, 1.5457083578522435, 0.9085304936655417, 1.1418265830175587, -0.2104929729809623, 0.7660603426217358, -2.0280362769007985, -2.233828943016878, -0.6300848842080163, 1.5525234298421335, 2.0855689538407653, -0.1996846114408051, 0.5116603997849389, 0.4413175834881552, -0.052475122738868694, -1.4832273130424847, -0.25774388512369106, -1.0640559145877198, -0.3583588767557854, -0.753930925599534, 0.004074420280987488, -0.14176351936354767, 1.4218626480633727, -1.3406424365335914, -0.6306641256341762, 0.34681256724898757, 0.43592034039747934, 0.6865252140987607, 0.5969319637737608, -0.2957449312225045, -1.5104607394739267, -0.2970795197674708, -1.510972639222177, -0.997112695722731, -0.16208689230666798, 1.380420552001041, -0.11125905541840161, 0.4671259115943136, 0.8067247284977627, -1.0343495030780103, 0.5994055167033986, -2.392944687471754, 0.009841623131410187, -2.805109312482037, 0.08829982085256122, 0.1587117032205557, 0.3710578971195314, -0.6880114701614541, 1.4592294790120843, 0.32260083504845827, -0.31203982509622247, -0.5016395710778763, -0.7092626495034179, 1.0623166785638058, -1.5567282874418933, -0.4470023818970348, 0.9298520292269593, 0.051790544147703926, -0.592455513839245, -0.1196242233503168, 1.1594675175773657, 0.6629796478742163, -1.7891314124011264, -2.0335113265519764, -0.6999835342221341, -1.1917599758854707, 0.48071537380142443, 0.05952184244397095, -0.5785307065158325, -0.3421145600853384, -1.4039388516097686, 2.1502912104578336, -0.9615052636121858, -2.7254911460318976, 0.9774563628902962, 0.05190045743478614, 0.2126943664117536, -1.5952990423031996, 0.9130858983745637, -0.21639455031226423, -0.23989461487285638, 0.9728080442967975, -0.1460459616149387, -1.3521999478330948, -2.065521937125486, -0.27532113693680454, -0.5980265778152496, 0.09311905136783473, 1.1902875577767913, 0.2899773682382634, -0.312252032605789], \"xaxis\": \"x5\", \"y\": [0.9398897318214089, -0.8731839425082643, 0.046902450656532195, -0.5730263478031349, 0.20964920461071293, 1.589873522036531, 0.04750924541528327, 0.3550099321199273, -1.3717152265624826, -0.29363834535540906, -0.6834415374498101, 0.3013358888971489, 0.08557550080518363, -0.6075508809315883, -0.4554319865724272, -0.6267217986862303, -0.12408272291175006, 2.1377019386303426, -0.5543428603297601, -0.26825029207872786, -1.0491011370545602, -0.3238181830805828, 0.3117772248306555, -1.808426122955307, -0.33810791145502933, 0.8746190178364772, 0.3880907514176325, -0.2146447776967657, 0.7117228782364389, -1.034419032052581, -1.3025207269502206, -0.9431243446739456, -1.3566849831833117, 0.9139728482420952, -0.4491906321351525, 0.20439161904362946, 1.0408022183431263, 0.5066670948192474, -0.10350418262487975, -0.9059301100673794, -0.18267520984842991, -0.12932747242214102, 0.9490202299868135, 1.5445301177158561, -0.5484910871344092, 1.3463270476962672, -0.31544005436995826, -1.4849556354680933, 0.6161677445530706, -1.4826409768646185, 1.0790226993828536, 0.17870810808648277, 1.2507159469031213, -0.3723212271360819, 1.1351360546362514, 0.4989889637299344, 0.5307557889854935, 0.7642488396101653, -0.8648674375434916, -0.9868819280636416, -1.374768191849497, 0.040196813920813354, -1.8501252771933256, -0.47096661859921635, 0.030148809422230492, -0.49629746394738594, -0.48055047186500344, 1.0019238054310298, -0.2059649005632659, 0.03397516273643297, 1.0738805827143372, 2.4721239137994315, -0.4052189135756334, -0.34375404549779637, -1.0857649696484415, 0.055094811569757304, -0.8850098967698943, -0.22656957039513467, 0.39986500767204186, -0.34663345478149626, 0.3968003349411088, -0.26733465187034505, -0.2198127906046125, 0.37235632515082645, 0.2910676243965551, -0.05890540711534565, 0.9968503248422131, 1.0010157850265846, -0.1184178551405647, 0.30865917238422885, -0.3880279024822919, 1.1596828942923951, -0.7113173402696118, 1.6878264070830626, 1.242425123682662, -0.49942462992988224, 0.4277971787926875, 0.918168330122392, -0.036254957143438314, 0.7175071803974852], \"yaxis\": \"y5\"}, {\"histfunc\": \"count\", \"histnorm\": \"\", \"marker\": {\"color\": \"rgba(55, 128, 191, 1.0)\", \"line\": {\"color\": \"#4D5663\", \"width\": 1.3}}, \"name\": \"B\", \"nbinsx\": 10, \"opacity\": 0.8, \"orientation\": \"v\", \"type\": \"histogram\", \"x\": [0.9398897318214089, -0.8731839425082643, 0.046902450656532195, -0.5730263478031349, 0.20964920461071293, 1.589873522036531, 0.04750924541528327, 0.3550099321199273, -1.3717152265624826, -0.29363834535540906, -0.6834415374498101, 0.3013358888971489, 0.08557550080518363, -0.6075508809315883, -0.4554319865724272, -0.6267217986862303, -0.12408272291175006, 2.1377019386303426, -0.5543428603297601, -0.26825029207872786, -1.0491011370545602, -0.3238181830805828, 0.3117772248306555, -1.808426122955307, -0.33810791145502933, 0.8746190178364772, 0.3880907514176325, -0.2146447776967657, 0.7117228782364389, -1.034419032052581, -1.3025207269502206, -0.9431243446739456, -1.3566849831833117, 0.9139728482420952, -0.4491906321351525, 0.20439161904362946, 1.0408022183431263, 0.5066670948192474, -0.10350418262487975, -0.9059301100673794, -0.18267520984842991, -0.12932747242214102, 0.9490202299868135, 1.5445301177158561, -0.5484910871344092, 1.3463270476962672, -0.31544005436995826, -1.4849556354680933, 0.6161677445530706, -1.4826409768646185, 1.0790226993828536, 0.17870810808648277, 1.2507159469031213, -0.3723212271360819, 1.1351360546362514, 0.4989889637299344, 0.5307557889854935, 0.7642488396101653, -0.8648674375434916, -0.9868819280636416, -1.374768191849497, 0.040196813920813354, -1.8501252771933256, -0.47096661859921635, 0.030148809422230492, -0.49629746394738594, -0.48055047186500344, 1.0019238054310298, -0.2059649005632659, 0.03397516273643297, 1.0738805827143372, 2.4721239137994315, -0.4052189135756334, -0.34375404549779637, -1.0857649696484415, 0.055094811569757304, -0.8850098967698943, -0.22656957039513467, 0.39986500767204186, -0.34663345478149626, 0.3968003349411088, -0.26733465187034505, -0.2198127906046125, 0.37235632515082645, 0.2910676243965551, -0.05890540711534565, 0.9968503248422131, 1.0010157850265846, -0.1184178551405647, 0.30865917238422885, -0.3880279024822919, 1.1596828942923951, -0.7113173402696118, 1.6878264070830626, 1.242425123682662, -0.49942462992988224, 0.4277971787926875, 0.918168330122392, -0.036254957143438314, 0.7175071803974852], \"xaxis\": \"x6\", \"yaxis\": \"y6\"}, {\"line\": {\"color\": \"rgba(128, 128, 128, 1.0)\", \"dash\": \"solid\", \"shape\": \"linear\", \"width\": 1.3}, \"marker\": {\"size\": 2, \"symbol\": \"circle\"}, \"mode\": \"markers\", \"name\": \"B\", \"text\": \"\", \"type\": \"scatter\", \"x\": [0.8632668610366468, -0.6759838109729048, 1.6760435691157856, 0.2386522677056511, 0.9177871555928089, -0.33195349463338125, -0.4596659548705168, -1.619828146084732, 1.196895449591328, -1.4158182886092685, -1.4147310374881203, 1.3071169019440745, 2.034886088760232, 0.831296945101511, -0.5331427176218014, 0.7625743050946564, 2.4870683403318696, 1.8006533850034185, 0.2525267540628914, 0.6875297280476015, -1.0765790504865762, 0.12728861231860875, 0.7247502055785919, -0.49289388585364613, 0.3744825557060185, -0.8096990396759861, 1.1400463269190912, -0.15826526858594317, -1.2775919630437773, 0.44639629173763584, 0.7668272024069026, 0.5320633979394429, 0.12223289154187524, -0.9835329851688851, -0.2626440166090256, -0.49029865362572156, 0.3315965239572869, -0.35443941541290896, 0.49478368148043206, 0.8803164086438205, -0.8665736048325886, 0.8723221792680127, 1.4657052626484044, 1.410995083908226, -1.314848635987647, 0.3624400384126643, 1.72897276386658, 0.744978917233216, -0.025728280250998856, -0.2055778639647989, -2.0427947545816276, 0.21659128562133634, 0.24200545678709667, 0.5114516178742391, 1.3674354426688156, 0.3091350011835716, 0.22077844271697306, 1.5679050452010852, 0.3878344264221422, 2.0546408866166663, 1.5945815066522286, 0.012462768948805153, 0.048795755411710925, 0.7793211453715158, 0.9925909406622786, -2.0754924977544023, -0.30780820544177, -0.17747889661433175, 0.1676548442140887, -0.45399169918049453, 0.9516971756525416, 0.7422403966932977, -1.4908827862622838, -1.4834459137371023, 0.7405222811073173, 1.7286513714090677, 0.1710746692888831, 0.9932882074728955, 0.9620004841015415, 0.2015130492683428, 0.035021823813223, 0.4147467707948085, 0.4470003224996248, 0.060453446864904885, -0.5811734749393368, -0.23798052622064167, -1.0564814386852002, -0.9746741868220017, 0.09571782632846486, -0.1413046510016507, 0.6425182209935902, 0.40640709529694263, 1.2468937516914458, -0.03688936105911779, 0.7563916635910612, 0.19948370407499655, 0.6205897717531387, 0.5641429398722851, 1.5157884976406186, 1.3512524246962052], \"xaxis\": \"x7\", \"y\": [0.9398897318214089, -0.8731839425082643, 0.046902450656532195, -0.5730263478031349, 0.20964920461071293, 1.589873522036531, 0.04750924541528327, 0.3550099321199273, -1.3717152265624826, -0.29363834535540906, -0.6834415374498101, 0.3013358888971489, 0.08557550080518363, -0.6075508809315883, -0.4554319865724272, -0.6267217986862303, -0.12408272291175006, 2.1377019386303426, -0.5543428603297601, -0.26825029207872786, -1.0491011370545602, -0.3238181830805828, 0.3117772248306555, -1.808426122955307, -0.33810791145502933, 0.8746190178364772, 0.3880907514176325, -0.2146447776967657, 0.7117228782364389, -1.034419032052581, -1.3025207269502206, -0.9431243446739456, -1.3566849831833117, 0.9139728482420952, -0.4491906321351525, 0.20439161904362946, 1.0408022183431263, 0.5066670948192474, -0.10350418262487975, -0.9059301100673794, -0.18267520984842991, -0.12932747242214102, 0.9490202299868135, 1.5445301177158561, -0.5484910871344092, 1.3463270476962672, -0.31544005436995826, -1.4849556354680933, 0.6161677445530706, -1.4826409768646185, 1.0790226993828536, 0.17870810808648277, 1.2507159469031213, -0.3723212271360819, 1.1351360546362514, 0.4989889637299344, 0.5307557889854935, 0.7642488396101653, -0.8648674375434916, -0.9868819280636416, -1.374768191849497, 0.040196813920813354, -1.8501252771933256, -0.47096661859921635, 0.030148809422230492, -0.49629746394738594, -0.48055047186500344, 1.0019238054310298, -0.2059649005632659, 0.03397516273643297, 1.0738805827143372, 2.4721239137994315, -0.4052189135756334, -0.34375404549779637, -1.0857649696484415, 0.055094811569757304, -0.8850098967698943, -0.22656957039513467, 0.39986500767204186, -0.34663345478149626, 0.3968003349411088, -0.26733465187034505, -0.2198127906046125, 0.37235632515082645, 0.2910676243965551, -0.05890540711534565, 0.9968503248422131, 1.0010157850265846, -0.1184178551405647, 0.30865917238422885, -0.3880279024822919, 1.1596828942923951, -0.7113173402696118, 1.6878264070830626, 1.242425123682662, -0.49942462992988224, 0.4277971787926875, 0.918168330122392, -0.036254957143438314, 0.7175071803974852], \"yaxis\": \"y7\"}, {\"line\": {\"color\": \"rgba(128, 128, 128, 1.0)\", \"dash\": \"solid\", \"shape\": \"linear\", \"width\": 1.3}, \"marker\": {\"size\": 2, \"symbol\": \"circle\"}, \"mode\": \"markers\", \"name\": \"B\", \"text\": \"\", \"type\": \"scatter\", \"x\": [0.9789366989376848, 1.30832357928357, 0.5884856563699687, 0.14036628201271756, 0.6902925640847257, -1.5126471146292837, 0.5838522454334771, -1.4296737914964506, 0.3594290566830795, 0.27528898081065095, 1.1081475564270542, 2.5984473271642785, 1.0758490707613964, 0.9299431908652861, 0.3017714462607725, 0.31744377207962077, 1.7950852278831153, -1.0751557656845458, 0.04402639317964974, 0.6903493766099735, -0.6270238422144295, 1.0712995511865127, -1.7683501946706863, 1.8282889315983744, 0.35518053351393475, 0.2323104081405569, 0.21712776031333625, -0.8721285925719905, 0.07822111823045823, -0.357946864032969, -0.0025150210014309865, -1.9555427613752936, -0.8792349619541815, 1.6392776481619253, 1.725133470647381, -0.47384019988107273, -0.9283214012066563, -1.195115447791235, -0.712466083041683, 0.9291792295744458, -2.620262854537771, -1.2040870131441697, -0.5704819254282041, 0.6013119524591112, -0.16641731641561142, 0.8869031277942011, 0.7676138991426558, -0.21941255951318858, 0.7336294742863043, -1.509760727788322, 1.3089111293144589, -0.48868537947597857, 0.36867948762371416, 0.16243268044634435, -0.117667880199744, -1.5908850850157032, -0.03221680995116338, -0.8094926795677467, 0.3332327077531709, -0.18761698312668973, -1.5210564862512626, 0.8013496493739705, -0.3017689504627007, -1.607308712967462, -1.073672042348791, 1.4206409245986824, -0.039649711946742494, -0.8501076563848817, -0.4081547304857195, 1.4106568202197203, 1.3844085550565954, -1.0442065776581584, -0.2601701490206853, 0.8791199096736153, 0.616019567546816, -1.292378530274667, 0.038954439846378336, -0.8661149852701843, 0.8187391085735966, 0.3876138725797948, -0.6938650564423336, 1.8712992267155486, -0.9040265178648582, -0.5551990862883487, 1.2480663196654012, 0.9195113201420941, -0.09151997693362701, -0.053381470849075324, 1.0462469257539233, 1.1492760485618918, 0.27125133232960086, -0.4176644704698133, -1.7586536386062264, 0.3556862900437833, -0.641816446050051, 2.5709957855012364, 1.514568293434986, 0.8814684185001089, -1.1486878428943332, -1.3179289257071727], \"xaxis\": \"x8\", \"y\": [0.9398897318214089, -0.8731839425082643, 0.046902450656532195, -0.5730263478031349, 0.20964920461071293, 1.589873522036531, 0.04750924541528327, 0.3550099321199273, -1.3717152265624826, -0.29363834535540906, -0.6834415374498101, 0.3013358888971489, 0.08557550080518363, -0.6075508809315883, -0.4554319865724272, -0.6267217986862303, -0.12408272291175006, 2.1377019386303426, -0.5543428603297601, -0.26825029207872786, -1.0491011370545602, -0.3238181830805828, 0.3117772248306555, -1.808426122955307, -0.33810791145502933, 0.8746190178364772, 0.3880907514176325, -0.2146447776967657, 0.7117228782364389, -1.034419032052581, -1.3025207269502206, -0.9431243446739456, -1.3566849831833117, 0.9139728482420952, -0.4491906321351525, 0.20439161904362946, 1.0408022183431263, 0.5066670948192474, -0.10350418262487975, -0.9059301100673794, -0.18267520984842991, -0.12932747242214102, 0.9490202299868135, 1.5445301177158561, -0.5484910871344092, 1.3463270476962672, -0.31544005436995826, -1.4849556354680933, 0.6161677445530706, -1.4826409768646185, 1.0790226993828536, 0.17870810808648277, 1.2507159469031213, -0.3723212271360819, 1.1351360546362514, 0.4989889637299344, 0.5307557889854935, 0.7642488396101653, -0.8648674375434916, -0.9868819280636416, -1.374768191849497, 0.040196813920813354, -1.8501252771933256, -0.47096661859921635, 0.030148809422230492, -0.49629746394738594, -0.48055047186500344, 1.0019238054310298, -0.2059649005632659, 0.03397516273643297, 1.0738805827143372, 2.4721239137994315, -0.4052189135756334, -0.34375404549779637, -1.0857649696484415, 0.055094811569757304, -0.8850098967698943, -0.22656957039513467, 0.39986500767204186, -0.34663345478149626, 0.3968003349411088, -0.26733465187034505, -0.2198127906046125, 0.37235632515082645, 0.2910676243965551, -0.05890540711534565, 0.9968503248422131, 1.0010157850265846, -0.1184178551405647, 0.30865917238422885, -0.3880279024822919, 1.1596828942923951, -0.7113173402696118, 1.6878264070830626, 1.242425123682662, -0.49942462992988224, 0.4277971787926875, 0.918168330122392, -0.036254957143438314, 0.7175071803974852], \"yaxis\": \"y8\"}, {\"line\": {\"color\": \"rgba(128, 128, 128, 1.0)\", \"dash\": \"solid\", \"shape\": \"linear\", \"width\": 1.3}, \"marker\": {\"size\": 2, \"symbol\": \"circle\"}, \"mode\": \"markers\", \"name\": \"C\", \"text\": \"\", \"type\": \"scatter\", \"x\": [-0.35258759777768894, -0.2689202523477829, -0.7275561455665225, -0.4092338836746071, 0.5939352897099525, -1.2142800943388812, 0.7711096389260248, -0.21383971610196364, 2.0142645914043507, 0.7799110307712278, 1.5457083578522435, 0.9085304936655417, 1.1418265830175587, -0.2104929729809623, 0.7660603426217358, -2.0280362769007985, -2.233828943016878, -0.6300848842080163, 1.5525234298421335, 2.0855689538407653, -0.1996846114408051, 0.5116603997849389, 0.4413175834881552, -0.052475122738868694, -1.4832273130424847, -0.25774388512369106, -1.0640559145877198, -0.3583588767557854, -0.753930925599534, 0.004074420280987488, -0.14176351936354767, 1.4218626480633727, -1.3406424365335914, -0.6306641256341762, 0.34681256724898757, 0.43592034039747934, 0.6865252140987607, 0.5969319637737608, -0.2957449312225045, -1.5104607394739267, -0.2970795197674708, -1.510972639222177, -0.997112695722731, -0.16208689230666798, 1.380420552001041, -0.11125905541840161, 0.4671259115943136, 0.8067247284977627, -1.0343495030780103, 0.5994055167033986, -2.392944687471754, 0.009841623131410187, -2.805109312482037, 0.08829982085256122, 0.1587117032205557, 0.3710578971195314, -0.6880114701614541, 1.4592294790120843, 0.32260083504845827, -0.31203982509622247, -0.5016395710778763, -0.7092626495034179, 1.0623166785638058, -1.5567282874418933, -0.4470023818970348, 0.9298520292269593, 0.051790544147703926, -0.592455513839245, -0.1196242233503168, 1.1594675175773657, 0.6629796478742163, -1.7891314124011264, -2.0335113265519764, -0.6999835342221341, -1.1917599758854707, 0.48071537380142443, 0.05952184244397095, -0.5785307065158325, -0.3421145600853384, -1.4039388516097686, 2.1502912104578336, -0.9615052636121858, -2.7254911460318976, 0.9774563628902962, 0.05190045743478614, 0.2126943664117536, -1.5952990423031996, 0.9130858983745637, -0.21639455031226423, -0.23989461487285638, 0.9728080442967975, -0.1460459616149387, -1.3521999478330948, -2.065521937125486, -0.27532113693680454, -0.5980265778152496, 0.09311905136783473, 1.1902875577767913, 0.2899773682382634, -0.312252032605789], \"xaxis\": \"x9\", \"y\": [0.8632668610366468, -0.6759838109729048, 1.6760435691157856, 0.2386522677056511, 0.9177871555928089, -0.33195349463338125, -0.4596659548705168, -1.619828146084732, 1.196895449591328, -1.4158182886092685, -1.4147310374881203, 1.3071169019440745, 2.034886088760232, 0.831296945101511, -0.5331427176218014, 0.7625743050946564, 2.4870683403318696, 1.8006533850034185, 0.2525267540628914, 0.6875297280476015, -1.0765790504865762, 0.12728861231860875, 0.7247502055785919, -0.49289388585364613, 0.3744825557060185, -0.8096990396759861, 1.1400463269190912, -0.15826526858594317, -1.2775919630437773, 0.44639629173763584, 0.7668272024069026, 0.5320633979394429, 0.12223289154187524, -0.9835329851688851, -0.2626440166090256, -0.49029865362572156, 0.3315965239572869, -0.35443941541290896, 0.49478368148043206, 0.8803164086438205, -0.8665736048325886, 0.8723221792680127, 1.4657052626484044, 1.410995083908226, -1.314848635987647, 0.3624400384126643, 1.72897276386658, 0.744978917233216, -0.025728280250998856, -0.2055778639647989, -2.0427947545816276, 0.21659128562133634, 0.24200545678709667, 0.5114516178742391, 1.3674354426688156, 0.3091350011835716, 0.22077844271697306, 1.5679050452010852, 0.3878344264221422, 2.0546408866166663, 1.5945815066522286, 0.012462768948805153, 0.048795755411710925, 0.7793211453715158, 0.9925909406622786, -2.0754924977544023, -0.30780820544177, -0.17747889661433175, 0.1676548442140887, -0.45399169918049453, 0.9516971756525416, 0.7422403966932977, -1.4908827862622838, -1.4834459137371023, 0.7405222811073173, 1.7286513714090677, 0.1710746692888831, 0.9932882074728955, 0.9620004841015415, 0.2015130492683428, 0.035021823813223, 0.4147467707948085, 0.4470003224996248, 0.060453446864904885, -0.5811734749393368, -0.23798052622064167, -1.0564814386852002, -0.9746741868220017, 0.09571782632846486, -0.1413046510016507, 0.6425182209935902, 0.40640709529694263, 1.2468937516914458, -0.03688936105911779, 0.7563916635910612, 0.19948370407499655, 0.6205897717531387, 0.5641429398722851, 1.5157884976406186, 1.3512524246962052], \"yaxis\": \"y9\"}, {\"line\": {\"color\": \"rgba(128, 128, 128, 1.0)\", \"dash\": \"solid\", \"shape\": \"linear\", \"width\": 1.3}, \"marker\": {\"size\": 2, \"symbol\": \"circle\"}, \"mode\": \"markers\", \"name\": \"C\", \"text\": \"\", \"type\": \"scatter\", \"x\": [0.9398897318214089, -0.8731839425082643, 0.046902450656532195, -0.5730263478031349, 0.20964920461071293, 1.589873522036531, 0.04750924541528327, 0.3550099321199273, -1.3717152265624826, -0.29363834535540906, -0.6834415374498101, 0.3013358888971489, 0.08557550080518363, -0.6075508809315883, -0.4554319865724272, -0.6267217986862303, -0.12408272291175006, 2.1377019386303426, -0.5543428603297601, -0.26825029207872786, -1.0491011370545602, -0.3238181830805828, 0.3117772248306555, -1.808426122955307, -0.33810791145502933, 0.8746190178364772, 0.3880907514176325, -0.2146447776967657, 0.7117228782364389, -1.034419032052581, -1.3025207269502206, -0.9431243446739456, -1.3566849831833117, 0.9139728482420952, -0.4491906321351525, 0.20439161904362946, 1.0408022183431263, 0.5066670948192474, -0.10350418262487975, -0.9059301100673794, -0.18267520984842991, -0.12932747242214102, 0.9490202299868135, 1.5445301177158561, -0.5484910871344092, 1.3463270476962672, -0.31544005436995826, -1.4849556354680933, 0.6161677445530706, -1.4826409768646185, 1.0790226993828536, 0.17870810808648277, 1.2507159469031213, -0.3723212271360819, 1.1351360546362514, 0.4989889637299344, 0.5307557889854935, 0.7642488396101653, -0.8648674375434916, -0.9868819280636416, -1.374768191849497, 0.040196813920813354, -1.8501252771933256, -0.47096661859921635, 0.030148809422230492, -0.49629746394738594, -0.48055047186500344, 1.0019238054310298, -0.2059649005632659, 0.03397516273643297, 1.0738805827143372, 2.4721239137994315, -0.4052189135756334, -0.34375404549779637, -1.0857649696484415, 0.055094811569757304, -0.8850098967698943, -0.22656957039513467, 0.39986500767204186, -0.34663345478149626, 0.3968003349411088, -0.26733465187034505, -0.2198127906046125, 0.37235632515082645, 0.2910676243965551, -0.05890540711534565, 0.9968503248422131, 1.0010157850265846, -0.1184178551405647, 0.30865917238422885, -0.3880279024822919, 1.1596828942923951, -0.7113173402696118, 1.6878264070830626, 1.242425123682662, -0.49942462992988224, 0.4277971787926875, 0.918168330122392, -0.036254957143438314, 0.7175071803974852], \"xaxis\": \"x10\", \"y\": [0.8632668610366468, -0.6759838109729048, 1.6760435691157856, 0.2386522677056511, 0.9177871555928089, -0.33195349463338125, -0.4596659548705168, -1.619828146084732, 1.196895449591328, -1.4158182886092685, -1.4147310374881203, 1.3071169019440745, 2.034886088760232, 0.831296945101511, -0.5331427176218014, 0.7625743050946564, 2.4870683403318696, 1.8006533850034185, 0.2525267540628914, 0.6875297280476015, -1.0765790504865762, 0.12728861231860875, 0.7247502055785919, -0.49289388585364613, 0.3744825557060185, -0.8096990396759861, 1.1400463269190912, -0.15826526858594317, -1.2775919630437773, 0.44639629173763584, 0.7668272024069026, 0.5320633979394429, 0.12223289154187524, -0.9835329851688851, -0.2626440166090256, -0.49029865362572156, 0.3315965239572869, -0.35443941541290896, 0.49478368148043206, 0.8803164086438205, -0.8665736048325886, 0.8723221792680127, 1.4657052626484044, 1.410995083908226, -1.314848635987647, 0.3624400384126643, 1.72897276386658, 0.744978917233216, -0.025728280250998856, -0.2055778639647989, -2.0427947545816276, 0.21659128562133634, 0.24200545678709667, 0.5114516178742391, 1.3674354426688156, 0.3091350011835716, 0.22077844271697306, 1.5679050452010852, 0.3878344264221422, 2.0546408866166663, 1.5945815066522286, 0.012462768948805153, 0.048795755411710925, 0.7793211453715158, 0.9925909406622786, -2.0754924977544023, -0.30780820544177, -0.17747889661433175, 0.1676548442140887, -0.45399169918049453, 0.9516971756525416, 0.7422403966932977, -1.4908827862622838, -1.4834459137371023, 0.7405222811073173, 1.7286513714090677, 0.1710746692888831, 0.9932882074728955, 0.9620004841015415, 0.2015130492683428, 0.035021823813223, 0.4147467707948085, 0.4470003224996248, 0.060453446864904885, -0.5811734749393368, -0.23798052622064167, -1.0564814386852002, -0.9746741868220017, 0.09571782632846486, -0.1413046510016507, 0.6425182209935902, 0.40640709529694263, 1.2468937516914458, -0.03688936105911779, 0.7563916635910612, 0.19948370407499655, 0.6205897717531387, 0.5641429398722851, 1.5157884976406186, 1.3512524246962052], \"yaxis\": \"y10\"}, {\"histfunc\": \"count\", \"histnorm\": \"\", \"marker\": {\"color\": \"rgba(50, 171, 96, 1.0)\", \"line\": {\"color\": \"#4D5663\", \"width\": 1.3}}, \"name\": \"C\", \"nbinsx\": 10, \"opacity\": 0.8, \"orientation\": \"v\", \"type\": \"histogram\", \"x\": [0.8632668610366468, -0.6759838109729048, 1.6760435691157856, 0.2386522677056511, 0.9177871555928089, -0.33195349463338125, -0.4596659548705168, -1.619828146084732, 1.196895449591328, -1.4158182886092685, -1.4147310374881203, 1.3071169019440745, 2.034886088760232, 0.831296945101511, -0.5331427176218014, 0.7625743050946564, 2.4870683403318696, 1.8006533850034185, 0.2525267540628914, 0.6875297280476015, -1.0765790504865762, 0.12728861231860875, 0.7247502055785919, -0.49289388585364613, 0.3744825557060185, -0.8096990396759861, 1.1400463269190912, -0.15826526858594317, -1.2775919630437773, 0.44639629173763584, 0.7668272024069026, 0.5320633979394429, 0.12223289154187524, -0.9835329851688851, -0.2626440166090256, -0.49029865362572156, 0.3315965239572869, -0.35443941541290896, 0.49478368148043206, 0.8803164086438205, -0.8665736048325886, 0.8723221792680127, 1.4657052626484044, 1.410995083908226, -1.314848635987647, 0.3624400384126643, 1.72897276386658, 0.744978917233216, -0.025728280250998856, -0.2055778639647989, -2.0427947545816276, 0.21659128562133634, 0.24200545678709667, 0.5114516178742391, 1.3674354426688156, 0.3091350011835716, 0.22077844271697306, 1.5679050452010852, 0.3878344264221422, 2.0546408866166663, 1.5945815066522286, 0.012462768948805153, 0.048795755411710925, 0.7793211453715158, 0.9925909406622786, -2.0754924977544023, -0.30780820544177, -0.17747889661433175, 0.1676548442140887, -0.45399169918049453, 0.9516971756525416, 0.7422403966932977, -1.4908827862622838, -1.4834459137371023, 0.7405222811073173, 1.7286513714090677, 0.1710746692888831, 0.9932882074728955, 0.9620004841015415, 0.2015130492683428, 0.035021823813223, 0.4147467707948085, 0.4470003224996248, 0.060453446864904885, -0.5811734749393368, -0.23798052622064167, -1.0564814386852002, -0.9746741868220017, 0.09571782632846486, -0.1413046510016507, 0.6425182209935902, 0.40640709529694263, 1.2468937516914458, -0.03688936105911779, 0.7563916635910612, 0.19948370407499655, 0.6205897717531387, 0.5641429398722851, 1.5157884976406186, 1.3512524246962052], \"xaxis\": \"x11\", \"yaxis\": \"y11\"}, {\"line\": {\"color\": \"rgba(128, 128, 128, 1.0)\", \"dash\": \"solid\", \"shape\": \"linear\", \"width\": 1.3}, \"marker\": {\"size\": 2, \"symbol\": \"circle\"}, \"mode\": \"markers\", \"name\": \"C\", \"text\": \"\", \"type\": \"scatter\", \"x\": [0.9789366989376848, 1.30832357928357, 0.5884856563699687, 0.14036628201271756, 0.6902925640847257, -1.5126471146292837, 0.5838522454334771, -1.4296737914964506, 0.3594290566830795, 0.27528898081065095, 1.1081475564270542, 2.5984473271642785, 1.0758490707613964, 0.9299431908652861, 0.3017714462607725, 0.31744377207962077, 1.7950852278831153, -1.0751557656845458, 0.04402639317964974, 0.6903493766099735, -0.6270238422144295, 1.0712995511865127, -1.7683501946706863, 1.8282889315983744, 0.35518053351393475, 0.2323104081405569, 0.21712776031333625, -0.8721285925719905, 0.07822111823045823, -0.357946864032969, -0.0025150210014309865, -1.9555427613752936, -0.8792349619541815, 1.6392776481619253, 1.725133470647381, -0.47384019988107273, -0.9283214012066563, -1.195115447791235, -0.712466083041683, 0.9291792295744458, -2.620262854537771, -1.2040870131441697, -0.5704819254282041, 0.6013119524591112, -0.16641731641561142, 0.8869031277942011, 0.7676138991426558, -0.21941255951318858, 0.7336294742863043, -1.509760727788322, 1.3089111293144589, -0.48868537947597857, 0.36867948762371416, 0.16243268044634435, -0.117667880199744, -1.5908850850157032, -0.03221680995116338, -0.8094926795677467, 0.3332327077531709, -0.18761698312668973, -1.5210564862512626, 0.8013496493739705, -0.3017689504627007, -1.607308712967462, -1.073672042348791, 1.4206409245986824, -0.039649711946742494, -0.8501076563848817, -0.4081547304857195, 1.4106568202197203, 1.3844085550565954, -1.0442065776581584, -0.2601701490206853, 0.8791199096736153, 0.616019567546816, -1.292378530274667, 0.038954439846378336, -0.8661149852701843, 0.8187391085735966, 0.3876138725797948, -0.6938650564423336, 1.8712992267155486, -0.9040265178648582, -0.5551990862883487, 1.2480663196654012, 0.9195113201420941, -0.09151997693362701, -0.053381470849075324, 1.0462469257539233, 1.1492760485618918, 0.27125133232960086, -0.4176644704698133, -1.7586536386062264, 0.3556862900437833, -0.641816446050051, 2.5709957855012364, 1.514568293434986, 0.8814684185001089, -1.1486878428943332, -1.3179289257071727], \"xaxis\": \"x12\", \"y\": [0.8632668610366468, -0.6759838109729048, 1.6760435691157856, 0.2386522677056511, 0.9177871555928089, -0.33195349463338125, -0.4596659548705168, -1.619828146084732, 1.196895449591328, -1.4158182886092685, -1.4147310374881203, 1.3071169019440745, 2.034886088760232, 0.831296945101511, -0.5331427176218014, 0.7625743050946564, 2.4870683403318696, 1.8006533850034185, 0.2525267540628914, 0.6875297280476015, -1.0765790504865762, 0.12728861231860875, 0.7247502055785919, -0.49289388585364613, 0.3744825557060185, -0.8096990396759861, 1.1400463269190912, -0.15826526858594317, -1.2775919630437773, 0.44639629173763584, 0.7668272024069026, 0.5320633979394429, 0.12223289154187524, -0.9835329851688851, -0.2626440166090256, -0.49029865362572156, 0.3315965239572869, -0.35443941541290896, 0.49478368148043206, 0.8803164086438205, -0.8665736048325886, 0.8723221792680127, 1.4657052626484044, 1.410995083908226, -1.314848635987647, 0.3624400384126643, 1.72897276386658, 0.744978917233216, -0.025728280250998856, -0.2055778639647989, -2.0427947545816276, 0.21659128562133634, 0.24200545678709667, 0.5114516178742391, 1.3674354426688156, 0.3091350011835716, 0.22077844271697306, 1.5679050452010852, 0.3878344264221422, 2.0546408866166663, 1.5945815066522286, 0.012462768948805153, 0.048795755411710925, 0.7793211453715158, 0.9925909406622786, -2.0754924977544023, -0.30780820544177, -0.17747889661433175, 0.1676548442140887, -0.45399169918049453, 0.9516971756525416, 0.7422403966932977, -1.4908827862622838, -1.4834459137371023, 0.7405222811073173, 1.7286513714090677, 0.1710746692888831, 0.9932882074728955, 0.9620004841015415, 0.2015130492683428, 0.035021823813223, 0.4147467707948085, 0.4470003224996248, 0.060453446864904885, -0.5811734749393368, -0.23798052622064167, -1.0564814386852002, -0.9746741868220017, 0.09571782632846486, -0.1413046510016507, 0.6425182209935902, 0.40640709529694263, 1.2468937516914458, -0.03688936105911779, 0.7563916635910612, 0.19948370407499655, 0.6205897717531387, 0.5641429398722851, 1.5157884976406186, 1.3512524246962052], \"yaxis\": \"y12\"}, {\"line\": {\"color\": \"rgba(128, 128, 128, 1.0)\", \"dash\": \"solid\", \"shape\": \"linear\", \"width\": 1.3}, \"marker\": {\"size\": 2, \"symbol\": \"circle\"}, \"mode\": \"markers\", \"name\": \"D\", \"text\": \"\", \"type\": \"scatter\", \"x\": [-0.35258759777768894, -0.2689202523477829, -0.7275561455665225, -0.4092338836746071, 0.5939352897099525, -1.2142800943388812, 0.7711096389260248, -0.21383971610196364, 2.0142645914043507, 0.7799110307712278, 1.5457083578522435, 0.9085304936655417, 1.1418265830175587, -0.2104929729809623, 0.7660603426217358, -2.0280362769007985, -2.233828943016878, -0.6300848842080163, 1.5525234298421335, 2.0855689538407653, -0.1996846114408051, 0.5116603997849389, 0.4413175834881552, -0.052475122738868694, -1.4832273130424847, -0.25774388512369106, -1.0640559145877198, -0.3583588767557854, -0.753930925599534, 0.004074420280987488, -0.14176351936354767, 1.4218626480633727, -1.3406424365335914, -0.6306641256341762, 0.34681256724898757, 0.43592034039747934, 0.6865252140987607, 0.5969319637737608, -0.2957449312225045, -1.5104607394739267, -0.2970795197674708, -1.510972639222177, -0.997112695722731, -0.16208689230666798, 1.380420552001041, -0.11125905541840161, 0.4671259115943136, 0.8067247284977627, -1.0343495030780103, 0.5994055167033986, -2.392944687471754, 0.009841623131410187, -2.805109312482037, 0.08829982085256122, 0.1587117032205557, 0.3710578971195314, -0.6880114701614541, 1.4592294790120843, 0.32260083504845827, -0.31203982509622247, -0.5016395710778763, -0.7092626495034179, 1.0623166785638058, -1.5567282874418933, -0.4470023818970348, 0.9298520292269593, 0.051790544147703926, -0.592455513839245, -0.1196242233503168, 1.1594675175773657, 0.6629796478742163, -1.7891314124011264, -2.0335113265519764, -0.6999835342221341, -1.1917599758854707, 0.48071537380142443, 0.05952184244397095, -0.5785307065158325, -0.3421145600853384, -1.4039388516097686, 2.1502912104578336, -0.9615052636121858, -2.7254911460318976, 0.9774563628902962, 0.05190045743478614, 0.2126943664117536, -1.5952990423031996, 0.9130858983745637, -0.21639455031226423, -0.23989461487285638, 0.9728080442967975, -0.1460459616149387, -1.3521999478330948, -2.065521937125486, -0.27532113693680454, -0.5980265778152496, 0.09311905136783473, 1.1902875577767913, 0.2899773682382634, -0.312252032605789], \"xaxis\": \"x13\", \"y\": [0.9789366989376848, 1.30832357928357, 0.5884856563699687, 0.14036628201271756, 0.6902925640847257, -1.5126471146292837, 0.5838522454334771, -1.4296737914964506, 0.3594290566830795, 0.27528898081065095, 1.1081475564270542, 2.5984473271642785, 1.0758490707613964, 0.9299431908652861, 0.3017714462607725, 0.31744377207962077, 1.7950852278831153, -1.0751557656845458, 0.04402639317964974, 0.6903493766099735, -0.6270238422144295, 1.0712995511865127, -1.7683501946706863, 1.8282889315983744, 0.35518053351393475, 0.2323104081405569, 0.21712776031333625, -0.8721285925719905, 0.07822111823045823, -0.357946864032969, -0.0025150210014309865, -1.9555427613752936, -0.8792349619541815, 1.6392776481619253, 1.725133470647381, -0.47384019988107273, -0.9283214012066563, -1.195115447791235, -0.712466083041683, 0.9291792295744458, -2.620262854537771, -1.2040870131441697, -0.5704819254282041, 0.6013119524591112, -0.16641731641561142, 0.8869031277942011, 0.7676138991426558, -0.21941255951318858, 0.7336294742863043, -1.509760727788322, 1.3089111293144589, -0.48868537947597857, 0.36867948762371416, 0.16243268044634435, -0.117667880199744, -1.5908850850157032, -0.03221680995116338, -0.8094926795677467, 0.3332327077531709, -0.18761698312668973, -1.5210564862512626, 0.8013496493739705, -0.3017689504627007, -1.607308712967462, -1.073672042348791, 1.4206409245986824, -0.039649711946742494, -0.8501076563848817, -0.4081547304857195, 1.4106568202197203, 1.3844085550565954, -1.0442065776581584, -0.2601701490206853, 0.8791199096736153, 0.616019567546816, -1.292378530274667, 0.038954439846378336, -0.8661149852701843, 0.8187391085735966, 0.3876138725797948, -0.6938650564423336, 1.8712992267155486, -0.9040265178648582, -0.5551990862883487, 1.2480663196654012, 0.9195113201420941, -0.09151997693362701, -0.053381470849075324, 1.0462469257539233, 1.1492760485618918, 0.27125133232960086, -0.4176644704698133, -1.7586536386062264, 0.3556862900437833, -0.641816446050051, 2.5709957855012364, 1.514568293434986, 0.8814684185001089, -1.1486878428943332, -1.3179289257071727], \"yaxis\": \"y13\"}, {\"line\": {\"color\": \"rgba(128, 128, 128, 1.0)\", \"dash\": \"solid\", \"shape\": \"linear\", \"width\": 1.3}, \"marker\": {\"size\": 2, \"symbol\": \"circle\"}, \"mode\": \"markers\", \"name\": \"D\", \"text\": \"\", \"type\": \"scatter\", \"x\": [0.9398897318214089, -0.8731839425082643, 0.046902450656532195, -0.5730263478031349, 0.20964920461071293, 1.589873522036531, 0.04750924541528327, 0.3550099321199273, -1.3717152265624826, -0.29363834535540906, -0.6834415374498101, 0.3013358888971489, 0.08557550080518363, -0.6075508809315883, -0.4554319865724272, -0.6267217986862303, -0.12408272291175006, 2.1377019386303426, -0.5543428603297601, -0.26825029207872786, -1.0491011370545602, -0.3238181830805828, 0.3117772248306555, -1.808426122955307, -0.33810791145502933, 0.8746190178364772, 0.3880907514176325, -0.2146447776967657, 0.7117228782364389, -1.034419032052581, -1.3025207269502206, -0.9431243446739456, -1.3566849831833117, 0.9139728482420952, -0.4491906321351525, 0.20439161904362946, 1.0408022183431263, 0.5066670948192474, -0.10350418262487975, -0.9059301100673794, -0.18267520984842991, -0.12932747242214102, 0.9490202299868135, 1.5445301177158561, -0.5484910871344092, 1.3463270476962672, -0.31544005436995826, -1.4849556354680933, 0.6161677445530706, -1.4826409768646185, 1.0790226993828536, 0.17870810808648277, 1.2507159469031213, -0.3723212271360819, 1.1351360546362514, 0.4989889637299344, 0.5307557889854935, 0.7642488396101653, -0.8648674375434916, -0.9868819280636416, -1.374768191849497, 0.040196813920813354, -1.8501252771933256, -0.47096661859921635, 0.030148809422230492, -0.49629746394738594, -0.48055047186500344, 1.0019238054310298, -0.2059649005632659, 0.03397516273643297, 1.0738805827143372, 2.4721239137994315, -0.4052189135756334, -0.34375404549779637, -1.0857649696484415, 0.055094811569757304, -0.8850098967698943, -0.22656957039513467, 0.39986500767204186, -0.34663345478149626, 0.3968003349411088, -0.26733465187034505, -0.2198127906046125, 0.37235632515082645, 0.2910676243965551, -0.05890540711534565, 0.9968503248422131, 1.0010157850265846, -0.1184178551405647, 0.30865917238422885, -0.3880279024822919, 1.1596828942923951, -0.7113173402696118, 1.6878264070830626, 1.242425123682662, -0.49942462992988224, 0.4277971787926875, 0.918168330122392, -0.036254957143438314, 0.7175071803974852], \"xaxis\": \"x14\", \"y\": [0.9789366989376848, 1.30832357928357, 0.5884856563699687, 0.14036628201271756, 0.6902925640847257, -1.5126471146292837, 0.5838522454334771, -1.4296737914964506, 0.3594290566830795, 0.27528898081065095, 1.1081475564270542, 2.5984473271642785, 1.0758490707613964, 0.9299431908652861, 0.3017714462607725, 0.31744377207962077, 1.7950852278831153, -1.0751557656845458, 0.04402639317964974, 0.6903493766099735, -0.6270238422144295, 1.0712995511865127, -1.7683501946706863, 1.8282889315983744, 0.35518053351393475, 0.2323104081405569, 0.21712776031333625, -0.8721285925719905, 0.07822111823045823, -0.357946864032969, -0.0025150210014309865, -1.9555427613752936, -0.8792349619541815, 1.6392776481619253, 1.725133470647381, -0.47384019988107273, -0.9283214012066563, -1.195115447791235, -0.712466083041683, 0.9291792295744458, -2.620262854537771, -1.2040870131441697, -0.5704819254282041, 0.6013119524591112, -0.16641731641561142, 0.8869031277942011, 0.7676138991426558, -0.21941255951318858, 0.7336294742863043, -1.509760727788322, 1.3089111293144589, -0.48868537947597857, 0.36867948762371416, 0.16243268044634435, -0.117667880199744, -1.5908850850157032, -0.03221680995116338, -0.8094926795677467, 0.3332327077531709, -0.18761698312668973, -1.5210564862512626, 0.8013496493739705, -0.3017689504627007, -1.607308712967462, -1.073672042348791, 1.4206409245986824, -0.039649711946742494, -0.8501076563848817, -0.4081547304857195, 1.4106568202197203, 1.3844085550565954, -1.0442065776581584, -0.2601701490206853, 0.8791199096736153, 0.616019567546816, -1.292378530274667, 0.038954439846378336, -0.8661149852701843, 0.8187391085735966, 0.3876138725797948, -0.6938650564423336, 1.8712992267155486, -0.9040265178648582, -0.5551990862883487, 1.2480663196654012, 0.9195113201420941, -0.09151997693362701, -0.053381470849075324, 1.0462469257539233, 1.1492760485618918, 0.27125133232960086, -0.4176644704698133, -1.7586536386062264, 0.3556862900437833, -0.641816446050051, 2.5709957855012364, 1.514568293434986, 0.8814684185001089, -1.1486878428943332, -1.3179289257071727], \"yaxis\": \"y14\"}, {\"line\": {\"color\": \"rgba(128, 128, 128, 1.0)\", \"dash\": \"solid\", \"shape\": \"linear\", \"width\": 1.3}, \"marker\": {\"size\": 2, \"symbol\": \"circle\"}, \"mode\": \"markers\", \"name\": \"D\", \"text\": \"\", \"type\": \"scatter\", \"x\": [0.8632668610366468, -0.6759838109729048, 1.6760435691157856, 0.2386522677056511, 0.9177871555928089, -0.33195349463338125, -0.4596659548705168, -1.619828146084732, 1.196895449591328, -1.4158182886092685, -1.4147310374881203, 1.3071169019440745, 2.034886088760232, 0.831296945101511, -0.5331427176218014, 0.7625743050946564, 2.4870683403318696, 1.8006533850034185, 0.2525267540628914, 0.6875297280476015, -1.0765790504865762, 0.12728861231860875, 0.7247502055785919, -0.49289388585364613, 0.3744825557060185, -0.8096990396759861, 1.1400463269190912, -0.15826526858594317, -1.2775919630437773, 0.44639629173763584, 0.7668272024069026, 0.5320633979394429, 0.12223289154187524, -0.9835329851688851, -0.2626440166090256, -0.49029865362572156, 0.3315965239572869, -0.35443941541290896, 0.49478368148043206, 0.8803164086438205, -0.8665736048325886, 0.8723221792680127, 1.4657052626484044, 1.410995083908226, -1.314848635987647, 0.3624400384126643, 1.72897276386658, 0.744978917233216, -0.025728280250998856, -0.2055778639647989, -2.0427947545816276, 0.21659128562133634, 0.24200545678709667, 0.5114516178742391, 1.3674354426688156, 0.3091350011835716, 0.22077844271697306, 1.5679050452010852, 0.3878344264221422, 2.0546408866166663, 1.5945815066522286, 0.012462768948805153, 0.048795755411710925, 0.7793211453715158, 0.9925909406622786, -2.0754924977544023, -0.30780820544177, -0.17747889661433175, 0.1676548442140887, -0.45399169918049453, 0.9516971756525416, 0.7422403966932977, -1.4908827862622838, -1.4834459137371023, 0.7405222811073173, 1.7286513714090677, 0.1710746692888831, 0.9932882074728955, 0.9620004841015415, 0.2015130492683428, 0.035021823813223, 0.4147467707948085, 0.4470003224996248, 0.060453446864904885, -0.5811734749393368, -0.23798052622064167, -1.0564814386852002, -0.9746741868220017, 0.09571782632846486, -0.1413046510016507, 0.6425182209935902, 0.40640709529694263, 1.2468937516914458, -0.03688936105911779, 0.7563916635910612, 0.19948370407499655, 0.6205897717531387, 0.5641429398722851, 1.5157884976406186, 1.3512524246962052], \"xaxis\": \"x15\", \"y\": [0.9789366989376848, 1.30832357928357, 0.5884856563699687, 0.14036628201271756, 0.6902925640847257, -1.5126471146292837, 0.5838522454334771, -1.4296737914964506, 0.3594290566830795, 0.27528898081065095, 1.1081475564270542, 2.5984473271642785, 1.0758490707613964, 0.9299431908652861, 0.3017714462607725, 0.31744377207962077, 1.7950852278831153, -1.0751557656845458, 0.04402639317964974, 0.6903493766099735, -0.6270238422144295, 1.0712995511865127, -1.7683501946706863, 1.8282889315983744, 0.35518053351393475, 0.2323104081405569, 0.21712776031333625, -0.8721285925719905, 0.07822111823045823, -0.357946864032969, -0.0025150210014309865, -1.9555427613752936, -0.8792349619541815, 1.6392776481619253, 1.725133470647381, -0.47384019988107273, -0.9283214012066563, -1.195115447791235, -0.712466083041683, 0.9291792295744458, -2.620262854537771, -1.2040870131441697, -0.5704819254282041, 0.6013119524591112, -0.16641731641561142, 0.8869031277942011, 0.7676138991426558, -0.21941255951318858, 0.7336294742863043, -1.509760727788322, 1.3089111293144589, -0.48868537947597857, 0.36867948762371416, 0.16243268044634435, -0.117667880199744, -1.5908850850157032, -0.03221680995116338, -0.8094926795677467, 0.3332327077531709, -0.18761698312668973, -1.5210564862512626, 0.8013496493739705, -0.3017689504627007, -1.607308712967462, -1.073672042348791, 1.4206409245986824, -0.039649711946742494, -0.8501076563848817, -0.4081547304857195, 1.4106568202197203, 1.3844085550565954, -1.0442065776581584, -0.2601701490206853, 0.8791199096736153, 0.616019567546816, -1.292378530274667, 0.038954439846378336, -0.8661149852701843, 0.8187391085735966, 0.3876138725797948, -0.6938650564423336, 1.8712992267155486, -0.9040265178648582, -0.5551990862883487, 1.2480663196654012, 0.9195113201420941, -0.09151997693362701, -0.053381470849075324, 1.0462469257539233, 1.1492760485618918, 0.27125133232960086, -0.4176644704698133, -1.7586536386062264, 0.3556862900437833, -0.641816446050051, 2.5709957855012364, 1.514568293434986, 0.8814684185001089, -1.1486878428943332, -1.3179289257071727], \"yaxis\": \"y15\"}, {\"histfunc\": \"count\", \"histnorm\": \"\", \"marker\": {\"color\": \"rgba(128, 0, 128, 1.0)\", \"line\": {\"color\": \"#4D5663\", \"width\": 1.3}}, \"name\": \"D\", \"nbinsx\": 10, \"opacity\": 0.8, \"orientation\": \"v\", \"type\": \"histogram\", \"x\": [0.9789366989376848, 1.30832357928357, 0.5884856563699687, 0.14036628201271756, 0.6902925640847257, -1.5126471146292837, 0.5838522454334771, -1.4296737914964506, 0.3594290566830795, 0.27528898081065095, 1.1081475564270542, 2.5984473271642785, 1.0758490707613964, 0.9299431908652861, 0.3017714462607725, 0.31744377207962077, 1.7950852278831153, -1.0751557656845458, 0.04402639317964974, 0.6903493766099735, -0.6270238422144295, 1.0712995511865127, -1.7683501946706863, 1.8282889315983744, 0.35518053351393475, 0.2323104081405569, 0.21712776031333625, -0.8721285925719905, 0.07822111823045823, -0.357946864032969, -0.0025150210014309865, -1.9555427613752936, -0.8792349619541815, 1.6392776481619253, 1.725133470647381, -0.47384019988107273, -0.9283214012066563, -1.195115447791235, -0.712466083041683, 0.9291792295744458, -2.620262854537771, -1.2040870131441697, -0.5704819254282041, 0.6013119524591112, -0.16641731641561142, 0.8869031277942011, 0.7676138991426558, -0.21941255951318858, 0.7336294742863043, -1.509760727788322, 1.3089111293144589, -0.48868537947597857, 0.36867948762371416, 0.16243268044634435, -0.117667880199744, -1.5908850850157032, -0.03221680995116338, -0.8094926795677467, 0.3332327077531709, -0.18761698312668973, -1.5210564862512626, 0.8013496493739705, -0.3017689504627007, -1.607308712967462, -1.073672042348791, 1.4206409245986824, -0.039649711946742494, -0.8501076563848817, -0.4081547304857195, 1.4106568202197203, 1.3844085550565954, -1.0442065776581584, -0.2601701490206853, 0.8791199096736153, 0.616019567546816, -1.292378530274667, 0.038954439846378336, -0.8661149852701843, 0.8187391085735966, 0.3876138725797948, -0.6938650564423336, 1.8712992267155486, -0.9040265178648582, -0.5551990862883487, 1.2480663196654012, 0.9195113201420941, -0.09151997693362701, -0.053381470849075324, 1.0462469257539233, 1.1492760485618918, 0.27125133232960086, -0.4176644704698133, -1.7586536386062264, 0.3556862900437833, -0.641816446050051, 2.5709957855012364, 1.514568293434986, 0.8814684185001089, -1.1486878428943332, -1.3179289257071727], \"xaxis\": \"x16\", \"yaxis\": \"y16\"}],\n",
       "                        {\"bargap\": 0.02, \"legend\": {\"bgcolor\": \"#F5F6F9\", \"font\": {\"color\": \"#4D5663\"}}, \"paper_bgcolor\": \"#F5F6F9\", \"plot_bgcolor\": \"#F5F6F9\", \"showlegend\": false, \"template\": {\"data\": {\"bar\": [{\"error_x\": {\"color\": \"#2a3f5f\"}, \"error_y\": {\"color\": \"#2a3f5f\"}, \"marker\": {\"line\": {\"color\": \"#E5ECF6\", \"width\": 0.5}}, \"type\": \"bar\"}], \"barpolar\": [{\"marker\": {\"line\": {\"color\": \"#E5ECF6\", \"width\": 0.5}}, \"type\": \"barpolar\"}], \"carpet\": [{\"aaxis\": {\"endlinecolor\": \"#2a3f5f\", \"gridcolor\": \"white\", \"linecolor\": \"white\", \"minorgridcolor\": \"white\", \"startlinecolor\": \"#2a3f5f\"}, \"baxis\": {\"endlinecolor\": \"#2a3f5f\", \"gridcolor\": \"white\", \"linecolor\": \"white\", \"minorgridcolor\": \"white\", \"startlinecolor\": \"#2a3f5f\"}, \"type\": \"carpet\"}], \"choropleth\": [{\"colorbar\": {\"outlinewidth\": 0, \"ticks\": \"\"}, \"type\": \"choropleth\"}], \"contour\": [{\"colorbar\": {\"outlinewidth\": 0, \"ticks\": \"\"}, \"colorscale\": [[0.0, \"#0d0887\"], [0.1111111111111111, \"#46039f\"], [0.2222222222222222, \"#7201a8\"], [0.3333333333333333, \"#9c179e\"], [0.4444444444444444, \"#bd3786\"], [0.5555555555555556, \"#d8576b\"], [0.6666666666666666, \"#ed7953\"], [0.7777777777777778, \"#fb9f3a\"], [0.8888888888888888, \"#fdca26\"], [1.0, \"#f0f921\"]], \"type\": \"contour\"}], \"contourcarpet\": [{\"colorbar\": {\"outlinewidth\": 0, \"ticks\": \"\"}, \"type\": \"contourcarpet\"}], \"heatmap\": [{\"colorbar\": {\"outlinewidth\": 0, \"ticks\": \"\"}, \"colorscale\": [[0.0, \"#0d0887\"], [0.1111111111111111, \"#46039f\"], [0.2222222222222222, \"#7201a8\"], [0.3333333333333333, \"#9c179e\"], [0.4444444444444444, \"#bd3786\"], [0.5555555555555556, \"#d8576b\"], [0.6666666666666666, \"#ed7953\"], [0.7777777777777778, \"#fb9f3a\"], [0.8888888888888888, \"#fdca26\"], [1.0, \"#f0f921\"]], \"type\": \"heatmap\"}], \"heatmapgl\": [{\"colorbar\": {\"outlinewidth\": 0, \"ticks\": \"\"}, \"colorscale\": [[0.0, \"#0d0887\"], [0.1111111111111111, \"#46039f\"], [0.2222222222222222, \"#7201a8\"], [0.3333333333333333, \"#9c179e\"], [0.4444444444444444, \"#bd3786\"], [0.5555555555555556, \"#d8576b\"], [0.6666666666666666, \"#ed7953\"], [0.7777777777777778, \"#fb9f3a\"], [0.8888888888888888, \"#fdca26\"], [1.0, \"#f0f921\"]], \"type\": \"heatmapgl\"}], \"histogram\": [{\"marker\": {\"colorbar\": {\"outlinewidth\": 0, \"ticks\": \"\"}}, \"type\": \"histogram\"}], \"histogram2d\": [{\"colorbar\": {\"outlinewidth\": 0, \"ticks\": \"\"}, \"colorscale\": [[0.0, \"#0d0887\"], [0.1111111111111111, \"#46039f\"], [0.2222222222222222, \"#7201a8\"], [0.3333333333333333, \"#9c179e\"], [0.4444444444444444, \"#bd3786\"], [0.5555555555555556, \"#d8576b\"], [0.6666666666666666, \"#ed7953\"], [0.7777777777777778, \"#fb9f3a\"], [0.8888888888888888, \"#fdca26\"], [1.0, \"#f0f921\"]], \"type\": \"histogram2d\"}], \"histogram2dcontour\": [{\"colorbar\": {\"outlinewidth\": 0, \"ticks\": \"\"}, \"colorscale\": [[0.0, \"#0d0887\"], [0.1111111111111111, \"#46039f\"], [0.2222222222222222, \"#7201a8\"], [0.3333333333333333, \"#9c179e\"], [0.4444444444444444, \"#bd3786\"], [0.5555555555555556, \"#d8576b\"], [0.6666666666666666, \"#ed7953\"], [0.7777777777777778, \"#fb9f3a\"], [0.8888888888888888, \"#fdca26\"], [1.0, \"#f0f921\"]], \"type\": \"histogram2dcontour\"}], \"mesh3d\": [{\"colorbar\": {\"outlinewidth\": 0, \"ticks\": \"\"}, \"type\": \"mesh3d\"}], \"parcoords\": [{\"line\": {\"colorbar\": {\"outlinewidth\": 0, \"ticks\": \"\"}}, \"type\": \"parcoords\"}], \"pie\": [{\"automargin\": true, \"type\": \"pie\"}], \"scatter\": [{\"marker\": {\"colorbar\": {\"outlinewidth\": 0, \"ticks\": \"\"}}, \"type\": \"scatter\"}], \"scatter3d\": [{\"line\": {\"colorbar\": {\"outlinewidth\": 0, \"ticks\": \"\"}}, \"marker\": {\"colorbar\": {\"outlinewidth\": 0, \"ticks\": \"\"}}, \"type\": \"scatter3d\"}], \"scattercarpet\": [{\"marker\": {\"colorbar\": {\"outlinewidth\": 0, \"ticks\": \"\"}}, \"type\": \"scattercarpet\"}], \"scattergeo\": [{\"marker\": {\"colorbar\": {\"outlinewidth\": 0, \"ticks\": \"\"}}, \"type\": \"scattergeo\"}], \"scattergl\": [{\"marker\": {\"colorbar\": {\"outlinewidth\": 0, \"ticks\": \"\"}}, \"type\": \"scattergl\"}], \"scattermapbox\": [{\"marker\": {\"colorbar\": {\"outlinewidth\": 0, \"ticks\": \"\"}}, \"type\": \"scattermapbox\"}], \"scatterpolar\": [{\"marker\": {\"colorbar\": {\"outlinewidth\": 0, \"ticks\": \"\"}}, \"type\": \"scatterpolar\"}], \"scatterpolargl\": [{\"marker\": {\"colorbar\": {\"outlinewidth\": 0, \"ticks\": \"\"}}, \"type\": \"scatterpolargl\"}], \"scatterternary\": [{\"marker\": {\"colorbar\": {\"outlinewidth\": 0, \"ticks\": \"\"}}, \"type\": \"scatterternary\"}], \"surface\": [{\"colorbar\": {\"outlinewidth\": 0, \"ticks\": \"\"}, \"colorscale\": [[0.0, \"#0d0887\"], [0.1111111111111111, \"#46039f\"], [0.2222222222222222, \"#7201a8\"], [0.3333333333333333, \"#9c179e\"], [0.4444444444444444, \"#bd3786\"], [0.5555555555555556, \"#d8576b\"], [0.6666666666666666, \"#ed7953\"], [0.7777777777777778, \"#fb9f3a\"], [0.8888888888888888, \"#fdca26\"], [1.0, \"#f0f921\"]], \"type\": \"surface\"}], \"table\": [{\"cells\": {\"fill\": {\"color\": \"#EBF0F8\"}, \"line\": {\"color\": \"white\"}}, \"header\": {\"fill\": {\"color\": \"#C8D4E3\"}, \"line\": {\"color\": \"white\"}}, \"type\": \"table\"}]}, \"layout\": {\"annotationdefaults\": {\"arrowcolor\": \"#2a3f5f\", \"arrowhead\": 0, \"arrowwidth\": 1}, \"coloraxis\": {\"colorbar\": {\"outlinewidth\": 0, \"ticks\": \"\"}}, \"colorscale\": {\"diverging\": [[0, \"#8e0152\"], [0.1, \"#c51b7d\"], [0.2, \"#de77ae\"], [0.3, \"#f1b6da\"], [0.4, \"#fde0ef\"], [0.5, \"#f7f7f7\"], [0.6, \"#e6f5d0\"], [0.7, \"#b8e186\"], [0.8, \"#7fbc41\"], [0.9, \"#4d9221\"], [1, \"#276419\"]], \"sequential\": [[0.0, \"#0d0887\"], [0.1111111111111111, \"#46039f\"], [0.2222222222222222, \"#7201a8\"], [0.3333333333333333, \"#9c179e\"], [0.4444444444444444, \"#bd3786\"], [0.5555555555555556, \"#d8576b\"], [0.6666666666666666, \"#ed7953\"], [0.7777777777777778, \"#fb9f3a\"], [0.8888888888888888, \"#fdca26\"], [1.0, \"#f0f921\"]], \"sequentialminus\": [[0.0, \"#0d0887\"], [0.1111111111111111, \"#46039f\"], [0.2222222222222222, \"#7201a8\"], [0.3333333333333333, \"#9c179e\"], [0.4444444444444444, \"#bd3786\"], [0.5555555555555556, \"#d8576b\"], [0.6666666666666666, \"#ed7953\"], [0.7777777777777778, \"#fb9f3a\"], [0.8888888888888888, \"#fdca26\"], [1.0, \"#f0f921\"]]}, \"colorway\": [\"#636efa\", \"#EF553B\", \"#00cc96\", \"#ab63fa\", \"#FFA15A\", \"#19d3f3\", \"#FF6692\", \"#B6E880\", \"#FF97FF\", \"#FECB52\"], \"font\": {\"color\": \"#2a3f5f\"}, \"geo\": {\"bgcolor\": \"white\", \"lakecolor\": \"white\", \"landcolor\": \"#E5ECF6\", \"showlakes\": true, \"showland\": true, \"subunitcolor\": \"white\"}, \"hoverlabel\": {\"align\": \"left\"}, \"hovermode\": \"closest\", \"mapbox\": {\"style\": \"light\"}, \"paper_bgcolor\": \"white\", \"plot_bgcolor\": \"#E5ECF6\", \"polar\": {\"angularaxis\": {\"gridcolor\": \"white\", \"linecolor\": \"white\", \"ticks\": \"\"}, \"bgcolor\": \"#E5ECF6\", \"radialaxis\": {\"gridcolor\": \"white\", \"linecolor\": \"white\", \"ticks\": \"\"}}, \"scene\": {\"xaxis\": {\"backgroundcolor\": \"#E5ECF6\", \"gridcolor\": \"white\", \"gridwidth\": 2, \"linecolor\": \"white\", \"showbackground\": true, \"ticks\": \"\", \"zerolinecolor\": \"white\"}, \"yaxis\": {\"backgroundcolor\": \"#E5ECF6\", \"gridcolor\": \"white\", \"gridwidth\": 2, \"linecolor\": \"white\", \"showbackground\": true, \"ticks\": \"\", \"zerolinecolor\": \"white\"}, \"zaxis\": {\"backgroundcolor\": \"#E5ECF6\", \"gridcolor\": \"white\", \"gridwidth\": 2, \"linecolor\": \"white\", \"showbackground\": true, \"ticks\": \"\", \"zerolinecolor\": \"white\"}}, \"shapedefaults\": {\"line\": {\"color\": \"#2a3f5f\"}}, \"ternary\": {\"aaxis\": {\"gridcolor\": \"white\", \"linecolor\": \"white\", \"ticks\": \"\"}, \"baxis\": {\"gridcolor\": \"white\", \"linecolor\": \"white\", \"ticks\": \"\"}, \"bgcolor\": \"#E5ECF6\", \"caxis\": {\"gridcolor\": \"white\", \"linecolor\": \"white\", \"ticks\": \"\"}}, \"title\": {\"x\": 0.05}, \"xaxis\": {\"automargin\": true, \"gridcolor\": \"white\", \"linecolor\": \"white\", \"ticks\": \"\", \"title\": {\"standoff\": 15}, \"zerolinecolor\": \"white\", \"zerolinewidth\": 2}, \"yaxis\": {\"automargin\": true, \"gridcolor\": \"white\", \"linecolor\": \"white\", \"ticks\": \"\", \"title\": {\"standoff\": 15}, \"zerolinecolor\": \"white\", \"zerolinewidth\": 2}}}, \"title\": {\"font\": {\"color\": \"#4D5663\"}}, \"xaxis\": {\"anchor\": \"y\", \"domain\": [0.0, 0.2125], \"gridcolor\": \"#E1E5ED\", \"showgrid\": false, \"tickfont\": {\"color\": \"#4D5663\"}, \"title\": {\"font\": {\"color\": \"#4D5663\"}, \"text\": \"\"}, \"zerolinecolor\": \"#E1E5ED\"}, \"xaxis10\": {\"anchor\": \"y10\", \"domain\": [0.2625, 0.475], \"gridcolor\": \"#E1E5ED\", \"showgrid\": false, \"tickfont\": {\"color\": \"#4D5663\"}, \"title\": {\"font\": {\"color\": \"#4D5663\"}, \"text\": \"\"}, \"zerolinecolor\": \"#E1E5ED\"}, \"xaxis11\": {\"anchor\": \"y11\", \"domain\": [0.525, 0.7375], \"gridcolor\": \"#E1E5ED\", \"showgrid\": false, \"tickfont\": {\"color\": \"#4D5663\"}, \"title\": {\"font\": {\"color\": \"#4D5663\"}, \"text\": \"\"}, \"zerolinecolor\": \"#E1E5ED\"}, \"xaxis12\": {\"anchor\": \"y12\", \"domain\": [0.7875, 1.0], \"gridcolor\": \"#E1E5ED\", \"showgrid\": false, \"tickfont\": {\"color\": \"#4D5663\"}, \"title\": {\"font\": {\"color\": \"#4D5663\"}, \"text\": \"\"}, \"zerolinecolor\": \"#E1E5ED\"}, \"xaxis13\": {\"anchor\": \"y13\", \"domain\": [0.0, 0.2125], \"gridcolor\": \"#E1E5ED\", \"showgrid\": false, \"tickfont\": {\"color\": \"#4D5663\"}, \"title\": {\"font\": {\"color\": \"#4D5663\"}, \"text\": \"\"}, \"zerolinecolor\": \"#E1E5ED\"}, \"xaxis14\": {\"anchor\": \"y14\", \"domain\": [0.2625, 0.475], \"gridcolor\": \"#E1E5ED\", \"showgrid\": false, \"tickfont\": {\"color\": \"#4D5663\"}, \"title\": {\"font\": {\"color\": \"#4D5663\"}, \"text\": \"\"}, \"zerolinecolor\": \"#E1E5ED\"}, \"xaxis15\": {\"anchor\": \"y15\", \"domain\": [0.525, 0.7375], \"gridcolor\": \"#E1E5ED\", \"showgrid\": false, \"tickfont\": {\"color\": \"#4D5663\"}, \"title\": {\"font\": {\"color\": \"#4D5663\"}, \"text\": \"\"}, \"zerolinecolor\": \"#E1E5ED\"}, \"xaxis16\": {\"anchor\": \"y16\", \"domain\": [0.7875, 1.0], \"gridcolor\": \"#E1E5ED\", \"showgrid\": false, \"tickfont\": {\"color\": \"#4D5663\"}, \"title\": {\"font\": {\"color\": \"#4D5663\"}, \"text\": \"\"}, \"zerolinecolor\": \"#E1E5ED\"}, \"xaxis2\": {\"anchor\": \"y2\", \"domain\": [0.2625, 0.475], \"gridcolor\": \"#E1E5ED\", \"showgrid\": false, \"tickfont\": {\"color\": \"#4D5663\"}, \"title\": {\"font\": {\"color\": \"#4D5663\"}, \"text\": \"\"}, \"zerolinecolor\": \"#E1E5ED\"}, \"xaxis3\": {\"anchor\": \"y3\", \"domain\": [0.525, 0.7375], \"gridcolor\": \"#E1E5ED\", \"showgrid\": false, \"tickfont\": {\"color\": \"#4D5663\"}, \"title\": {\"font\": {\"color\": \"#4D5663\"}, \"text\": \"\"}, \"zerolinecolor\": \"#E1E5ED\"}, \"xaxis4\": {\"anchor\": \"y4\", \"domain\": [0.7875, 1.0], \"gridcolor\": \"#E1E5ED\", \"showgrid\": false, \"tickfont\": {\"color\": \"#4D5663\"}, \"title\": {\"font\": {\"color\": \"#4D5663\"}, \"text\": \"\"}, \"zerolinecolor\": \"#E1E5ED\"}, \"xaxis5\": {\"anchor\": \"y5\", \"domain\": [0.0, 0.2125], \"gridcolor\": \"#E1E5ED\", \"showgrid\": false, \"tickfont\": {\"color\": \"#4D5663\"}, \"title\": {\"font\": {\"color\": \"#4D5663\"}, \"text\": \"\"}, \"zerolinecolor\": \"#E1E5ED\"}, \"xaxis6\": {\"anchor\": \"y6\", \"domain\": [0.2625, 0.475], \"gridcolor\": \"#E1E5ED\", \"showgrid\": false, \"tickfont\": {\"color\": \"#4D5663\"}, \"title\": {\"font\": {\"color\": \"#4D5663\"}, \"text\": \"\"}, \"zerolinecolor\": \"#E1E5ED\"}, \"xaxis7\": {\"anchor\": \"y7\", \"domain\": [0.525, 0.7375], \"gridcolor\": \"#E1E5ED\", \"showgrid\": false, \"tickfont\": {\"color\": \"#4D5663\"}, \"title\": {\"font\": {\"color\": \"#4D5663\"}, \"text\": \"\"}, \"zerolinecolor\": \"#E1E5ED\"}, \"xaxis8\": {\"anchor\": \"y8\", \"domain\": [0.7875, 1.0], \"gridcolor\": \"#E1E5ED\", \"showgrid\": false, \"tickfont\": {\"color\": \"#4D5663\"}, \"title\": {\"font\": {\"color\": \"#4D5663\"}, \"text\": \"\"}, \"zerolinecolor\": \"#E1E5ED\"}, \"xaxis9\": {\"anchor\": \"y9\", \"domain\": [0.0, 0.2125], \"gridcolor\": \"#E1E5ED\", \"showgrid\": false, \"tickfont\": {\"color\": \"#4D5663\"}, \"title\": {\"font\": {\"color\": \"#4D5663\"}, \"text\": \"\"}, \"zerolinecolor\": \"#E1E5ED\"}, \"yaxis\": {\"anchor\": \"x\", \"domain\": [0.8025, 1.0], \"gridcolor\": \"#E1E5ED\", \"showgrid\": false, \"tickfont\": {\"color\": \"#4D5663\"}, \"title\": {\"font\": {\"color\": \"#4D5663\"}, \"text\": \"\"}, \"zerolinecolor\": \"#E1E5ED\"}, \"yaxis10\": {\"anchor\": \"x10\", \"domain\": [0.2675, 0.465], \"gridcolor\": \"#E1E5ED\", \"showgrid\": false, \"tickfont\": {\"color\": \"#4D5663\"}, \"title\": {\"font\": {\"color\": \"#4D5663\"}, \"text\": \"\"}, \"zerolinecolor\": \"#E1E5ED\"}, \"yaxis11\": {\"anchor\": \"x11\", \"domain\": [0.2675, 0.465], \"gridcolor\": \"#E1E5ED\", \"showgrid\": false, \"tickfont\": {\"color\": \"#4D5663\"}, \"title\": {\"font\": {\"color\": \"#4D5663\"}, \"text\": \"\"}, \"zerolinecolor\": \"#E1E5ED\"}, \"yaxis12\": {\"anchor\": \"x12\", \"domain\": [0.2675, 0.465], \"gridcolor\": \"#E1E5ED\", \"showgrid\": false, \"tickfont\": {\"color\": \"#4D5663\"}, \"title\": {\"font\": {\"color\": \"#4D5663\"}, \"text\": \"\"}, \"zerolinecolor\": \"#E1E5ED\"}, \"yaxis13\": {\"anchor\": \"x13\", \"domain\": [0.0, 0.1975], \"gridcolor\": \"#E1E5ED\", \"showgrid\": false, \"tickfont\": {\"color\": \"#4D5663\"}, \"title\": {\"font\": {\"color\": \"#4D5663\"}, \"text\": \"\"}, \"zerolinecolor\": \"#E1E5ED\"}, \"yaxis14\": {\"anchor\": \"x14\", \"domain\": [0.0, 0.1975], \"gridcolor\": \"#E1E5ED\", \"showgrid\": false, \"tickfont\": {\"color\": \"#4D5663\"}, \"title\": {\"font\": {\"color\": \"#4D5663\"}, \"text\": \"\"}, \"zerolinecolor\": \"#E1E5ED\"}, \"yaxis15\": {\"anchor\": \"x15\", \"domain\": [0.0, 0.1975], \"gridcolor\": \"#E1E5ED\", \"showgrid\": false, \"tickfont\": {\"color\": \"#4D5663\"}, \"title\": {\"font\": {\"color\": \"#4D5663\"}, \"text\": \"\"}, \"zerolinecolor\": \"#E1E5ED\"}, \"yaxis16\": {\"anchor\": \"x16\", \"domain\": [0.0, 0.1975], \"gridcolor\": \"#E1E5ED\", \"showgrid\": false, \"tickfont\": {\"color\": \"#4D5663\"}, \"title\": {\"font\": {\"color\": \"#4D5663\"}, \"text\": \"\"}, \"zerolinecolor\": \"#E1E5ED\"}, \"yaxis2\": {\"anchor\": \"x2\", \"domain\": [0.8025, 1.0], \"gridcolor\": \"#E1E5ED\", \"showgrid\": false, \"tickfont\": {\"color\": \"#4D5663\"}, \"title\": {\"font\": {\"color\": \"#4D5663\"}, \"text\": \"\"}, \"zerolinecolor\": \"#E1E5ED\"}, \"yaxis3\": {\"anchor\": \"x3\", \"domain\": [0.8025, 1.0], \"gridcolor\": \"#E1E5ED\", \"showgrid\": false, \"tickfont\": {\"color\": \"#4D5663\"}, \"title\": {\"font\": {\"color\": \"#4D5663\"}, \"text\": \"\"}, \"zerolinecolor\": \"#E1E5ED\"}, \"yaxis4\": {\"anchor\": \"x4\", \"domain\": [0.8025, 1.0], \"gridcolor\": \"#E1E5ED\", \"showgrid\": false, \"tickfont\": {\"color\": \"#4D5663\"}, \"title\": {\"font\": {\"color\": \"#4D5663\"}, \"text\": \"\"}, \"zerolinecolor\": \"#E1E5ED\"}, \"yaxis5\": {\"anchor\": \"x5\", \"domain\": [0.535, 0.7325], \"gridcolor\": \"#E1E5ED\", \"showgrid\": false, \"tickfont\": {\"color\": \"#4D5663\"}, \"title\": {\"font\": {\"color\": \"#4D5663\"}, \"text\": \"\"}, \"zerolinecolor\": \"#E1E5ED\"}, \"yaxis6\": {\"anchor\": \"x6\", \"domain\": [0.535, 0.7325], \"gridcolor\": \"#E1E5ED\", \"showgrid\": false, \"tickfont\": {\"color\": \"#4D5663\"}, \"title\": {\"font\": {\"color\": \"#4D5663\"}, \"text\": \"\"}, \"zerolinecolor\": \"#E1E5ED\"}, \"yaxis7\": {\"anchor\": \"x7\", \"domain\": [0.535, 0.7325], \"gridcolor\": \"#E1E5ED\", \"showgrid\": false, \"tickfont\": {\"color\": \"#4D5663\"}, \"title\": {\"font\": {\"color\": \"#4D5663\"}, \"text\": \"\"}, \"zerolinecolor\": \"#E1E5ED\"}, \"yaxis8\": {\"anchor\": \"x8\", \"domain\": [0.535, 0.7325], \"gridcolor\": \"#E1E5ED\", \"showgrid\": false, \"tickfont\": {\"color\": \"#4D5663\"}, \"title\": {\"font\": {\"color\": \"#4D5663\"}, \"text\": \"\"}, \"zerolinecolor\": \"#E1E5ED\"}, \"yaxis9\": {\"anchor\": \"x9\", \"domain\": [0.2675, 0.465], \"gridcolor\": \"#E1E5ED\", \"showgrid\": false, \"tickfont\": {\"color\": \"#4D5663\"}, \"title\": {\"font\": {\"color\": \"#4D5663\"}, \"text\": \"\"}, \"zerolinecolor\": \"#E1E5ED\"}},\n",
       "                        {\"showLink\": true, \"linkText\": \"Export to plot.ly\", \"plotlyServerURL\": \"https://plot.ly\", \"responsive\": true}\n",
       "                    ).then(function(){\n",
       "                            \n",
       "var gd = document.getElementById('482621a1-4728-473f-b97a-524967c89d25');\n",
       "var x = new MutationObserver(function (mutations, observer) {{\n",
       "        var display = window.getComputedStyle(gd).display;\n",
       "        if (!display || display === 'none') {{\n",
       "            console.log([gd, 'removed!']);\n",
       "            Plotly.purge(gd);\n",
       "            observer.disconnect();\n",
       "        }}\n",
       "}});\n",
       "\n",
       "// Listen for the removal of the full notebook cells\n",
       "var notebookContainer = gd.closest('#notebook-container');\n",
       "if (notebookContainer) {{\n",
       "    x.observe(notebookContainer, {childList: true});\n",
       "}}\n",
       "\n",
       "// Listen for the clearing of the current output cell\n",
       "var outputEl = gd.closest('.output');\n",
       "if (outputEl) {{\n",
       "    x.observe(outputEl, {childList: true});\n",
       "}}\n",
       "\n",
       "                        })\n",
       "                };\n",
       "                });\n",
       "            </script>\n",
       "        </div>"
      ]
     },
     "metadata": {},
     "output_type": "display_data"
    }
   ],
   "source": [
    "df.scatter_matrix()"
   ]
  },
  {
   "cell_type": "code",
   "execution_count": null,
   "metadata": {},
   "outputs": [],
   "source": []
  }
 ],
 "metadata": {
  "kernelspec": {
   "display_name": "Python 3",
   "language": "python",
   "name": "python3"
  },
  "language_info": {
   "codemirror_mode": {
    "name": "ipython",
    "version": 3
   },
   "file_extension": ".py",
   "mimetype": "text/x-python",
   "name": "python",
   "nbconvert_exporter": "python",
   "pygments_lexer": "ipython3",
   "version": "3.7.6"
  }
 },
 "nbformat": 4,
 "nbformat_minor": 4
}
